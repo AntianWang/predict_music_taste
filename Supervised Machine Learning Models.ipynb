{
 "cells": [
  {
   "cell_type": "markdown",
   "metadata": {},
   "source": [
    "# Supervised MACHINE LEARNING MODELS - predict song hotness"
   ]
  },
  {
   "cell_type": "markdown",
   "metadata": {},
   "source": [
    "Modules:"
   ]
  },
  {
   "cell_type": "code",
   "execution_count": 1,
   "metadata": {
    "collapsed": true
   },
   "outputs": [],
   "source": [
    "import numpy as np\n",
    "import pandas as pd\n",
    "import matplotlib.pyplot as plt\n",
    "%matplotlib inline\n",
    "import vincent as vin\n",
    "import seaborn as sb\n",
    "\n",
    "import time"
   ]
  },
  {
   "cell_type": "markdown",
   "metadata": {},
   "source": [
    "Machine Learning Modules: "
   ]
  },
  {
   "cell_type": "code",
   "execution_count": 2,
   "metadata": {
    "collapsed": false
   },
   "outputs": [],
   "source": [
    "#import models first:\n",
    "from sklearn.linear_model import LinearRegression, LogisticRegression, Ridge, Lasso, RidgeCV #all of the regression models\n",
    "from sklearn.neighbors import KNeighborsClassifier #knn model\n",
    "from sklearn.tree import DecisionTreeClassifier #single tree model \n",
    "from sklearn.ensemble import RandomForestClassifier #random forest model\n",
    "from sklearn.ensemble import AdaBoostClassifier, GradientBoostingClassifier #all of the boosters\n",
    "from sklearn.svm import SVC #Support Vector Machine Model \n",
    "\n",
    "#some additional models if needed:\n",
    "from sklearn.preprocessing import PolynomialFeatures, StandardScaler\n",
    "from sklearn.pipeline import make_pipeline #if we want to make a pipeline for several models\n",
    "from sklearn.feature_extraction.text import TfidfVectorizer #in case we will need it for text processing\n",
    "\n",
    "#cross validation: \n",
    "from sklearn.cross_validation import cross_val_score, train_test_split \n",
    "from sklearn.metrics import mean_absolute_error, mean_squared_error\n",
    "#we need these modules to split the dataset into training set and test set\n",
    "#and to calculate the cross validation score\n",
    "\n",
    "#for categorial features\n",
    "from patsy import dmatrices \n",
    "import statsmodels.formula.api as sm\n",
    "\n",
    "#to select features\n",
    "from sklearn.feature_selection import RFE\n",
    "from sklearn.ensemble import ExtraTreesClassifier"
   ]
  },
  {
   "cell_type": "markdown",
   "metadata": {},
   "source": [
    "## data "
   ]
  },
  {
   "cell_type": "markdown",
   "metadata": {},
   "source": [
    "Upload data:"
   ]
  },
  {
   "cell_type": "code",
   "execution_count": 3,
   "metadata": {
    "collapsed": false
   },
   "outputs": [
    {
     "data": {
      "text/plain": [
       "1760"
      ]
     },
     "execution_count": 3,
     "metadata": {},
     "output_type": "execute_result"
    }
   ],
   "source": [
    "data=pd.read_csv('clean_data.csv',sep=',')\n",
    "len(data)"
   ]
  },
  {
   "cell_type": "markdown",
   "metadata": {},
   "source": [
    "We need to split the data into at least training and test set - preferably also cross-validation set, but let's see, if it's big enough."
   ]
  },
  {
   "cell_type": "code",
   "execution_count": 4,
   "metadata": {
    "collapsed": false
   },
   "outputs": [
    {
     "name": "stdout",
     "output_type": "stream",
     "text": [
      "(1760, 30)\n"
     ]
    }
   ],
   "source": [
    "print(data.shape)"
   ]
  },
  {
   "cell_type": "code",
   "execution_count": 5,
   "metadata": {
    "collapsed": false
   },
   "outputs": [
    {
     "name": "stdout",
     "output_type": "stream",
     "text": [
      "<class 'pandas.core.frame.DataFrame'>\n",
      "Int64Index: 1760 entries, 0 to 1759\n",
      "Data columns (total 30 columns):\n",
      "Unnamed: 0              1760 non-null int64\n",
      "song_id                 1760 non-null object\n",
      "play_count_sum          1760 non-null int64\n",
      "user_id_count           1760 non-null int64\n",
      "track_id                1760 non-null object\n",
      "genre_id                1760 non-null object\n",
      "artist_familiarty       1760 non-null float64\n",
      "artist_hotness          1760 non-null float64\n",
      "artist_id               1760 non-null object\n",
      "artist_latitude         1760 non-null float64\n",
      "artist_location         1760 non-null object\n",
      "artist_longitude        1760 non-null float64\n",
      "artist_names            1760 non-null object\n",
      "song_durations          1760 non-null float64\n",
      "song_hotness            1760 non-null float64\n",
      "song_release_years      1760 non-null float64\n",
      "song_titles             1760 non-null object\n",
      "song_bars               1760 non-null object\n",
      "song_beats              1760 non-null object\n",
      "song_keys               1760 non-null int64\n",
      "song_modes              1760 non-null int64\n",
      "song_tatum              1760 non-null object\n",
      "song_tempo              1760 non-null float64\n",
      "song_time_signatures    1760 non-null int64\n",
      "count                   1760 non-null int64\n",
      "beats_number            1760 non-null int64\n",
      "bars_number             1760 non-null int64\n",
      "tatum_number            1760 non-null int64\n",
      "log_play_count_sum      1760 non-null float64\n",
      "log_user_id_count       1760 non-null float64\n",
      "dtypes: float64(10), int64(10), object(10)\n",
      "memory usage: 426.2+ KB\n"
     ]
    }
   ],
   "source": [
    "data.info()"
   ]
  },
  {
   "cell_type": "code",
   "execution_count": 6,
   "metadata": {
    "collapsed": false
   },
   "outputs": [],
   "source": [
    "y = np.asarray(data['song_hotness'], dtype=\"|S6\")\n",
    "#values because it has to be a 1D list"
   ]
  },
  {
   "cell_type": "code",
   "execution_count": 7,
   "metadata": {
    "collapsed": false
   },
   "outputs": [],
   "source": [
    "X=data[['play_count_sum','user_id_count','artist_familiarty','artist_hotness','song_durations','song_release_years',\\\n",
    "        'song_keys','song_modes','song_tempo','song_time_signatures','beats_number','bars_number','tatum_number','log_play_count_sum','log_user_id_count']]"
   ]
  },
  {
   "cell_type": "code",
   "execution_count": 8,
   "metadata": {
    "collapsed": false
   },
   "outputs": [
    {
     "data": {
      "text/html": [
       "<div>\n",
       "<table border=\"1\" class=\"dataframe\">\n",
       "  <thead>\n",
       "    <tr style=\"text-align: right;\">\n",
       "      <th></th>\n",
       "      <th>play_count_sum</th>\n",
       "      <th>user_id_count</th>\n",
       "      <th>artist_familiarty</th>\n",
       "      <th>artist_hotness</th>\n",
       "      <th>song_durations</th>\n",
       "      <th>song_release_years</th>\n",
       "      <th>song_keys</th>\n",
       "      <th>song_modes</th>\n",
       "      <th>song_tempo</th>\n",
       "      <th>song_time_signatures</th>\n",
       "      <th>beats_number</th>\n",
       "      <th>bars_number</th>\n",
       "      <th>tatum_number</th>\n",
       "      <th>log_play_count_sum</th>\n",
       "      <th>log_user_id_count</th>\n",
       "    </tr>\n",
       "  </thead>\n",
       "  <tbody>\n",
       "    <tr>\n",
       "      <th>0</th>\n",
       "      <td>957</td>\n",
       "      <td>554</td>\n",
       "      <td>0.806359</td>\n",
       "      <td>0.545789</td>\n",
       "      <td>415.81669</td>\n",
       "      <td>1991</td>\n",
       "      <td>0</td>\n",
       "      <td>1</td>\n",
       "      <td>131.272</td>\n",
       "      <td>4</td>\n",
       "      <td>15715</td>\n",
       "      <td>2532</td>\n",
       "      <td>109</td>\n",
       "      <td>6.863803</td>\n",
       "      <td>6.317165</td>\n",
       "    </tr>\n",
       "    <tr>\n",
       "      <th>1</th>\n",
       "      <td>10</td>\n",
       "      <td>6</td>\n",
       "      <td>0.623502</td>\n",
       "      <td>0.422380</td>\n",
       "      <td>216.05832</td>\n",
       "      <td>1998</td>\n",
       "      <td>2</td>\n",
       "      <td>1</td>\n",
       "      <td>149.169</td>\n",
       "      <td>4</td>\n",
       "      <td>5912</td>\n",
       "      <td>1474</td>\n",
       "      <td>72</td>\n",
       "      <td>2.302585</td>\n",
       "      <td>1.791759</td>\n",
       "    </tr>\n",
       "    <tr>\n",
       "      <th>2</th>\n",
       "      <td>1980</td>\n",
       "      <td>748</td>\n",
       "      <td>0.796337</td>\n",
       "      <td>0.582922</td>\n",
       "      <td>256.52200</td>\n",
       "      <td>2009</td>\n",
       "      <td>10</td>\n",
       "      <td>0</td>\n",
       "      <td>107.845</td>\n",
       "      <td>4</td>\n",
       "      <td>5036</td>\n",
       "      <td>1250</td>\n",
       "      <td>15612</td>\n",
       "      <td>7.590852</td>\n",
       "      <td>6.617403</td>\n",
       "    </tr>\n",
       "    <tr>\n",
       "      <th>3</th>\n",
       "      <td>1</td>\n",
       "      <td>1</td>\n",
       "      <td>0.583443</td>\n",
       "      <td>0.385788</td>\n",
       "      <td>180.53179</td>\n",
       "      <td>2009</td>\n",
       "      <td>8</td>\n",
       "      <td>1</td>\n",
       "      <td>151.498</td>\n",
       "      <td>4</td>\n",
       "      <td>5005</td>\n",
       "      <td>1240</td>\n",
       "      <td>15508</td>\n",
       "      <td>0.000000</td>\n",
       "      <td>0.000000</td>\n",
       "    </tr>\n",
       "    <tr>\n",
       "      <th>4</th>\n",
       "      <td>230</td>\n",
       "      <td>80</td>\n",
       "      <td>0.712745</td>\n",
       "      <td>0.470700</td>\n",
       "      <td>232.25424</td>\n",
       "      <td>1998</td>\n",
       "      <td>0</td>\n",
       "      <td>1</td>\n",
       "      <td>97.995</td>\n",
       "      <td>4</td>\n",
       "      <td>4092</td>\n",
       "      <td>1014</td>\n",
       "      <td>8191</td>\n",
       "      <td>5.438079</td>\n",
       "      <td>4.382027</td>\n",
       "    </tr>\n",
       "  </tbody>\n",
       "</table>\n",
       "</div>"
      ],
      "text/plain": [
       "   play_count_sum  user_id_count  artist_familiarty  artist_hotness  \\\n",
       "0             957            554           0.806359        0.545789   \n",
       "1              10              6           0.623502        0.422380   \n",
       "2            1980            748           0.796337        0.582922   \n",
       "3               1              1           0.583443        0.385788   \n",
       "4             230             80           0.712745        0.470700   \n",
       "\n",
       "   song_durations  song_release_years  song_keys  song_modes  song_tempo  \\\n",
       "0       415.81669                1991          0           1     131.272   \n",
       "1       216.05832                1998          2           1     149.169   \n",
       "2       256.52200                2009         10           0     107.845   \n",
       "3       180.53179                2009          8           1     151.498   \n",
       "4       232.25424                1998          0           1      97.995   \n",
       "\n",
       "   song_time_signatures  beats_number  bars_number  tatum_number  \\\n",
       "0                     4         15715         2532           109   \n",
       "1                     4          5912         1474            72   \n",
       "2                     4          5036         1250         15612   \n",
       "3                     4          5005         1240         15508   \n",
       "4                     4          4092         1014          8191   \n",
       "\n",
       "   log_play_count_sum  log_user_id_count  \n",
       "0            6.863803           6.317165  \n",
       "1            2.302585           1.791759  \n",
       "2            7.590852           6.617403  \n",
       "3            0.000000           0.000000  \n",
       "4            5.438079           4.382027  "
      ]
     },
     "execution_count": 8,
     "metadata": {},
     "output_type": "execute_result"
    }
   ],
   "source": [
    "X.head()"
   ]
  },
  {
   "cell_type": "code",
   "execution_count": 9,
   "metadata": {
    "collapsed": false,
    "scrolled": true
   },
   "outputs": [
    {
     "name": "stdout",
     "output_type": "stream",
     "text": [
      "<class 'pandas.core.frame.DataFrame'>\n",
      "Int64Index: 1760 entries, 0 to 1759\n",
      "Data columns (total 15 columns):\n",
      "play_count_sum          1760 non-null int64\n",
      "user_id_count           1760 non-null int64\n",
      "artist_familiarty       1760 non-null float64\n",
      "artist_hotness          1760 non-null float64\n",
      "song_durations          1760 non-null float64\n",
      "song_release_years      1760 non-null float64\n",
      "song_keys               1760 non-null int64\n",
      "song_modes              1760 non-null int64\n",
      "song_tempo              1760 non-null float64\n",
      "song_time_signatures    1760 non-null int64\n",
      "beats_number            1760 non-null int64\n",
      "bars_number             1760 non-null int64\n",
      "tatum_number            1760 non-null int64\n",
      "log_play_count_sum      1760 non-null float64\n",
      "log_user_id_count       1760 non-null float64\n",
      "dtypes: float64(7), int64(8)\n",
      "memory usage: 220.0 KB\n"
     ]
    }
   ],
   "source": [
    "X.info()"
   ]
  },
  {
   "cell_type": "markdown",
   "metadata": {},
   "source": [
    "For now we will ignore genre."
   ]
  },
  {
   "cell_type": "markdown",
   "metadata": {},
   "source": [
    "### Data split - train vs. test"
   ]
  },
  {
   "cell_type": "markdown",
   "metadata": {},
   "source": [
    "For cross validation purposes, we will create a train set from 70% of the dataset and a test set form 30%. "
   ]
  },
  {
   "cell_type": "code",
   "execution_count": 10,
   "metadata": {
    "collapsed": true
   },
   "outputs": [],
   "source": [
    "X_train, X_test, y_train, y_test = train_test_split (X,y,train_size=.7,random_state=42)"
   ]
  },
  {
   "cell_type": "code",
   "execution_count": 11,
   "metadata": {
    "collapsed": false
   },
   "outputs": [
    {
     "name": "stdout",
     "output_type": "stream",
     "text": [
      "Unnamed: 0 has 1760 unique categories\n",
      "song_id has 1760 unique categories\n",
      "play_count_sum has 556 unique categories\n",
      "user_id_count has 399 unique categories\n",
      "track_id has 1760 unique categories\n",
      "genre_id has 20 unique categories\n",
      "artist_familiarty has 1078 unique categories\n",
      "artist_hotness has 1065 unique categories\n",
      "artist_id has 1058 unique categories\n",
      "artist_latitude has 262 unique categories\n",
      "artist_location has 469 unique categories\n",
      "artist_longitude has 262 unique categories\n",
      "artist_names has 1058 unique categories\n",
      "song_durations has 1626 unique categories\n",
      "song_hotness has 862 unique categories\n",
      "song_release_years has 50 unique categories\n",
      "song_titles has 1747 unique categories\n",
      "song_bars has 1757 unique categories\n",
      "song_beats has 1757 unique categories\n",
      "song_keys has 12 unique categories\n",
      "song_modes has 2 unique categories\n",
      "song_tatum has 1757 unique categories\n",
      "song_tempo has 1735 unique categories\n",
      "song_time_signatures has 6 unique categories\n",
      "count has 1 unique categories\n",
      "beats_number has 1405 unique categories\n",
      "bars_number has 1061 unique categories\n",
      "tatum_number has 727 unique categories\n",
      "log_play_count_sum has 556 unique categories\n",
      "log_user_id_count has 399 unique categories\n"
     ]
    }
   ],
   "source": [
    "for col in data.columns:\n",
    "    print \"%s has %s unique categories\" % (col, data[col].nunique())"
   ]
  },
  {
   "cell_type": "markdown",
   "metadata": {},
   "source": [
    "### Feature selection"
   ]
  },
  {
   "cell_type": "markdown",
   "metadata": {},
   "source": [
    "#### Recursive Feature Elimination"
   ]
  },
  {
   "cell_type": "markdown",
   "metadata": {},
   "source": [
    "\"The Recursive Feature Elimination (RFE) method is a feature selection approach. It works by recursively removing attributes and building a model on those attributes that remain. It uses the model accuracy to identify which attributes (and combination of attributes) contribute the most to predicting the target attribute.\"\n",
    "http://machinelearningmastery.com/feature-selection-in-python-with-scikit-learn/"
   ]
  },
  {
   "cell_type": "code",
   "execution_count": 12,
   "metadata": {
    "collapsed": true
   },
   "outputs": [],
   "source": [
    "log_reg_model = LogisticRegression()"
   ]
  },
  {
   "cell_type": "code",
   "execution_count": 13,
   "metadata": {
    "collapsed": false
   },
   "outputs": [],
   "source": [
    "rfe = RFE(log_reg_model, 5)"
   ]
  },
  {
   "cell_type": "code",
   "execution_count": 14,
   "metadata": {
    "collapsed": false
   },
   "outputs": [],
   "source": [
    "rfe = rfe.fit(X_train, y_train)"
   ]
  },
  {
   "cell_type": "code",
   "execution_count": 15,
   "metadata": {
    "collapsed": false
   },
   "outputs": [
    {
     "name": "stdout",
     "output_type": "stream",
     "text": [
      "[False False  True  True False False False  True False  True False False\n",
      " False  True False]\n"
     ]
    }
   ],
   "source": [
    "print(rfe.support_)"
   ]
  },
  {
   "cell_type": "code",
   "execution_count": 16,
   "metadata": {
    "collapsed": false
   },
   "outputs": [
    {
     "name": "stdout",
     "output_type": "stream",
     "text": [
      "[ 5  3  1  1  8  9  2  1  7  1 10 11  6  1  4]\n"
     ]
    }
   ],
   "source": [
    "print(rfe.ranking_)"
   ]
  },
  {
   "cell_type": "code",
   "execution_count": 56,
   "metadata": {
    "collapsed": false
   },
   "outputs": [
    {
     "data": {
      "text/html": [
       "<div>\n",
       "<table border=\"1\" class=\"dataframe\">\n",
       "  <thead>\n",
       "    <tr style=\"text-align: right;\">\n",
       "      <th></th>\n",
       "      <th>support</th>\n",
       "    </tr>\n",
       "  </thead>\n",
       "  <tbody>\n",
       "    <tr>\n",
       "      <th>play_count_sum</th>\n",
       "      <td>False</td>\n",
       "    </tr>\n",
       "    <tr>\n",
       "      <th>user_id_count</th>\n",
       "      <td>False</td>\n",
       "    </tr>\n",
       "    <tr>\n",
       "      <th>artist_familiarty</th>\n",
       "      <td>True</td>\n",
       "    </tr>\n",
       "    <tr>\n",
       "      <th>artist_hotness</th>\n",
       "      <td>True</td>\n",
       "    </tr>\n",
       "    <tr>\n",
       "      <th>song_durations</th>\n",
       "      <td>False</td>\n",
       "    </tr>\n",
       "    <tr>\n",
       "      <th>song_release_years</th>\n",
       "      <td>False</td>\n",
       "    </tr>\n",
       "    <tr>\n",
       "      <th>song_keys</th>\n",
       "      <td>False</td>\n",
       "    </tr>\n",
       "    <tr>\n",
       "      <th>song_modes</th>\n",
       "      <td>True</td>\n",
       "    </tr>\n",
       "    <tr>\n",
       "      <th>song_tempo</th>\n",
       "      <td>False</td>\n",
       "    </tr>\n",
       "    <tr>\n",
       "      <th>song_time_signatures</th>\n",
       "      <td>True</td>\n",
       "    </tr>\n",
       "    <tr>\n",
       "      <th>beats_number</th>\n",
       "      <td>False</td>\n",
       "    </tr>\n",
       "    <tr>\n",
       "      <th>bars_number</th>\n",
       "      <td>False</td>\n",
       "    </tr>\n",
       "    <tr>\n",
       "      <th>tatum_number</th>\n",
       "      <td>False</td>\n",
       "    </tr>\n",
       "    <tr>\n",
       "      <th>log_play_count_sum</th>\n",
       "      <td>True</td>\n",
       "    </tr>\n",
       "    <tr>\n",
       "      <th>log_user_id_count</th>\n",
       "      <td>False</td>\n",
       "    </tr>\n",
       "  </tbody>\n",
       "</table>\n",
       "</div>"
      ],
      "text/plain": [
       "                     support\n",
       "play_count_sum         False\n",
       "user_id_count          False\n",
       "artist_familiarty       True\n",
       "artist_hotness          True\n",
       "song_durations         False\n",
       "song_release_years     False\n",
       "song_keys              False\n",
       "song_modes              True\n",
       "song_tempo             False\n",
       "song_time_signatures    True\n",
       "beats_number           False\n",
       "bars_number            False\n",
       "tatum_number           False\n",
       "log_play_count_sum      True\n",
       "log_user_id_count      False"
      ]
     },
     "execution_count": 56,
     "metadata": {},
     "output_type": "execute_result"
    }
   ],
   "source": [
    "rfe_support=pd.DataFrame(rfe.support_, index = X_train.columns.values, columns =['support'])\n",
    "rfe_support"
   ]
  },
  {
   "cell_type": "markdown",
   "metadata": {},
   "source": [
    "Interesting, so it seems that the relevant features are artist_familiarty, artist_hotness, song_modes, song_time_signatures and log_play_count_sum."
   ]
  },
  {
   "cell_type": "code",
   "execution_count": 57,
   "metadata": {
    "collapsed": false
   },
   "outputs": [
    {
     "name": "stderr",
     "output_type": "stream",
     "text": [
      "/anaconda/lib/python2.7/site-packages/ipykernel/__main__.py:1: FutureWarning: sort(columns=....) is deprecated, use sort_values(by=.....)\n",
      "  if __name__ == '__main__':\n"
     ]
    },
    {
     "data": {
      "text/html": [
       "<div>\n",
       "<table border=\"1\" class=\"dataframe\">\n",
       "  <thead>\n",
       "    <tr style=\"text-align: right;\">\n",
       "      <th></th>\n",
       "      <th>ranking</th>\n",
       "    </tr>\n",
       "  </thead>\n",
       "  <tbody>\n",
       "    <tr>\n",
       "      <th>artist_familiarty</th>\n",
       "      <td>1</td>\n",
       "    </tr>\n",
       "    <tr>\n",
       "      <th>artist_hotness</th>\n",
       "      <td>1</td>\n",
       "    </tr>\n",
       "    <tr>\n",
       "      <th>song_modes</th>\n",
       "      <td>1</td>\n",
       "    </tr>\n",
       "    <tr>\n",
       "      <th>song_time_signatures</th>\n",
       "      <td>1</td>\n",
       "    </tr>\n",
       "    <tr>\n",
       "      <th>log_play_count_sum</th>\n",
       "      <td>1</td>\n",
       "    </tr>\n",
       "    <tr>\n",
       "      <th>song_keys</th>\n",
       "      <td>2</td>\n",
       "    </tr>\n",
       "    <tr>\n",
       "      <th>user_id_count</th>\n",
       "      <td>3</td>\n",
       "    </tr>\n",
       "    <tr>\n",
       "      <th>log_user_id_count</th>\n",
       "      <td>4</td>\n",
       "    </tr>\n",
       "    <tr>\n",
       "      <th>play_count_sum</th>\n",
       "      <td>5</td>\n",
       "    </tr>\n",
       "    <tr>\n",
       "      <th>tatum_number</th>\n",
       "      <td>6</td>\n",
       "    </tr>\n",
       "    <tr>\n",
       "      <th>song_tempo</th>\n",
       "      <td>7</td>\n",
       "    </tr>\n",
       "    <tr>\n",
       "      <th>song_durations</th>\n",
       "      <td>8</td>\n",
       "    </tr>\n",
       "    <tr>\n",
       "      <th>song_release_years</th>\n",
       "      <td>9</td>\n",
       "    </tr>\n",
       "    <tr>\n",
       "      <th>beats_number</th>\n",
       "      <td>10</td>\n",
       "    </tr>\n",
       "    <tr>\n",
       "      <th>bars_number</th>\n",
       "      <td>11</td>\n",
       "    </tr>\n",
       "  </tbody>\n",
       "</table>\n",
       "</div>"
      ],
      "text/plain": [
       "                      ranking\n",
       "artist_familiarty           1\n",
       "artist_hotness              1\n",
       "song_modes                  1\n",
       "song_time_signatures        1\n",
       "log_play_count_sum          1\n",
       "song_keys                   2\n",
       "user_id_count               3\n",
       "log_user_id_count           4\n",
       "play_count_sum              5\n",
       "tatum_number                6\n",
       "song_tempo                  7\n",
       "song_durations              8\n",
       "song_release_years          9\n",
       "beats_number               10\n",
       "bars_number                11"
      ]
     },
     "execution_count": 57,
     "metadata": {},
     "output_type": "execute_result"
    }
   ],
   "source": [
    "rfe_ranking=pd.DataFrame(rfe.ranking_, index = X_train.columns.values, columns =['ranking']).sort('ranking',ascending=[True])\n",
    "rfe_ranking"
   ]
  },
  {
   "cell_type": "markdown",
   "metadata": {},
   "source": [
    "#### Feature Importance"
   ]
  },
  {
   "cell_type": "code",
   "execution_count": 58,
   "metadata": {
    "collapsed": false
   },
   "outputs": [
    {
     "name": "stderr",
     "output_type": "stream",
     "text": [
      "/anaconda/lib/python2.7/site-packages/ipykernel/__main__.py:3: FutureWarning: sort(columns=....) is deprecated, use sort_values(by=.....)\n",
      "  app.launch_new_instance()\n"
     ]
    },
    {
     "data": {
      "text/html": [
       "<div>\n",
       "<table border=\"1\" class=\"dataframe\">\n",
       "  <thead>\n",
       "    <tr style=\"text-align: right;\">\n",
       "      <th></th>\n",
       "      <th>importance</th>\n",
       "    </tr>\n",
       "  </thead>\n",
       "  <tbody>\n",
       "    <tr>\n",
       "      <th>artist_familiarty</th>\n",
       "      <td>0.083209</td>\n",
       "    </tr>\n",
       "    <tr>\n",
       "      <th>artist_hotness</th>\n",
       "      <td>0.082917</td>\n",
       "    </tr>\n",
       "    <tr>\n",
       "      <th>song_durations</th>\n",
       "      <td>0.076609</td>\n",
       "    </tr>\n",
       "    <tr>\n",
       "      <th>song_tempo</th>\n",
       "      <td>0.075827</td>\n",
       "    </tr>\n",
       "    <tr>\n",
       "      <th>bars_number</th>\n",
       "      <td>0.074401</td>\n",
       "    </tr>\n",
       "    <tr>\n",
       "      <th>beats_number</th>\n",
       "      <td>0.073183</td>\n",
       "    </tr>\n",
       "    <tr>\n",
       "      <th>song_release_years</th>\n",
       "      <td>0.071472</td>\n",
       "    </tr>\n",
       "    <tr>\n",
       "      <th>log_user_id_count</th>\n",
       "      <td>0.071198</td>\n",
       "    </tr>\n",
       "    <tr>\n",
       "      <th>log_play_count_sum</th>\n",
       "      <td>0.068978</td>\n",
       "    </tr>\n",
       "    <tr>\n",
       "      <th>play_count_sum</th>\n",
       "      <td>0.066361</td>\n",
       "    </tr>\n",
       "    <tr>\n",
       "      <th>tatum_number</th>\n",
       "      <td>0.062753</td>\n",
       "    </tr>\n",
       "    <tr>\n",
       "      <th>song_keys</th>\n",
       "      <td>0.061501</td>\n",
       "    </tr>\n",
       "    <tr>\n",
       "      <th>user_id_count</th>\n",
       "      <td>0.060494</td>\n",
       "    </tr>\n",
       "    <tr>\n",
       "      <th>song_time_signatures</th>\n",
       "      <td>0.039369</td>\n",
       "    </tr>\n",
       "    <tr>\n",
       "      <th>song_modes</th>\n",
       "      <td>0.031727</td>\n",
       "    </tr>\n",
       "  </tbody>\n",
       "</table>\n",
       "</div>"
      ],
      "text/plain": [
       "                      importance\n",
       "artist_familiarty       0.083209\n",
       "artist_hotness          0.082917\n",
       "song_durations          0.076609\n",
       "song_tempo              0.075827\n",
       "bars_number             0.074401\n",
       "beats_number            0.073183\n",
       "song_release_years      0.071472\n",
       "log_user_id_count       0.071198\n",
       "log_play_count_sum      0.068978\n",
       "play_count_sum          0.066361\n",
       "tatum_number            0.062753\n",
       "song_keys               0.061501\n",
       "user_id_count           0.060494\n",
       "song_time_signatures    0.039369\n",
       "song_modes              0.031727"
      ]
     },
     "execution_count": 58,
     "metadata": {},
     "output_type": "execute_result"
    }
   ],
   "source": [
    "etc_model = ExtraTreesClassifier()\n",
    "etc_model.fit(X_train, y_train)\n",
    "etc_df = pd.DataFrame(etc_model.feature_importances_, index = X_train.columns.values, columns =['importance']).sort('importance',ascending=[False])\n",
    "etc_df"
   ]
  },
  {
   "cell_type": "code",
   "execution_count": 59,
   "metadata": {
    "collapsed": false
   },
   "outputs": [
    {
     "name": "stderr",
     "output_type": "stream",
     "text": [
      "/anaconda/lib/python2.7/site-packages/ipykernel/__main__.py:3: FutureWarning: sort(columns=....) is deprecated, use sort_values(by=.....)\n",
      "  app.launch_new_instance()\n"
     ]
    },
    {
     "data": {
      "text/html": [
       "<div>\n",
       "<table border=\"1\" class=\"dataframe\">\n",
       "  <thead>\n",
       "    <tr style=\"text-align: right;\">\n",
       "      <th></th>\n",
       "      <th>importance</th>\n",
       "    </tr>\n",
       "  </thead>\n",
       "  <tbody>\n",
       "    <tr>\n",
       "      <th>artist_familiarty</th>\n",
       "      <td>0.092987</td>\n",
       "    </tr>\n",
       "    <tr>\n",
       "      <th>artist_hotness</th>\n",
       "      <td>0.086593</td>\n",
       "    </tr>\n",
       "    <tr>\n",
       "      <th>song_durations</th>\n",
       "      <td>0.086009</td>\n",
       "    </tr>\n",
       "    <tr>\n",
       "      <th>bars_number</th>\n",
       "      <td>0.082435</td>\n",
       "    </tr>\n",
       "    <tr>\n",
       "      <th>song_tempo</th>\n",
       "      <td>0.075704</td>\n",
       "    </tr>\n",
       "    <tr>\n",
       "      <th>beats_number</th>\n",
       "      <td>0.075692</td>\n",
       "    </tr>\n",
       "    <tr>\n",
       "      <th>play_count_sum</th>\n",
       "      <td>0.071062</td>\n",
       "    </tr>\n",
       "    <tr>\n",
       "      <th>log_play_count_sum</th>\n",
       "      <td>0.067261</td>\n",
       "    </tr>\n",
       "    <tr>\n",
       "      <th>song_release_years</th>\n",
       "      <td>0.066449</td>\n",
       "    </tr>\n",
       "    <tr>\n",
       "      <th>user_id_count</th>\n",
       "      <td>0.064655</td>\n",
       "    </tr>\n",
       "    <tr>\n",
       "      <th>log_user_id_count</th>\n",
       "      <td>0.064609</td>\n",
       "    </tr>\n",
       "    <tr>\n",
       "      <th>tatum_number</th>\n",
       "      <td>0.063153</td>\n",
       "    </tr>\n",
       "    <tr>\n",
       "      <th>song_keys</th>\n",
       "      <td>0.053897</td>\n",
       "    </tr>\n",
       "    <tr>\n",
       "      <th>song_time_signatures</th>\n",
       "      <td>0.029280</td>\n",
       "    </tr>\n",
       "    <tr>\n",
       "      <th>song_modes</th>\n",
       "      <td>0.020214</td>\n",
       "    </tr>\n",
       "  </tbody>\n",
       "</table>\n",
       "</div>"
      ],
      "text/plain": [
       "                      importance\n",
       "artist_familiarty       0.092987\n",
       "artist_hotness          0.086593\n",
       "song_durations          0.086009\n",
       "bars_number             0.082435\n",
       "song_tempo              0.075704\n",
       "beats_number            0.075692\n",
       "play_count_sum          0.071062\n",
       "log_play_count_sum      0.067261\n",
       "song_release_years      0.066449\n",
       "user_id_count           0.064655\n",
       "log_user_id_count       0.064609\n",
       "tatum_number            0.063153\n",
       "song_keys               0.053897\n",
       "song_time_signatures    0.029280\n",
       "song_modes              0.020214"
      ]
     },
     "execution_count": 59,
     "metadata": {},
     "output_type": "execute_result"
    }
   ],
   "source": [
    "rfc_model=RandomForestClassifier()\n",
    "rfc_model.fit(X_train, y_train)\n",
    "rfc_df = pd.DataFrame(rfc_model.feature_importances_, index = X_train.columns.values, columns =['importance']).sort('importance',ascending=[False])\n",
    "rfc_df"
   ]
  },
  {
   "cell_type": "code",
   "execution_count": 60,
   "metadata": {
    "collapsed": true
   },
   "outputs": [],
   "source": [
    "rfe2 = RFE(rfc_model, 5)\n",
    "rfe2 = rfe2.fit(X_train, y_train)"
   ]
  },
  {
   "cell_type": "code",
   "execution_count": 61,
   "metadata": {
    "collapsed": false
   },
   "outputs": [
    {
     "data": {
      "text/html": [
       "<div>\n",
       "<table border=\"1\" class=\"dataframe\">\n",
       "  <thead>\n",
       "    <tr style=\"text-align: right;\">\n",
       "      <th></th>\n",
       "      <th>support</th>\n",
       "    </tr>\n",
       "  </thead>\n",
       "  <tbody>\n",
       "    <tr>\n",
       "      <th>play_count_sum</th>\n",
       "      <td>False</td>\n",
       "    </tr>\n",
       "    <tr>\n",
       "      <th>user_id_count</th>\n",
       "      <td>False</td>\n",
       "    </tr>\n",
       "    <tr>\n",
       "      <th>artist_familiarty</th>\n",
       "      <td>True</td>\n",
       "    </tr>\n",
       "    <tr>\n",
       "      <th>artist_hotness</th>\n",
       "      <td>True</td>\n",
       "    </tr>\n",
       "    <tr>\n",
       "      <th>song_durations</th>\n",
       "      <td>False</td>\n",
       "    </tr>\n",
       "    <tr>\n",
       "      <th>song_release_years</th>\n",
       "      <td>False</td>\n",
       "    </tr>\n",
       "    <tr>\n",
       "      <th>song_keys</th>\n",
       "      <td>False</td>\n",
       "    </tr>\n",
       "    <tr>\n",
       "      <th>song_modes</th>\n",
       "      <td>False</td>\n",
       "    </tr>\n",
       "    <tr>\n",
       "      <th>song_tempo</th>\n",
       "      <td>True</td>\n",
       "    </tr>\n",
       "    <tr>\n",
       "      <th>song_time_signatures</th>\n",
       "      <td>False</td>\n",
       "    </tr>\n",
       "    <tr>\n",
       "      <th>beats_number</th>\n",
       "      <td>True</td>\n",
       "    </tr>\n",
       "    <tr>\n",
       "      <th>bars_number</th>\n",
       "      <td>True</td>\n",
       "    </tr>\n",
       "    <tr>\n",
       "      <th>tatum_number</th>\n",
       "      <td>False</td>\n",
       "    </tr>\n",
       "    <tr>\n",
       "      <th>log_play_count_sum</th>\n",
       "      <td>False</td>\n",
       "    </tr>\n",
       "    <tr>\n",
       "      <th>log_user_id_count</th>\n",
       "      <td>False</td>\n",
       "    </tr>\n",
       "  </tbody>\n",
       "</table>\n",
       "</div>"
      ],
      "text/plain": [
       "                     support\n",
       "play_count_sum         False\n",
       "user_id_count          False\n",
       "artist_familiarty       True\n",
       "artist_hotness          True\n",
       "song_durations         False\n",
       "song_release_years     False\n",
       "song_keys              False\n",
       "song_modes             False\n",
       "song_tempo              True\n",
       "song_time_signatures   False\n",
       "beats_number            True\n",
       "bars_number             True\n",
       "tatum_number           False\n",
       "log_play_count_sum     False\n",
       "log_user_id_count      False"
      ]
     },
     "execution_count": 61,
     "metadata": {},
     "output_type": "execute_result"
    }
   ],
   "source": [
    "rfe2_support=pd.DataFrame(rfe2.support_, index = X_train.columns.values, columns =['support'])\n",
    "rfe2_support"
   ]
  },
  {
   "cell_type": "code",
   "execution_count": 62,
   "metadata": {
    "collapsed": false
   },
   "outputs": [
    {
     "name": "stderr",
     "output_type": "stream",
     "text": [
      "/anaconda/lib/python2.7/site-packages/ipykernel/__main__.py:1: FutureWarning: sort(columns=....) is deprecated, use sort_values(by=.....)\n",
      "  if __name__ == '__main__':\n"
     ]
    },
    {
     "data": {
      "text/html": [
       "<div>\n",
       "<table border=\"1\" class=\"dataframe\">\n",
       "  <thead>\n",
       "    <tr style=\"text-align: right;\">\n",
       "      <th></th>\n",
       "      <th>ranking</th>\n",
       "    </tr>\n",
       "  </thead>\n",
       "  <tbody>\n",
       "    <tr>\n",
       "      <th>artist_familiarty</th>\n",
       "      <td>1</td>\n",
       "    </tr>\n",
       "    <tr>\n",
       "      <th>artist_hotness</th>\n",
       "      <td>1</td>\n",
       "    </tr>\n",
       "    <tr>\n",
       "      <th>song_tempo</th>\n",
       "      <td>1</td>\n",
       "    </tr>\n",
       "    <tr>\n",
       "      <th>beats_number</th>\n",
       "      <td>1</td>\n",
       "    </tr>\n",
       "    <tr>\n",
       "      <th>bars_number</th>\n",
       "      <td>1</td>\n",
       "    </tr>\n",
       "    <tr>\n",
       "      <th>song_durations</th>\n",
       "      <td>2</td>\n",
       "    </tr>\n",
       "    <tr>\n",
       "      <th>play_count_sum</th>\n",
       "      <td>3</td>\n",
       "    </tr>\n",
       "    <tr>\n",
       "      <th>user_id_count</th>\n",
       "      <td>4</td>\n",
       "    </tr>\n",
       "    <tr>\n",
       "      <th>song_release_years</th>\n",
       "      <td>5</td>\n",
       "    </tr>\n",
       "    <tr>\n",
       "      <th>log_play_count_sum</th>\n",
       "      <td>6</td>\n",
       "    </tr>\n",
       "    <tr>\n",
       "      <th>log_user_id_count</th>\n",
       "      <td>7</td>\n",
       "    </tr>\n",
       "    <tr>\n",
       "      <th>song_keys</th>\n",
       "      <td>8</td>\n",
       "    </tr>\n",
       "    <tr>\n",
       "      <th>tatum_number</th>\n",
       "      <td>9</td>\n",
       "    </tr>\n",
       "    <tr>\n",
       "      <th>song_time_signatures</th>\n",
       "      <td>10</td>\n",
       "    </tr>\n",
       "    <tr>\n",
       "      <th>song_modes</th>\n",
       "      <td>11</td>\n",
       "    </tr>\n",
       "  </tbody>\n",
       "</table>\n",
       "</div>"
      ],
      "text/plain": [
       "                      ranking\n",
       "artist_familiarty           1\n",
       "artist_hotness              1\n",
       "song_tempo                  1\n",
       "beats_number                1\n",
       "bars_number                 1\n",
       "song_durations              2\n",
       "play_count_sum              3\n",
       "user_id_count               4\n",
       "song_release_years          5\n",
       "log_play_count_sum          6\n",
       "log_user_id_count           7\n",
       "song_keys                   8\n",
       "tatum_number                9\n",
       "song_time_signatures       10\n",
       "song_modes                 11"
      ]
     },
     "execution_count": 62,
     "metadata": {},
     "output_type": "execute_result"
    }
   ],
   "source": [
    "rfe2_ranking=pd.DataFrame(rfe2.ranking_, index = X_train.columns.values, columns =['ranking']).sort('ranking',ascending=[True])\n",
    "rfe2_ranking"
   ]
  },
  {
   "cell_type": "markdown",
   "metadata": {},
   "source": [
    "According to the Feature Importance method, artist_hotness, artist_familiarty, song_durations and song_tempo are important. "
   ]
  },
  {
   "cell_type": "markdown",
   "metadata": {},
   "source": [
    "So our model has to use artist_hotness and artist_familiarty."
   ]
  },
  {
   "cell_type": "markdown",
   "metadata": {},
   "source": [
    "## Supervised Machine Learning Models"
   ]
  },
  {
   "cell_type": "markdown",
   "metadata": {},
   "source": [
    "### Linear Regression"
   ]
  },
  {
   "cell_type": "markdown",
   "metadata": {},
   "source": [
    "regression (supervised and continuous): functional/linear relationship between input variable x and response variable y → fit the regression model to the dataset by minimizing the sum of the squared residuals (OLS algorithm = Ordinary Least Squares: distance of data point to best fit line)"
   ]
  },
  {
   "cell_type": "code",
   "execution_count": 63,
   "metadata": {
    "collapsed": true
   },
   "outputs": [],
   "source": [
    "lr = LinearRegression()"
   ]
  },
  {
   "cell_type": "markdown",
   "metadata": {},
   "source": [
    "We know right away that logistic regression is not the way to go - the model is too complicated. I did try, but it gave me as expcted error messages."
   ]
  },
  {
   "cell_type": "markdown",
   "metadata": {},
   "source": [
    "### Logistic Regression"
   ]
  },
  {
   "cell_type": "markdown",
   "metadata": {},
   "source": [
    "Let's look at some options of features based on the previous feature selection."
   ]
  },
  {
   "cell_type": "code",
   "execution_count": 64,
   "metadata": {
    "collapsed": true
   },
   "outputs": [],
   "source": [
    "X1_train = X_train[['artist_familiarty','artist_hotness','song_durations','beats_number','bars_number']]"
   ]
  },
  {
   "cell_type": "code",
   "execution_count": 65,
   "metadata": {
    "collapsed": true
   },
   "outputs": [],
   "source": [
    "X2_train = X_train[['artist_familiarty','artist_hotness','song_modes','song_time_signatures','log_play_count_sum']]"
   ]
  },
  {
   "cell_type": "code",
   "execution_count": 66,
   "metadata": {
    "collapsed": true
   },
   "outputs": [],
   "source": [
    "X3_train = X_train[['artist_familiarty','artist_hotness','song_durations','song_tempo','beats_number']]"
   ]
  },
  {
   "cell_type": "code",
   "execution_count": 67,
   "metadata": {
    "collapsed": true
   },
   "outputs": [],
   "source": [
    "X4_train = X_train[['artist_familiarty','artist_hotness','song_durations','song_tempo','song_release_years']]"
   ]
  },
  {
   "cell_type": "code",
   "execution_count": 68,
   "metadata": {
    "collapsed": false
   },
   "outputs": [
    {
     "data": {
      "text/plain": [
       "0.23863636363636365"
      ]
     },
     "execution_count": 68,
     "metadata": {},
     "output_type": "execute_result"
    }
   ],
   "source": [
    "log_reg_model.fit(X1_train,y_train)\n",
    "log_reg_model.score(X1_train,y_train)"
   ]
  },
  {
   "cell_type": "code",
   "execution_count": 69,
   "metadata": {
    "collapsed": false
   },
   "outputs": [
    {
     "data": {
      "text/plain": [
       "0.23376623376623376"
      ]
     },
     "execution_count": 69,
     "metadata": {},
     "output_type": "execute_result"
    }
   ],
   "source": [
    "log_reg_model.fit(X2_train,y_train)\n",
    "log_reg_model.score(X2_train,y_train)"
   ]
  },
  {
   "cell_type": "code",
   "execution_count": 70,
   "metadata": {
    "collapsed": false
   },
   "outputs": [
    {
     "data": {
      "text/plain": [
       "0.2353896103896104"
      ]
     },
     "execution_count": 70,
     "metadata": {},
     "output_type": "execute_result"
    }
   ],
   "source": [
    "log_reg_model.fit(X3_train,y_train)\n",
    "log_reg_model.score(X3_train,y_train)"
   ]
  },
  {
   "cell_type": "code",
   "execution_count": 71,
   "metadata": {
    "collapsed": false
   },
   "outputs": [
    {
     "data": {
      "text/plain": [
       "0.23620129870129869"
      ]
     },
     "execution_count": 71,
     "metadata": {},
     "output_type": "execute_result"
    }
   ],
   "source": [
    "log_reg_model.fit(X4_train,y_train)\n",
    "log_reg_model.score(X4_train,y_train)"
   ]
  },
  {
   "cell_type": "markdown",
   "metadata": {},
   "source": [
    "Haha, ok, all of these models are bad. We don't even need to check the cross validation."
   ]
  },
  {
   "cell_type": "markdown",
   "metadata": {},
   "source": [
    "### knn"
   ]
  },
  {
   "cell_type": "markdown",
   "metadata": {},
   "source": [
    "knn (k nearest neighbors algorithm): Euclidean distance, can be used for both classification and regression; instance based learning; lazy learning; might need to rescale data to make dimensions comparable"
   ]
  },
  {
   "cell_type": "code",
   "execution_count": 72,
   "metadata": {
    "collapsed": true
   },
   "outputs": [],
   "source": [
    "knn_model=KNeighborsClassifier(n_neighbors=5) "
   ]
  },
  {
   "cell_type": "code",
   "execution_count": 73,
   "metadata": {
    "collapsed": false
   },
   "outputs": [
    {
     "data": {
      "text/plain": [
       "0.27029220779220781"
      ]
     },
     "execution_count": 73,
     "metadata": {},
     "output_type": "execute_result"
    }
   ],
   "source": [
    "knn_model.fit(X1_train,y_train)\n",
    "knn_model.score(X1_train,y_train)"
   ]
  },
  {
   "cell_type": "code",
   "execution_count": 74,
   "metadata": {
    "collapsed": false
   },
   "outputs": [
    {
     "data": {
      "text/plain": [
       "0.30925324675324678"
      ]
     },
     "execution_count": 74,
     "metadata": {},
     "output_type": "execute_result"
    }
   ],
   "source": [
    "knn_model.fit(X2_train,y_train)\n",
    "knn_model.score(X2_train,y_train)"
   ]
  },
  {
   "cell_type": "code",
   "execution_count": 75,
   "metadata": {
    "collapsed": false
   },
   "outputs": [
    {
     "data": {
      "text/plain": [
       "0.28490259740259738"
      ]
     },
     "execution_count": 75,
     "metadata": {},
     "output_type": "execute_result"
    }
   ],
   "source": [
    "knn_model.fit(X3_train,y_train)\n",
    "knn_model.score(X3_train,y_train)"
   ]
  },
  {
   "cell_type": "code",
   "execution_count": 76,
   "metadata": {
    "collapsed": false
   },
   "outputs": [
    {
     "data": {
      "text/plain": [
       "0.28814935064935066"
      ]
     },
     "execution_count": 76,
     "metadata": {},
     "output_type": "execute_result"
    }
   ],
   "source": [
    "knn_model.fit(X4_train,y_train)\n",
    "knn_model.score(X4_train,y_train)"
   ]
  },
  {
   "cell_type": "markdown",
   "metadata": {},
   "source": [
    "Very VERY slightly better. Let's stick with the X2_train features for knn. "
   ]
  },
  {
   "cell_type": "code",
   "execution_count": 77,
   "metadata": {
    "collapsed": true
   },
   "outputs": [],
   "source": [
    "scores = []\n",
    "for k in xrange(1,100):\n",
    "    model = KNeighborsClassifier(n_neighbors=k)\n",
    "    model.fit(X2_train,y_train)\n",
    "    score = model.score(X2_train,y_train)\n",
    "    scores.append(score)"
   ]
  },
  {
   "cell_type": "code",
   "execution_count": 78,
   "metadata": {
    "collapsed": false
   },
   "outputs": [
    {
     "data": {
      "text/plain": [
       "[<matplotlib.lines.Line2D at 0x112649590>]"
      ]
     },
     "execution_count": 78,
     "metadata": {},
     "output_type": "execute_result"
    },
    {
     "data": {
      "image/png": "[encoded data removed]",
      "text/plain": [
       "<matplotlib.figure.Figure at 0x1124c2d50>"
      ]
     },
     "metadata": {},
     "output_type": "display_data"
    }
   ],
   "source": [
    "plt.plot(scores)"
   ]
  },
  {
   "cell_type": "code",
   "execution_count": 79,
   "metadata": {
    "collapsed": false
   },
   "outputs": [
    {
     "name": "stdout",
     "output_type": "stream",
     "text": [
      "[0.99675324675324672, 0.54788961038961037, 0.39204545454545453, 0.33441558441558439, 0.30925324675324678, 0.29545454545454547, 0.27272727272727271, 0.24918831168831168, 0.24431818181818182, 0.24107142857142858]\n"
     ]
    }
   ],
   "source": [
    "print scores[:10]"
   ]
  },
  {
   "cell_type": "markdown",
   "metadata": {},
   "source": [
    "Yeah, this isn't the best model either. "
   ]
  },
  {
   "cell_type": "markdown",
   "metadata": {},
   "source": [
    "### Decision Tree"
   ]
  },
  {
   "cell_type": "markdown",
   "metadata": {},
   "source": [
    "non-parametric hierarchical; nodes represent questions (“test conditions”) and edges are answers to these questions (edges lead from parent node to child node starting from root node and ending in leaf nodes = class labels) → binary yes/no answers; gild (grow) a decision tree = Hunt’s algorithm (greedy recursive algorithm →goal highest possible purity: Entropy (information gain) coefficient, Gini coefficient, Misclassification Error)"
   ]
  },
  {
   "cell_type": "markdown",
   "metadata": {},
   "source": [
    "#### Single Forest"
   ]
  },
  {
   "cell_type": "code",
   "execution_count": 80,
   "metadata": {
    "collapsed": true
   },
   "outputs": [],
   "source": [
    "dtc_model = DecisionTreeClassifier()"
   ]
  },
  {
   "cell_type": "code",
   "execution_count": 81,
   "metadata": {
    "collapsed": false
   },
   "outputs": [
    {
     "data": {
      "text/plain": [
       "1.0"
      ]
     },
     "execution_count": 81,
     "metadata": {},
     "output_type": "execute_result"
    }
   ],
   "source": [
    "dtc_model.fit(X1_train,y_train)\n",
    "dtc_model.score(X1_train,y_train)"
   ]
  },
  {
   "cell_type": "markdown",
   "metadata": {},
   "source": [
    "Wow, totally overfitted model. "
   ]
  },
  {
   "cell_type": "code",
   "execution_count": 82,
   "metadata": {
    "collapsed": false
   },
   "outputs": [
    {
     "name": "stderr",
     "output_type": "stream",
     "text": [
      "//anaconda/lib/python2.7/site-packages/sklearn/cross_validation.py:516: Warning: The least populated class in y has only 1 members, which is too few. The minimum number of labels for any class cannot be less than n_folds=3.\n",
      "  % (min_labels, self.n_folds)), Warning)\n"
     ]
    },
    {
     "data": {
      "text/plain": [
       "0.085044883873340124"
      ]
     },
     "execution_count": 82,
     "metadata": {},
     "output_type": "execute_result"
    }
   ],
   "source": [
    "cross_val_score(dtc_model, X1_train,y_train).mean()"
   ]
  },
  {
   "cell_type": "code",
   "execution_count": 83,
   "metadata": {
    "collapsed": false
   },
   "outputs": [
    {
     "data": {
      "text/plain": [
       "0.99675324675324672"
      ]
     },
     "execution_count": 83,
     "metadata": {},
     "output_type": "execute_result"
    }
   ],
   "source": [
    "dtc_model.fit(X2_train,y_train)\n",
    "dtc_model.score(X2_train,y_train)"
   ]
  },
  {
   "cell_type": "code",
   "execution_count": 84,
   "metadata": {
    "collapsed": false
   },
   "outputs": [
    {
     "data": {
      "text/plain": [
       "0.11489465739307163"
      ]
     },
     "execution_count": 84,
     "metadata": {},
     "output_type": "execute_result"
    }
   ],
   "source": [
    "cross_val_score(dtc_model, X2_train,y_train).mean()"
   ]
  },
  {
   "cell_type": "code",
   "execution_count": 85,
   "metadata": {
    "collapsed": false
   },
   "outputs": [
    {
     "data": {
      "text/plain": [
       "1.0"
      ]
     },
     "execution_count": 85,
     "metadata": {},
     "output_type": "execute_result"
    }
   ],
   "source": [
    "dtc_model.fit(X3_train,y_train)\n",
    "dtc_model.score(X3_train,y_train)"
   ]
  },
  {
   "cell_type": "code",
   "execution_count": 86,
   "metadata": {
    "collapsed": false
   },
   "outputs": [
    {
     "data": {
      "text/plain": [
       "0.097923301444298505"
      ]
     },
     "execution_count": 86,
     "metadata": {},
     "output_type": "execute_result"
    }
   ],
   "source": [
    "cross_val_score(dtc_model, X3_train,y_train).mean()"
   ]
  },
  {
   "cell_type": "code",
   "execution_count": 87,
   "metadata": {
    "collapsed": false
   },
   "outputs": [
    {
     "data": {
      "text/plain": [
       "1.0"
      ]
     },
     "execution_count": 87,
     "metadata": {},
     "output_type": "execute_result"
    }
   ],
   "source": [
    "dtc_model.fit(X4_train,y_train)\n",
    "dtc_model.score(X4_train,y_train)"
   ]
  },
  {
   "cell_type": "code",
   "execution_count": 88,
   "metadata": {
    "collapsed": false
   },
   "outputs": [
    {
     "data": {
      "text/plain": [
       "0.12073821292572358"
      ]
     },
     "execution_count": 88,
     "metadata": {},
     "output_type": "execute_result"
    }
   ],
   "source": [
    "cross_val_score(dtc_model, X4_train,y_train).mean()"
   ]
  },
  {
   "cell_type": "markdown",
   "metadata": {},
   "source": [
    "Hm, alright; it seems like none of them are good; SMILE."
   ]
  },
  {
   "cell_type": "markdown",
   "metadata": {},
   "source": [
    "#### Random Forest"
   ]
  },
  {
   "cell_type": "code",
   "execution_count": 89,
   "metadata": {
    "collapsed": true
   },
   "outputs": [],
   "source": [
    "rfc_model=RandomForestClassifier()"
   ]
  },
  {
   "cell_type": "code",
   "execution_count": 90,
   "metadata": {
    "collapsed": false
   },
   "outputs": [
    {
     "data": {
      "text/plain": [
       "0.98782467532467533"
      ]
     },
     "execution_count": 90,
     "metadata": {},
     "output_type": "execute_result"
    }
   ],
   "source": [
    "rfc_model.fit(X1_train,y_train)\n",
    "rfc_model.score(X1_train,y_train)"
   ]
  },
  {
   "cell_type": "code",
   "execution_count": 91,
   "metadata": {
    "collapsed": false
   },
   "outputs": [
    {
     "data": {
      "text/plain": [
       "0.17845678493085435"
      ]
     },
     "execution_count": 91,
     "metadata": {},
     "output_type": "execute_result"
    }
   ],
   "source": [
    "cross_val_score(rfc_model, X1_train,y_train).mean()"
   ]
  },
  {
   "cell_type": "code",
   "execution_count": 92,
   "metadata": {
    "collapsed": false
   },
   "outputs": [
    {
     "data": {
      "text/plain": [
       "0.97727272727272729"
      ]
     },
     "execution_count": 92,
     "metadata": {},
     "output_type": "execute_result"
    }
   ],
   "source": [
    "rfc_model.fit(X2_train,y_train)\n",
    "rfc_model.score(X2_train,y_train)"
   ]
  },
  {
   "cell_type": "code",
   "execution_count": 93,
   "metadata": {
    "collapsed": false
   },
   "outputs": [
    {
     "data": {
      "text/plain": [
       "0.16160120156259725"
      ]
     },
     "execution_count": 93,
     "metadata": {},
     "output_type": "execute_result"
    }
   ],
   "source": [
    "cross_val_score(rfc_model, X2_train,y_train).mean()"
   ]
  },
  {
   "cell_type": "code",
   "execution_count": 94,
   "metadata": {
    "collapsed": false
   },
   "outputs": [
    {
     "data": {
      "text/plain": [
       "0.9910714285714286"
      ]
     },
     "execution_count": 94,
     "metadata": {},
     "output_type": "execute_result"
    }
   ],
   "source": [
    "rfc_model.fit(X3_train,y_train)\n",
    "rfc_model.score(X3_train,y_train)"
   ]
  },
  {
   "cell_type": "code",
   "execution_count": 95,
   "metadata": {
    "collapsed": false
   },
   "outputs": [
    {
     "data": {
      "text/plain": [
       "0.18142221002943026"
      ]
     },
     "execution_count": 95,
     "metadata": {},
     "output_type": "execute_result"
    }
   ],
   "source": [
    "cross_val_score(rfc_model, X3_train,y_train).mean()"
   ]
  },
  {
   "cell_type": "code",
   "execution_count": 96,
   "metadata": {
    "collapsed": false,
    "scrolled": true
   },
   "outputs": [
    {
     "data": {
      "text/plain": [
       "0.99025974025974028"
      ]
     },
     "execution_count": 96,
     "metadata": {},
     "output_type": "execute_result"
    }
   ],
   "source": [
    "rfc_model.fit(X4_train,y_train)\n",
    "rfc_model.score(X4_train,y_train)"
   ]
  },
  {
   "cell_type": "code",
   "execution_count": 97,
   "metadata": {
    "collapsed": false
   },
   "outputs": [
    {
     "data": {
      "text/plain": [
       "0.19371560093833975"
      ]
     },
     "execution_count": 97,
     "metadata": {},
     "output_type": "execute_result"
    }
   ],
   "source": [
    "cross_val_score(rfc_model, X3_train,y_train).mean()"
   ]
  },
  {
   "cell_type": "markdown",
   "metadata": {},
   "source": [
    "These are incredibly bad ..."
   ]
  },
  {
   "cell_type": "markdown",
   "metadata": {},
   "source": [
    "#### Boosting"
   ]
  },
  {
   "cell_type": "markdown",
   "metadata": {},
   "source": [
    "Boosting (convert weak learners to strong learners) - classifier for classification and regressor for regression"
   ]
  },
  {
   "cell_type": "markdown",
   "metadata": {},
   "source": [
    "##### Ada Boost"
   ]
  },
  {
   "cell_type": "code",
   "execution_count": 98,
   "metadata": {
    "collapsed": false
   },
   "outputs": [
    {
     "data": {
      "text/plain": [
       "0.32790149504006821"
      ]
     },
     "execution_count": 98,
     "metadata": {},
     "output_type": "execute_result"
    }
   ],
   "source": [
    "ada_boost_model = AdaBoostClassifier(n_estimators=10)\n",
    "cross_val_score(ada_boost_model, X1_train,y_train).mean()"
   ]
  },
  {
   "cell_type": "code",
   "execution_count": 99,
   "metadata": {
    "collapsed": false
   },
   "outputs": [
    {
     "data": {
      "text/plain": [
       "0.32491651768809504"
      ]
     },
     "execution_count": 99,
     "metadata": {},
     "output_type": "execute_result"
    }
   ],
   "source": [
    "cross_val_score(ada_boost_model, X2_train,y_train).mean()"
   ]
  },
  {
   "cell_type": "code",
   "execution_count": 100,
   "metadata": {
    "collapsed": false
   },
   "outputs": [
    {
     "data": {
      "text/plain": [
       "0.32790149504006821"
      ]
     },
     "execution_count": 100,
     "metadata": {},
     "output_type": "execute_result"
    }
   ],
   "source": [
    "cross_val_score(ada_boost_model, X3_train,y_train).mean()"
   ]
  },
  {
   "cell_type": "code",
   "execution_count": 101,
   "metadata": {
    "collapsed": false
   },
   "outputs": [
    {
     "data": {
      "text/plain": [
       "0.32790149504006821"
      ]
     },
     "execution_count": 101,
     "metadata": {},
     "output_type": "execute_result"
    }
   ],
   "source": [
    "cross_val_score(ada_boost_model, X4_train,y_train).mean()"
   ]
  },
  {
   "cell_type": "markdown",
   "metadata": {},
   "source": [
    "##### Gradient Boosting"
   ]
  },
  {
   "cell_type": "code",
   "execution_count": 102,
   "metadata": {
    "collapsed": false
   },
   "outputs": [
    {
     "data": {
      "text/plain": [
       "0.032675537259631272"
      ]
     },
     "execution_count": 102,
     "metadata": {},
     "output_type": "execute_result"
    }
   ],
   "source": [
    "gbc_model = GradientBoostingClassifier(n_estimators=10)\n",
    "cross_val_score(gbc_model, X1_train,y_train).mean()"
   ]
  },
  {
   "cell_type": "code",
   "execution_count": 103,
   "metadata": {
    "collapsed": false
   },
   "outputs": [
    {
     "data": {
      "text/plain": [
       "0.03659455994336077"
      ]
     },
     "execution_count": 103,
     "metadata": {},
     "output_type": "execute_result"
    }
   ],
   "source": [
    "cross_val_score(gbc_model, X2_train,y_train).mean()"
   ]
  },
  {
   "cell_type": "code",
   "execution_count": 104,
   "metadata": {
    "collapsed": false
   },
   "outputs": [
    {
     "data": {
      "text/plain": [
       "0.039976072487832255"
      ]
     },
     "execution_count": 104,
     "metadata": {},
     "output_type": "execute_result"
    }
   ],
   "source": [
    "cross_val_score(gbc_model, X3_train,y_train).mean()"
   ]
  },
  {
   "cell_type": "code",
   "execution_count": 105,
   "metadata": {
    "collapsed": false
   },
   "outputs": [
    {
     "data": {
      "text/plain": [
       "0.038422872465164445"
      ]
     },
     "execution_count": 105,
     "metadata": {},
     "output_type": "execute_result"
    }
   ],
   "source": [
    "cross_val_score(gbc_model, X4_train,y_train).mean()"
   ]
  },
  {
   "cell_type": "markdown",
   "metadata": {},
   "source": [
    "Let's try to optimize this poor model"
   ]
  },
  {
   "cell_type": "code",
   "execution_count": 106,
   "metadata": {
    "collapsed": false
   },
   "outputs": [
    {
     "name": "stdout",
     "output_type": "stream",
     "text": [
      "CPU times: user 3 µs, sys: 1e+03 ns, total: 4 µs\n",
      "Wall time: 5.96 µs\n"
     ]
    }
   ],
   "source": [
    "%time\n",
    "scores = []\n",
    "for n in [1, 2, 3, 5, 10, 20, 50, 100, 200, 300]:\n",
    "    for criterion in ['gini', 'entropy']:\n",
    "        start_time = time.time()  # let's time it, to see how long running a forest takes\n",
    "        r_model = RandomForestClassifier(n_estimators=n, criterion=criterion)\n",
    "        accuracy = cross_val_score(r_model, X3_train,y_train).mean()  # out of sample accuracy\n",
    "        duration = time.time() - start_time\n",
    "        scores.append(dict(n_estimators=n, criterion=criterion, accuracy=accuracy, duration=duration))\n",
    "scores = pd.DataFrame(scores)"
   ]
  },
  {
   "cell_type": "code",
   "execution_count": 107,
   "metadata": {
    "collapsed": false
   },
   "outputs": [
    {
     "data": {
      "text/html": [
       "<div>\n",
       "<table border=\"1\" class=\"dataframe\">\n",
       "  <thead>\n",
       "    <tr style=\"text-align: right;\">\n",
       "      <th></th>\n",
       "      <th>accuracy</th>\n",
       "      <th>criterion</th>\n",
       "      <th>duration</th>\n",
       "      <th>n_estimators</th>\n",
       "    </tr>\n",
       "  </thead>\n",
       "  <tbody>\n",
       "    <tr>\n",
       "      <th>0</th>\n",
       "      <td>0.097885</td>\n",
       "      <td>gini</td>\n",
       "      <td>0.177947</td>\n",
       "      <td>1</td>\n",
       "    </tr>\n",
       "    <tr>\n",
       "      <th>1</th>\n",
       "      <td>0.099151</td>\n",
       "      <td>entropy</td>\n",
       "      <td>0.198464</td>\n",
       "      <td>1</td>\n",
       "    </tr>\n",
       "    <tr>\n",
       "      <th>2</th>\n",
       "      <td>0.089219</td>\n",
       "      <td>gini</td>\n",
       "      <td>0.245575</td>\n",
       "      <td>2</td>\n",
       "    </tr>\n",
       "    <tr>\n",
       "      <th>3</th>\n",
       "      <td>0.081067</td>\n",
       "      <td>entropy</td>\n",
       "      <td>0.294882</td>\n",
       "      <td>2</td>\n",
       "    </tr>\n",
       "    <tr>\n",
       "      <th>4</th>\n",
       "      <td>0.102644</td>\n",
       "      <td>gini</td>\n",
       "      <td>0.304281</td>\n",
       "      <td>3</td>\n",
       "    </tr>\n",
       "    <tr>\n",
       "      <th>5</th>\n",
       "      <td>0.116467</td>\n",
       "      <td>entropy</td>\n",
       "      <td>0.395160</td>\n",
       "      <td>3</td>\n",
       "    </tr>\n",
       "    <tr>\n",
       "      <th>6</th>\n",
       "      <td>0.143435</td>\n",
       "      <td>gini</td>\n",
       "      <td>0.448640</td>\n",
       "      <td>5</td>\n",
       "    </tr>\n",
       "    <tr>\n",
       "      <th>7</th>\n",
       "      <td>0.131209</td>\n",
       "      <td>entropy</td>\n",
       "      <td>0.583240</td>\n",
       "      <td>5</td>\n",
       "    </tr>\n",
       "    <tr>\n",
       "      <th>8</th>\n",
       "      <td>0.174122</td>\n",
       "      <td>gini</td>\n",
       "      <td>0.802825</td>\n",
       "      <td>10</td>\n",
       "    </tr>\n",
       "    <tr>\n",
       "      <th>9</th>\n",
       "      <td>0.180291</td>\n",
       "      <td>entropy</td>\n",
       "      <td>1.092281</td>\n",
       "      <td>10</td>\n",
       "    </tr>\n",
       "    <tr>\n",
       "      <th>10</th>\n",
       "      <td>0.203058</td>\n",
       "      <td>gini</td>\n",
       "      <td>1.534638</td>\n",
       "      <td>20</td>\n",
       "    </tr>\n",
       "    <tr>\n",
       "      <th>11</th>\n",
       "      <td>0.207185</td>\n",
       "      <td>entropy</td>\n",
       "      <td>2.096336</td>\n",
       "      <td>20</td>\n",
       "    </tr>\n",
       "    <tr>\n",
       "      <th>12</th>\n",
       "      <td>0.219193</td>\n",
       "      <td>gini</td>\n",
       "      <td>3.664782</td>\n",
       "      <td>50</td>\n",
       "    </tr>\n",
       "    <tr>\n",
       "      <th>13</th>\n",
       "      <td>0.216208</td>\n",
       "      <td>entropy</td>\n",
       "      <td>5.100987</td>\n",
       "      <td>50</td>\n",
       "    </tr>\n",
       "    <tr>\n",
       "      <th>14</th>\n",
       "      <td>0.220379</td>\n",
       "      <td>gini</td>\n",
       "      <td>7.175130</td>\n",
       "      <td>100</td>\n",
       "    </tr>\n",
       "    <tr>\n",
       "      <th>15</th>\n",
       "      <td>0.222686</td>\n",
       "      <td>entropy</td>\n",
       "      <td>10.033515</td>\n",
       "      <td>100</td>\n",
       "    </tr>\n",
       "    <tr>\n",
       "      <th>16</th>\n",
       "      <td>0.226498</td>\n",
       "      <td>gini</td>\n",
       "      <td>14.390691</td>\n",
       "      <td>200</td>\n",
       "    </tr>\n",
       "    <tr>\n",
       "      <th>17</th>\n",
       "      <td>0.228037</td>\n",
       "      <td>entropy</td>\n",
       "      <td>20.077194</td>\n",
       "      <td>200</td>\n",
       "    </tr>\n",
       "    <tr>\n",
       "      <th>18</th>\n",
       "      <td>0.230383</td>\n",
       "      <td>gini</td>\n",
       "      <td>21.747440</td>\n",
       "      <td>300</td>\n",
       "    </tr>\n",
       "    <tr>\n",
       "      <th>19</th>\n",
       "      <td>0.234152</td>\n",
       "      <td>entropy</td>\n",
       "      <td>30.305255</td>\n",
       "      <td>300</td>\n",
       "    </tr>\n",
       "  </tbody>\n",
       "</table>\n",
       "</div>"
      ],
      "text/plain": [
       "    accuracy criterion   duration  n_estimators\n",
       "0   0.097885      gini   0.177947             1\n",
       "1   0.099151   entropy   0.198464             1\n",
       "2   0.089219      gini   0.245575             2\n",
       "3   0.081067   entropy   0.294882             2\n",
       "4   0.102644      gini   0.304281             3\n",
       "5   0.116467   entropy   0.395160             3\n",
       "6   0.143435      gini   0.448640             5\n",
       "7   0.131209   entropy   0.583240             5\n",
       "8   0.174122      gini   0.802825            10\n",
       "9   0.180291   entropy   1.092281            10\n",
       "10  0.203058      gini   1.534638            20\n",
       "11  0.207185   entropy   2.096336            20\n",
       "12  0.219193      gini   3.664782            50\n",
       "13  0.216208   entropy   5.100987            50\n",
       "14  0.220379      gini   7.175130           100\n",
       "15  0.222686   entropy  10.033515           100\n",
       "16  0.226498      gini  14.390691           200\n",
       "17  0.228037   entropy  20.077194           200\n",
       "18  0.230383      gini  21.747440           300\n",
       "19  0.234152   entropy  30.305255           300"
      ]
     },
     "execution_count": 107,
     "metadata": {},
     "output_type": "execute_result"
    }
   ],
   "source": [
    "scores"
   ]
  },
  {
   "cell_type": "code",
   "execution_count": 108,
   "metadata": {
    "collapsed": true
   },
   "outputs": [],
   "source": [
    "models = [\n",
    "    ('Random Forest Classifier',RandomForestClassifier(n_estimators=300))\n",
    "    ,('Gradient Boosting Classifier',GradientBoostingClassifier(n_estimators=300))\n",
    "    ,('Decision Tree Classifier',DecisionTreeClassifier())\n",
    "    ,('Ada Boost Classfier',AdaBoostClassifier())\n",
    "]\n",
    "results = {}\n",
    "for model, clf in models:\n",
    "    score = cross_val_score(clf, X3_train,y_train).mean()\n",
    "    results[model] = score"
   ]
  },
  {
   "cell_type": "code",
   "execution_count": 109,
   "metadata": {
    "collapsed": false
   },
   "outputs": [
    {
     "data": {
      "text/plain": [
       "{'Ada Boost Classfier': 0.32664363340484809,\n",
       " 'Decision Tree Classifier': 0.099645954329742104,\n",
       " 'Gradient Boosting Classifier': 0.039545409266471362,\n",
       " 'Random Forest Classifier': 0.22524051082072394}"
      ]
     },
     "execution_count": 109,
     "metadata": {},
     "output_type": "execute_result"
    }
   ],
   "source": [
    "results"
   ]
  },
  {
   "cell_type": "markdown",
   "metadata": {},
   "source": [
    "### SVM (Support Vector Machine)"
   ]
  },
  {
   "cell_type": "markdown",
   "metadata": {},
   "source": [
    "decision boundary that makes the most sense based on analytic geometry; generalization error = margin (area around line without points) → margin depends only on subset of training data nearest to line → create line with largest margin (maximum margin hyperplane) → convex objective function - take derivative and equal to zero to find max"
   ]
  },
  {
   "cell_type": "code",
   "execution_count": 110,
   "metadata": {
    "collapsed": false
   },
   "outputs": [],
   "source": [
    "from sklearn import svm\n",
    "svm_model = svm.SVC()"
   ]
  },
  {
   "cell_type": "code",
   "execution_count": 111,
   "metadata": {
    "collapsed": false
   },
   "outputs": [
    {
     "data": {
      "text/plain": [
       "0.99675324675324672"
      ]
     },
     "execution_count": 111,
     "metadata": {},
     "output_type": "execute_result"
    }
   ],
   "source": [
    "svm_model.fit(X1_train,y_train)\n",
    "svm_model.score(X1_train,y_train)"
   ]
  },
  {
   "cell_type": "code",
   "execution_count": 112,
   "metadata": {
    "collapsed": false
   },
   "outputs": [
    {
     "data": {
      "text/plain": [
       "0.32790149504006821"
      ]
     },
     "execution_count": 112,
     "metadata": {},
     "output_type": "execute_result"
    }
   ],
   "source": [
    "cross_val_score(svm_model, X1_train,y_train).mean()"
   ]
  },
  {
   "cell_type": "markdown",
   "metadata": {},
   "source": [
    "## Categorical Feature - Genre"
   ]
  },
  {
   "cell_type": "markdown",
   "metadata": {},
   "source": [
    "Alright, the other models failed, let's try to add genre into the mix."
   ]
  },
  {
   "cell_type": "code",
   "execution_count": 113,
   "metadata": {
    "collapsed": false
   },
   "outputs": [
    {
     "name": "stdout",
     "output_type": "stream",
     "text": [
      "<class 'pandas.core.frame.DataFrame'>\n",
      "Int64Index: 1760 entries, 0 to 1759\n",
      "Data columns (total 30 columns):\n",
      "Unnamed: 0              1760 non-null int64\n",
      "song_id                 1760 non-null object\n",
      "play_count_sum          1760 non-null int64\n",
      "user_id_count           1760 non-null int64\n",
      "track_id                1760 non-null object\n",
      "genre_id                1760 non-null object\n",
      "artist_familiarty       1760 non-null float64\n",
      "artist_hotness          1760 non-null float64\n",
      "artist_id               1760 non-null object\n",
      "artist_latitude         1760 non-null float64\n",
      "artist_location         1760 non-null object\n",
      "artist_longitude        1760 non-null float64\n",
      "artist_names            1760 non-null object\n",
      "song_durations          1760 non-null float64\n",
      "song_hotness            1760 non-null float64\n",
      "song_release_years      1760 non-null float64\n",
      "song_titles             1760 non-null object\n",
      "song_bars               1760 non-null object\n",
      "song_beats              1760 non-null object\n",
      "song_keys               1760 non-null int64\n",
      "song_modes              1760 non-null int64\n",
      "song_tatum              1760 non-null object\n",
      "song_tempo              1760 non-null float64\n",
      "song_time_signatures    1760 non-null int64\n",
      "count                   1760 non-null int64\n",
      "beats_number            1760 non-null int64\n",
      "bars_number             1760 non-null int64\n",
      "tatum_number            1760 non-null int64\n",
      "log_play_count_sum      1760 non-null float64\n",
      "log_user_id_count       1760 non-null float64\n",
      "dtypes: float64(10), int64(10), object(10)\n",
      "memory usage: 426.2+ KB\n"
     ]
    }
   ],
   "source": [
    "data.info()"
   ]
  },
  {
   "cell_type": "code",
   "execution_count": 114,
   "metadata": {
    "collapsed": true
   },
   "outputs": [],
   "source": [
    "y, X = dmatrices('song_hotness ~ artist_familiarty + artist_hotness + log_play_count_sum', data=data, return_type='dataframe')"
   ]
  },
  {
   "cell_type": "code",
   "execution_count": 115,
   "metadata": {
    "collapsed": false
   },
   "outputs": [
    {
     "data": {
      "text/plain": [
       "0.3411228619231772"
      ]
     },
     "execution_count": 115,
     "metadata": {},
     "output_type": "execute_result"
    }
   ],
   "source": [
    "lr = LinearRegression()\n",
    "lr.fit(X, y).score(X, y)"
   ]
  },
  {
   "cell_type": "markdown",
   "metadata": {},
   "source": [
    "While it is not great, it is better then what he have gotten so far."
   ]
  },
  {
   "cell_type": "code",
   "execution_count": 116,
   "metadata": {
    "collapsed": true
   },
   "outputs": [],
   "source": [
    "y, X = dmatrices('song_hotness ~ artist_familiarty + artist_hotness + genre_id', data=data, return_type='dataframe')"
   ]
  },
  {
   "cell_type": "code",
   "execution_count": 117,
   "metadata": {
    "collapsed": false
   },
   "outputs": [
    {
     "data": {
      "text/plain": [
       "0.27140121382742377"
      ]
     },
     "execution_count": 117,
     "metadata": {},
     "output_type": "execute_result"
    }
   ],
   "source": [
    "lr = LinearRegression()\n",
    "lr.fit(X, y).score(X, y)"
   ]
  },
  {
   "cell_type": "code",
   "execution_count": 118,
   "metadata": {
    "collapsed": true
   },
   "outputs": [],
   "source": [
    "y, X = dmatrices('song_hotness ~ artist_familiarty + artist_hotness + genre_id + log_play_count_sum', data=data, return_type='dataframe')"
   ]
  },
  {
   "cell_type": "code",
   "execution_count": 119,
   "metadata": {
    "collapsed": false
   },
   "outputs": [
    {
     "data": {
      "text/plain": [
       "0.37142041316000396"
      ]
     },
     "execution_count": 119,
     "metadata": {},
     "output_type": "execute_result"
    }
   ],
   "source": [
    "lr = LinearRegression()\n",
    "lr.fit(X, y).score(X, y)"
   ]
  },
  {
   "cell_type": "markdown",
   "metadata": {},
   "source": [
    "Genre did not really help much, but hello close to 40% ... definitely following a trial and error approach here"
   ]
  },
  {
   "cell_type": "code",
   "execution_count": 120,
   "metadata": {
    "collapsed": false
   },
   "outputs": [
    {
     "name": "stdout",
     "output_type": "stream",
     "text": [
      "0.36\n",
      "0.381\n",
      "-1.15280957644e+20\n",
      "0.275\n",
      "0.305\n",
      "0.454\n",
      "-5.24792905095e+23\n",
      "-2.66153066855e+23\n",
      "0.313\n",
      "0.31\n"
     ]
    }
   ],
   "source": [
    "for k in xrange(10):\n",
    "    X_train, X_test, y_train, y_test = train_test_split(X, y, train_size=.8)\n",
    "    print lr.fit(X_train, y_train).score(X_test, y_test).round(3)"
   ]
  },
  {
   "cell_type": "markdown",
   "metadata": {},
   "source": [
    "I should probably be concerned about the very negative numbers ... "
   ]
  },
  {
   "cell_type": "markdown",
   "metadata": {},
   "source": [
    "New motto:\n",
    "\"I have not failed. I've just found 10,000 ways that won't work.\" Thomas A. Edison"
   ]
  },
  {
   "cell_type": "code",
   "execution_count": 121,
   "metadata": {
    "collapsed": true
   },
   "outputs": [],
   "source": [
    "y, X = dmatrices('song_hotness ~ artist_familiarty + artist_hotness + genre_id + log_play_count_sum + bars_number', data=data, return_type='dataframe')"
   ]
  },
  {
   "cell_type": "code",
   "execution_count": 122,
   "metadata": {
    "collapsed": false
   },
   "outputs": [
    {
     "data": {
      "text/plain": [
       "0.37178314522570199"
      ]
     },
     "execution_count": 122,
     "metadata": {},
     "output_type": "execute_result"
    }
   ],
   "source": [
    "lr = LinearRegression()\n",
    "lr.fit(X, y).score(X, y)"
   ]
  },
  {
   "cell_type": "code",
   "execution_count": 123,
   "metadata": {
    "collapsed": false
   },
   "outputs": [
    {
     "name": "stdout",
     "output_type": "stream",
     "text": [
      "0.375\n",
      "0.31\n",
      "0.404\n",
      "0.37\n",
      "0.397\n",
      "0.343\n",
      "0.372\n",
      "0.376\n",
      "0.359\n",
      "0.37\n"
     ]
    }
   ],
   "source": [
    "for k in xrange(10):\n",
    "    X_train, X_test, y_train, y_test = train_test_split(X, y, train_size=.8)\n",
    "    print lr.fit(X_train, y_train).score(X_test, y_test).round(3)"
   ]
  },
  {
   "cell_type": "code",
   "execution_count": 124,
   "metadata": {
    "collapsed": true
   },
   "outputs": [],
   "source": [
    "y, X = dmatrices('song_hotness ~ artist_familiarty + genre_id + artist_hotness + song_modes + song_time_signatures + log_play_count_sum', data=data, return_type='dataframe')"
   ]
  },
  {
   "cell_type": "code",
   "execution_count": 125,
   "metadata": {
    "collapsed": false
   },
   "outputs": [
    {
     "data": {
      "text/plain": [
       "0.37215371698224342"
      ]
     },
     "execution_count": 125,
     "metadata": {},
     "output_type": "execute_result"
    }
   ],
   "source": [
    "lr = LinearRegression()\n",
    "lr.fit(X, y).score(X, y)"
   ]
  },
  {
   "cell_type": "code",
   "execution_count": 126,
   "metadata": {
    "collapsed": false
   },
   "outputs": [
    {
     "name": "stdout",
     "output_type": "stream",
     "text": [
      "-2.12416644359e+23\n",
      "0.377\n",
      "0.294\n",
      "0.358\n",
      "0.314\n",
      "-4.02997571877e+21\n",
      "0.284\n",
      "0.341\n",
      "0.359\n",
      "0.266\n"
     ]
    }
   ],
   "source": [
    "for k in xrange(10):\n",
    "    X_train, X_test, y_train, y_test = train_test_split(X, y, train_size=.8)\n",
    "    print lr.fit(X_train, y_train).score(X_test, y_test).round(3)"
   ]
  },
  {
   "cell_type": "markdown",
   "metadata": {},
   "source": [
    "I want to cry! There is one 40%"
   ]
  },
  {
   "cell_type": "markdown",
   "metadata": {},
   "source": [
    "Other option to include genre_id\n",
    "\n",
    "```python\n",
    "from sklearn.feature_extraction import DictVectorizer\n",
    "categorical_feature = data[['genre_id']]\n",
    "dv = DictVectorizer()\n",
    "cat_matrix = dv.fit_transform(categorical_features.T.to_dict().values())\n",
    "```"
   ]
  },
  {
   "cell_type": "code",
   "execution_count": 127,
   "metadata": {
    "collapsed": false
   },
   "outputs": [
    {
     "data": {
      "text/html": [
       "<table class=\"simpletable\">\n",
       "<caption>OLS Regression Results</caption>\n",
       "<tr>\n",
       "  <th>Dep. Variable:</th>      <td>song_hotness</td>   <th>  R-squared:         </th> <td>   0.372</td> \n",
       "</tr>\n",
       "<tr>\n",
       "  <th>Model:</th>                   <td>OLS</td>       <th>  Adj. R-squared:    </th> <td>   0.363</td> \n",
       "</tr>\n",
       "<tr>\n",
       "  <th>Method:</th>             <td>Least Squares</td>  <th>  F-statistic:       </th> <td>   42.85</td> \n",
       "</tr>\n",
       "<tr>\n",
       "  <th>Date:</th>             <td>Mon, 30 May 2016</td> <th>  Prob (F-statistic):</th> <td>4.76e-156</td>\n",
       "</tr>\n",
       "<tr>\n",
       "  <th>Time:</th>                 <td>14:57:31</td>     <th>  Log-Likelihood:    </th> <td>  1343.9</td> \n",
       "</tr>\n",
       "<tr>\n",
       "  <th>No. Observations:</th>      <td>  1760</td>      <th>  AIC:               </th> <td>  -2638.</td> \n",
       "</tr>\n",
       "<tr>\n",
       "  <th>Df Residuals:</th>          <td>  1735</td>      <th>  BIC:               </th> <td>  -2501.</td> \n",
       "</tr>\n",
       "<tr>\n",
       "  <th>Df Model:</th>              <td>    24</td>      <th>                     </th>     <td> </td>    \n",
       "</tr>\n",
       "<tr>\n",
       "  <th>Covariance Type:</th>      <td>nonrobust</td>    <th>                     </th>     <td> </td>    \n",
       "</tr>\n",
       "</table>\n",
       "<table class=\"simpletable\">\n",
       "<tr>\n",
       "               <td></td>                 <th>coef</th>     <th>std err</th>      <th>t</th>      <th>P>|t|</th> <th>[95.0% Conf. Int.]</th> \n",
       "</tr>\n",
       "<tr>\n",
       "  <th>Intercept</th>                  <td>    0.2397</td> <td>    0.115</td> <td>    2.092</td> <td> 0.037</td> <td>    0.015     0.464</td>\n",
       "</tr>\n",
       "<tr>\n",
       "  <th>genre_id[T.Blues]</th>          <td>   -0.0322</td> <td>    0.115</td> <td>   -0.280</td> <td> 0.780</td> <td>   -0.258     0.194</td>\n",
       "</tr>\n",
       "<tr>\n",
       "  <th>genre_id[T.Children]</th>       <td>   -0.0722</td> <td>    0.123</td> <td>   -0.587</td> <td> 0.557</td> <td>   -0.313     0.169</td>\n",
       "</tr>\n",
       "<tr>\n",
       "  <th>genre_id[T.Classical]</th>      <td>   -0.1045</td> <td>    0.139</td> <td>   -0.751</td> <td> 0.453</td> <td>   -0.378     0.168</td>\n",
       "</tr>\n",
       "<tr>\n",
       "  <th>genre_id[T.Comedy_Spoken]</th>  <td>   -0.0365</td> <td>    0.117</td> <td>   -0.312</td> <td> 0.755</td> <td>   -0.266     0.193</td>\n",
       "</tr>\n",
       "<tr>\n",
       "  <th>genre_id[T.Country]</th>        <td>   -0.0502</td> <td>    0.115</td> <td>   -0.438</td> <td> 0.662</td> <td>   -0.275     0.175</td>\n",
       "</tr>\n",
       "<tr>\n",
       "  <th>genre_id[T.Easy_Listening]</th> <td>   -0.1135</td> <td>    0.131</td> <td>   -0.864</td> <td> 0.387</td> <td>   -0.371     0.144</td>\n",
       "</tr>\n",
       "<tr>\n",
       "  <th>genre_id[T.Electronic]</th>     <td>    0.0015</td> <td>    0.114</td> <td>    0.013</td> <td> 0.990</td> <td>   -0.223     0.226</td>\n",
       "</tr>\n",
       "<tr>\n",
       "  <th>genre_id[T.Folk]</th>           <td>   -0.0152</td> <td>    0.118</td> <td>   -0.129</td> <td> 0.898</td> <td>   -0.246     0.216</td>\n",
       "</tr>\n",
       "<tr>\n",
       "  <th>genre_id[T.International]</th>  <td>   -0.0217</td> <td>    0.115</td> <td>   -0.189</td> <td> 0.851</td> <td>   -0.247     0.204</td>\n",
       "</tr>\n",
       "<tr>\n",
       "  <th>genre_id[T.Jazz]</th>           <td>   -0.0100</td> <td>    0.115</td> <td>   -0.087</td> <td> 0.931</td> <td>   -0.235     0.215</td>\n",
       "</tr>\n",
       "<tr>\n",
       "  <th>genre_id[T.Latin]</th>          <td>   -0.0592</td> <td>    0.114</td> <td>   -0.517</td> <td> 0.605</td> <td>   -0.283     0.165</td>\n",
       "</tr>\n",
       "<tr>\n",
       "  <th>genre_id[T.New Age]</th>        <td>   -0.0754</td> <td>    0.116</td> <td>   -0.649</td> <td> 0.517</td> <td>   -0.303     0.153</td>\n",
       "</tr>\n",
       "<tr>\n",
       "  <th>genre_id[T.Pop_Rock]</th>       <td>    0.0043</td> <td>    0.114</td> <td>    0.038</td> <td> 0.970</td> <td>   -0.219     0.228</td>\n",
       "</tr>\n",
       "<tr>\n",
       "  <th>genre_id[T.Rap]</th>            <td>   -0.0324</td> <td>    0.114</td> <td>   -0.283</td> <td> 0.777</td> <td>   -0.257     0.192</td>\n",
       "</tr>\n",
       "<tr>\n",
       "  <th>genre_id[T.Reggae]</th>         <td>   -0.0557</td> <td>    0.115</td> <td>   -0.484</td> <td> 0.629</td> <td>   -0.281     0.170</td>\n",
       "</tr>\n",
       "<tr>\n",
       "  <th>genre_id[T.Religious]</th>      <td>   -0.0648</td> <td>    0.115</td> <td>   -0.566</td> <td> 0.571</td> <td>   -0.289     0.160</td>\n",
       "</tr>\n",
       "<tr>\n",
       "  <th>genre_id[T.RnB]</th>            <td>   -0.0224</td> <td>    0.115</td> <td>   -0.194</td> <td> 0.846</td> <td>   -0.248     0.203</td>\n",
       "</tr>\n",
       "<tr>\n",
       "  <th>genre_id[T.Stage ]</th>         <td>   -0.0655</td> <td>    0.120</td> <td>   -0.546</td> <td> 0.585</td> <td>   -0.301     0.170</td>\n",
       "</tr>\n",
       "<tr>\n",
       "  <th>genre_id[T.Vocal]</th>          <td>   -0.0307</td> <td>    0.123</td> <td>   -0.249</td> <td> 0.803</td> <td>   -0.272     0.211</td>\n",
       "</tr>\n",
       "<tr>\n",
       "  <th>artist_familiarty</th>          <td>    0.2174</td> <td>    0.037</td> <td>    5.915</td> <td> 0.000</td> <td>    0.145     0.289</td>\n",
       "</tr>\n",
       "<tr>\n",
       "  <th>artist_hotness</th>             <td>    0.0756</td> <td>    0.041</td> <td>    1.836</td> <td> 0.067</td> <td>   -0.005     0.156</td>\n",
       "</tr>\n",
       "<tr>\n",
       "  <th>song_modes</th>                 <td>    0.0069</td> <td>    0.006</td> <td>    1.169</td> <td> 0.243</td> <td>   -0.005     0.018</td>\n",
       "</tr>\n",
       "<tr>\n",
       "  <th>song_time_signatures</th>       <td>    0.0020</td> <td>    0.002</td> <td>    0.852</td> <td> 0.394</td> <td>   -0.003     0.007</td>\n",
       "</tr>\n",
       "<tr>\n",
       "  <th>log_play_count_sum</th>         <td>    0.0248</td> <td>    0.001</td> <td>   16.583</td> <td> 0.000</td> <td>    0.022     0.028</td>\n",
       "</tr>\n",
       "</table>\n",
       "<table class=\"simpletable\">\n",
       "<tr>\n",
       "  <th>Omnibus:</th>       <td>30.154</td> <th>  Durbin-Watson:     </th> <td>   2.096</td>\n",
       "</tr>\n",
       "<tr>\n",
       "  <th>Prob(Omnibus):</th> <td> 0.000</td> <th>  Jarque-Bera (JB):  </th> <td>  31.259</td>\n",
       "</tr>\n",
       "<tr>\n",
       "  <th>Skew:</th>          <td>-0.321</td> <th>  Prob(JB):          </th> <td>1.63e-07</td>\n",
       "</tr>\n",
       "<tr>\n",
       "  <th>Kurtosis:</th>      <td> 3.117</td> <th>  Cond. No.          </th> <td>1.09e+03</td>\n",
       "</tr>\n",
       "</table>"
      ],
      "text/plain": [
       "<class 'statsmodels.iolib.summary.Summary'>\n",
       "\"\"\"\n",
       "                            OLS Regression Results                            \n",
       "==============================================================================\n",
       "Dep. Variable:           song_hotness   R-squared:                       0.372\n",
       "Model:                            OLS   Adj. R-squared:                  0.363\n",
       "Method:                 Least Squares   F-statistic:                     42.85\n",
       "Date:                Mon, 30 May 2016   Prob (F-statistic):          4.76e-156\n",
       "Time:                        14:57:31   Log-Likelihood:                 1343.9\n",
       "No. Observations:                1760   AIC:                            -2638.\n",
       "Df Residuals:                    1735   BIC:                            -2501.\n",
       "Df Model:                          24                                         \n",
       "Covariance Type:            nonrobust                                         \n",
       "==============================================================================================\n",
       "                                 coef    std err          t      P>|t|      [95.0% Conf. Int.]\n",
       "----------------------------------------------------------------------------------------------\n",
       "Intercept                      0.2397      0.115      2.092      0.037         0.015     0.464\n",
       "genre_id[T.Blues]             -0.0322      0.115     -0.280      0.780        -0.258     0.194\n",
       "genre_id[T.Children]          -0.0722      0.123     -0.587      0.557        -0.313     0.169\n",
       "genre_id[T.Classical]         -0.1045      0.139     -0.751      0.453        -0.378     0.168\n",
       "genre_id[T.Comedy_Spoken]     -0.0365      0.117     -0.312      0.755        -0.266     0.193\n",
       "genre_id[T.Country]           -0.0502      0.115     -0.438      0.662        -0.275     0.175\n",
       "genre_id[T.Easy_Listening]    -0.1135      0.131     -0.864      0.387        -0.371     0.144\n",
       "genre_id[T.Electronic]         0.0015      0.114      0.013      0.990        -0.223     0.226\n",
       "genre_id[T.Folk]              -0.0152      0.118     -0.129      0.898        -0.246     0.216\n",
       "genre_id[T.International]     -0.0217      0.115     -0.189      0.851        -0.247     0.204\n",
       "genre_id[T.Jazz]              -0.0100      0.115     -0.087      0.931        -0.235     0.215\n",
       "genre_id[T.Latin]             -0.0592      0.114     -0.517      0.605        -0.283     0.165\n",
       "genre_id[T.New Age]           -0.0754      0.116     -0.649      0.517        -0.303     0.153\n",
       "genre_id[T.Pop_Rock]           0.0043      0.114      0.038      0.970        -0.219     0.228\n",
       "genre_id[T.Rap]               -0.0324      0.114     -0.283      0.777        -0.257     0.192\n",
       "genre_id[T.Reggae]            -0.0557      0.115     -0.484      0.629        -0.281     0.170\n",
       "genre_id[T.Religious]         -0.0648      0.115     -0.566      0.571        -0.289     0.160\n",
       "genre_id[T.RnB]               -0.0224      0.115     -0.194      0.846        -0.248     0.203\n",
       "genre_id[T.Stage ]            -0.0655      0.120     -0.546      0.585        -0.301     0.170\n",
       "genre_id[T.Vocal]             -0.0307      0.123     -0.249      0.803        -0.272     0.211\n",
       "artist_familiarty              0.2174      0.037      5.915      0.000         0.145     0.289\n",
       "artist_hotness                 0.0756      0.041      1.836      0.067        -0.005     0.156\n",
       "song_modes                     0.0069      0.006      1.169      0.243        -0.005     0.018\n",
       "song_time_signatures           0.0020      0.002      0.852      0.394        -0.003     0.007\n",
       "log_play_count_sum             0.0248      0.001     16.583      0.000         0.022     0.028\n",
       "==============================================================================\n",
       "Omnibus:                       30.154   Durbin-Watson:                   2.096\n",
       "Prob(Omnibus):                  0.000   Jarque-Bera (JB):               31.259\n",
       "Skew:                          -0.321   Prob(JB):                     1.63e-07\n",
       "Kurtosis:                       3.117   Cond. No.                     1.09e+03\n",
       "==============================================================================\n",
       "\n",
       "Warnings:\n",
       "[1] Standard Errors assume that the covariance matrix of the errors is correctly specified.\n",
       "[2] The condition number is large, 1.09e+03. This might indicate that there are\n",
       "strong multicollinearity or other numerical problems.\n",
       "\"\"\""
      ]
     },
     "execution_count": 127,
     "metadata": {},
     "output_type": "execute_result"
    }
   ],
   "source": [
    "model = sm.ols(formula=\"song_hotness ~ artist_familiarty + genre_id + artist_hotness + song_modes + song_time_signatures + log_play_count_sum\", data=data).fit()\n",
    "model.summary()"
   ]
  },
  {
   "cell_type": "markdown",
   "metadata": {},
   "source": [
    "I did some research to see, what the average R-squared is for predicting music taste. I found that mood is a very good predictor; would have needed the k-means on the lyrics for that - damn you expired Echonest API!\n",
    "\n",
    "https://books.google.com/books?id=_zc3vKDLUNIC&pg=PA157&lpg=PA157&dq=R-squared+for+predicting+music&source=bl&ots=dUoTzH54JJ&sig=N01LAbXRoaAP4Bwp9_Kyr-UE6rA&hl=en&sa=X&ved=0ahUKEwj99N6E8YDNAhWCox4KHdmxBIwQ6AEIPjAE#v=onepage&q=R-squared%20for%20predicting%20music&f=false"
   ]
  },
  {
   "cell_type": "markdown",
   "metadata": {},
   "source": [
    "Let's use some seaborn, just because we can. Generally, when you are lost, use some seaborn ... "
   ]
  },
  {
   "cell_type": "code",
   "execution_count": 128,
   "metadata": {
    "collapsed": false
   },
   "outputs": [
    {
     "data": {
      "image/png": "[encoded data removed]",
      "text/plain": [
       "<matplotlib.figure.Figure at 0x10f1cae50>"
      ]
     },
     "metadata": {},
     "output_type": "display_data"
    }
   ],
   "source": [
    "f = sb.lmplot(x = 'song_hotness', y='artist_familiarty', data=data, ci=95)\n",
    "f = plt.title(\"song_hotness vs artist_familiarty\")"
   ]
  },
  {
   "cell_type": "code",
   "execution_count": 129,
   "metadata": {
    "collapsed": false
   },
   "outputs": [
    {
     "data": {
      "image/png": "[encoded data removed]",
      "text/plain": [
       "<matplotlib.figure.Figure at 0x10f176c10>"
      ]
     },
     "metadata": {},
     "output_type": "display_data"
    }
   ],
   "source": [
    "f = sb.lmplot(x = 'song_hotness', y='artist_hotness', data=data, ci=95)\n",
    "f = plt.title(\"song_hotness vs artist_familiarty\")"
   ]
  },
  {
   "cell_type": "code",
   "execution_count": 130,
   "metadata": {
    "collapsed": false
   },
   "outputs": [
    {
     "data": {
      "image/png": "[encoded data removed]",
      "text/plain": [
       "<matplotlib.figure.Figure at 0x143a89190>"
      ]
     },
     "metadata": {},
     "output_type": "display_data"
    }
   ],
   "source": [
    "f = sb.lmplot(x = 'song_hotness', y='artist_hotness', col='genre_id', data=data)"
   ]
  },
  {
   "cell_type": "markdown",
   "metadata": {},
   "source": [
    "might be my favorite graph! (*wink)"
   ]
  },
  {
   "cell_type": "markdown",
   "metadata": {},
   "source": [
    "### Regularization"
   ]
  },
  {
   "cell_type": "markdown",
   "metadata": {},
   "source": [
    "The moment has come ... reguralization"
   ]
  },
  {
   "cell_type": "code",
   "execution_count": 131,
   "metadata": {
    "collapsed": true
   },
   "outputs": [],
   "source": [
    "degree = 4\n",
    "modelchen = make_pipeline(StandardScaler(), PolynomialFeatures(degree), LinearRegression()).fit(X, y)"
   ]
  },
  {
   "cell_type": "code",
   "execution_count": 132,
   "metadata": {
    "collapsed": false
   },
   "outputs": [
    {
     "data": {
      "text/plain": [
       "0.59188447765175156"
      ]
     },
     "execution_count": 132,
     "metadata": {},
     "output_type": "execute_result"
    }
   ],
   "source": [
    "modelchen.score(X, y)"
   ]
  },
  {
   "cell_type": "markdown",
   "metadata": {},
   "source": [
    "\"modelchen\" is a sweeter version of model in German"
   ]
  },
  {
   "cell_type": "code",
   "execution_count": null,
   "metadata": {
    "collapsed": false
   },
   "outputs": [],
   "source": [
    "for degree in [1, 2, 3, 4, 5]:\n",
    "    model = make_pipeline(StandardScaler(), PolynomialFeatures(degree), LinearRegression())\n",
    "    # Compute a few R2 scores and print average performance\n",
    "    scores = []\n",
    "    for _ in xrange(15):\n",
    "        X_train, X_test, y_train, y_test = train_test_split(X, y, train_size=.7)\n",
    "        scores.append(model.fit(X_train, y_train).score(X_test, y_test))\n",
    "    print \"For degree\", degree, \", R2 =\", np.mean(scores)"
   ]
  },
  {
   "cell_type": "markdown",
   "metadata": {},
   "source": [
    "\"You'll need regularization when your model is complex, which happens when you have little data or many features.\"\n",
    "- little data: CHECK\n",
    "- many features: CHECK  \n",
    "conclusion: complex model, we need regularization  \n",
    "At least no worrying about overfitting. "
   ]
  },
  {
   "cell_type": "code",
   "execution_count": null,
   "metadata": {
    "collapsed": false
   },
   "outputs": [],
   "source": [
    "degree =5\n",
    "for alpha in [0.1, 0.2, 0.3, 0.4, 0.5, 0.7, 1,4,5,6]:\n",
    "    for no, my_model in enumerate([LinearRegression(), Ridge(alpha=alpha), Lasso(alpha=alpha)]):\n",
    "        model = make_pipeline(PolynomialFeatures(degree), my_model)    \n",
    "        r2, MSE = [], []\n",
    "        for k in xrange(100):  # Fit a few times the model to different training sets\n",
    "            X_train, X_test, y_train, y_test = train_test_split(X, y, train_size=.7)\n",
    "            r2.append(model.fit(X_train, y_train).score(X_test, y_test))\n",
    "            MSE.append(np.square(y_pred_sample - y_small_sample).sum())"
   ]
  },
  {
   "cell_type": "markdown",
   "metadata": {},
   "source": [
    "##### Lasso"
   ]
  },
  {
   "cell_type": "markdown",
   "metadata": {},
   "source": [
    "Lasso regression imposes an L1 prior on the coefficient, causing many coeffiecients to be zero."
   ]
  },
  {
   "cell_type": "code",
   "execution_count": null,
   "metadata": {
    "collapsed": false
   },
   "outputs": [],
   "source": [
    "for alpha in [0.1, 0.2, 0.3, 0.4, 0.5, 0.7, 1,4,5,6]:\n",
    "    model = Lasso(alpha=alpha)\n",
    "    scores = []\n",
    "    for _ in xrange(15):\n",
    "        X_train, X_test, y_train, y_test = train_test_split(X, y, train_size=.7)\n",
    "        scores.append(model.fit(X_train, y_train).score(X_test, y_test))\n",
    "    print \"For alpha\", alpha, \", R2 =\", np.mean(scores)"
   ]
  },
  {
   "cell_type": "code",
   "execution_count": null,
   "metadata": {
    "collapsed": true
   },
   "outputs": [],
   "source": [
    "lasso = Lasso (alpha = 6)"
   ]
  },
  {
   "cell_type": "code",
   "execution_count": null,
   "metadata": {
    "collapsed": false
   },
   "outputs": [],
   "source": [
    "print -cross_val_score(lasso, X, y, cv=10, scoring=\"mean_absolute_error\").mean()\n",
    "print -np.median(cross_val_score(lasso, X, y, cv=10, scoring=\"median_absolute_error\"))"
   ]
  },
  {
   "cell_type": "markdown",
   "metadata": {},
   "source": [
    "##### RIdge"
   ]
  },
  {
   "cell_type": "markdown",
   "metadata": {},
   "source": [
    "Ridge regression imposes an L2 prior on the coefficient, causing outliers to be less likely, and coeffiecients to be small across the board."
   ]
  },
  {
   "cell_type": "code",
   "execution_count": null,
   "metadata": {
    "collapsed": false
   },
   "outputs": [],
   "source": [
    "for alpha in [0.1, 0.2, 0.3, 0.4, 0.5, 0.7, 1,4,5,6,7,8,9,10]:\n",
    "    model = Ridge(alpha=alpha)\n",
    "    scores = []\n",
    "    for _ in xrange(15):\n",
    "        X_train, X_test, y_train, y_test = train_test_split(X, y, train_size=.7)\n",
    "        scores.append(model.fit(X_train, y_train).score(X_test, y_test))\n",
    "    print \"For alpha\", alpha, \", R2 =\", np.mean(scores)"
   ]
  },
  {
   "cell_type": "code",
   "execution_count": null,
   "metadata": {
    "collapsed": true
   },
   "outputs": [],
   "source": [
    "ridge = Ridge (alpha= 0.5)"
   ]
  },
  {
   "cell_type": "code",
   "execution_count": null,
   "metadata": {
    "collapsed": false
   },
   "outputs": [],
   "source": [
    "print -cross_val_score(ridge, X, y, cv=10, scoring=\"mean_absolute_error\").mean()\n",
    "print -np.median(cross_val_score(ridge, X, y, cv=10, scoring=\"median_absolute_error\"))"
   ]
  },
  {
   "cell_type": "markdown",
   "metadata": {},
   "source": [
    "## k-means clustering"
   ]
  },
  {
   "cell_type": "markdown",
   "metadata": {},
   "source": [
    "Maybe we use the k-means clustering unsupervised machine learning model to create additional features?"
   ]
  },
  {
   "cell_type": "code",
   "execution_count": null,
   "metadata": {
    "collapsed": true
   },
   "outputs": [],
   "source": [
    "from sklearn.feature_extraction import DictVectorizer\n",
    "\n",
    "categorical_features = data[['genre_id']]\n",
    "dv = DictVectorizer()\n",
    "cat_matrix = dv.fit_transform(categorical_features.T.to_dict().values())"
   ]
  },
  {
   "cell_type": "code",
   "execution_count": null,
   "metadata": {
    "collapsed": false
   },
   "outputs": [],
   "source": [
    "categorical_features.head()"
   ]
  },
  {
   "cell_type": "code",
   "execution_count": null,
   "metadata": {
    "collapsed": false
   },
   "outputs": [],
   "source": [
    "data.info()"
   ]
  },
  {
   "cell_type": "code",
   "execution_count": null,
   "metadata": {
    "collapsed": false
   },
   "outputs": [],
   "source": [
    "from scipy.sparse import hstack\n",
    "other_features = data[['artist_familiarty','artist_hotness','song_modes','song_time_signatures','log_play_count_sum',\\\n",
    "                       'song_durations','song_tempo','beats_number','song_release_years']]"
   ]
  },
  {
   "cell_type": "code",
   "execution_count": null,
   "metadata": {
    "collapsed": false
   },
   "outputs": [],
   "source": [
    "other_features.head()"
   ]
  },
  {
   "cell_type": "code",
   "execution_count": null,
   "metadata": {
    "collapsed": false
   },
   "outputs": [],
   "source": [
    "data_matrix = hstack([cat_matrix, other_features])\n",
    "data_matrix"
   ]
  },
  {
   "cell_type": "code",
   "execution_count": null,
   "metadata": {
    "collapsed": true
   },
   "outputs": [],
   "source": [
    "from sklearn.preprocessing import scale\n",
    "\n",
    "data_matrix = scale(data_matrix.todense())"
   ]
  },
  {
   "cell_type": "code",
   "execution_count": null,
   "metadata": {
    "collapsed": false
   },
   "outputs": [],
   "source": [
    "from sklearn.cluster import KMeans\n",
    "\n",
    "clustering_model = KMeans(n_clusters = 25)\n",
    "clustering_model.fit(data_matrix)\n",
    "\n",
    "clusters = clustering_model.predict(data_matrix)\n",
    "\n",
    "clusters"
   ]
  },
  {
   "cell_type": "code",
   "execution_count": null,
   "metadata": {
    "collapsed": false
   },
   "outputs": [],
   "source": [
    "pd.Series(clusters).value_counts()"
   ]
  },
  {
   "cell_type": "code",
   "execution_count": null,
   "metadata": {
    "collapsed": false
   },
   "outputs": [],
   "source": [
    "data['genre_id'].value_counts()"
   ]
  },
  {
   "cell_type": "code",
   "execution_count": null,
   "metadata": {
    "collapsed": true
   },
   "outputs": [],
   "source": [
    "results = pd.DataFrame({ 'cluster' : clusters, 'genre_id' : data['genre_id']})\n",
    "cluster_counts = results.groupby('cluster')['genre_id'].value_counts()"
   ]
  },
  {
   "cell_type": "code",
   "execution_count": null,
   "metadata": {
    "collapsed": false
   },
   "outputs": [],
   "source": [
    "results"
   ]
  },
  {
   "cell_type": "code",
   "execution_count": null,
   "metadata": {
    "collapsed": false
   },
   "outputs": [],
   "source": [
    "cluster_counts"
   ]
  },
  {
   "cell_type": "code",
   "execution_count": null,
   "metadata": {
    "collapsed": false
   },
   "outputs": [],
   "source": [
    "for i in xrange(len(cluster_counts)):\n",
    "    print \"Cluster \" ,i\n",
    "    print cluster_counts[i]\n",
    "    print"
   ]
  },
  {
   "cell_type": "markdown",
   "metadata": {},
   "source": [
    "Let's accept, we should just use the unsupervised learning models."
   ]
  }
 ],
 "metadata": {
  "kernelspec": {
   "display_name": "Python 2",
   "language": "python",
   "name": "python2"
  },
  "language_info": {
   "codemirror_mode": {
    "name": "ipython",
    "version": 2
   },
   "file_extension": ".py",
   "mimetype": "text/x-python",
   "name": "python",
   "nbconvert_exporter": "python",
   "pygments_lexer": "ipython2",
   "version": "2.7.11"
  }
 },
 "nbformat": 4,
 "nbformat_minor": 0
}
