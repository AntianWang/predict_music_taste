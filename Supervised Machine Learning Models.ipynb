{
 "cells": [
  {
   "cell_type": "markdown",
   "metadata": {},
   "source": [
    "# Supervised MACHINE LEARNING MODELS - predict song hotness"
   ]
  },
  {
   "cell_type": "markdown",
   "metadata": {},
   "source": [
    "Modules:"
   ]
  },
  {
   "cell_type": "code",
   "execution_count": 1,
   "metadata": {
    "collapsed": true
   },
   "outputs": [],
   "source": [
    "import numpy as np\n",
    "import pandas as pd\n",
    "import matplotlib.pyplot as plt\n",
    "%matplotlib inline\n",
    "import vincent as vin\n",
    "import seaborn as sb\n",
    "\n",
    "import time"
   ]
  },
  {
   "cell_type": "markdown",
   "metadata": {},
   "source": [
    "Machine Learning Modules: "
   ]
  },
  {
   "cell_type": "code",
   "execution_count": 2,
   "metadata": {
    "collapsed": false
   },
   "outputs": [],
   "source": [
    "#import models first:\n",
    "from sklearn.linear_model import LinearRegression, LogisticRegression, Ridge, Lasso, RidgeCV #all of the regression models\n",
    "from sklearn.neighbors import KNeighborsClassifier #knn model\n",
    "from sklearn.tree import DecisionTreeClassifier #single tree model \n",
    "from sklearn.ensemble import RandomForestClassifier #random forest model\n",
    "from sklearn.ensemble import AdaBoostClassifier, GradientBoostingClassifier #all of the boosters\n",
    "from sklearn.svm import SVC #Support Vector Machine Model \n",
    "\n",
    "#some additional models if needed:\n",
    "from sklearn.preprocessing import PolynomialFeatures, StandardScaler\n",
    "from sklearn.pipeline import make_pipeline #if we want to make a pipeline for several models\n",
    "from sklearn.feature_extraction.text import TfidfVectorizer #in case we will need it for text processing\n",
    "\n",
    "#cross validation: \n",
    "from sklearn.cross_validation import cross_val_score, train_test_split \n",
    "from sklearn.metrics import mean_absolute_error, mean_squared_error\n",
    "#we need these modules to split the dataset into training set and test set\n",
    "#and to calculate the cross validation score\n",
    "\n",
    "#for categorial features\n",
    "from patsy import dmatrices \n",
    "import statsmodels.formula.api as sm\n",
    "\n",
    "#to select features\n",
    "from sklearn.feature_selection import RFE\n",
    "from sklearn.ensemble import ExtraTreesClassifier"
   ]
  },
  {
   "cell_type": "markdown",
   "metadata": {},
   "source": [
    "## data "
   ]
  },
  {
   "cell_type": "markdown",
   "metadata": {},
   "source": [
    "Upload data:"
   ]
  },
  {
   "cell_type": "code",
   "execution_count": 3,
   "metadata": {
    "collapsed": false
   },
   "outputs": [
    {
     "data": {
      "text/plain": [
       "1760"
      ]
     },
     "execution_count": 3,
     "metadata": {},
     "output_type": "execute_result"
    }
   ],
   "source": [
    "data=pd.read_csv('clean_data.csv',sep=',')\n",
    "len(data)"
   ]
  },
  {
   "cell_type": "markdown",
   "metadata": {},
   "source": [
    "We need to split the data into at least training and test set - preferably also cross-validation set, but let's see, if it's big enough."
   ]
  },
  {
   "cell_type": "code",
   "execution_count": 6,
   "metadata": {
    "collapsed": false
   },
   "outputs": [
    {
     "name": "stdout",
     "output_type": "stream",
     "text": [
      "(1760, 30)\n"
     ]
    }
   ],
   "source": [
    "print(data.shape)"
   ]
  },
  {
   "cell_type": "code",
   "execution_count": 5,
   "metadata": {
    "collapsed": false
   },
   "outputs": [
    {
     "data": {
      "text/html": [
       "<div>\n",
       "<table border=\"1\" class=\"dataframe\">\n",
       "  <thead>\n",
       "    <tr style=\"text-align: right;\">\n",
       "      <th></th>\n",
       "      <th>Unnamed: 0</th>\n",
       "      <th>song_id</th>\n",
       "      <th>play_count_sum</th>\n",
       "      <th>user_id_count</th>\n",
       "      <th>track_id</th>\n",
       "      <th>genre_id</th>\n",
       "      <th>artist_familiarty</th>\n",
       "      <th>artist_hotness</th>\n",
       "      <th>artist_id</th>\n",
       "      <th>artist_latitude</th>\n",
       "      <th>...</th>\n",
       "      <th>song_modes</th>\n",
       "      <th>song_tatum</th>\n",
       "      <th>song_tempo</th>\n",
       "      <th>song_time_signatures</th>\n",
       "      <th>count</th>\n",
       "      <th>beats_number</th>\n",
       "      <th>bars_number</th>\n",
       "      <th>tatum_number</th>\n",
       "      <th>log_play_count_sum</th>\n",
       "      <th>log_user_id_count</th>\n",
       "    </tr>\n",
       "  </thead>\n",
       "  <tbody>\n",
       "    <tr>\n",
       "      <th>0</th>\n",
       "      <td>0</td>\n",
       "      <td>SOAAEHR12A6D4FB060</td>\n",
       "      <td>957</td>\n",
       "      <td>554</td>\n",
       "      <td>TRAYPFH128E07937C3</td>\n",
       "      <td>Pop_Rock</td>\n",
       "      <td>0.806359</td>\n",
       "      <td>0.545789</td>\n",
       "      <td>AR5N8VN1187FB37A4E</td>\n",
       "      <td>47.60356</td>\n",
       "      <td>...</td>\n",
       "      <td>1</td>\n",
       "      <td>[  1.56890000e-01   3.88730000e-01   6.2056000...</td>\n",
       "      <td>131.272</td>\n",
       "      <td>4</td>\n",
       "      <td>1</td>\n",
       "      <td>15715</td>\n",
       "      <td>2532</td>\n",
       "      <td>109</td>\n",
       "      <td>6.863803</td>\n",
       "      <td>6.317165</td>\n",
       "    </tr>\n",
       "    <tr>\n",
       "      <th>1</th>\n",
       "      <td>1</td>\n",
       "      <td>SOAAFUV12AB018831D</td>\n",
       "      <td>10</td>\n",
       "      <td>6</td>\n",
       "      <td>TRAMPCN12903CC4E5B</td>\n",
       "      <td>Reggae</td>\n",
       "      <td>0.623502</td>\n",
       "      <td>0.422380</td>\n",
       "      <td>AR5ZGC11187FB417A3</td>\n",
       "      <td>37.27188</td>\n",
       "      <td>...</td>\n",
       "      <td>1</td>\n",
       "      <td>[   0.24835    0.48462    0.72088 ...,  213.08...</td>\n",
       "      <td>149.169</td>\n",
       "      <td>4</td>\n",
       "      <td>1</td>\n",
       "      <td>5912</td>\n",
       "      <td>1474</td>\n",
       "      <td>72</td>\n",
       "      <td>2.302585</td>\n",
       "      <td>1.791759</td>\n",
       "    </tr>\n",
       "    <tr>\n",
       "      <th>2</th>\n",
       "      <td>2</td>\n",
       "      <td>SOABLAF12AB018E1D9</td>\n",
       "      <td>1980</td>\n",
       "      <td>748</td>\n",
       "      <td>TRABUMO12903CBE25F</td>\n",
       "      <td>Pop_Rock</td>\n",
       "      <td>0.796337</td>\n",
       "      <td>0.582922</td>\n",
       "      <td>ARSW5F51187FB4CFC9</td>\n",
       "      <td>0.00000</td>\n",
       "      <td>...</td>\n",
       "      <td>0</td>\n",
       "      <td>[  8.94000000e-02   3.69200000e-01   6.4900000...</td>\n",
       "      <td>107.845</td>\n",
       "      <td>4</td>\n",
       "      <td>1</td>\n",
       "      <td>5036</td>\n",
       "      <td>1250</td>\n",
       "      <td>15612</td>\n",
       "      <td>7.590852</td>\n",
       "      <td>6.617403</td>\n",
       "    </tr>\n",
       "    <tr>\n",
       "      <th>3</th>\n",
       "      <td>3</td>\n",
       "      <td>SOABVPU12AB018AA22</td>\n",
       "      <td>1</td>\n",
       "      <td>1</td>\n",
       "      <td>TRAYPXP12903CD8D45</td>\n",
       "      <td>Reggae</td>\n",
       "      <td>0.583443</td>\n",
       "      <td>0.385788</td>\n",
       "      <td>ARZZRK91187B9A5CA5</td>\n",
       "      <td>18.01571</td>\n",
       "      <td>...</td>\n",
       "      <td>1</td>\n",
       "      <td>[  8.56200000e-02   2.87730000e-01   4.9082000...</td>\n",
       "      <td>151.498</td>\n",
       "      <td>4</td>\n",
       "      <td>1</td>\n",
       "      <td>5005</td>\n",
       "      <td>1240</td>\n",
       "      <td>15508</td>\n",
       "      <td>0.000000</td>\n",
       "      <td>0.000000</td>\n",
       "    </tr>\n",
       "    <tr>\n",
       "      <th>4</th>\n",
       "      <td>4</td>\n",
       "      <td>SOACEDS12A6701EAAA</td>\n",
       "      <td>230</td>\n",
       "      <td>80</td>\n",
       "      <td>TRASNOT128E0791785</td>\n",
       "      <td>Pop_Rock</td>\n",
       "      <td>0.712745</td>\n",
       "      <td>0.470700</td>\n",
       "      <td>ARP96FM1187B9AEA77</td>\n",
       "      <td>44.97903</td>\n",
       "      <td>...</td>\n",
       "      <td>1</td>\n",
       "      <td>[   0.36436    0.67473    0.98823    1.29676  ...</td>\n",
       "      <td>97.995</td>\n",
       "      <td>4</td>\n",
       "      <td>1</td>\n",
       "      <td>4092</td>\n",
       "      <td>1014</td>\n",
       "      <td>8191</td>\n",
       "      <td>5.438079</td>\n",
       "      <td>4.382027</td>\n",
       "    </tr>\n",
       "  </tbody>\n",
       "</table>\n",
       "<p>5 rows × 30 columns</p>\n",
       "</div>"
      ],
      "text/plain": [
       "   Unnamed: 0             song_id  play_count_sum  user_id_count  \\\n",
       "0           0  SOAAEHR12A6D4FB060             957            554   \n",
       "1           1  SOAAFUV12AB018831D              10              6   \n",
       "2           2  SOABLAF12AB018E1D9            1980            748   \n",
       "3           3  SOABVPU12AB018AA22               1              1   \n",
       "4           4  SOACEDS12A6701EAAA             230             80   \n",
       "\n",
       "             track_id  genre_id  artist_familiarty  artist_hotness  \\\n",
       "0  TRAYPFH128E07937C3  Pop_Rock           0.806359        0.545789   \n",
       "1  TRAMPCN12903CC4E5B    Reggae           0.623502        0.422380   \n",
       "2  TRABUMO12903CBE25F  Pop_Rock           0.796337        0.582922   \n",
       "3  TRAYPXP12903CD8D45    Reggae           0.583443        0.385788   \n",
       "4  TRASNOT128E0791785  Pop_Rock           0.712745        0.470700   \n",
       "\n",
       "            artist_id  artist_latitude        ...         song_modes  \\\n",
       "0  AR5N8VN1187FB37A4E         47.60356        ...                  1   \n",
       "1  AR5ZGC11187FB417A3         37.27188        ...                  1   \n",
       "2  ARSW5F51187FB4CFC9          0.00000        ...                  0   \n",
       "3  ARZZRK91187B9A5CA5         18.01571        ...                  1   \n",
       "4  ARP96FM1187B9AEA77         44.97903        ...                  1   \n",
       "\n",
       "                                          song_tatum song_tempo  \\\n",
       "0  [  1.56890000e-01   3.88730000e-01   6.2056000...    131.272   \n",
       "1  [   0.24835    0.48462    0.72088 ...,  213.08...    149.169   \n",
       "2  [  8.94000000e-02   3.69200000e-01   6.4900000...    107.845   \n",
       "3  [  8.56200000e-02   2.87730000e-01   4.9082000...    151.498   \n",
       "4  [   0.36436    0.67473    0.98823    1.29676  ...     97.995   \n",
       "\n",
       "   song_time_signatures  count  beats_number bars_number tatum_number  \\\n",
       "0                     4      1         15715        2532          109   \n",
       "1                     4      1          5912        1474           72   \n",
       "2                     4      1          5036        1250        15612   \n",
       "3                     4      1          5005        1240        15508   \n",
       "4                     4      1          4092        1014         8191   \n",
       "\n",
       "  log_play_count_sum  log_user_id_count  \n",
       "0           6.863803           6.317165  \n",
       "1           2.302585           1.791759  \n",
       "2           7.590852           6.617403  \n",
       "3           0.000000           0.000000  \n",
       "4           5.438079           4.382027  \n",
       "\n",
       "[5 rows x 30 columns]"
      ]
     },
     "execution_count": 5,
     "metadata": {},
     "output_type": "execute_result"
    }
   ],
   "source": [
    "data.head()"
   ]
  },
  {
   "cell_type": "code",
   "execution_count": 7,
   "metadata": {
    "collapsed": false
   },
   "outputs": [
    {
     "name": "stdout",
     "output_type": "stream",
     "text": [
      "<class 'pandas.core.frame.DataFrame'>\n",
      "Int64Index: 1760 entries, 0 to 1759\n",
      "Data columns (total 30 columns):\n",
      "Unnamed: 0              1760 non-null int64\n",
      "song_id                 1760 non-null object\n",
      "play_count_sum          1760 non-null int64\n",
      "user_id_count           1760 non-null int64\n",
      "track_id                1760 non-null object\n",
      "genre_id                1760 non-null object\n",
      "artist_familiarty       1760 non-null float64\n",
      "artist_hotness          1760 non-null float64\n",
      "artist_id               1760 non-null object\n",
      "artist_latitude         1760 non-null float64\n",
      "artist_location         1760 non-null object\n",
      "artist_longitude        1760 non-null float64\n",
      "artist_names            1760 non-null object\n",
      "song_durations          1760 non-null float64\n",
      "song_hotness            1760 non-null float64\n",
      "song_release_years      1760 non-null float64\n",
      "song_titles             1760 non-null object\n",
      "song_bars               1760 non-null object\n",
      "song_beats              1760 non-null object\n",
      "song_keys               1760 non-null int64\n",
      "song_modes              1760 non-null int64\n",
      "song_tatum              1760 non-null object\n",
      "song_tempo              1760 non-null float64\n",
      "song_time_signatures    1760 non-null int64\n",
      "count                   1760 non-null int64\n",
      "beats_number            1760 non-null int64\n",
      "bars_number             1760 non-null int64\n",
      "tatum_number            1760 non-null int64\n",
      "log_play_count_sum      1760 non-null float64\n",
      "log_user_id_count       1760 non-null float64\n",
      "dtypes: float64(10), int64(10), object(10)\n",
      "memory usage: 426.2+ KB\n"
     ]
    }
   ],
   "source": [
    "data.info()"
   ]
  },
  {
   "cell_type": "code",
   "execution_count": 8,
   "metadata": {
    "collapsed": false
   },
   "outputs": [],
   "source": [
    "y = np.asarray(data['song_hotness'], dtype=\"|S6\")\n",
    "#values because it has to be a 1D list"
   ]
  },
  {
   "cell_type": "code",
   "execution_count": 9,
   "metadata": {
    "collapsed": false
   },
   "outputs": [],
   "source": [
    "X=data[['play_count_sum','user_id_count','artist_familiarty','artist_hotness','song_durations','song_release_years',\\\n",
    "        'song_keys','song_modes','song_tempo','song_time_signatures','beats_number','bars_number','tatum_number','log_play_count_sum','log_user_id_count']]"
   ]
  },
  {
   "cell_type": "code",
   "execution_count": 10,
   "metadata": {
    "collapsed": false
   },
   "outputs": [
    {
     "data": {
      "text/html": [
       "<div>\n",
       "<table border=\"1\" class=\"dataframe\">\n",
       "  <thead>\n",
       "    <tr style=\"text-align: right;\">\n",
       "      <th></th>\n",
       "      <th>play_count_sum</th>\n",
       "      <th>user_id_count</th>\n",
       "      <th>artist_familiarty</th>\n",
       "      <th>artist_hotness</th>\n",
       "      <th>song_durations</th>\n",
       "      <th>song_release_years</th>\n",
       "      <th>song_keys</th>\n",
       "      <th>song_modes</th>\n",
       "      <th>song_tempo</th>\n",
       "      <th>song_time_signatures</th>\n",
       "      <th>beats_number</th>\n",
       "      <th>bars_number</th>\n",
       "      <th>tatum_number</th>\n",
       "      <th>log_play_count_sum</th>\n",
       "      <th>log_user_id_count</th>\n",
       "    </tr>\n",
       "  </thead>\n",
       "  <tbody>\n",
       "    <tr>\n",
       "      <th>0</th>\n",
       "      <td>957</td>\n",
       "      <td>554</td>\n",
       "      <td>0.806359</td>\n",
       "      <td>0.545789</td>\n",
       "      <td>415.81669</td>\n",
       "      <td>1991</td>\n",
       "      <td>0</td>\n",
       "      <td>1</td>\n",
       "      <td>131.272</td>\n",
       "      <td>4</td>\n",
       "      <td>15715</td>\n",
       "      <td>2532</td>\n",
       "      <td>109</td>\n",
       "      <td>6.863803</td>\n",
       "      <td>6.317165</td>\n",
       "    </tr>\n",
       "    <tr>\n",
       "      <th>1</th>\n",
       "      <td>10</td>\n",
       "      <td>6</td>\n",
       "      <td>0.623502</td>\n",
       "      <td>0.422380</td>\n",
       "      <td>216.05832</td>\n",
       "      <td>1998</td>\n",
       "      <td>2</td>\n",
       "      <td>1</td>\n",
       "      <td>149.169</td>\n",
       "      <td>4</td>\n",
       "      <td>5912</td>\n",
       "      <td>1474</td>\n",
       "      <td>72</td>\n",
       "      <td>2.302585</td>\n",
       "      <td>1.791759</td>\n",
       "    </tr>\n",
       "    <tr>\n",
       "      <th>2</th>\n",
       "      <td>1980</td>\n",
       "      <td>748</td>\n",
       "      <td>0.796337</td>\n",
       "      <td>0.582922</td>\n",
       "      <td>256.52200</td>\n",
       "      <td>2009</td>\n",
       "      <td>10</td>\n",
       "      <td>0</td>\n",
       "      <td>107.845</td>\n",
       "      <td>4</td>\n",
       "      <td>5036</td>\n",
       "      <td>1250</td>\n",
       "      <td>15612</td>\n",
       "      <td>7.590852</td>\n",
       "      <td>6.617403</td>\n",
       "    </tr>\n",
       "    <tr>\n",
       "      <th>3</th>\n",
       "      <td>1</td>\n",
       "      <td>1</td>\n",
       "      <td>0.583443</td>\n",
       "      <td>0.385788</td>\n",
       "      <td>180.53179</td>\n",
       "      <td>2009</td>\n",
       "      <td>8</td>\n",
       "      <td>1</td>\n",
       "      <td>151.498</td>\n",
       "      <td>4</td>\n",
       "      <td>5005</td>\n",
       "      <td>1240</td>\n",
       "      <td>15508</td>\n",
       "      <td>0.000000</td>\n",
       "      <td>0.000000</td>\n",
       "    </tr>\n",
       "    <tr>\n",
       "      <th>4</th>\n",
       "      <td>230</td>\n",
       "      <td>80</td>\n",
       "      <td>0.712745</td>\n",
       "      <td>0.470700</td>\n",
       "      <td>232.25424</td>\n",
       "      <td>1998</td>\n",
       "      <td>0</td>\n",
       "      <td>1</td>\n",
       "      <td>97.995</td>\n",
       "      <td>4</td>\n",
       "      <td>4092</td>\n",
       "      <td>1014</td>\n",
       "      <td>8191</td>\n",
       "      <td>5.438079</td>\n",
       "      <td>4.382027</td>\n",
       "    </tr>\n",
       "  </tbody>\n",
       "</table>\n",
       "</div>"
      ],
      "text/plain": [
       "   play_count_sum  user_id_count  artist_familiarty  artist_hotness  \\\n",
       "0             957            554           0.806359        0.545789   \n",
       "1              10              6           0.623502        0.422380   \n",
       "2            1980            748           0.796337        0.582922   \n",
       "3               1              1           0.583443        0.385788   \n",
       "4             230             80           0.712745        0.470700   \n",
       "\n",
       "   song_durations  song_release_years  song_keys  song_modes  song_tempo  \\\n",
       "0       415.81669                1991          0           1     131.272   \n",
       "1       216.05832                1998          2           1     149.169   \n",
       "2       256.52200                2009         10           0     107.845   \n",
       "3       180.53179                2009          8           1     151.498   \n",
       "4       232.25424                1998          0           1      97.995   \n",
       "\n",
       "   song_time_signatures  beats_number  bars_number  tatum_number  \\\n",
       "0                     4         15715         2532           109   \n",
       "1                     4          5912         1474            72   \n",
       "2                     4          5036         1250         15612   \n",
       "3                     4          5005         1240         15508   \n",
       "4                     4          4092         1014          8191   \n",
       "\n",
       "   log_play_count_sum  log_user_id_count  \n",
       "0            6.863803           6.317165  \n",
       "1            2.302585           1.791759  \n",
       "2            7.590852           6.617403  \n",
       "3            0.000000           0.000000  \n",
       "4            5.438079           4.382027  "
      ]
     },
     "execution_count": 10,
     "metadata": {},
     "output_type": "execute_result"
    }
   ],
   "source": [
    "X.head()"
   ]
  },
  {
   "cell_type": "code",
   "execution_count": 11,
   "metadata": {
    "collapsed": false,
    "scrolled": true
   },
   "outputs": [
    {
     "name": "stdout",
     "output_type": "stream",
     "text": [
      "<class 'pandas.core.frame.DataFrame'>\n",
      "Int64Index: 1760 entries, 0 to 1759\n",
      "Data columns (total 15 columns):\n",
      "play_count_sum          1760 non-null int64\n",
      "user_id_count           1760 non-null int64\n",
      "artist_familiarty       1760 non-null float64\n",
      "artist_hotness          1760 non-null float64\n",
      "song_durations          1760 non-null float64\n",
      "song_release_years      1760 non-null float64\n",
      "song_keys               1760 non-null int64\n",
      "song_modes              1760 non-null int64\n",
      "song_tempo              1760 non-null float64\n",
      "song_time_signatures    1760 non-null int64\n",
      "beats_number            1760 non-null int64\n",
      "bars_number             1760 non-null int64\n",
      "tatum_number            1760 non-null int64\n",
      "log_play_count_sum      1760 non-null float64\n",
      "log_user_id_count       1760 non-null float64\n",
      "dtypes: float64(7), int64(8)\n",
      "memory usage: 220.0 KB\n"
     ]
    }
   ],
   "source": [
    "X.info()"
   ]
  },
  {
   "cell_type": "markdown",
   "metadata": {},
   "source": [
    "For now we will ignore genre."
   ]
  },
  {
   "cell_type": "markdown",
   "metadata": {},
   "source": [
    "### Data split - train vs. test"
   ]
  },
  {
   "cell_type": "markdown",
   "metadata": {},
   "source": [
    "For cross validation purposes, we will create a train set from 70% of the dataset and a test set form 30%. "
   ]
  },
  {
   "cell_type": "code",
   "execution_count": 12,
   "metadata": {
    "collapsed": true
   },
   "outputs": [],
   "source": [
    "X_train, X_test, y_train, y_test = train_test_split (X,y,train_size=.7,random_state=42)"
   ]
  },
  {
   "cell_type": "code",
   "execution_count": 13,
   "metadata": {
    "collapsed": false
   },
   "outputs": [
    {
     "name": "stdout",
     "output_type": "stream",
     "text": [
      "Unnamed: 0 has 1760 unique categories\n",
      "song_id has 1760 unique categories\n",
      "play_count_sum has 556 unique categories\n",
      "user_id_count has 399 unique categories\n",
      "track_id has 1760 unique categories\n",
      "genre_id has 20 unique categories\n",
      "artist_familiarty has 1078 unique categories\n",
      "artist_hotness has 1065 unique categories\n",
      "artist_id has 1058 unique categories\n",
      "artist_latitude has 262 unique categories\n",
      "artist_location has 469 unique categories\n",
      "artist_longitude has 262 unique categories\n",
      "artist_names has 1058 unique categories\n",
      "song_durations has 1626 unique categories\n",
      "song_hotness has 862 unique categories\n",
      "song_release_years has 50 unique categories\n",
      "song_titles has 1747 unique categories\n",
      "song_bars has 1757 unique categories\n",
      "song_beats has 1757 unique categories\n",
      "song_keys has 12 unique categories\n",
      "song_modes has 2 unique categories\n",
      "song_tatum has 1757 unique categories\n",
      "song_tempo has 1735 unique categories\n",
      "song_time_signatures has 6 unique categories\n",
      "count has 1 unique categories\n",
      "beats_number has 1405 unique categories\n",
      "bars_number has 1061 unique categories\n",
      "tatum_number has 727 unique categories\n",
      "log_play_count_sum has 556 unique categories\n",
      "log_user_id_count has 399 unique categories\n"
     ]
    }
   ],
   "source": [
    "for col in data.columns:\n",
    "    print \"%s has %s unique categories\" % (col, data[col].nunique())"
   ]
  },
  {
   "cell_type": "markdown",
   "metadata": {},
   "source": [
    "### Feature selection"
   ]
  },
  {
   "cell_type": "markdown",
   "metadata": {},
   "source": [
    "#### Recursive Feature Elimination"
   ]
  },
  {
   "cell_type": "markdown",
   "metadata": {},
   "source": [
    "\"The Recursive Feature Elimination (RFE) method is a feature selection approach. It works by recursively removing attributes and building a model on those attributes that remain. It uses the model accuracy to identify which attributes (and combination of attributes) contribute the most to predicting the target attribute.\"\n",
    "http://machinelearningmastery.com/feature-selection-in-python-with-scikit-learn/"
   ]
  },
  {
   "cell_type": "code",
   "execution_count": 14,
   "metadata": {
    "collapsed": true
   },
   "outputs": [],
   "source": [
    "log_reg_model = LogisticRegression()"
   ]
  },
  {
   "cell_type": "code",
   "execution_count": 15,
   "metadata": {
    "collapsed": false
   },
   "outputs": [],
   "source": [
    "rfe = RFE(log_reg_model, 5)"
   ]
  },
  {
   "cell_type": "code",
   "execution_count": 16,
   "metadata": {
    "collapsed": false
   },
   "outputs": [],
   "source": [
    "rfe = rfe.fit(X_train, y_train)"
   ]
  },
  {
   "cell_type": "code",
   "execution_count": 17,
   "metadata": {
    "collapsed": false
   },
   "outputs": [
    {
     "name": "stdout",
     "output_type": "stream",
     "text": [
      "[False False  True  True False False False  True False  True False False\n",
      " False  True False]\n"
     ]
    }
   ],
   "source": [
    "print(rfe.support_)"
   ]
  },
  {
   "cell_type": "code",
   "execution_count": 18,
   "metadata": {
    "collapsed": false
   },
   "outputs": [
    {
     "name": "stdout",
     "output_type": "stream",
     "text": [
      "[ 5  3  1  1  8  9  2  1  7  1 10 11  6  1  4]\n"
     ]
    }
   ],
   "source": [
    "print(rfe.ranking_)"
   ]
  },
  {
   "cell_type": "code",
   "execution_count": 19,
   "metadata": {
    "collapsed": false
   },
   "outputs": [
    {
     "data": {
      "text/html": [
       "<div>\n",
       "<table border=\"1\" class=\"dataframe\">\n",
       "  <thead>\n",
       "    <tr style=\"text-align: right;\">\n",
       "      <th></th>\n",
       "      <th>support</th>\n",
       "    </tr>\n",
       "  </thead>\n",
       "  <tbody>\n",
       "    <tr>\n",
       "      <th>play_count_sum</th>\n",
       "      <td>False</td>\n",
       "    </tr>\n",
       "    <tr>\n",
       "      <th>user_id_count</th>\n",
       "      <td>False</td>\n",
       "    </tr>\n",
       "    <tr>\n",
       "      <th>artist_familiarty</th>\n",
       "      <td>True</td>\n",
       "    </tr>\n",
       "    <tr>\n",
       "      <th>artist_hotness</th>\n",
       "      <td>True</td>\n",
       "    </tr>\n",
       "    <tr>\n",
       "      <th>song_durations</th>\n",
       "      <td>False</td>\n",
       "    </tr>\n",
       "    <tr>\n",
       "      <th>song_release_years</th>\n",
       "      <td>False</td>\n",
       "    </tr>\n",
       "    <tr>\n",
       "      <th>song_keys</th>\n",
       "      <td>False</td>\n",
       "    </tr>\n",
       "    <tr>\n",
       "      <th>song_modes</th>\n",
       "      <td>True</td>\n",
       "    </tr>\n",
       "    <tr>\n",
       "      <th>song_tempo</th>\n",
       "      <td>False</td>\n",
       "    </tr>\n",
       "    <tr>\n",
       "      <th>song_time_signatures</th>\n",
       "      <td>True</td>\n",
       "    </tr>\n",
       "    <tr>\n",
       "      <th>beats_number</th>\n",
       "      <td>False</td>\n",
       "    </tr>\n",
       "    <tr>\n",
       "      <th>bars_number</th>\n",
       "      <td>False</td>\n",
       "    </tr>\n",
       "    <tr>\n",
       "      <th>tatum_number</th>\n",
       "      <td>False</td>\n",
       "    </tr>\n",
       "    <tr>\n",
       "      <th>log_play_count_sum</th>\n",
       "      <td>True</td>\n",
       "    </tr>\n",
       "    <tr>\n",
       "      <th>log_user_id_count</th>\n",
       "      <td>False</td>\n",
       "    </tr>\n",
       "  </tbody>\n",
       "</table>\n",
       "</div>"
      ],
      "text/plain": [
       "                     support\n",
       "play_count_sum         False\n",
       "user_id_count          False\n",
       "artist_familiarty       True\n",
       "artist_hotness          True\n",
       "song_durations         False\n",
       "song_release_years     False\n",
       "song_keys              False\n",
       "song_modes              True\n",
       "song_tempo             False\n",
       "song_time_signatures    True\n",
       "beats_number           False\n",
       "bars_number            False\n",
       "tatum_number           False\n",
       "log_play_count_sum      True\n",
       "log_user_id_count      False"
      ]
     },
     "execution_count": 19,
     "metadata": {},
     "output_type": "execute_result"
    }
   ],
   "source": [
    "rfe_support=pd.DataFrame(rfe.support_, index = X_train.columns.values, columns =['support'])\n",
    "rfe_support"
   ]
  },
  {
   "cell_type": "markdown",
   "metadata": {},
   "source": [
    "Interesting, so it seems that the relevant features are artist_familiarty, artist_hotness, song_modes, song_time_signatures and log_play_count_sum."
   ]
  },
  {
   "cell_type": "code",
   "execution_count": 20,
   "metadata": {
    "collapsed": false
   },
   "outputs": [
    {
     "name": "stderr",
     "output_type": "stream",
     "text": [
      "/anaconda/lib/python2.7/site-packages/ipykernel/__main__.py:1: FutureWarning: sort(columns=....) is deprecated, use sort_values(by=.....)\n",
      "  if __name__ == '__main__':\n"
     ]
    },
    {
     "data": {
      "text/html": [
       "<div>\n",
       "<table border=\"1\" class=\"dataframe\">\n",
       "  <thead>\n",
       "    <tr style=\"text-align: right;\">\n",
       "      <th></th>\n",
       "      <th>ranking</th>\n",
       "    </tr>\n",
       "  </thead>\n",
       "  <tbody>\n",
       "    <tr>\n",
       "      <th>artist_familiarty</th>\n",
       "      <td>1</td>\n",
       "    </tr>\n",
       "    <tr>\n",
       "      <th>artist_hotness</th>\n",
       "      <td>1</td>\n",
       "    </tr>\n",
       "    <tr>\n",
       "      <th>song_modes</th>\n",
       "      <td>1</td>\n",
       "    </tr>\n",
       "    <tr>\n",
       "      <th>song_time_signatures</th>\n",
       "      <td>1</td>\n",
       "    </tr>\n",
       "    <tr>\n",
       "      <th>log_play_count_sum</th>\n",
       "      <td>1</td>\n",
       "    </tr>\n",
       "    <tr>\n",
       "      <th>song_keys</th>\n",
       "      <td>2</td>\n",
       "    </tr>\n",
       "    <tr>\n",
       "      <th>user_id_count</th>\n",
       "      <td>3</td>\n",
       "    </tr>\n",
       "    <tr>\n",
       "      <th>log_user_id_count</th>\n",
       "      <td>4</td>\n",
       "    </tr>\n",
       "    <tr>\n",
       "      <th>play_count_sum</th>\n",
       "      <td>5</td>\n",
       "    </tr>\n",
       "    <tr>\n",
       "      <th>tatum_number</th>\n",
       "      <td>6</td>\n",
       "    </tr>\n",
       "    <tr>\n",
       "      <th>song_tempo</th>\n",
       "      <td>7</td>\n",
       "    </tr>\n",
       "    <tr>\n",
       "      <th>song_durations</th>\n",
       "      <td>8</td>\n",
       "    </tr>\n",
       "    <tr>\n",
       "      <th>song_release_years</th>\n",
       "      <td>9</td>\n",
       "    </tr>\n",
       "    <tr>\n",
       "      <th>beats_number</th>\n",
       "      <td>10</td>\n",
       "    </tr>\n",
       "    <tr>\n",
       "      <th>bars_number</th>\n",
       "      <td>11</td>\n",
       "    </tr>\n",
       "  </tbody>\n",
       "</table>\n",
       "</div>"
      ],
      "text/plain": [
       "                      ranking\n",
       "artist_familiarty           1\n",
       "artist_hotness              1\n",
       "song_modes                  1\n",
       "song_time_signatures        1\n",
       "log_play_count_sum          1\n",
       "song_keys                   2\n",
       "user_id_count               3\n",
       "log_user_id_count           4\n",
       "play_count_sum              5\n",
       "tatum_number                6\n",
       "song_tempo                  7\n",
       "song_durations              8\n",
       "song_release_years          9\n",
       "beats_number               10\n",
       "bars_number                11"
      ]
     },
     "execution_count": 20,
     "metadata": {},
     "output_type": "execute_result"
    }
   ],
   "source": [
    "rfe_ranking=pd.DataFrame(rfe.ranking_, index = X_train.columns.values, columns =['ranking']).sort('ranking',ascending=[True])\n",
    "rfe_ranking"
   ]
  },
  {
   "cell_type": "markdown",
   "metadata": {},
   "source": [
    "#### Feature Importance"
   ]
  },
  {
   "cell_type": "code",
   "execution_count": 21,
   "metadata": {
    "collapsed": false
   },
   "outputs": [
    {
     "name": "stderr",
     "output_type": "stream",
     "text": [
      "/anaconda/lib/python2.7/site-packages/ipykernel/__main__.py:3: FutureWarning: sort(columns=....) is deprecated, use sort_values(by=.....)\n",
      "  app.launch_new_instance()\n"
     ]
    },
    {
     "data": {
      "text/html": [
       "<div>\n",
       "<table border=\"1\" class=\"dataframe\">\n",
       "  <thead>\n",
       "    <tr style=\"text-align: right;\">\n",
       "      <th></th>\n",
       "      <th>importance</th>\n",
       "    </tr>\n",
       "  </thead>\n",
       "  <tbody>\n",
       "    <tr>\n",
       "      <th>artist_familiarty</th>\n",
       "      <td>0.082314</td>\n",
       "    </tr>\n",
       "    <tr>\n",
       "      <th>artist_hotness</th>\n",
       "      <td>0.079810</td>\n",
       "    </tr>\n",
       "    <tr>\n",
       "      <th>song_tempo</th>\n",
       "      <td>0.078213</td>\n",
       "    </tr>\n",
       "    <tr>\n",
       "      <th>beats_number</th>\n",
       "      <td>0.077070</td>\n",
       "    </tr>\n",
       "    <tr>\n",
       "      <th>song_release_years</th>\n",
       "      <td>0.074078</td>\n",
       "    </tr>\n",
       "    <tr>\n",
       "      <th>song_durations</th>\n",
       "      <td>0.072999</td>\n",
       "    </tr>\n",
       "    <tr>\n",
       "      <th>log_user_id_count</th>\n",
       "      <td>0.069837</td>\n",
       "    </tr>\n",
       "    <tr>\n",
       "      <th>log_play_count_sum</th>\n",
       "      <td>0.068230</td>\n",
       "    </tr>\n",
       "    <tr>\n",
       "      <th>user_id_count</th>\n",
       "      <td>0.067104</td>\n",
       "    </tr>\n",
       "    <tr>\n",
       "      <th>bars_number</th>\n",
       "      <td>0.066487</td>\n",
       "    </tr>\n",
       "    <tr>\n",
       "      <th>play_count_sum</th>\n",
       "      <td>0.064872</td>\n",
       "    </tr>\n",
       "    <tr>\n",
       "      <th>song_keys</th>\n",
       "      <td>0.064186</td>\n",
       "    </tr>\n",
       "    <tr>\n",
       "      <th>tatum_number</th>\n",
       "      <td>0.062705</td>\n",
       "    </tr>\n",
       "    <tr>\n",
       "      <th>song_time_signatures</th>\n",
       "      <td>0.039257</td>\n",
       "    </tr>\n",
       "    <tr>\n",
       "      <th>song_modes</th>\n",
       "      <td>0.032836</td>\n",
       "    </tr>\n",
       "  </tbody>\n",
       "</table>\n",
       "</div>"
      ],
      "text/plain": [
       "                      importance\n",
       "artist_familiarty       0.082314\n",
       "artist_hotness          0.079810\n",
       "song_tempo              0.078213\n",
       "beats_number            0.077070\n",
       "song_release_years      0.074078\n",
       "song_durations          0.072999\n",
       "log_user_id_count       0.069837\n",
       "log_play_count_sum      0.068230\n",
       "user_id_count           0.067104\n",
       "bars_number             0.066487\n",
       "play_count_sum          0.064872\n",
       "song_keys               0.064186\n",
       "tatum_number            0.062705\n",
       "song_time_signatures    0.039257\n",
       "song_modes              0.032836"
      ]
     },
     "execution_count": 21,
     "metadata": {},
     "output_type": "execute_result"
    }
   ],
   "source": [
    "etc_model = ExtraTreesClassifier()\n",
    "etc_model.fit(X_train, y_train)\n",
    "etc_df = pd.DataFrame(etc_model.feature_importances_, index = X_train.columns.values, columns =['importance']).sort('importance',ascending=[False])\n",
    "etc_df"
   ]
  },
  {
   "cell_type": "code",
   "execution_count": 22,
   "metadata": {
    "collapsed": false
   },
   "outputs": [
    {
     "name": "stderr",
     "output_type": "stream",
     "text": [
      "/anaconda/lib/python2.7/site-packages/ipykernel/__main__.py:3: FutureWarning: sort(columns=....) is deprecated, use sort_values(by=.....)\n",
      "  app.launch_new_instance()\n"
     ]
    },
    {
     "data": {
      "text/html": [
       "<div>\n",
       "<table border=\"1\" class=\"dataframe\">\n",
       "  <thead>\n",
       "    <tr style=\"text-align: right;\">\n",
       "      <th></th>\n",
       "      <th>importance</th>\n",
       "    </tr>\n",
       "  </thead>\n",
       "  <tbody>\n",
       "    <tr>\n",
       "      <th>artist_hotness</th>\n",
       "      <td>0.088430</td>\n",
       "    </tr>\n",
       "    <tr>\n",
       "      <th>artist_familiarty</th>\n",
       "      <td>0.087767</td>\n",
       "    </tr>\n",
       "    <tr>\n",
       "      <th>song_tempo</th>\n",
       "      <td>0.080193</td>\n",
       "    </tr>\n",
       "    <tr>\n",
       "      <th>song_durations</th>\n",
       "      <td>0.079527</td>\n",
       "    </tr>\n",
       "    <tr>\n",
       "      <th>song_release_years</th>\n",
       "      <td>0.077465</td>\n",
       "    </tr>\n",
       "    <tr>\n",
       "      <th>bars_number</th>\n",
       "      <td>0.077454</td>\n",
       "    </tr>\n",
       "    <tr>\n",
       "      <th>beats_number</th>\n",
       "      <td>0.077236</td>\n",
       "    </tr>\n",
       "    <tr>\n",
       "      <th>log_play_count_sum</th>\n",
       "      <td>0.071658</td>\n",
       "    </tr>\n",
       "    <tr>\n",
       "      <th>play_count_sum</th>\n",
       "      <td>0.068622</td>\n",
       "    </tr>\n",
       "    <tr>\n",
       "      <th>user_id_count</th>\n",
       "      <td>0.067527</td>\n",
       "    </tr>\n",
       "    <tr>\n",
       "      <th>tatum_number</th>\n",
       "      <td>0.061808</td>\n",
       "    </tr>\n",
       "    <tr>\n",
       "      <th>song_keys</th>\n",
       "      <td>0.058803</td>\n",
       "    </tr>\n",
       "    <tr>\n",
       "      <th>log_user_id_count</th>\n",
       "      <td>0.057848</td>\n",
       "    </tr>\n",
       "    <tr>\n",
       "      <th>song_time_signatures</th>\n",
       "      <td>0.026741</td>\n",
       "    </tr>\n",
       "    <tr>\n",
       "      <th>song_modes</th>\n",
       "      <td>0.018922</td>\n",
       "    </tr>\n",
       "  </tbody>\n",
       "</table>\n",
       "</div>"
      ],
      "text/plain": [
       "                      importance\n",
       "artist_hotness          0.088430\n",
       "artist_familiarty       0.087767\n",
       "song_tempo              0.080193\n",
       "song_durations          0.079527\n",
       "song_release_years      0.077465\n",
       "bars_number             0.077454\n",
       "beats_number            0.077236\n",
       "log_play_count_sum      0.071658\n",
       "play_count_sum          0.068622\n",
       "user_id_count           0.067527\n",
       "tatum_number            0.061808\n",
       "song_keys               0.058803\n",
       "log_user_id_count       0.057848\n",
       "song_time_signatures    0.026741\n",
       "song_modes              0.018922"
      ]
     },
     "execution_count": 22,
     "metadata": {},
     "output_type": "execute_result"
    }
   ],
   "source": [
    "rfc_model=RandomForestClassifier()\n",
    "rfc_model.fit(X_train, y_train)\n",
    "rfc_df = pd.DataFrame(rfc_model.feature_importances_, index = X_train.columns.values, columns =['importance']).sort('importance',ascending=[False])\n",
    "rfc_df"
   ]
  },
  {
   "cell_type": "code",
   "execution_count": 23,
   "metadata": {
    "collapsed": true
   },
   "outputs": [],
   "source": [
    "rfe2 = RFE(rfc_model, 5)\n",
    "rfe2 = rfe2.fit(X_train, y_train)"
   ]
  },
  {
   "cell_type": "code",
   "execution_count": 24,
   "metadata": {
    "collapsed": false,
    "scrolled": true
   },
   "outputs": [
    {
     "data": {
      "text/html": [
       "<div>\n",
       "<table border=\"1\" class=\"dataframe\">\n",
       "  <thead>\n",
       "    <tr style=\"text-align: right;\">\n",
       "      <th></th>\n",
       "      <th>support</th>\n",
       "    </tr>\n",
       "  </thead>\n",
       "  <tbody>\n",
       "    <tr>\n",
       "      <th>play_count_sum</th>\n",
       "      <td>False</td>\n",
       "    </tr>\n",
       "    <tr>\n",
       "      <th>user_id_count</th>\n",
       "      <td>False</td>\n",
       "    </tr>\n",
       "    <tr>\n",
       "      <th>artist_familiarty</th>\n",
       "      <td>True</td>\n",
       "    </tr>\n",
       "    <tr>\n",
       "      <th>artist_hotness</th>\n",
       "      <td>True</td>\n",
       "    </tr>\n",
       "    <tr>\n",
       "      <th>song_durations</th>\n",
       "      <td>True</td>\n",
       "    </tr>\n",
       "    <tr>\n",
       "      <th>song_release_years</th>\n",
       "      <td>False</td>\n",
       "    </tr>\n",
       "    <tr>\n",
       "      <th>song_keys</th>\n",
       "      <td>False</td>\n",
       "    </tr>\n",
       "    <tr>\n",
       "      <th>song_modes</th>\n",
       "      <td>False</td>\n",
       "    </tr>\n",
       "    <tr>\n",
       "      <th>song_tempo</th>\n",
       "      <td>False</td>\n",
       "    </tr>\n",
       "    <tr>\n",
       "      <th>song_time_signatures</th>\n",
       "      <td>False</td>\n",
       "    </tr>\n",
       "    <tr>\n",
       "      <th>beats_number</th>\n",
       "      <td>True</td>\n",
       "    </tr>\n",
       "    <tr>\n",
       "      <th>bars_number</th>\n",
       "      <td>True</td>\n",
       "    </tr>\n",
       "    <tr>\n",
       "      <th>tatum_number</th>\n",
       "      <td>False</td>\n",
       "    </tr>\n",
       "    <tr>\n",
       "      <th>log_play_count_sum</th>\n",
       "      <td>False</td>\n",
       "    </tr>\n",
       "    <tr>\n",
       "      <th>log_user_id_count</th>\n",
       "      <td>False</td>\n",
       "    </tr>\n",
       "  </tbody>\n",
       "</table>\n",
       "</div>"
      ],
      "text/plain": [
       "                     support\n",
       "play_count_sum         False\n",
       "user_id_count          False\n",
       "artist_familiarty       True\n",
       "artist_hotness          True\n",
       "song_durations          True\n",
       "song_release_years     False\n",
       "song_keys              False\n",
       "song_modes             False\n",
       "song_tempo             False\n",
       "song_time_signatures   False\n",
       "beats_number            True\n",
       "bars_number             True\n",
       "tatum_number           False\n",
       "log_play_count_sum     False\n",
       "log_user_id_count      False"
      ]
     },
     "execution_count": 24,
     "metadata": {},
     "output_type": "execute_result"
    }
   ],
   "source": [
    "rfe2_support=pd.DataFrame(rfe2.support_, index = X_train.columns.values, columns =['support'])\n",
    "rfe2_support"
   ]
  },
  {
   "cell_type": "code",
   "execution_count": 25,
   "metadata": {
    "collapsed": false
   },
   "outputs": [
    {
     "name": "stderr",
     "output_type": "stream",
     "text": [
      "/anaconda/lib/python2.7/site-packages/ipykernel/__main__.py:1: FutureWarning: sort(columns=....) is deprecated, use sort_values(by=.....)\n",
      "  if __name__ == '__main__':\n"
     ]
    },
    {
     "data": {
      "text/html": [
       "<div>\n",
       "<table border=\"1\" class=\"dataframe\">\n",
       "  <thead>\n",
       "    <tr style=\"text-align: right;\">\n",
       "      <th></th>\n",
       "      <th>ranking</th>\n",
       "    </tr>\n",
       "  </thead>\n",
       "  <tbody>\n",
       "    <tr>\n",
       "      <th>artist_familiarty</th>\n",
       "      <td>1</td>\n",
       "    </tr>\n",
       "    <tr>\n",
       "      <th>artist_hotness</th>\n",
       "      <td>1</td>\n",
       "    </tr>\n",
       "    <tr>\n",
       "      <th>song_durations</th>\n",
       "      <td>1</td>\n",
       "    </tr>\n",
       "    <tr>\n",
       "      <th>beats_number</th>\n",
       "      <td>1</td>\n",
       "    </tr>\n",
       "    <tr>\n",
       "      <th>bars_number</th>\n",
       "      <td>1</td>\n",
       "    </tr>\n",
       "    <tr>\n",
       "      <th>song_tempo</th>\n",
       "      <td>2</td>\n",
       "    </tr>\n",
       "    <tr>\n",
       "      <th>play_count_sum</th>\n",
       "      <td>3</td>\n",
       "    </tr>\n",
       "    <tr>\n",
       "      <th>user_id_count</th>\n",
       "      <td>4</td>\n",
       "    </tr>\n",
       "    <tr>\n",
       "      <th>log_play_count_sum</th>\n",
       "      <td>5</td>\n",
       "    </tr>\n",
       "    <tr>\n",
       "      <th>song_release_years</th>\n",
       "      <td>6</td>\n",
       "    </tr>\n",
       "    <tr>\n",
       "      <th>song_keys</th>\n",
       "      <td>7</td>\n",
       "    </tr>\n",
       "    <tr>\n",
       "      <th>log_user_id_count</th>\n",
       "      <td>8</td>\n",
       "    </tr>\n",
       "    <tr>\n",
       "      <th>tatum_number</th>\n",
       "      <td>9</td>\n",
       "    </tr>\n",
       "    <tr>\n",
       "      <th>song_time_signatures</th>\n",
       "      <td>10</td>\n",
       "    </tr>\n",
       "    <tr>\n",
       "      <th>song_modes</th>\n",
       "      <td>11</td>\n",
       "    </tr>\n",
       "  </tbody>\n",
       "</table>\n",
       "</div>"
      ],
      "text/plain": [
       "                      ranking\n",
       "artist_familiarty           1\n",
       "artist_hotness              1\n",
       "song_durations              1\n",
       "beats_number                1\n",
       "bars_number                 1\n",
       "song_tempo                  2\n",
       "play_count_sum              3\n",
       "user_id_count               4\n",
       "log_play_count_sum          5\n",
       "song_release_years          6\n",
       "song_keys                   7\n",
       "log_user_id_count           8\n",
       "tatum_number                9\n",
       "song_time_signatures       10\n",
       "song_modes                 11"
      ]
     },
     "execution_count": 25,
     "metadata": {},
     "output_type": "execute_result"
    }
   ],
   "source": [
    "rfe2_ranking=pd.DataFrame(rfe2.ranking_, index = X_train.columns.values, columns =['ranking']).sort('ranking',ascending=[True])\n",
    "rfe2_ranking"
   ]
  },
  {
   "cell_type": "markdown",
   "metadata": {},
   "source": [
    "According to the Feature Importance method, artist_hotness, artist_familiarty, song_durations and song_tempo are important. "
   ]
  },
  {
   "cell_type": "markdown",
   "metadata": {},
   "source": [
    "So our model has to use artist_hotness and artist_familiarty."
   ]
  },
  {
   "cell_type": "code",
   "execution_count": 26,
   "metadata": {
    "collapsed": false
   },
   "outputs": [
    {
     "data": {
      "text/plain": [
       "Unnamed: 0              0.010166\n",
       "play_count_sum          0.268492\n",
       "user_id_count           0.282878\n",
       "artist_familiarty       0.480824\n",
       "artist_hotness          0.434708\n",
       "artist_latitude        -0.036513\n",
       "artist_longitude        0.023559\n",
       "song_durations         -0.026056\n",
       "song_hotness            1.000000\n",
       "song_release_years      0.124657\n",
       "song_keys              -0.001993\n",
       "song_modes             -0.002605\n",
       "song_tempo              0.056328\n",
       "song_time_signatures    0.050699\n",
       "count                        NaN\n",
       "beats_number            0.030906\n",
       "bars_number            -0.028079\n",
       "tatum_number            0.002781\n",
       "log_play_count_sum      0.520569\n",
       "log_user_id_count       0.544442\n",
       "Name: song_hotness, dtype: float64"
      ]
     },
     "execution_count": 26,
     "metadata": {},
     "output_type": "execute_result"
    }
   ],
   "source": [
    "data.corr()[\"song_hotness\"]"
   ]
  },
  {
   "cell_type": "markdown",
   "metadata": {},
   "source": [
    "## Supervised Machine Learning Models"
   ]
  },
  {
   "cell_type": "markdown",
   "metadata": {},
   "source": [
    "### Linear Regression"
   ]
  },
  {
   "cell_type": "markdown",
   "metadata": {},
   "source": [
    "regression (supervised and continuous): functional/linear relationship between input variable x and response variable y → fit the regression model to the dataset by minimizing the sum of the squared residuals (OLS algorithm = Ordinary Least Squares: distance of data point to best fit line)"
   ]
  },
  {
   "cell_type": "code",
   "execution_count": 27,
   "metadata": {
    "collapsed": true
   },
   "outputs": [],
   "source": [
    "lr = LinearRegression()"
   ]
  },
  {
   "cell_type": "markdown",
   "metadata": {},
   "source": [
    "We know right away that logistic regression is not the way to go - the model is too complicated. I did try, but it gave me as expcted error messages."
   ]
  },
  {
   "cell_type": "markdown",
   "metadata": {},
   "source": [
    "### Logistic Regression"
   ]
  },
  {
   "cell_type": "code",
   "execution_count": 40,
   "metadata": {
    "collapsed": false
   },
   "outputs": [
    {
     "name": "stdout",
     "output_type": "stream",
     "text": [
      "<class 'pandas.core.frame.DataFrame'>\n",
      "Int64Index: 1760 entries, 0 to 1759\n",
      "Data columns (total 30 columns):\n",
      "Unnamed: 0              1760 non-null int64\n",
      "song_id                 1760 non-null object\n",
      "play_count_sum          1760 non-null int64\n",
      "user_id_count           1760 non-null int64\n",
      "track_id                1760 non-null object\n",
      "genre_id                1760 non-null object\n",
      "artist_familiarty       1760 non-null float64\n",
      "artist_hotness          1760 non-null float64\n",
      "artist_id               1760 non-null object\n",
      "artist_latitude         1760 non-null float64\n",
      "artist_location         1760 non-null object\n",
      "artist_longitude        1760 non-null float64\n",
      "artist_names            1760 non-null object\n",
      "song_durations          1760 non-null float64\n",
      "song_hotness            1760 non-null float64\n",
      "song_release_years      1760 non-null float64\n",
      "song_titles             1760 non-null object\n",
      "song_bars               1760 non-null object\n",
      "song_beats              1760 non-null object\n",
      "song_keys               1760 non-null int64\n",
      "song_modes              1760 non-null int64\n",
      "song_tatum              1760 non-null object\n",
      "song_tempo              1760 non-null float64\n",
      "song_time_signatures    1760 non-null int64\n",
      "count                   1760 non-null int64\n",
      "beats_number            1760 non-null int64\n",
      "bars_number             1760 non-null int64\n",
      "tatum_number            1760 non-null int64\n",
      "log_play_count_sum      1760 non-null float64\n",
      "log_user_id_count       1760 non-null float64\n",
      "dtypes: float64(10), int64(10), object(10)\n",
      "memory usage: 426.2+ KB\n"
     ]
    }
   ],
   "source": [
    "data.info()"
   ]
  },
  {
   "cell_type": "markdown",
   "metadata": {},
   "source": [
    "Let's look at some options of features based on the previous feature selection."
   ]
  },
  {
   "cell_type": "code",
   "execution_count": 28,
   "metadata": {
    "collapsed": true
   },
   "outputs": [],
   "source": [
    "X1_train = X_train[['artist_familiarty','artist_hotness','song_durations','beats_number','bars_number']]"
   ]
  },
  {
   "cell_type": "code",
   "execution_count": 29,
   "metadata": {
    "collapsed": true
   },
   "outputs": [],
   "source": [
    "X1_test = X_test[['artist_familiarty','artist_hotness','song_durations','beats_number','bars_number']]"
   ]
  },
  {
   "cell_type": "code",
   "execution_count": 30,
   "metadata": {
    "collapsed": true
   },
   "outputs": [],
   "source": [
    "X2_train = X_train[['artist_familiarty','artist_hotness','song_modes','song_time_signatures','log_play_count_sum']]"
   ]
  },
  {
   "cell_type": "code",
   "execution_count": 31,
   "metadata": {
    "collapsed": true
   },
   "outputs": [],
   "source": [
    "X2_test = X_test[['artist_familiarty','artist_hotness','song_modes','song_time_signatures','log_play_count_sum']]"
   ]
  },
  {
   "cell_type": "code",
   "execution_count": 41,
   "metadata": {
    "collapsed": true
   },
   "outputs": [],
   "source": [
    "X3_train = X_train[['artist_familiarty','song_modes','log_user_id_count','song_tempo','song_time_signatures']]"
   ]
  },
  {
   "cell_type": "code",
   "execution_count": 42,
   "metadata": {
    "collapsed": true
   },
   "outputs": [],
   "source": [
    "X3_test = X_test[['artist_familiarty','song_modes','log_user_id_count','song_tempo','song_time_signatures']]"
   ]
  },
  {
   "cell_type": "code",
   "execution_count": 34,
   "metadata": {
    "collapsed": true
   },
   "outputs": [],
   "source": [
    "X4_train = X_train[['artist_familiarty','artist_hotness','song_durations','song_tempo','song_release_years']]"
   ]
  },
  {
   "cell_type": "code",
   "execution_count": 35,
   "metadata": {
    "collapsed": true
   },
   "outputs": [],
   "source": [
    "X4_test = X_test[['artist_familiarty','artist_hotness','song_durations','song_tempo','song_release_years']]"
   ]
  },
  {
   "cell_type": "code",
   "execution_count": 80,
   "metadata": {
    "collapsed": true
   },
   "outputs": [],
   "source": [
    "X5_train = X_train[['log_play_count_sum','song_modes','song_durations','song_tempo','song_release_years']]"
   ]
  },
  {
   "cell_type": "code",
   "execution_count": 81,
   "metadata": {
    "collapsed": true
   },
   "outputs": [],
   "source": [
    "X5_test = X_test[['log_play_count_sum','song_modes','song_durations','song_tempo','song_release_years']]"
   ]
  },
  {
   "cell_type": "code",
   "execution_count": 36,
   "metadata": {
    "collapsed": false
   },
   "outputs": [
    {
     "data": {
      "text/plain": [
       "0.23295454545454544"
      ]
     },
     "execution_count": 36,
     "metadata": {},
     "output_type": "execute_result"
    }
   ],
   "source": [
    "log_reg_model.fit(X1_train,y_train)\n",
    "log_reg_model.score(X1_test,y_test)"
   ]
  },
  {
   "cell_type": "code",
   "execution_count": 37,
   "metadata": {
    "collapsed": false
   },
   "outputs": [
    {
     "data": {
      "text/plain": [
       "0.23295454545454544"
      ]
     },
     "execution_count": 37,
     "metadata": {},
     "output_type": "execute_result"
    }
   ],
   "source": [
    "log_reg_model.fit(X2_train,y_train)\n",
    "log_reg_model.score(X2_test,y_test)"
   ]
  },
  {
   "cell_type": "code",
   "execution_count": 43,
   "metadata": {
    "collapsed": false
   },
   "outputs": [
    {
     "data": {
      "text/plain": [
       "0.23295454545454544"
      ]
     },
     "execution_count": 43,
     "metadata": {},
     "output_type": "execute_result"
    }
   ],
   "source": [
    "log_reg_model.fit(X3_train,y_train)\n",
    "log_reg_model.score(X3_test,y_test)"
   ]
  },
  {
   "cell_type": "code",
   "execution_count": 39,
   "metadata": {
    "collapsed": false
   },
   "outputs": [
    {
     "data": {
      "text/plain": [
       "0.23295454545454544"
      ]
     },
     "execution_count": 39,
     "metadata": {},
     "output_type": "execute_result"
    }
   ],
   "source": [
    "log_reg_model.fit(X4_train,y_train)\n",
    "log_reg_model.score(X4_test,y_test)"
   ]
  },
  {
   "cell_type": "code",
   "execution_count": 82,
   "metadata": {
    "collapsed": false
   },
   "outputs": [
    {
     "data": {
      "text/plain": [
       "0.23295454545454544"
      ]
     },
     "execution_count": 82,
     "metadata": {},
     "output_type": "execute_result"
    }
   ],
   "source": [
    "log_reg_model.fit(X5_train,y_train)\n",
    "log_reg_model.score(X5_test,y_test)"
   ]
  },
  {
   "cell_type": "markdown",
   "metadata": {},
   "source": [
    "Haha, ok, all of these models are bad. We don't even need to check the cross validation."
   ]
  },
  {
   "cell_type": "markdown",
   "metadata": {},
   "source": [
    "### knn"
   ]
  },
  {
   "cell_type": "markdown",
   "metadata": {},
   "source": [
    "knn (k nearest neighbors algorithm): Euclidean distance, can be used for both classification and regression; instance based learning; lazy learning; might need to rescale data to make dimensions comparable"
   ]
  },
  {
   "cell_type": "code",
   "execution_count": 44,
   "metadata": {
    "collapsed": true
   },
   "outputs": [],
   "source": [
    "knn_model=KNeighborsClassifier(n_neighbors=5) "
   ]
  },
  {
   "cell_type": "code",
   "execution_count": 45,
   "metadata": {
    "collapsed": false
   },
   "outputs": [
    {
     "data": {
      "text/plain": [
       "0.079545454545454544"
      ]
     },
     "execution_count": 45,
     "metadata": {},
     "output_type": "execute_result"
    }
   ],
   "source": [
    "knn_model.fit(X1_train,y_train)\n",
    "knn_model.score(X1_test,y_test)"
   ]
  },
  {
   "cell_type": "code",
   "execution_count": 46,
   "metadata": {
    "collapsed": false
   },
   "outputs": [
    {
     "data": {
      "text/plain": [
       "0.125"
      ]
     },
     "execution_count": 46,
     "metadata": {},
     "output_type": "execute_result"
    }
   ],
   "source": [
    "knn_model.fit(X2_train,y_train)\n",
    "knn_model.score(X2_test,y_test)"
   ]
  },
  {
   "cell_type": "code",
   "execution_count": 47,
   "metadata": {
    "collapsed": false
   },
   "outputs": [
    {
     "data": {
      "text/plain": [
       "0.10795454545454546"
      ]
     },
     "execution_count": 47,
     "metadata": {},
     "output_type": "execute_result"
    }
   ],
   "source": [
    "knn_model.fit(X3_train,y_train)\n",
    "knn_model.score(X3_test,y_test)"
   ]
  },
  {
   "cell_type": "code",
   "execution_count": 48,
   "metadata": {
    "collapsed": false
   },
   "outputs": [
    {
     "data": {
      "text/plain": [
       "0.10037878787878787"
      ]
     },
     "execution_count": 48,
     "metadata": {},
     "output_type": "execute_result"
    }
   ],
   "source": [
    "knn_model.fit(X4_train,y_train)\n",
    "knn_model.score(X4_test,y_test)"
   ]
  },
  {
   "cell_type": "code",
   "execution_count": 83,
   "metadata": {
    "collapsed": false
   },
   "outputs": [
    {
     "data": {
      "text/plain": [
       "0.22537878787878787"
      ]
     },
     "execution_count": 83,
     "metadata": {},
     "output_type": "execute_result"
    }
   ],
   "source": [
    "knn_model.fit(X5_train,y_train)\n",
    "knn_model.score(X5_test,y_test)"
   ]
  },
  {
   "cell_type": "markdown",
   "metadata": {},
   "source": [
    "Very VERY slightly better. Let's stick with the X2_train features for knn. "
   ]
  },
  {
   "cell_type": "code",
   "execution_count": 51,
   "metadata": {
    "collapsed": false
   },
   "outputs": [],
   "source": [
    "scores = []\n",
    "for k in xrange(1,100):\n",
    "    model = KNeighborsClassifier(n_neighbors=k)\n",
    "    model.fit(X2_train,y_train)\n",
    "    score= model.score(X2_test,y_test)\n",
    "    scores.append(score)"
   ]
  },
  {
   "cell_type": "code",
   "execution_count": 52,
   "metadata": {
    "collapsed": false
   },
   "outputs": [
    {
     "data": {
      "text/plain": [
       "[<matplotlib.lines.Line2D at 0x110ca2350>]"
      ]
     },
     "execution_count": 52,
     "metadata": {},
     "output_type": "execute_result"
    },
    {
     "data": {
      "image/png": "[encoded data removed]",
      "text/plain": [
       "<matplotlib.figure.Figure at 0x10e96ed50>"
      ]
     },
     "metadata": {},
     "output_type": "display_data"
    }
   ],
   "source": [
    "plt.plot(scores)"
   ]
  },
  {
   "cell_type": "code",
   "execution_count": 53,
   "metadata": {
    "collapsed": false
   },
   "outputs": [
    {
     "name": "stdout",
     "output_type": "stream",
     "text": [
      "[0.073863636363636367, 0.071969696969696975, 0.085227272727272721, 0.094696969696969696, 0.125, 0.12878787878787878, 0.14393939393939395, 0.15340909090909091, 0.17234848484848486, 0.1875]\n"
     ]
    }
   ],
   "source": [
    "print scores[:10]"
   ]
  },
  {
   "cell_type": "code",
   "execution_count": 54,
   "metadata": {
    "collapsed": false
   },
   "outputs": [
    {
     "data": {
      "text/plain": [
       "0.23484848484848486"
      ]
     },
     "execution_count": 54,
     "metadata": {},
     "output_type": "execute_result"
    }
   ],
   "source": [
    "knn_model=KNeighborsClassifier(n_neighbors=20) \n",
    "knn_model.fit(X2_train,y_train)\n",
    "knn_model.score(X2_test,y_test)"
   ]
  },
  {
   "cell_type": "code",
   "execution_count": 84,
   "metadata": {
    "collapsed": false
   },
   "outputs": [
    {
     "data": {
      "text/plain": [
       "0.22537878787878787"
      ]
     },
     "execution_count": 84,
     "metadata": {},
     "output_type": "execute_result"
    }
   ],
   "source": [
    "knn_model=KNeighborsClassifier(n_neighbors=20) \n",
    "knn_model.fit(X5_train,y_train)\n",
    "knn_model.score(X5_test,y_test)"
   ]
  },
  {
   "cell_type": "markdown",
   "metadata": {},
   "source": [
    "Yeah, this isn't the best model either. "
   ]
  },
  {
   "cell_type": "markdown",
   "metadata": {},
   "source": [
    "### Decision Tree"
   ]
  },
  {
   "cell_type": "markdown",
   "metadata": {},
   "source": [
    "non-parametric hierarchical; nodes represent questions (“test conditions”) and edges are answers to these questions (edges lead from parent node to child node starting from root node and ending in leaf nodes = class labels) → binary yes/no answers; gild (grow) a decision tree = Hunt’s algorithm (greedy recursive algorithm →goal highest possible purity: Entropy (information gain) coefficient, Gini coefficient, Misclassification Error)"
   ]
  },
  {
   "cell_type": "markdown",
   "metadata": {},
   "source": [
    "#### Single Forest"
   ]
  },
  {
   "cell_type": "code",
   "execution_count": 55,
   "metadata": {
    "collapsed": true
   },
   "outputs": [],
   "source": [
    "dtc_model = DecisionTreeClassifier()"
   ]
  },
  {
   "cell_type": "code",
   "execution_count": 56,
   "metadata": {
    "collapsed": false
   },
   "outputs": [
    {
     "data": {
      "text/plain": [
       "0.098484848484848481"
      ]
     },
     "execution_count": 56,
     "metadata": {},
     "output_type": "execute_result"
    }
   ],
   "source": [
    "dtc_model.fit(X1_train,y_train)\n",
    "dtc_model.score(X1_test,y_test)"
   ]
  },
  {
   "cell_type": "markdown",
   "metadata": {},
   "source": [
    "Wow, totally overfitted model. "
   ]
  },
  {
   "cell_type": "code",
   "execution_count": 59,
   "metadata": {
    "collapsed": false
   },
   "outputs": [
    {
     "data": {
      "text/plain": [
       "0.0961961857275455"
      ]
     },
     "execution_count": 59,
     "metadata": {},
     "output_type": "execute_result"
    }
   ],
   "source": [
    "cross_val_score(dtc_model, X1_train,y_train).mean()"
   ]
  },
  {
   "cell_type": "code",
   "execution_count": 60,
   "metadata": {
    "collapsed": false
   },
   "outputs": [
    {
     "data": {
      "text/plain": [
       "0.094696969696969696"
      ]
     },
     "execution_count": 60,
     "metadata": {},
     "output_type": "execute_result"
    }
   ],
   "source": [
    "dtc_model.fit(X2_train,y_train)\n",
    "dtc_model.score(X2_test,y_test)"
   ]
  },
  {
   "cell_type": "code",
   "execution_count": 61,
   "metadata": {
    "collapsed": false
   },
   "outputs": [
    {
     "data": {
      "text/plain": [
       "0.11151760767990955"
      ]
     },
     "execution_count": 61,
     "metadata": {},
     "output_type": "execute_result"
    }
   ],
   "source": [
    "cross_val_score(dtc_model, X2_train,y_train).mean()"
   ]
  },
  {
   "cell_type": "code",
   "execution_count": 62,
   "metadata": {
    "collapsed": false
   },
   "outputs": [
    {
     "data": {
      "text/plain": [
       "0.070075757575757569"
      ]
     },
     "execution_count": 62,
     "metadata": {},
     "output_type": "execute_result"
    }
   ],
   "source": [
    "dtc_model.fit(X3_train,y_train)\n",
    "dtc_model.score(X3_test,y_test)"
   ]
  },
  {
   "cell_type": "code",
   "execution_count": 63,
   "metadata": {
    "collapsed": false
   },
   "outputs": [
    {
     "data": {
      "text/plain": [
       "0.10287756626483502"
      ]
     },
     "execution_count": 63,
     "metadata": {},
     "output_type": "execute_result"
    }
   ],
   "source": [
    "cross_val_score(dtc_model, X3_train,y_train).mean()"
   ]
  },
  {
   "cell_type": "code",
   "execution_count": 64,
   "metadata": {
    "collapsed": false
   },
   "outputs": [
    {
     "data": {
      "text/plain": [
       "0.094696969696969696"
      ]
     },
     "execution_count": 64,
     "metadata": {},
     "output_type": "execute_result"
    }
   ],
   "source": [
    "dtc_model.fit(X4_train,y_train)\n",
    "dtc_model.score(X4_test,y_test)"
   ]
  },
  {
   "cell_type": "code",
   "execution_count": 65,
   "metadata": {
    "collapsed": false
   },
   "outputs": [
    {
     "data": {
      "text/plain": [
       "0.12749231235204767"
      ]
     },
     "execution_count": 65,
     "metadata": {},
     "output_type": "execute_result"
    }
   ],
   "source": [
    "cross_val_score(dtc_model, X4_train,y_train).mean()"
   ]
  },
  {
   "cell_type": "markdown",
   "metadata": {},
   "source": [
    "Hm, alright; it seems like none of them are good; SMILE."
   ]
  },
  {
   "cell_type": "markdown",
   "metadata": {},
   "source": [
    "#### Random Forest"
   ]
  },
  {
   "cell_type": "code",
   "execution_count": 66,
   "metadata": {
    "collapsed": true
   },
   "outputs": [],
   "source": [
    "rfc_model=RandomForestClassifier()"
   ]
  },
  {
   "cell_type": "code",
   "execution_count": 67,
   "metadata": {
    "collapsed": false
   },
   "outputs": [
    {
     "data": {
      "text/plain": [
       "0.13825757575757575"
      ]
     },
     "execution_count": 67,
     "metadata": {},
     "output_type": "execute_result"
    }
   ],
   "source": [
    "rfc_model.fit(X1_train,y_train)\n",
    "rfc_model.score(X1_test,y_test)"
   ]
  },
  {
   "cell_type": "code",
   "execution_count": 68,
   "metadata": {
    "collapsed": false
   },
   "outputs": [
    {
     "data": {
      "text/plain": [
       "0.18036792928584847"
      ]
     },
     "execution_count": 68,
     "metadata": {},
     "output_type": "execute_result"
    }
   ],
   "source": [
    "cross_val_score(rfc_model, X1_train,y_train).mean()"
   ]
  },
  {
   "cell_type": "code",
   "execution_count": 69,
   "metadata": {
    "collapsed": false
   },
   "outputs": [
    {
     "data": {
      "text/plain": [
       "0.1553030303030303"
      ]
     },
     "execution_count": 69,
     "metadata": {},
     "output_type": "execute_result"
    }
   ],
   "source": [
    "rfc_model.fit(X2_train,y_train)\n",
    "rfc_model.score(X2_test,y_test)"
   ]
  },
  {
   "cell_type": "code",
   "execution_count": 70,
   "metadata": {
    "collapsed": false
   },
   "outputs": [
    {
     "data": {
      "text/plain": [
       "0.16450899719422638"
      ]
     },
     "execution_count": 70,
     "metadata": {},
     "output_type": "execute_result"
    }
   ],
   "source": [
    "cross_val_score(rfc_model, X2_train,y_train).mean()"
   ]
  },
  {
   "cell_type": "code",
   "execution_count": 71,
   "metadata": {
    "collapsed": false
   },
   "outputs": [
    {
     "data": {
      "text/plain": [
       "0.14015151515151514"
      ]
     },
     "execution_count": 71,
     "metadata": {},
     "output_type": "execute_result"
    }
   ],
   "source": [
    "rfc_model.fit(X3_train,y_train)\n",
    "rfc_model.score(X3_test,y_test)"
   ]
  },
  {
   "cell_type": "code",
   "execution_count": 72,
   "metadata": {
    "collapsed": false
   },
   "outputs": [
    {
     "data": {
      "text/plain": [
       "0.17000969781663977"
      ]
     },
     "execution_count": 72,
     "metadata": {},
     "output_type": "execute_result"
    }
   ],
   "source": [
    "cross_val_score(rfc_model, X3_train,y_train).mean()"
   ]
  },
  {
   "cell_type": "code",
   "execution_count": 73,
   "metadata": {
    "collapsed": false,
    "scrolled": true
   },
   "outputs": [
    {
     "data": {
      "text/plain": [
       "0.14962121212121213"
      ]
     },
     "execution_count": 73,
     "metadata": {},
     "output_type": "execute_result"
    }
   ],
   "source": [
    "rfc_model.fit(X4_train,y_train)\n",
    "rfc_model.score(X4_test,y_test)"
   ]
  },
  {
   "cell_type": "code",
   "execution_count": 74,
   "metadata": {
    "collapsed": false
   },
   "outputs": [
    {
     "data": {
      "text/plain": [
       "0.16062856537066886"
      ]
     },
     "execution_count": 74,
     "metadata": {},
     "output_type": "execute_result"
    }
   ],
   "source": [
    "cross_val_score(rfc_model, X3_train,y_train).mean()"
   ]
  },
  {
   "cell_type": "code",
   "execution_count": 85,
   "metadata": {
    "collapsed": false
   },
   "outputs": [
    {
     "data": {
      "text/plain": [
       "0.13257575757575757"
      ]
     },
     "execution_count": 85,
     "metadata": {},
     "output_type": "execute_result"
    }
   ],
   "source": [
    "rfc_model.fit(X5_train,y_train)\n",
    "rfc_model.score(X5_test,y_test)"
   ]
  },
  {
   "cell_type": "code",
   "execution_count": 86,
   "metadata": {
    "collapsed": false
   },
   "outputs": [
    {
     "data": {
      "text/plain": [
       "0.16766789024028472"
      ]
     },
     "execution_count": 86,
     "metadata": {},
     "output_type": "execute_result"
    }
   ],
   "source": [
    "cross_val_score(rfc_model, X5_train,y_train).mean()"
   ]
  },
  {
   "cell_type": "markdown",
   "metadata": {},
   "source": [
    "These are incredibly bad ..."
   ]
  },
  {
   "cell_type": "markdown",
   "metadata": {},
   "source": [
    "#### Boosting"
   ]
  },
  {
   "cell_type": "markdown",
   "metadata": {},
   "source": [
    "Boosting (convert weak learners to strong learners) - classifier for classification and regressor for regression"
   ]
  },
  {
   "cell_type": "markdown",
   "metadata": {},
   "source": [
    "##### Ada Boost"
   ]
  },
  {
   "cell_type": "code",
   "execution_count": 75,
   "metadata": {
    "collapsed": false
   },
   "outputs": [
    {
     "data": {
      "text/plain": [
       "0.32664363340484809"
      ]
     },
     "execution_count": 75,
     "metadata": {},
     "output_type": "execute_result"
    }
   ],
   "source": [
    "ada_boost_model = AdaBoostClassifier(n_estimators=10)\n",
    "cross_val_score(ada_boost_model, X1_train,y_train).mean()"
   ]
  },
  {
   "cell_type": "code",
   "execution_count": 76,
   "metadata": {
    "collapsed": false
   },
   "outputs": [
    {
     "data": {
      "text/plain": [
       "0.32491651768809504"
      ]
     },
     "execution_count": 76,
     "metadata": {},
     "output_type": "execute_result"
    }
   ],
   "source": [
    "cross_val_score(ada_boost_model, X2_train,y_train).mean()"
   ]
  },
  {
   "cell_type": "code",
   "execution_count": 77,
   "metadata": {
    "collapsed": false
   },
   "outputs": [
    {
     "data": {
      "text/plain": [
       "0.32790149504006821"
      ]
     },
     "execution_count": 77,
     "metadata": {},
     "output_type": "execute_result"
    }
   ],
   "source": [
    "cross_val_score(ada_boost_model, X3_train,y_train).mean()"
   ]
  },
  {
   "cell_type": "code",
   "execution_count": 78,
   "metadata": {
    "collapsed": false
   },
   "outputs": [
    {
     "data": {
      "text/plain": [
       "0.32790149504006821"
      ]
     },
     "execution_count": 78,
     "metadata": {},
     "output_type": "execute_result"
    }
   ],
   "source": [
    "cross_val_score(ada_boost_model, X4_train,y_train).mean()"
   ]
  },
  {
   "cell_type": "markdown",
   "metadata": {},
   "source": [
    "##### Gradient Boosting"
   ]
  },
  {
   "cell_type": "code",
   "execution_count": 79,
   "metadata": {
    "collapsed": false
   },
   "outputs": [
    {
     "data": {
      "text/plain": [
       "0.032675537259631272"
      ]
     },
     "execution_count": 79,
     "metadata": {},
     "output_type": "execute_result"
    }
   ],
   "source": [
    "gbc_model = GradientBoostingClassifier(n_estimators=10)\n",
    "cross_val_score(gbc_model, X1_train,y_train).mean()"
   ]
  },
  {
   "cell_type": "code",
   "execution_count": null,
   "metadata": {
    "collapsed": false
   },
   "outputs": [],
   "source": [
    "cross_val_score(gbc_model, X2_train,y_train).mean()"
   ]
  },
  {
   "cell_type": "code",
   "execution_count": null,
   "metadata": {
    "collapsed": false
   },
   "outputs": [],
   "source": [
    "cross_val_score(gbc_model, X3_train,y_train).mean()"
   ]
  },
  {
   "cell_type": "code",
   "execution_count": null,
   "metadata": {
    "collapsed": false
   },
   "outputs": [],
   "source": [
    "cross_val_score(gbc_model, X4_train,y_train).mean()"
   ]
  },
  {
   "cell_type": "markdown",
   "metadata": {},
   "source": [
    "Let's try to optimize this poor model"
   ]
  },
  {
   "cell_type": "code",
   "execution_count": 87,
   "metadata": {
    "collapsed": false
   },
   "outputs": [
    {
     "name": "stdout",
     "output_type": "stream",
     "text": [
      "CPU times: user 2 µs, sys: 1 µs, total: 3 µs\n",
      "Wall time: 5.01 µs\n"
     ]
    }
   ],
   "source": [
    "%time\n",
    "scores = []\n",
    "for n in [1, 2, 3, 5, 10, 20, 50, 100, 200, 300]:\n",
    "    for criterion in ['gini', 'entropy']:\n",
    "        start_time = time.time()  # let's time it, to see how long running a forest takes\n",
    "        r_model = RandomForestClassifier(n_estimators=n, criterion=criterion)\n",
    "        accuracy = cross_val_score(r_model, X3_train,y_train).mean()  # out of sample accuracy\n",
    "        duration = time.time() - start_time\n",
    "        scores.append(dict(n_estimators=n, criterion=criterion, accuracy=accuracy, duration=duration))\n",
    "scores = pd.DataFrame(scores)"
   ]
  },
  {
   "cell_type": "code",
   "execution_count": 88,
   "metadata": {
    "collapsed": false
   },
   "outputs": [
    {
     "data": {
      "text/html": [
       "<div>\n",
       "<table border=\"1\" class=\"dataframe\">\n",
       "  <thead>\n",
       "    <tr style=\"text-align: right;\">\n",
       "      <th></th>\n",
       "      <th>accuracy</th>\n",
       "      <th>criterion</th>\n",
       "      <th>duration</th>\n",
       "      <th>n_estimators</th>\n",
       "    </tr>\n",
       "  </thead>\n",
       "  <tbody>\n",
       "    <tr>\n",
       "      <th>0</th>\n",
       "      <td>0.083637</td>\n",
       "      <td>gini</td>\n",
       "      <td>0.149723</td>\n",
       "      <td>1</td>\n",
       "    </tr>\n",
       "    <tr>\n",
       "      <th>1</th>\n",
       "      <td>0.076375</td>\n",
       "      <td>entropy</td>\n",
       "      <td>0.158701</td>\n",
       "      <td>1</td>\n",
       "    </tr>\n",
       "    <tr>\n",
       "      <th>2</th>\n",
       "      <td>0.088009</td>\n",
       "      <td>gini</td>\n",
       "      <td>0.174316</td>\n",
       "      <td>2</td>\n",
       "    </tr>\n",
       "    <tr>\n",
       "      <th>3</th>\n",
       "      <td>0.068115</td>\n",
       "      <td>entropy</td>\n",
       "      <td>0.209379</td>\n",
       "      <td>2</td>\n",
       "    </tr>\n",
       "    <tr>\n",
       "      <th>4</th>\n",
       "      <td>0.095847</td>\n",
       "      <td>gini</td>\n",
       "      <td>0.234830</td>\n",
       "      <td>3</td>\n",
       "    </tr>\n",
       "    <tr>\n",
       "      <th>5</th>\n",
       "      <td>0.108977</td>\n",
       "      <td>entropy</td>\n",
       "      <td>0.321468</td>\n",
       "      <td>3</td>\n",
       "    </tr>\n",
       "    <tr>\n",
       "      <th>6</th>\n",
       "      <td>0.144562</td>\n",
       "      <td>gini</td>\n",
       "      <td>0.354369</td>\n",
       "      <td>5</td>\n",
       "    </tr>\n",
       "    <tr>\n",
       "      <th>7</th>\n",
       "      <td>0.114532</td>\n",
       "      <td>entropy</td>\n",
       "      <td>0.448854</td>\n",
       "      <td>5</td>\n",
       "    </tr>\n",
       "    <tr>\n",
       "      <th>8</th>\n",
       "      <td>0.161480</td>\n",
       "      <td>gini</td>\n",
       "      <td>0.597718</td>\n",
       "      <td>10</td>\n",
       "    </tr>\n",
       "    <tr>\n",
       "      <th>9</th>\n",
       "      <td>0.145815</td>\n",
       "      <td>entropy</td>\n",
       "      <td>0.751638</td>\n",
       "      <td>10</td>\n",
       "    </tr>\n",
       "    <tr>\n",
       "      <th>10</th>\n",
       "      <td>0.187857</td>\n",
       "      <td>gini</td>\n",
       "      <td>1.029087</td>\n",
       "      <td>20</td>\n",
       "    </tr>\n",
       "    <tr>\n",
       "      <th>11</th>\n",
       "      <td>0.184926</td>\n",
       "      <td>entropy</td>\n",
       "      <td>1.325716</td>\n",
       "      <td>20</td>\n",
       "    </tr>\n",
       "    <tr>\n",
       "      <th>12</th>\n",
       "      <td>0.181587</td>\n",
       "      <td>gini</td>\n",
       "      <td>2.307470</td>\n",
       "      <td>50</td>\n",
       "    </tr>\n",
       "    <tr>\n",
       "      <th>13</th>\n",
       "      <td>0.203228</td>\n",
       "      <td>entropy</td>\n",
       "      <td>3.187595</td>\n",
       "      <td>50</td>\n",
       "    </tr>\n",
       "    <tr>\n",
       "      <th>14</th>\n",
       "      <td>0.206720</td>\n",
       "      <td>gini</td>\n",
       "      <td>4.536408</td>\n",
       "      <td>100</td>\n",
       "    </tr>\n",
       "    <tr>\n",
       "      <th>15</th>\n",
       "      <td>0.197015</td>\n",
       "      <td>entropy</td>\n",
       "      <td>6.308264</td>\n",
       "      <td>100</td>\n",
       "    </tr>\n",
       "    <tr>\n",
       "      <th>16</th>\n",
       "      <td>0.207620</td>\n",
       "      <td>gini</td>\n",
       "      <td>8.981847</td>\n",
       "      <td>200</td>\n",
       "    </tr>\n",
       "    <tr>\n",
       "      <th>17</th>\n",
       "      <td>0.208012</td>\n",
       "      <td>entropy</td>\n",
       "      <td>12.516044</td>\n",
       "      <td>200</td>\n",
       "    </tr>\n",
       "    <tr>\n",
       "      <th>18</th>\n",
       "      <td>0.206285</td>\n",
       "      <td>gini</td>\n",
       "      <td>13.619413</td>\n",
       "      <td>300</td>\n",
       "    </tr>\n",
       "    <tr>\n",
       "      <th>19</th>\n",
       "      <td>0.213624</td>\n",
       "      <td>entropy</td>\n",
       "      <td>18.802636</td>\n",
       "      <td>300</td>\n",
       "    </tr>\n",
       "  </tbody>\n",
       "</table>\n",
       "</div>"
      ],
      "text/plain": [
       "    accuracy criterion   duration  n_estimators\n",
       "0   0.083637      gini   0.149723             1\n",
       "1   0.076375   entropy   0.158701             1\n",
       "2   0.088009      gini   0.174316             2\n",
       "3   0.068115   entropy   0.209379             2\n",
       "4   0.095847      gini   0.234830             3\n",
       "5   0.108977   entropy   0.321468             3\n",
       "6   0.144562      gini   0.354369             5\n",
       "7   0.114532   entropy   0.448854             5\n",
       "8   0.161480      gini   0.597718            10\n",
       "9   0.145815   entropy   0.751638            10\n",
       "10  0.187857      gini   1.029087            20\n",
       "11  0.184926   entropy   1.325716            20\n",
       "12  0.181587      gini   2.307470            50\n",
       "13  0.203228   entropy   3.187595            50\n",
       "14  0.206720      gini   4.536408           100\n",
       "15  0.197015   entropy   6.308264           100\n",
       "16  0.207620      gini   8.981847           200\n",
       "17  0.208012   entropy  12.516044           200\n",
       "18  0.206285      gini  13.619413           300\n",
       "19  0.213624   entropy  18.802636           300"
      ]
     },
     "execution_count": 88,
     "metadata": {},
     "output_type": "execute_result"
    }
   ],
   "source": [
    "scores"
   ]
  },
  {
   "cell_type": "code",
   "execution_count": null,
   "metadata": {
    "collapsed": true
   },
   "outputs": [],
   "source": [
    "models = [\n",
    "    ('Random Forest Classifier',RandomForestClassifier(n_estimators=300))\n",
    "    ,('Gradient Boosting Classifier',GradientBoostingClassifier(n_estimators=300))\n",
    "    ,('Decision Tree Classifier',DecisionTreeClassifier())\n",
    "    ,('Ada Boost Classfier',AdaBoostClassifier())\n",
    "]\n",
    "results = {}\n",
    "for model, clf in models:\n",
    "    score = cross_val_score(clf, X3_train,y_train).mean()\n",
    "    results[model] = score"
   ]
  },
  {
   "cell_type": "code",
   "execution_count": null,
   "metadata": {
    "collapsed": false
   },
   "outputs": [],
   "source": [
    "results"
   ]
  },
  {
   "cell_type": "markdown",
   "metadata": {},
   "source": [
    "### SVM (Support Vector Machine)"
   ]
  },
  {
   "cell_type": "markdown",
   "metadata": {},
   "source": [
    "decision boundary that makes the most sense based on analytic geometry; generalization error = margin (area around line without points) → margin depends only on subset of training data nearest to line → create line with largest margin (maximum margin hyperplane) → convex objective function - take derivative and equal to zero to find max"
   ]
  },
  {
   "cell_type": "code",
   "execution_count": 89,
   "metadata": {
    "collapsed": false
   },
   "outputs": [],
   "source": [
    "from sklearn import svm\n",
    "svm_model = svm.SVC()"
   ]
  },
  {
   "cell_type": "code",
   "execution_count": 90,
   "metadata": {
    "collapsed": false
   },
   "outputs": [
    {
     "data": {
      "text/plain": [
       "0.23295454545454544"
      ]
     },
     "execution_count": 90,
     "metadata": {},
     "output_type": "execute_result"
    }
   ],
   "source": [
    "svm_model.fit(X1_train,y_train)\n",
    "svm_model.score(X1_test,y_test)"
   ]
  },
  {
   "cell_type": "code",
   "execution_count": 91,
   "metadata": {
    "collapsed": false
   },
   "outputs": [
    {
     "data": {
      "text/plain": [
       "0.32790149504006821"
      ]
     },
     "execution_count": 91,
     "metadata": {},
     "output_type": "execute_result"
    }
   ],
   "source": [
    "cross_val_score(svm_model, X1_train,y_train).mean()"
   ]
  },
  {
   "cell_type": "code",
   "execution_count": 96,
   "metadata": {
    "collapsed": false
   },
   "outputs": [
    {
     "data": {
      "text/plain": [
       "0.32790149504006821"
      ]
     },
     "execution_count": 96,
     "metadata": {},
     "output_type": "execute_result"
    }
   ],
   "source": [
    "svm_model.fit(X2_train,y_train)\n",
    "cross_val_score(svm_model, X2_train,y_train).mean()"
   ]
  },
  {
   "cell_type": "code",
   "execution_count": 93,
   "metadata": {
    "collapsed": false
   },
   "outputs": [
    {
     "data": {
      "text/plain": [
       "0.32790149504006821"
      ]
     },
     "execution_count": 93,
     "metadata": {},
     "output_type": "execute_result"
    }
   ],
   "source": [
    "cross_val_score(svm_model, X3_train,y_train).mean()"
   ]
  },
  {
   "cell_type": "code",
   "execution_count": 94,
   "metadata": {
    "collapsed": false
   },
   "outputs": [
    {
     "data": {
      "text/plain": [
       "0.32790149504006821"
      ]
     },
     "execution_count": 94,
     "metadata": {},
     "output_type": "execute_result"
    }
   ],
   "source": [
    "cross_val_score(svm_model, X4_train,y_train).mean()"
   ]
  },
  {
   "cell_type": "markdown",
   "metadata": {},
   "source": [
    "## Categorical Feature - Genre"
   ]
  },
  {
   "cell_type": "markdown",
   "metadata": {},
   "source": [
    "Alright, the other models failed, let's try to add genre into the mix."
   ]
  },
  {
   "cell_type": "code",
   "execution_count": null,
   "metadata": {
    "collapsed": false
   },
   "outputs": [],
   "source": [
    "data.info()"
   ]
  },
  {
   "cell_type": "code",
   "execution_count": 112,
   "metadata": {
    "collapsed": true
   },
   "outputs": [],
   "source": [
    "y, X = dmatrices('song_hotness ~ artist_familiarty + artist_hotness + log_play_count_sum', data=data, return_type='dataframe')"
   ]
  },
  {
   "cell_type": "code",
   "execution_count": 100,
   "metadata": {
    "collapsed": false
   },
   "outputs": [
    {
     "name": "stdout",
     "output_type": "stream",
     "text": [
      "alpha     0.0010  OLS 0.0910 Lasso 0.0912 Ridge 0.0910\n",
      "alpha     0.0100  OLS 0.0910 Lasso 0.0958 Ridge 0.0910\n",
      "alpha     0.1000  OLS 0.0910 Lasso 0.1010 Ridge 0.0910\n",
      "alpha     1.0000  OLS 0.0910 Lasso 0.1119 Ridge 0.0910\n",
      "alpha    10.0000  OLS 0.0910 Lasso 0.1119 Ridge 0.0913\n",
      "alpha   100.0000  OLS 0.0910 Lasso 0.1119 Ridge 0.0938\n",
      "alpha  1000.0000  OLS 0.0910 Lasso 0.1119 Ridge 0.0955\n",
      "alpha 10000.0000  OLS 0.0910 Lasso 0.1119 Ridge 0.0998\n"
     ]
    }
   ],
   "source": [
    "for n in xrange(-3, 5):\n",
    "    alpha = 10 ** n\n",
    "    print \"alpha %10.4f  OLS %.4f Lasso %.4f Ridge %.4f\" % \\\n",
    "        (alpha, \n",
    "         -cross_val_score(LinearRegression(), X, y, cv=10, scoring='mean_absolute_error').mean(),\n",
    "         -cross_val_score(Lasso(alpha), X, y, cv=10, scoring='mean_absolute_error').mean(), \n",
    "         -cross_val_score(Ridge(alpha), X, y, cv=10, scoring='mean_absolute_error').mean())"
   ]
  },
  {
   "cell_type": "code",
   "execution_count": 104,
   "metadata": {
    "collapsed": false
   },
   "outputs": [
    {
     "data": {
      "text/plain": [
       "0.3411228619231772"
      ]
     },
     "execution_count": 104,
     "metadata": {},
     "output_type": "execute_result"
    }
   ],
   "source": [
    "lr = LinearRegression()\n",
    "lr.fit(X, y).score(X, y)"
   ]
  },
  {
   "cell_type": "code",
   "execution_count": 105,
   "metadata": {
    "collapsed": false
   },
   "outputs": [
    {
     "data": {
      "text/plain": [
       "0.33697018595728806"
      ]
     },
     "execution_count": 105,
     "metadata": {},
     "output_type": "execute_result"
    }
   ],
   "source": [
    "cross_val_score(lr, X, y).mean()"
   ]
  },
  {
   "cell_type": "markdown",
   "metadata": {},
   "source": [
    "While it is not great, it is better then what he have gotten so far."
   ]
  },
  {
   "cell_type": "code",
   "execution_count": 106,
   "metadata": {
    "collapsed": true
   },
   "outputs": [],
   "source": [
    "y, X = dmatrices('song_hotness ~ artist_familiarty + artist_hotness + genre_id', data=data, return_type='dataframe')"
   ]
  },
  {
   "cell_type": "code",
   "execution_count": 107,
   "metadata": {
    "collapsed": false
   },
   "outputs": [
    {
     "data": {
      "text/plain": [
       "0.27140121382742377"
      ]
     },
     "execution_count": 107,
     "metadata": {},
     "output_type": "execute_result"
    }
   ],
   "source": [
    "lr = LinearRegression()\n",
    "lr.fit(X, y).score(X, y)"
   ]
  },
  {
   "cell_type": "code",
   "execution_count": 108,
   "metadata": {
    "collapsed": false
   },
   "outputs": [
    {
     "data": {
      "text/plain": [
       "-8.522415797318901e+21"
      ]
     },
     "execution_count": 108,
     "metadata": {},
     "output_type": "execute_result"
    }
   ],
   "source": [
    "cross_val_score(lr, X, y).mean()"
   ]
  },
  {
   "cell_type": "code",
   "execution_count": 109,
   "metadata": {
    "collapsed": true
   },
   "outputs": [],
   "source": [
    "y, X = dmatrices('song_hotness ~ artist_familiarty + artist_hotness + genre_id + log_play_count_sum', data=data, return_type='dataframe')"
   ]
  },
  {
   "cell_type": "code",
   "execution_count": 110,
   "metadata": {
    "collapsed": false
   },
   "outputs": [
    {
     "data": {
      "text/plain": [
       "0.37142041316000396"
      ]
     },
     "execution_count": 110,
     "metadata": {},
     "output_type": "execute_result"
    }
   ],
   "source": [
    "lr = LinearRegression()\n",
    "lr.fit(X, y).score(X, y)"
   ]
  },
  {
   "cell_type": "code",
   "execution_count": 111,
   "metadata": {
    "collapsed": false
   },
   "outputs": [
    {
     "data": {
      "text/plain": [
       "-4.3298781184021029e+21"
      ]
     },
     "execution_count": 111,
     "metadata": {},
     "output_type": "execute_result"
    }
   ],
   "source": [
    "cross_val_score(lr, X, y).mean()"
   ]
  },
  {
   "cell_type": "markdown",
   "metadata": {},
   "source": [
    "Genre did not really help much, but hello close to 40% ... definitely following a trial and error approach here"
   ]
  },
  {
   "cell_type": "code",
   "execution_count": 113,
   "metadata": {
    "collapsed": false
   },
   "outputs": [
    {
     "name": "stdout",
     "output_type": "stream",
     "text": [
      "0.318\n",
      "0.391\n",
      "0.313\n",
      "0.333\n",
      "0.384\n",
      "0.392\n",
      "0.345\n",
      "0.361\n",
      "0.256\n",
      "0.3\n"
     ]
    }
   ],
   "source": [
    "for k in xrange(10):\n",
    "    X_train, X_test, y_train, y_test = train_test_split(X, y, train_size=.8)\n",
    "    print lr.fit(X_train, y_train).score(X_test, y_test).round(3)"
   ]
  },
  {
   "cell_type": "markdown",
   "metadata": {},
   "source": [
    "I should probably be concerned about the very negative numbers ... "
   ]
  },
  {
   "cell_type": "markdown",
   "metadata": {},
   "source": [
    "New motto:\n",
    "\"I have not failed. I've just found 10,000 ways that won't work.\" Thomas A. Edison"
   ]
  },
  {
   "cell_type": "code",
   "execution_count": 114,
   "metadata": {
    "collapsed": true
   },
   "outputs": [],
   "source": [
    "y, X = dmatrices('song_hotness ~ artist_familiarty + artist_hotness + genre_id + log_play_count_sum + bars_number', data=data, return_type='dataframe')"
   ]
  },
  {
   "cell_type": "code",
   "execution_count": 115,
   "metadata": {
    "collapsed": false
   },
   "outputs": [
    {
     "data": {
      "text/plain": [
       "0.37178314522570199"
      ]
     },
     "execution_count": 115,
     "metadata": {},
     "output_type": "execute_result"
    }
   ],
   "source": [
    "lr = LinearRegression()\n",
    "lr.fit(X, y).score(X, y)"
   ]
  },
  {
   "cell_type": "code",
   "execution_count": 116,
   "metadata": {
    "collapsed": false
   },
   "outputs": [
    {
     "name": "stdout",
     "output_type": "stream",
     "text": [
      "0.319\n",
      "0.384\n",
      "0.339\n",
      "0.346\n",
      "0.384\n",
      "0.358\n",
      "0.368\n",
      "0.381\n",
      "0.343\n",
      "0.333\n"
     ]
    }
   ],
   "source": [
    "for k in xrange(10):\n",
    "    X_train, X_test, y_train, y_test = train_test_split(X, y, train_size=.8)\n",
    "    print lr.fit(X_train, y_train).score(X_test, y_test).round(3)"
   ]
  },
  {
   "cell_type": "code",
   "execution_count": 117,
   "metadata": {
    "collapsed": true
   },
   "outputs": [],
   "source": [
    "y, X = dmatrices('song_hotness ~ artist_familiarty + genre_id + artist_hotness + song_modes + song_time_signatures + log_play_count_sum', data=data, return_type='dataframe')"
   ]
  },
  {
   "cell_type": "code",
   "execution_count": 118,
   "metadata": {
    "collapsed": false
   },
   "outputs": [
    {
     "data": {
      "text/plain": [
       "0.37215371698224342"
      ]
     },
     "execution_count": 118,
     "metadata": {},
     "output_type": "execute_result"
    }
   ],
   "source": [
    "lr = LinearRegression()\n",
    "lr.fit(X, y).score(X, y)"
   ]
  },
  {
   "cell_type": "code",
   "execution_count": 119,
   "metadata": {
    "collapsed": false
   },
   "outputs": [
    {
     "name": "stdout",
     "output_type": "stream",
     "text": [
      "0.29\n",
      "0.377\n",
      "-1.41944142967e+21\n",
      "0.323\n",
      "0.379\n",
      "0.33\n",
      "0.363\n",
      "0.299\n",
      "-7.16088694186e+22\n",
      "0.399\n"
     ]
    }
   ],
   "source": [
    "for k in xrange(10):\n",
    "    X_train, X_test, y_train, y_test = train_test_split(X, y, train_size=.8)\n",
    "    print lr.fit(X_train, y_train).score(X_test, y_test).round(3)"
   ]
  },
  {
   "cell_type": "markdown",
   "metadata": {},
   "source": [
    "I want to cry! There is one 40%"
   ]
  },
  {
   "cell_type": "markdown",
   "metadata": {},
   "source": [
    "Other option to include genre_id\n",
    "\n",
    "```python\n",
    "from sklearn.feature_extraction import DictVectorizer\n",
    "categorical_feature = data[['genre_id']]\n",
    "dv = DictVectorizer()\n",
    "cat_matrix = dv.fit_transform(categorical_features.T.to_dict().values())\n",
    "```"
   ]
  },
  {
   "cell_type": "code",
   "execution_count": 120,
   "metadata": {
    "collapsed": false
   },
   "outputs": [
    {
     "data": {
      "text/html": [
       "<table class=\"simpletable\">\n",
       "<caption>OLS Regression Results</caption>\n",
       "<tr>\n",
       "  <th>Dep. Variable:</th>      <td>song_hotness</td>   <th>  R-squared:         </th> <td>   0.372</td> \n",
       "</tr>\n",
       "<tr>\n",
       "  <th>Model:</th>                   <td>OLS</td>       <th>  Adj. R-squared:    </th> <td>   0.363</td> \n",
       "</tr>\n",
       "<tr>\n",
       "  <th>Method:</th>             <td>Least Squares</td>  <th>  F-statistic:       </th> <td>   42.85</td> \n",
       "</tr>\n",
       "<tr>\n",
       "  <th>Date:</th>             <td>Mon, 30 May 2016</td> <th>  Prob (F-statistic):</th> <td>4.76e-156</td>\n",
       "</tr>\n",
       "<tr>\n",
       "  <th>Time:</th>                 <td>21:17:13</td>     <th>  Log-Likelihood:    </th> <td>  1343.9</td> \n",
       "</tr>\n",
       "<tr>\n",
       "  <th>No. Observations:</th>      <td>  1760</td>      <th>  AIC:               </th> <td>  -2638.</td> \n",
       "</tr>\n",
       "<tr>\n",
       "  <th>Df Residuals:</th>          <td>  1735</td>      <th>  BIC:               </th> <td>  -2501.</td> \n",
       "</tr>\n",
       "<tr>\n",
       "  <th>Df Model:</th>              <td>    24</td>      <th>                     </th>     <td> </td>    \n",
       "</tr>\n",
       "<tr>\n",
       "  <th>Covariance Type:</th>      <td>nonrobust</td>    <th>                     </th>     <td> </td>    \n",
       "</tr>\n",
       "</table>\n",
       "<table class=\"simpletable\">\n",
       "<tr>\n",
       "               <td></td>                 <th>coef</th>     <th>std err</th>      <th>t</th>      <th>P>|t|</th> <th>[95.0% Conf. Int.]</th> \n",
       "</tr>\n",
       "<tr>\n",
       "  <th>Intercept</th>                  <td>    0.2397</td> <td>    0.115</td> <td>    2.092</td> <td> 0.037</td> <td>    0.015     0.464</td>\n",
       "</tr>\n",
       "<tr>\n",
       "  <th>genre_id[T.Blues]</th>          <td>   -0.0322</td> <td>    0.115</td> <td>   -0.280</td> <td> 0.780</td> <td>   -0.258     0.194</td>\n",
       "</tr>\n",
       "<tr>\n",
       "  <th>genre_id[T.Children]</th>       <td>   -0.0722</td> <td>    0.123</td> <td>   -0.587</td> <td> 0.557</td> <td>   -0.313     0.169</td>\n",
       "</tr>\n",
       "<tr>\n",
       "  <th>genre_id[T.Classical]</th>      <td>   -0.1045</td> <td>    0.139</td> <td>   -0.751</td> <td> 0.453</td> <td>   -0.378     0.168</td>\n",
       "</tr>\n",
       "<tr>\n",
       "  <th>genre_id[T.Comedy_Spoken]</th>  <td>   -0.0365</td> <td>    0.117</td> <td>   -0.312</td> <td> 0.755</td> <td>   -0.266     0.193</td>\n",
       "</tr>\n",
       "<tr>\n",
       "  <th>genre_id[T.Country]</th>        <td>   -0.0502</td> <td>    0.115</td> <td>   -0.438</td> <td> 0.662</td> <td>   -0.275     0.175</td>\n",
       "</tr>\n",
       "<tr>\n",
       "  <th>genre_id[T.Easy_Listening]</th> <td>   -0.1135</td> <td>    0.131</td> <td>   -0.864</td> <td> 0.387</td> <td>   -0.371     0.144</td>\n",
       "</tr>\n",
       "<tr>\n",
       "  <th>genre_id[T.Electronic]</th>     <td>    0.0015</td> <td>    0.114</td> <td>    0.013</td> <td> 0.990</td> <td>   -0.223     0.226</td>\n",
       "</tr>\n",
       "<tr>\n",
       "  <th>genre_id[T.Folk]</th>           <td>   -0.0152</td> <td>    0.118</td> <td>   -0.129</td> <td> 0.898</td> <td>   -0.246     0.216</td>\n",
       "</tr>\n",
       "<tr>\n",
       "  <th>genre_id[T.International]</th>  <td>   -0.0217</td> <td>    0.115</td> <td>   -0.189</td> <td> 0.851</td> <td>   -0.247     0.204</td>\n",
       "</tr>\n",
       "<tr>\n",
       "  <th>genre_id[T.Jazz]</th>           <td>   -0.0100</td> <td>    0.115</td> <td>   -0.087</td> <td> 0.931</td> <td>   -0.235     0.215</td>\n",
       "</tr>\n",
       "<tr>\n",
       "  <th>genre_id[T.Latin]</th>          <td>   -0.0592</td> <td>    0.114</td> <td>   -0.517</td> <td> 0.605</td> <td>   -0.283     0.165</td>\n",
       "</tr>\n",
       "<tr>\n",
       "  <th>genre_id[T.New Age]</th>        <td>   -0.0754</td> <td>    0.116</td> <td>   -0.649</td> <td> 0.517</td> <td>   -0.303     0.153</td>\n",
       "</tr>\n",
       "<tr>\n",
       "  <th>genre_id[T.Pop_Rock]</th>       <td>    0.0043</td> <td>    0.114</td> <td>    0.038</td> <td> 0.970</td> <td>   -0.219     0.228</td>\n",
       "</tr>\n",
       "<tr>\n",
       "  <th>genre_id[T.Rap]</th>            <td>   -0.0324</td> <td>    0.114</td> <td>   -0.283</td> <td> 0.777</td> <td>   -0.257     0.192</td>\n",
       "</tr>\n",
       "<tr>\n",
       "  <th>genre_id[T.Reggae]</th>         <td>   -0.0557</td> <td>    0.115</td> <td>   -0.484</td> <td> 0.629</td> <td>   -0.281     0.170</td>\n",
       "</tr>\n",
       "<tr>\n",
       "  <th>genre_id[T.Religious]</th>      <td>   -0.0648</td> <td>    0.115</td> <td>   -0.566</td> <td> 0.571</td> <td>   -0.289     0.160</td>\n",
       "</tr>\n",
       "<tr>\n",
       "  <th>genre_id[T.RnB]</th>            <td>   -0.0224</td> <td>    0.115</td> <td>   -0.194</td> <td> 0.846</td> <td>   -0.248     0.203</td>\n",
       "</tr>\n",
       "<tr>\n",
       "  <th>genre_id[T.Stage ]</th>         <td>   -0.0655</td> <td>    0.120</td> <td>   -0.546</td> <td> 0.585</td> <td>   -0.301     0.170</td>\n",
       "</tr>\n",
       "<tr>\n",
       "  <th>genre_id[T.Vocal]</th>          <td>   -0.0307</td> <td>    0.123</td> <td>   -0.249</td> <td> 0.803</td> <td>   -0.272     0.211</td>\n",
       "</tr>\n",
       "<tr>\n",
       "  <th>artist_familiarty</th>          <td>    0.2174</td> <td>    0.037</td> <td>    5.915</td> <td> 0.000</td> <td>    0.145     0.289</td>\n",
       "</tr>\n",
       "<tr>\n",
       "  <th>artist_hotness</th>             <td>    0.0756</td> <td>    0.041</td> <td>    1.836</td> <td> 0.067</td> <td>   -0.005     0.156</td>\n",
       "</tr>\n",
       "<tr>\n",
       "  <th>song_modes</th>                 <td>    0.0069</td> <td>    0.006</td> <td>    1.169</td> <td> 0.243</td> <td>   -0.005     0.018</td>\n",
       "</tr>\n",
       "<tr>\n",
       "  <th>song_time_signatures</th>       <td>    0.0020</td> <td>    0.002</td> <td>    0.852</td> <td> 0.394</td> <td>   -0.003     0.007</td>\n",
       "</tr>\n",
       "<tr>\n",
       "  <th>log_play_count_sum</th>         <td>    0.0248</td> <td>    0.001</td> <td>   16.583</td> <td> 0.000</td> <td>    0.022     0.028</td>\n",
       "</tr>\n",
       "</table>\n",
       "<table class=\"simpletable\">\n",
       "<tr>\n",
       "  <th>Omnibus:</th>       <td>30.154</td> <th>  Durbin-Watson:     </th> <td>   2.096</td>\n",
       "</tr>\n",
       "<tr>\n",
       "  <th>Prob(Omnibus):</th> <td> 0.000</td> <th>  Jarque-Bera (JB):  </th> <td>  31.259</td>\n",
       "</tr>\n",
       "<tr>\n",
       "  <th>Skew:</th>          <td>-0.321</td> <th>  Prob(JB):          </th> <td>1.63e-07</td>\n",
       "</tr>\n",
       "<tr>\n",
       "  <th>Kurtosis:</th>      <td> 3.117</td> <th>  Cond. No.          </th> <td>1.09e+03</td>\n",
       "</tr>\n",
       "</table>"
      ],
      "text/plain": [
       "<class 'statsmodels.iolib.summary.Summary'>\n",
       "\"\"\"\n",
       "                            OLS Regression Results                            \n",
       "==============================================================================\n",
       "Dep. Variable:           song_hotness   R-squared:                       0.372\n",
       "Model:                            OLS   Adj. R-squared:                  0.363\n",
       "Method:                 Least Squares   F-statistic:                     42.85\n",
       "Date:                Mon, 30 May 2016   Prob (F-statistic):          4.76e-156\n",
       "Time:                        21:17:13   Log-Likelihood:                 1343.9\n",
       "No. Observations:                1760   AIC:                            -2638.\n",
       "Df Residuals:                    1735   BIC:                            -2501.\n",
       "Df Model:                          24                                         \n",
       "Covariance Type:            nonrobust                                         \n",
       "==============================================================================================\n",
       "                                 coef    std err          t      P>|t|      [95.0% Conf. Int.]\n",
       "----------------------------------------------------------------------------------------------\n",
       "Intercept                      0.2397      0.115      2.092      0.037         0.015     0.464\n",
       "genre_id[T.Blues]             -0.0322      0.115     -0.280      0.780        -0.258     0.194\n",
       "genre_id[T.Children]          -0.0722      0.123     -0.587      0.557        -0.313     0.169\n",
       "genre_id[T.Classical]         -0.1045      0.139     -0.751      0.453        -0.378     0.168\n",
       "genre_id[T.Comedy_Spoken]     -0.0365      0.117     -0.312      0.755        -0.266     0.193\n",
       "genre_id[T.Country]           -0.0502      0.115     -0.438      0.662        -0.275     0.175\n",
       "genre_id[T.Easy_Listening]    -0.1135      0.131     -0.864      0.387        -0.371     0.144\n",
       "genre_id[T.Electronic]         0.0015      0.114      0.013      0.990        -0.223     0.226\n",
       "genre_id[T.Folk]              -0.0152      0.118     -0.129      0.898        -0.246     0.216\n",
       "genre_id[T.International]     -0.0217      0.115     -0.189      0.851        -0.247     0.204\n",
       "genre_id[T.Jazz]              -0.0100      0.115     -0.087      0.931        -0.235     0.215\n",
       "genre_id[T.Latin]             -0.0592      0.114     -0.517      0.605        -0.283     0.165\n",
       "genre_id[T.New Age]           -0.0754      0.116     -0.649      0.517        -0.303     0.153\n",
       "genre_id[T.Pop_Rock]           0.0043      0.114      0.038      0.970        -0.219     0.228\n",
       "genre_id[T.Rap]               -0.0324      0.114     -0.283      0.777        -0.257     0.192\n",
       "genre_id[T.Reggae]            -0.0557      0.115     -0.484      0.629        -0.281     0.170\n",
       "genre_id[T.Religious]         -0.0648      0.115     -0.566      0.571        -0.289     0.160\n",
       "genre_id[T.RnB]               -0.0224      0.115     -0.194      0.846        -0.248     0.203\n",
       "genre_id[T.Stage ]            -0.0655      0.120     -0.546      0.585        -0.301     0.170\n",
       "genre_id[T.Vocal]             -0.0307      0.123     -0.249      0.803        -0.272     0.211\n",
       "artist_familiarty              0.2174      0.037      5.915      0.000         0.145     0.289\n",
       "artist_hotness                 0.0756      0.041      1.836      0.067        -0.005     0.156\n",
       "song_modes                     0.0069      0.006      1.169      0.243        -0.005     0.018\n",
       "song_time_signatures           0.0020      0.002      0.852      0.394        -0.003     0.007\n",
       "log_play_count_sum             0.0248      0.001     16.583      0.000         0.022     0.028\n",
       "==============================================================================\n",
       "Omnibus:                       30.154   Durbin-Watson:                   2.096\n",
       "Prob(Omnibus):                  0.000   Jarque-Bera (JB):               31.259\n",
       "Skew:                          -0.321   Prob(JB):                     1.63e-07\n",
       "Kurtosis:                       3.117   Cond. No.                     1.09e+03\n",
       "==============================================================================\n",
       "\n",
       "Warnings:\n",
       "[1] Standard Errors assume that the covariance matrix of the errors is correctly specified.\n",
       "[2] The condition number is large, 1.09e+03. This might indicate that there are\n",
       "strong multicollinearity or other numerical problems.\n",
       "\"\"\""
      ]
     },
     "execution_count": 120,
     "metadata": {},
     "output_type": "execute_result"
    }
   ],
   "source": [
    "model = sm.ols(formula=\"song_hotness ~ artist_familiarty + genre_id + artist_hotness + song_modes + song_time_signatures + log_play_count_sum\", data=data).fit()\n",
    "model.summary()"
   ]
  },
  {
   "cell_type": "markdown",
   "metadata": {},
   "source": [
    "I did some research to see, what the average R-squared is for predicting music taste. I found that mood is a very good predictor; would have needed the k-means on the lyrics for that - damn you expired Echonest API!\n",
    "\n",
    "https://books.google.com/books?id=_zc3vKDLUNIC&pg=PA157&lpg=PA157&dq=R-squared+for+predicting+music&source=bl&ots=dUoTzH54JJ&sig=N01LAbXRoaAP4Bwp9_Kyr-UE6rA&hl=en&sa=X&ved=0ahUKEwj99N6E8YDNAhWCox4KHdmxBIwQ6AEIPjAE#v=onepage&q=R-squared%20for%20predicting%20music&f=false"
   ]
  },
  {
   "cell_type": "markdown",
   "metadata": {},
   "source": [
    "Let's use some seaborn, just because we can. Generally, when you are lost, use some seaborn ... "
   ]
  },
  {
   "cell_type": "code",
   "execution_count": 121,
   "metadata": {
    "collapsed": false
   },
   "outputs": [
    {
     "data": {
      "image/png": "[encoded data removed]",
      "text/plain": [
       "<matplotlib.figure.Figure at 0x110b5db50>"
      ]
     },
     "metadata": {},
     "output_type": "display_data"
    }
   ],
   "source": [
    "f = sb.lmplot(x = 'song_hotness', y='artist_familiarty', data=data, ci=95)\n",
    "f = plt.title(\"song_hotness vs artist_familiarty\")"
   ]
  },
  {
   "cell_type": "code",
   "execution_count": 122,
   "metadata": {
    "collapsed": false
   },
   "outputs": [
    {
     "data": {
      "image/png": "[encoded data removed]",
      "text/plain": [
       "<matplotlib.figure.Figure at 0x110a6da10>"
      ]
     },
     "metadata": {},
     "output_type": "display_data"
    }
   ],
   "source": [
    "f = sb.lmplot(x = 'song_hotness', y='artist_hotness', data=data, ci=95)\n",
    "f = plt.title(\"song_hotness vs artist_familiarty\")"
   ]
  },
  {
   "cell_type": "code",
   "execution_count": 123,
   "metadata": {
    "collapsed": false
   },
   "outputs": [
    {
     "data": {
      "image/png": "[encoded data removed]",
      "text/plain": [
       "<matplotlib.figure.Figure at 0x110ec2bd0>"
      ]
     },
     "metadata": {},
     "output_type": "display_data"
    }
   ],
   "source": [
    "f = sb.lmplot(x = 'song_hotness', y='artist_hotness', col='genre_id', data=data)"
   ]
  },
  {
   "cell_type": "markdown",
   "metadata": {},
   "source": [
    "might be my favorite graph! (*wink)"
   ]
  },
  {
   "cell_type": "markdown",
   "metadata": {},
   "source": [
    "### Regularization"
   ]
  },
  {
   "cell_type": "markdown",
   "metadata": {},
   "source": [
    "The moment has come ... reguralization"
   ]
  },
  {
   "cell_type": "code",
   "execution_count": null,
   "metadata": {
    "collapsed": true
   },
   "outputs": [],
   "source": [
    "degree = 4\n",
    "modelchen = make_pipeline(StandardScaler(), PolynomialFeatures(degree), LinearRegression()).fit(X, y)"
   ]
  },
  {
   "cell_type": "code",
   "execution_count": null,
   "metadata": {
    "collapsed": false
   },
   "outputs": [],
   "source": [
    "modelchen.score(X, y)"
   ]
  },
  {
   "cell_type": "code",
   "execution_count": null,
   "metadata": {
    "collapsed": false
   },
   "outputs": [],
   "source": [
    "cross_val_score(modelchen, X,y).mean()"
   ]
  },
  {
   "cell_type": "markdown",
   "metadata": {},
   "source": [
    "\"modelchen\" is a sweeter version of model in German"
   ]
  },
  {
   "cell_type": "code",
   "execution_count": null,
   "metadata": {
    "collapsed": false
   },
   "outputs": [],
   "source": [
    "for degree in [1, 2, 3, 4, 5]:\n",
    "    model = make_pipeline(StandardScaler(), PolynomialFeatures(degree), LinearRegression())\n",
    "    # Compute a few R2 scores and print average performance\n",
    "    scores = []\n",
    "    for _ in xrange(15):\n",
    "        X_train, X_test, y_train, y_test = train_test_split(X, y, train_size=.7)\n",
    "        scores.append(model.fit(X_train, y_train).score(X_test, y_test))\n",
    "    print \"For degree\", degree, \", R2 =\", np.mean(scores)"
   ]
  },
  {
   "cell_type": "markdown",
   "metadata": {},
   "source": [
    "\"You'll need regularization when your model is complex, which happens when you have little data or many features.\"\n",
    "- little data: CHECK\n",
    "- many features: CHECK  \n",
    "conclusion: complex model, we need regularization  \n",
    "At least no worrying about overfitting. "
   ]
  },
  {
   "cell_type": "code",
   "execution_count": null,
   "metadata": {
    "collapsed": false
   },
   "outputs": [],
   "source": [
    "degree =5\n",
    "for alpha in [0.1, 0.2, 0.3, 0.4, 0.5, 0.7, 1,4,5,6]:\n",
    "    for no, my_model in enumerate([LinearRegression(), Ridge(alpha=alpha), Lasso(alpha=alpha)]):\n",
    "        model = make_pipeline(PolynomialFeatures(degree), my_model)    \n",
    "        r2, MSE = [], []\n",
    "        for k in xrange(100):  # Fit a few times the model to different training sets\n",
    "            X_train, X_test, y_train, y_test = train_test_split(X, y, train_size=.7)\n",
    "            r2.append(model.fit(X_train, y_train).score(X_test, y_test))\n",
    "            MSE.append(np.square(y_pred_sample - y_small_sample).sum())"
   ]
  },
  {
   "cell_type": "markdown",
   "metadata": {},
   "source": [
    "##### Lasso"
   ]
  },
  {
   "cell_type": "markdown",
   "metadata": {},
   "source": [
    "Lasso regression imposes an L1 prior on the coefficient, causing many coeffiecients to be zero."
   ]
  },
  {
   "cell_type": "code",
   "execution_count": 124,
   "metadata": {
    "collapsed": false
   },
   "outputs": [
    {
     "name": "stdout",
     "output_type": "stream",
     "text": [
      "For alpha 0.1 , R2 = 0.160097451275\n",
      "For alpha 0.2 , R2 = -0.00257603675913\n",
      "For alpha 0.3 , R2 = -0.00326446023806\n",
      "For alpha 0.4 , R2 = -0.00601877110201\n",
      "For alpha 0.5 , R2 = -0.00237555287477\n",
      "For alpha 0.7 , R2 = -0.00199072664182\n",
      "For alpha 1 , R2 = -0.00166646472096\n",
      "For alpha 4 , R2 = -0.00365227966809\n",
      "For alpha 5 , R2 = -0.00164749090108\n",
      "For alpha 6 , R2 = -0.00218138785261\n"
     ]
    }
   ],
   "source": [
    "for alpha in [0.1, 0.2, 0.3, 0.4, 0.5, 0.7, 1,4,5,6]:\n",
    "    model = Lasso(alpha=alpha)\n",
    "    scores = []\n",
    "    for _ in xrange(15):\n",
    "        X_train, X_test, y_train, y_test = train_test_split(X, y, train_size=.7)\n",
    "        scores.append(model.fit(X_train, y_train).score(X_test, y_test))\n",
    "    print \"For alpha\", alpha, \", R2 =\", np.mean(scores)"
   ]
  },
  {
   "cell_type": "code",
   "execution_count": 125,
   "metadata": {
    "collapsed": true
   },
   "outputs": [],
   "source": [
    "lasso = Lasso (alpha = 0.1)"
   ]
  },
  {
   "cell_type": "code",
   "execution_count": 127,
   "metadata": {
    "collapsed": false
   },
   "outputs": [
    {
     "name": "stdout",
     "output_type": "stream",
     "text": [
      "0.101017678418\n",
      "0.0805986333183\n"
     ]
    }
   ],
   "source": [
    "print -cross_val_score(lasso, X, y, cv=10, scoring=\"mean_absolute_error\").mean()\n",
    "print -np.median(cross_val_score(lasso, X, y, cv=10, scoring=\"median_absolute_error\"))"
   ]
  },
  {
   "cell_type": "markdown",
   "metadata": {},
   "source": [
    "##### RIdge"
   ]
  },
  {
   "cell_type": "markdown",
   "metadata": {},
   "source": [
    "Ridge regression imposes an L2 prior on the coefficient, causing outliers to be less likely, and coeffiecients to be small across the board."
   ]
  },
  {
   "cell_type": "code",
   "execution_count": 131,
   "metadata": {
    "collapsed": false
   },
   "outputs": [
    {
     "name": "stdout",
     "output_type": "stream",
     "text": [
      "For alpha 0.1 , R2 = 0.342215115275\n",
      "For alpha 0.2 , R2 = 0.355449815433\n",
      "For alpha 0.3 , R2 = 0.339669866033\n",
      "For alpha 0.4 , R2 = 0.343295650517\n",
      "For alpha 0.5 , R2 = 0.355257195747\n",
      "For alpha 0.7 , R2 = 0.347254715972\n",
      "For alpha 1 , R2 = 0.352489442264\n",
      "For alpha 4 , R2 = 0.347380326745\n",
      "For alpha 5 , R2 = 0.336565085543\n",
      "For alpha 6 , R2 = 0.34551744957\n",
      "For alpha 7 , R2 = 0.337605300918\n",
      "For alpha 8 , R2 = 0.349492462187\n",
      "For alpha 9 , R2 = 0.348184253729\n",
      "For alpha 10 , R2 = 0.357285724009\n"
     ]
    }
   ],
   "source": [
    "for alpha in [0.1, 0.2, 0.3, 0.4, 0.5, 0.7, 1,4,5,6,7,8,9,10]:\n",
    "    model = Ridge(alpha=alpha)\n",
    "    scores = []\n",
    "    for _ in xrange(15):\n",
    "        X_train, X_test, y_train, y_test = train_test_split(X, y, train_size=.7)\n",
    "        scores.append(model.fit(X_train, y_train).score(X_test, y_test))\n",
    "    print \"For alpha\", alpha, \", R2 =\", np.mean(scores)"
   ]
  },
  {
   "cell_type": "code",
   "execution_count": 132,
   "metadata": {
    "collapsed": true
   },
   "outputs": [],
   "source": [
    "ridge = Ridge (alpha= 0.5)"
   ]
  },
  {
   "cell_type": "code",
   "execution_count": 133,
   "metadata": {
    "collapsed": false
   },
   "outputs": [
    {
     "name": "stdout",
     "output_type": "stream",
     "text": [
      "0.0896892467543\n",
      "0.0708311514759\n"
     ]
    }
   ],
   "source": [
    "print -cross_val_score(ridge, X, y, cv=10, scoring=\"mean_absolute_error\").mean()\n",
    "print -np.median(cross_val_score(ridge, X, y, cv=10, scoring=\"median_absolute_error\"))"
   ]
  },
  {
   "cell_type": "markdown",
   "metadata": {},
   "source": [
    "## k-means clustering"
   ]
  },
  {
   "cell_type": "markdown",
   "metadata": {},
   "source": [
    "Maybe we use the k-means clustering unsupervised machine learning model to create additional features?"
   ]
  },
  {
   "cell_type": "code",
   "execution_count": null,
   "metadata": {
    "collapsed": true
   },
   "outputs": [],
   "source": [
    "from sklearn.feature_extraction import DictVectorizer\n",
    "\n",
    "categorical_features = data[['genre_id']]\n",
    "dv = DictVectorizer()\n",
    "cat_matrix = dv.fit_transform(categorical_features.T.to_dict().values())"
   ]
  },
  {
   "cell_type": "code",
   "execution_count": null,
   "metadata": {
    "collapsed": false
   },
   "outputs": [],
   "source": [
    "categorical_features.head()"
   ]
  },
  {
   "cell_type": "code",
   "execution_count": null,
   "metadata": {
    "collapsed": false
   },
   "outputs": [],
   "source": [
    "data.info()"
   ]
  },
  {
   "cell_type": "code",
   "execution_count": null,
   "metadata": {
    "collapsed": false
   },
   "outputs": [],
   "source": [
    "from scipy.sparse import hstack\n",
    "other_features = data[['artist_familiarty','artist_hotness','song_modes','song_time_signatures','log_play_count_sum',\\\n",
    "                       'song_durations','song_tempo','beats_number','song_release_years']]"
   ]
  },
  {
   "cell_type": "code",
   "execution_count": null,
   "metadata": {
    "collapsed": false
   },
   "outputs": [],
   "source": [
    "other_features.head()"
   ]
  },
  {
   "cell_type": "code",
   "execution_count": null,
   "metadata": {
    "collapsed": false
   },
   "outputs": [],
   "source": [
    "data_matrix = hstack([cat_matrix, other_features])\n",
    "data_matrix"
   ]
  },
  {
   "cell_type": "code",
   "execution_count": null,
   "metadata": {
    "collapsed": true
   },
   "outputs": [],
   "source": [
    "from sklearn.preprocessing import scale\n",
    "\n",
    "data_matrix = scale(data_matrix.todense())"
   ]
  },
  {
   "cell_type": "code",
   "execution_count": null,
   "metadata": {
    "collapsed": false
   },
   "outputs": [],
   "source": [
    "from sklearn.cluster import KMeans\n",
    "\n",
    "clustering_model = KMeans(n_clusters = 25)\n",
    "clustering_model.fit(data_matrix)\n",
    "\n",
    "clusters = clustering_model.predict(data_matrix)\n",
    "\n",
    "clusters"
   ]
  },
  {
   "cell_type": "code",
   "execution_count": null,
   "metadata": {
    "collapsed": false
   },
   "outputs": [],
   "source": [
    "pd.Series(clusters).value_counts()"
   ]
  },
  {
   "cell_type": "code",
   "execution_count": null,
   "metadata": {
    "collapsed": false
   },
   "outputs": [],
   "source": [
    "data['genre_id'].value_counts()"
   ]
  },
  {
   "cell_type": "code",
   "execution_count": null,
   "metadata": {
    "collapsed": true
   },
   "outputs": [],
   "source": [
    "results = pd.DataFrame({ 'cluster' : clusters, 'genre_id' : data['genre_id']})\n",
    "cluster_counts = results.groupby('cluster')['genre_id'].value_counts()"
   ]
  },
  {
   "cell_type": "code",
   "execution_count": null,
   "metadata": {
    "collapsed": false
   },
   "outputs": [],
   "source": [
    "results"
   ]
  },
  {
   "cell_type": "code",
   "execution_count": null,
   "metadata": {
    "collapsed": false
   },
   "outputs": [],
   "source": [
    "cluster_counts"
   ]
  },
  {
   "cell_type": "code",
   "execution_count": null,
   "metadata": {
    "collapsed": false
   },
   "outputs": [],
   "source": [
    "for i in xrange(len(cluster_counts)):\n",
    "    print \"Cluster \" ,i\n",
    "    print cluster_counts[i]\n",
    "    print"
   ]
  },
  {
   "cell_type": "markdown",
   "metadata": {},
   "source": [
    "Let's accept, we should just use the unsupervised learning models."
   ]
  }
 ],
 "metadata": {
  "kernelspec": {
   "display_name": "Python 2",
   "language": "python",
   "name": "python2"
  },
  "language_info": {
   "codemirror_mode": {
    "name": "ipython",
    "version": 2
   },
   "file_extension": ".py",
   "mimetype": "text/x-python",
   "name": "python",
   "nbconvert_exporter": "python",
   "pygments_lexer": "ipython2",
   "version": "2.7.11"
  }
 },
 "nbformat": 4,
 "nbformat_minor": 0
}
