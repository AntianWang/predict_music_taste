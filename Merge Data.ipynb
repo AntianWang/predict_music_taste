{
 "cells": [
  {
   "cell_type": "markdown",
   "metadata": {},
   "source": [
    "# MERGE DATA"
   ]
  },
  {
   "cell_type": "markdown",
   "metadata": {},
   "source": [
    "## modules:"
   ]
  },
  {
   "cell_type": "markdown",
   "metadata": {},
   "source": [
    "Standard modules: "
   ]
  },
  {
   "cell_type": "code",
   "execution_count": 10,
   "metadata": {
    "collapsed": true
   },
   "outputs": [],
   "source": [
    "import numpy as np\n",
    "import pandas as pd"
   ]
  },
  {
   "cell_type": "markdown",
   "metadata": {},
   "source": [
    "Visualization modules: "
   ]
  },
  {
   "cell_type": "code",
   "execution_count": 11,
   "metadata": {
    "collapsed": true
   },
   "outputs": [],
   "source": [
    "import matplotlib.pyplot as plt\n",
    "%matplotlib inline\n",
    "import vincent as vin\n",
    "import seaborn as sb"
   ]
  },
  {
   "cell_type": "markdown",
   "metadata": {},
   "source": [
    "Machine-learning modules: "
   ]
  },
  {
   "cell_type": "code",
   "execution_count": 12,
   "metadata": {
    "collapsed": true
   },
   "outputs": [],
   "source": [
    "from sklearn.linear_model import LinearRegression, Ridge, Lasso, RidgeCV\n",
    "from sklearn.preprocessing import PolynomialFeatures, StandardScaler\n",
    "from sklearn.pipeline import make_pipeline\n",
    "from sklearn.feature_extraction.text import TfidfVectorizer\n",
    "from sklearn.tree import DecisionTreeClassifier\n",
    "from sklearn.ensemble import RandomForestClassifier, AdaBoostClassifier\n",
    "from sklearn.cross_validation import cross_val_score, train_test_split\n",
    "\n",
    "from patsy import dmatrices "
   ]
  },
  {
   "cell_type": "markdown",
   "metadata": {},
   "source": [
    "## 1. kaggle data"
   ]
  },
  {
   "cell_type": "code",
   "execution_count": 29,
   "metadata": {
    "collapsed": true
   },
   "outputs": [],
   "source": [
    "# taste_profile_song_to_tracks\n",
    "song_to_track = pd.read_table('/Users/juliaengel-dagher/Downloads/taste_profile_song_to_tracks.txt', sep='\\t', names =['song_ids','track_id'])"
   ]
  },
  {
   "cell_type": "code",
   "execution_count": 30,
   "metadata": {
    "collapsed": false
   },
   "outputs": [
    {
     "data": {
      "text/html": [
       "<div>\n",
       "<table border=\"1\" class=\"dataframe\">\n",
       "  <thead>\n",
       "    <tr style=\"text-align: right;\">\n",
       "      <th></th>\n",
       "      <th>song_ids</th>\n",
       "      <th>track_id</th>\n",
       "    </tr>\n",
       "  </thead>\n",
       "  <tbody>\n",
       "    <tr>\n",
       "      <th>0</th>\n",
       "      <td>SOAAADD12AB018A9DD</td>\n",
       "      <td>TRNCENP12903C9EF3A</td>\n",
       "    </tr>\n",
       "    <tr>\n",
       "      <th>1</th>\n",
       "      <td>SOAAADE12A6D4F80CC</td>\n",
       "      <td>TRSKKFK128F148B615</td>\n",
       "    </tr>\n",
       "    <tr>\n",
       "      <th>2</th>\n",
       "      <td>SOAAADF12A8C13DF62</td>\n",
       "      <td>TRCQMSP128F428A6F7</td>\n",
       "    </tr>\n",
       "    <tr>\n",
       "      <th>3</th>\n",
       "      <td>SOAAADZ12A8C1334FB</td>\n",
       "      <td>TRMDNZY128F425A532</td>\n",
       "    </tr>\n",
       "    <tr>\n",
       "      <th>4</th>\n",
       "      <td>SOAAAFI12A6D4F9C66</td>\n",
       "      <td>TRZEXLQ128F1491D17</td>\n",
       "    </tr>\n",
       "  </tbody>\n",
       "</table>\n",
       "</div>"
      ],
      "text/plain": [
       "             song_ids            track_id\n",
       "0  SOAAADD12AB018A9DD  TRNCENP12903C9EF3A\n",
       "1  SOAAADE12A6D4F80CC  TRSKKFK128F148B615\n",
       "2  SOAAADF12A8C13DF62  TRCQMSP128F428A6F7\n",
       "3  SOAAADZ12A8C1334FB  TRMDNZY128F425A532\n",
       "4  SOAAAFI12A6D4F9C66  TRZEXLQ128F1491D17"
      ]
     },
     "execution_count": 30,
     "metadata": {},
     "output_type": "execute_result"
    }
   ],
   "source": [
    "song_to_track.head()\n",
    "# I will need the track ids for merging genrea and lyrics data"
   ]
  },
  {
   "cell_type": "code",
   "execution_count": 31,
   "metadata": {
    "collapsed": false
   },
   "outputs": [
    {
     "data": {
      "text/plain": [
       "386213"
      ]
     },
     "execution_count": 31,
     "metadata": {},
     "output_type": "execute_result"
    }
   ],
   "source": [
    "len(song_to_track)"
   ]
  },
  {
   "cell_type": "code",
   "execution_count": 15,
   "metadata": {
    "collapsed": false
   },
   "outputs": [],
   "source": [
    "#kaggle_visible_evaluation_triplets\n",
    "#visible part of the testing data\n",
    "user_behavior = pd.read_table('/Users/juliaengel-dagher/Downloads/kaggle_visible_evaluation_triplets.txt', sep='\\t', names =['user_id','song_ids','play_count'])"
   ]
  },
  {
   "cell_type": "code",
   "execution_count": 16,
   "metadata": {
    "collapsed": false
   },
   "outputs": [
    {
     "data": {
      "text/html": [
       "<div>\n",
       "<table border=\"1\" class=\"dataframe\">\n",
       "  <thead>\n",
       "    <tr style=\"text-align: right;\">\n",
       "      <th></th>\n",
       "      <th>user_id</th>\n",
       "      <th>song_ids</th>\n",
       "      <th>play_count</th>\n",
       "    </tr>\n",
       "  </thead>\n",
       "  <tbody>\n",
       "    <tr>\n",
       "      <th>0</th>\n",
       "      <td>fd50c4007b68a3737fe052d5a4f78ce8aa117f3d</td>\n",
       "      <td>SOBONKR12A58A7A7E0</td>\n",
       "      <td>1</td>\n",
       "    </tr>\n",
       "    <tr>\n",
       "      <th>1</th>\n",
       "      <td>fd50c4007b68a3737fe052d5a4f78ce8aa117f3d</td>\n",
       "      <td>SOEGIYH12A6D4FC0E3</td>\n",
       "      <td>1</td>\n",
       "    </tr>\n",
       "    <tr>\n",
       "      <th>2</th>\n",
       "      <td>fd50c4007b68a3737fe052d5a4f78ce8aa117f3d</td>\n",
       "      <td>SOFLJQZ12A6D4FADA6</td>\n",
       "      <td>1</td>\n",
       "    </tr>\n",
       "    <tr>\n",
       "      <th>3</th>\n",
       "      <td>fd50c4007b68a3737fe052d5a4f78ce8aa117f3d</td>\n",
       "      <td>SOHTKMO12AB01843B0</td>\n",
       "      <td>1</td>\n",
       "    </tr>\n",
       "    <tr>\n",
       "      <th>4</th>\n",
       "      <td>fd50c4007b68a3737fe052d5a4f78ce8aa117f3d</td>\n",
       "      <td>SODQZCY12A6D4F9D11</td>\n",
       "      <td>1</td>\n",
       "    </tr>\n",
       "  </tbody>\n",
       "</table>\n",
       "</div>"
      ],
      "text/plain": [
       "                                    user_id            song_ids  play_count\n",
       "0  fd50c4007b68a3737fe052d5a4f78ce8aa117f3d  SOBONKR12A58A7A7E0           1\n",
       "1  fd50c4007b68a3737fe052d5a4f78ce8aa117f3d  SOEGIYH12A6D4FC0E3           1\n",
       "2  fd50c4007b68a3737fe052d5a4f78ce8aa117f3d  SOFLJQZ12A6D4FADA6           1\n",
       "3  fd50c4007b68a3737fe052d5a4f78ce8aa117f3d  SOHTKMO12AB01843B0           1\n",
       "4  fd50c4007b68a3737fe052d5a4f78ce8aa117f3d  SODQZCY12A6D4F9D11           1"
      ]
     },
     "execution_count": 16,
     "metadata": {},
     "output_type": "execute_result"
    }
   ],
   "source": [
    "user_behavior.head()"
   ]
  },
  {
   "cell_type": "markdown",
   "metadata": {},
   "source": [
    "Next, I am creating a pivot table so that we have one line per song_ids summarixing the number of users who listened to the song and how many times they listened to it. "
   ]
  },
  {
   "cell_type": "code",
   "execution_count": 22,
   "metadata": {
    "collapsed": false
   },
   "outputs": [],
   "source": [
    "funcs = {'play_count':['sum'], 'user_id':['count']}"
   ]
  },
  {
   "cell_type": "code",
   "execution_count": 23,
   "metadata": {
    "collapsed": false
   },
   "outputs": [],
   "source": [
    "behavior_df = user_behavior.groupby('song_ids').agg(funcs)"
   ]
  },
  {
   "cell_type": "code",
   "execution_count": 24,
   "metadata": {
    "collapsed": false
   },
   "outputs": [
    {
     "data": {
      "text/html": [
       "<div>\n",
       "<table border=\"1\" class=\"dataframe\">\n",
       "  <thead>\n",
       "    <tr>\n",
       "      <th></th>\n",
       "      <th>play_count</th>\n",
       "      <th>user_id</th>\n",
       "    </tr>\n",
       "    <tr>\n",
       "      <th></th>\n",
       "      <th>sum</th>\n",
       "      <th>count</th>\n",
       "    </tr>\n",
       "    <tr>\n",
       "      <th>song_ids</th>\n",
       "      <th></th>\n",
       "      <th></th>\n",
       "    </tr>\n",
       "  </thead>\n",
       "  <tbody>\n",
       "    <tr>\n",
       "      <th>SOAAAFI12A6D4F9C66</th>\n",
       "      <td>2</td>\n",
       "      <td>2</td>\n",
       "    </tr>\n",
       "    <tr>\n",
       "      <th>SOAAAGK12AB0189572</th>\n",
       "      <td>2</td>\n",
       "      <td>1</td>\n",
       "    </tr>\n",
       "    <tr>\n",
       "      <th>SOAAAGQ12A8C1420C8</th>\n",
       "      <td>90</td>\n",
       "      <td>33</td>\n",
       "    </tr>\n",
       "    <tr>\n",
       "      <th>SOAAAMT12AB018C9C4</th>\n",
       "      <td>1</td>\n",
       "      <td>1</td>\n",
       "    </tr>\n",
       "    <tr>\n",
       "      <th>SOAAAQN12AB01856D3</th>\n",
       "      <td>2</td>\n",
       "      <td>2</td>\n",
       "    </tr>\n",
       "  </tbody>\n",
       "</table>\n",
       "</div>"
      ],
      "text/plain": [
       "                   play_count user_id\n",
       "                          sum   count\n",
       "song_ids                             \n",
       "SOAAAFI12A6D4F9C66          2       2\n",
       "SOAAAGK12AB0189572          2       1\n",
       "SOAAAGQ12A8C1420C8         90      33\n",
       "SOAAAMT12AB018C9C4          1       1\n",
       "SOAAAQN12AB01856D3          2       2"
      ]
     },
     "execution_count": 24,
     "metadata": {},
     "output_type": "execute_result"
    }
   ],
   "source": [
    "behavior_df.head()"
   ]
  },
  {
   "cell_type": "code",
   "execution_count": 26,
   "metadata": {
    "collapsed": false
   },
   "outputs": [
    {
     "data": {
      "text/plain": [
       "163206"
      ]
     },
     "execution_count": 26,
     "metadata": {},
     "output_type": "execute_result"
    }
   ],
   "source": [
    "len(behavior_df)"
   ]
  },
  {
   "cell_type": "code",
   "execution_count": 33,
   "metadata": {
    "collapsed": true
   },
   "outputs": [],
   "source": [
    "behavior_df_wtrackids= pd.read_csv('/Users/juliaengel-dagher/Downloads/behavior_df.csv', sep=',')"
   ]
  },
  {
   "cell_type": "code",
   "execution_count": 34,
   "metadata": {
    "collapsed": false
   },
   "outputs": [
    {
     "data": {
      "text/html": [
       "<div>\n",
       "<table border=\"1\" class=\"dataframe\">\n",
       "  <thead>\n",
       "    <tr style=\"text-align: right;\">\n",
       "      <th></th>\n",
       "      <th>song_ids</th>\n",
       "      <th>play_count_sum</th>\n",
       "      <th>user_id_count</th>\n",
       "    </tr>\n",
       "  </thead>\n",
       "  <tbody>\n",
       "    <tr>\n",
       "      <th>0</th>\n",
       "      <td>SOAAAFI12A6D4F9C66</td>\n",
       "      <td>2</td>\n",
       "      <td>2</td>\n",
       "    </tr>\n",
       "    <tr>\n",
       "      <th>1</th>\n",
       "      <td>SOAAAGK12AB0189572</td>\n",
       "      <td>2</td>\n",
       "      <td>1</td>\n",
       "    </tr>\n",
       "    <tr>\n",
       "      <th>2</th>\n",
       "      <td>SOAAAGQ12A8C1420C8</td>\n",
       "      <td>90</td>\n",
       "      <td>33</td>\n",
       "    </tr>\n",
       "    <tr>\n",
       "      <th>3</th>\n",
       "      <td>SOAAAMT12AB018C9C4</td>\n",
       "      <td>1</td>\n",
       "      <td>1</td>\n",
       "    </tr>\n",
       "    <tr>\n",
       "      <th>4</th>\n",
       "      <td>SOAAAQN12AB01856D3</td>\n",
       "      <td>2</td>\n",
       "      <td>2</td>\n",
       "    </tr>\n",
       "  </tbody>\n",
       "</table>\n",
       "</div>"
      ],
      "text/plain": [
       "             song_ids  play_count_sum  user_id_count\n",
       "0  SOAAAFI12A6D4F9C66               2              2\n",
       "1  SOAAAGK12AB0189572               2              1\n",
       "2  SOAAAGQ12A8C1420C8              90             33\n",
       "3  SOAAAMT12AB018C9C4               1              1\n",
       "4  SOAAAQN12AB01856D3               2              2"
      ]
     },
     "execution_count": 34,
     "metadata": {},
     "output_type": "execute_result"
    }
   ],
   "source": [
    "behavior_df_wtrackids.head()"
   ]
  },
  {
   "cell_type": "code",
   "execution_count": 57,
   "metadata": {
    "collapsed": false
   },
   "outputs": [
    {
     "name": "stdout",
     "output_type": "stream",
     "text": [
      "<class 'pandas.core.frame.DataFrame'>\n",
      "Int64Index: 163206 entries, 0 to 163205\n",
      "Data columns (total 4 columns):\n",
      "song_ids          163206 non-null object\n",
      "track_id          162183 non-null object\n",
      "play_count_sum    163206 non-null int64\n",
      "user_id_count     163206 non-null int64\n",
      "dtypes: int64(2), object(2)\n",
      "memory usage: 6.2+ MB\n"
     ]
    }
   ],
   "source": [
    "behavior_df_wtrackids.info()"
   ]
  },
  {
   "cell_type": "code",
   "execution_count": 58,
   "metadata": {
    "collapsed": false
   },
   "outputs": [
    {
     "data": {
      "text/html": [
       "<div>\n",
       "<table border=\"1\" class=\"dataframe\">\n",
       "  <thead>\n",
       "    <tr style=\"text-align: right;\">\n",
       "      <th></th>\n",
       "      <th>play_count_sum</th>\n",
       "      <th>user_id_count</th>\n",
       "    </tr>\n",
       "  </thead>\n",
       "  <tbody>\n",
       "    <tr>\n",
       "      <th>count</th>\n",
       "      <td>163206.000000</td>\n",
       "      <td>163206.000000</td>\n",
       "    </tr>\n",
       "    <tr>\n",
       "      <th>mean</th>\n",
       "      <td>28.334375</td>\n",
       "      <td>8.890194</td>\n",
       "    </tr>\n",
       "    <tr>\n",
       "      <th>std</th>\n",
       "      <td>215.826789</td>\n",
       "      <td>46.780258</td>\n",
       "    </tr>\n",
       "    <tr>\n",
       "      <th>min</th>\n",
       "      <td>1.000000</td>\n",
       "      <td>1.000000</td>\n",
       "    </tr>\n",
       "    <tr>\n",
       "      <th>25%</th>\n",
       "      <td>1.000000</td>\n",
       "      <td>1.000000</td>\n",
       "    </tr>\n",
       "    <tr>\n",
       "      <th>50%</th>\n",
       "      <td>5.000000</td>\n",
       "      <td>2.000000</td>\n",
       "    </tr>\n",
       "    <tr>\n",
       "      <th>75%</th>\n",
       "      <td>15.000000</td>\n",
       "      <td>6.000000</td>\n",
       "    </tr>\n",
       "    <tr>\n",
       "      <th>max</th>\n",
       "      <td>35432.000000</td>\n",
       "      <td>5043.000000</td>\n",
       "    </tr>\n",
       "  </tbody>\n",
       "</table>\n",
       "</div>"
      ],
      "text/plain": [
       "       play_count_sum  user_id_count\n",
       "count   163206.000000  163206.000000\n",
       "mean        28.334375       8.890194\n",
       "std        215.826789      46.780258\n",
       "min          1.000000       1.000000\n",
       "25%          1.000000       1.000000\n",
       "50%          5.000000       2.000000\n",
       "75%         15.000000       6.000000\n",
       "max      35432.000000    5043.000000"
      ]
     },
     "execution_count": 58,
     "metadata": {},
     "output_type": "execute_result"
    }
   ],
   "source": [
    "behavior_df_wtrackids.describe()"
   ]
  },
  {
   "cell_type": "code",
   "execution_count": 35,
   "metadata": {
    "collapsed": false
   },
   "outputs": [],
   "source": [
    "behavior_df_wtrackids = pd.merge(behavior_df_wtrackids, song_to_track, on='song_ids',how='inner')"
   ]
  },
  {
   "cell_type": "code",
   "execution_count": 36,
   "metadata": {
    "collapsed": false
   },
   "outputs": [
    {
     "data": {
      "text/html": [
       "<div>\n",
       "<table border=\"1\" class=\"dataframe\">\n",
       "  <thead>\n",
       "    <tr style=\"text-align: right;\">\n",
       "      <th></th>\n",
       "      <th>song_ids</th>\n",
       "      <th>play_count_sum</th>\n",
       "      <th>user_id_count</th>\n",
       "      <th>track_id</th>\n",
       "    </tr>\n",
       "  </thead>\n",
       "  <tbody>\n",
       "    <tr>\n",
       "      <th>0</th>\n",
       "      <td>SOAAAFI12A6D4F9C66</td>\n",
       "      <td>2</td>\n",
       "      <td>2</td>\n",
       "      <td>TRZEXLQ128F1491D17</td>\n",
       "    </tr>\n",
       "    <tr>\n",
       "      <th>1</th>\n",
       "      <td>SOAAAGK12AB0189572</td>\n",
       "      <td>2</td>\n",
       "      <td>1</td>\n",
       "      <td>TRDZUFJ12903CE29FC</td>\n",
       "    </tr>\n",
       "    <tr>\n",
       "      <th>2</th>\n",
       "      <td>SOAAAGQ12A8C1420C8</td>\n",
       "      <td>90</td>\n",
       "      <td>33</td>\n",
       "      <td>TRJWZII128F92CA924</td>\n",
       "    </tr>\n",
       "    <tr>\n",
       "      <th>3</th>\n",
       "      <td>SOAAAMT12AB018C9C4</td>\n",
       "      <td>1</td>\n",
       "      <td>1</td>\n",
       "      <td>TRYIOYF12903CD4E73</td>\n",
       "    </tr>\n",
       "    <tr>\n",
       "      <th>4</th>\n",
       "      <td>SOAAAQN12AB01856D3</td>\n",
       "      <td>2</td>\n",
       "      <td>2</td>\n",
       "      <td>TRATLOJ128F9308ABB</td>\n",
       "    </tr>\n",
       "  </tbody>\n",
       "</table>\n",
       "</div>"
      ],
      "text/plain": [
       "             song_ids  play_count_sum  user_id_count            track_id\n",
       "0  SOAAAFI12A6D4F9C66               2              2  TRZEXLQ128F1491D17\n",
       "1  SOAAAGK12AB0189572               2              1  TRDZUFJ12903CE29FC\n",
       "2  SOAAAGQ12A8C1420C8              90             33  TRJWZII128F92CA924\n",
       "3  SOAAAMT12AB018C9C4               1              1  TRYIOYF12903CD4E73\n",
       "4  SOAAAQN12AB01856D3               2              2  TRATLOJ128F9308ABB"
      ]
     },
     "execution_count": 36,
     "metadata": {},
     "output_type": "execute_result"
    }
   ],
   "source": [
    "behavior_df_wtrackids.head()"
   ]
  },
  {
   "cell_type": "code",
   "execution_count": 38,
   "metadata": {
    "collapsed": false
   },
   "outputs": [],
   "source": [
    "behavior_df_wtrackids = behavior_df_wtrackids[['song_ids', 'track_id', 'play_count_sum', 'user_id_count']]"
   ]
  },
  {
   "cell_type": "code",
   "execution_count": 39,
   "metadata": {
    "collapsed": false
   },
   "outputs": [
    {
     "data": {
      "text/html": [
       "<div>\n",
       "<table border=\"1\" class=\"dataframe\">\n",
       "  <thead>\n",
       "    <tr style=\"text-align: right;\">\n",
       "      <th></th>\n",
       "      <th>song_ids</th>\n",
       "      <th>track_id</th>\n",
       "      <th>play_count_sum</th>\n",
       "      <th>user_id_count</th>\n",
       "    </tr>\n",
       "  </thead>\n",
       "  <tbody>\n",
       "    <tr>\n",
       "      <th>0</th>\n",
       "      <td>SOAAAFI12A6D4F9C66</td>\n",
       "      <td>TRZEXLQ128F1491D17</td>\n",
       "      <td>2</td>\n",
       "      <td>2</td>\n",
       "    </tr>\n",
       "    <tr>\n",
       "      <th>1</th>\n",
       "      <td>SOAAAGK12AB0189572</td>\n",
       "      <td>TRDZUFJ12903CE29FC</td>\n",
       "      <td>2</td>\n",
       "      <td>1</td>\n",
       "    </tr>\n",
       "    <tr>\n",
       "      <th>2</th>\n",
       "      <td>SOAAAGQ12A8C1420C8</td>\n",
       "      <td>TRJWZII128F92CA924</td>\n",
       "      <td>90</td>\n",
       "      <td>33</td>\n",
       "    </tr>\n",
       "    <tr>\n",
       "      <th>3</th>\n",
       "      <td>SOAAAMT12AB018C9C4</td>\n",
       "      <td>TRYIOYF12903CD4E73</td>\n",
       "      <td>1</td>\n",
       "      <td>1</td>\n",
       "    </tr>\n",
       "    <tr>\n",
       "      <th>4</th>\n",
       "      <td>SOAAAQN12AB01856D3</td>\n",
       "      <td>TRATLOJ128F9308ABB</td>\n",
       "      <td>2</td>\n",
       "      <td>2</td>\n",
       "    </tr>\n",
       "  </tbody>\n",
       "</table>\n",
       "</div>"
      ],
      "text/plain": [
       "             song_ids            track_id  play_count_sum  user_id_count\n",
       "0  SOAAAFI12A6D4F9C66  TRZEXLQ128F1491D17               2              2\n",
       "1  SOAAAGK12AB0189572  TRDZUFJ12903CE29FC               2              1\n",
       "2  SOAAAGQ12A8C1420C8  TRJWZII128F92CA924              90             33\n",
       "3  SOAAAMT12AB018C9C4  TRYIOYF12903CD4E73               1              1\n",
       "4  SOAAAQN12AB01856D3  TRATLOJ128F9308ABB               2              2"
      ]
     },
     "execution_count": 39,
     "metadata": {},
     "output_type": "execute_result"
    }
   ],
   "source": [
    "behavior_df_wtrackids.head()"
   ]
  },
  {
   "cell_type": "code",
   "execution_count": 41,
   "metadata": {
    "collapsed": false
   },
   "outputs": [],
   "source": [
    "behavior_df_wtrackids.to_csv('behavior_df_final.csv', sep=',')"
   ]
  },
  {
   "cell_type": "markdown",
   "metadata": {},
   "source": [
    "## 2. genre data"
   ]
  },
  {
   "cell_type": "markdown",
   "metadata": {},
   "source": [
    "http://www.ifs.tuwien.ac.at/mir/msd/"
   ]
  },
  {
   "cell_type": "code",
   "execution_count": 45,
   "metadata": {
    "collapsed": false
   },
   "outputs": [],
   "source": [
    "genres = pd.read_table('http://www.ifs.tuwien.ac.at/mir/msd/partitions/msd-MAGD-genreAssignment.cls',sep='\\t')"
   ]
  },
  {
   "cell_type": "code",
   "execution_count": 46,
   "metadata": {
    "collapsed": false
   },
   "outputs": [
    {
     "data": {
      "text/html": [
       "<div>\n",
       "<table border=\"1\" class=\"dataframe\">\n",
       "  <thead>\n",
       "    <tr style=\"text-align: right;\">\n",
       "      <th></th>\n",
       "      <th>TRAAAAK128F9318786</th>\n",
       "      <th>Pop_Rock</th>\n",
       "    </tr>\n",
       "  </thead>\n",
       "  <tbody>\n",
       "    <tr>\n",
       "      <th>0</th>\n",
       "      <td>TRAAAAV128F421A322</td>\n",
       "      <td>Pop_Rock</td>\n",
       "    </tr>\n",
       "    <tr>\n",
       "      <th>1</th>\n",
       "      <td>TRAAAAW128F429D538</td>\n",
       "      <td>Rap</td>\n",
       "    </tr>\n",
       "    <tr>\n",
       "      <th>2</th>\n",
       "      <td>TRAAABD128F429CF47</td>\n",
       "      <td>Pop_Rock</td>\n",
       "    </tr>\n",
       "    <tr>\n",
       "      <th>3</th>\n",
       "      <td>TRAAACV128F423E09E</td>\n",
       "      <td>Pop_Rock</td>\n",
       "    </tr>\n",
       "    <tr>\n",
       "      <th>4</th>\n",
       "      <td>TRAAADT12903CCC339</td>\n",
       "      <td>Easy_Listening</td>\n",
       "    </tr>\n",
       "  </tbody>\n",
       "</table>\n",
       "</div>"
      ],
      "text/plain": [
       "   TRAAAAK128F9318786        Pop_Rock\n",
       "0  TRAAAAV128F421A322        Pop_Rock\n",
       "1  TRAAAAW128F429D538             Rap\n",
       "2  TRAAABD128F429CF47        Pop_Rock\n",
       "3  TRAAACV128F423E09E        Pop_Rock\n",
       "4  TRAAADT12903CCC339  Easy_Listening"
      ]
     },
     "execution_count": 46,
     "metadata": {},
     "output_type": "execute_result"
    }
   ],
   "source": [
    "genres.head()"
   ]
  },
  {
   "cell_type": "code",
   "execution_count": 47,
   "metadata": {
    "collapsed": true
   },
   "outputs": [],
   "source": [
    "genres.columns=['track_id','genre_id']"
   ]
  },
  {
   "cell_type": "code",
   "execution_count": 48,
   "metadata": {
    "collapsed": false
   },
   "outputs": [
    {
     "data": {
      "text/html": [
       "<div>\n",
       "<table border=\"1\" class=\"dataframe\">\n",
       "  <thead>\n",
       "    <tr style=\"text-align: right;\">\n",
       "      <th></th>\n",
       "      <th>track_id</th>\n",
       "      <th>genre_id</th>\n",
       "    </tr>\n",
       "  </thead>\n",
       "  <tbody>\n",
       "    <tr>\n",
       "      <th>0</th>\n",
       "      <td>TRAAAAV128F421A322</td>\n",
       "      <td>Pop_Rock</td>\n",
       "    </tr>\n",
       "    <tr>\n",
       "      <th>1</th>\n",
       "      <td>TRAAAAW128F429D538</td>\n",
       "      <td>Rap</td>\n",
       "    </tr>\n",
       "    <tr>\n",
       "      <th>2</th>\n",
       "      <td>TRAAABD128F429CF47</td>\n",
       "      <td>Pop_Rock</td>\n",
       "    </tr>\n",
       "    <tr>\n",
       "      <th>3</th>\n",
       "      <td>TRAAACV128F423E09E</td>\n",
       "      <td>Pop_Rock</td>\n",
       "    </tr>\n",
       "    <tr>\n",
       "      <th>4</th>\n",
       "      <td>TRAAADT12903CCC339</td>\n",
       "      <td>Easy_Listening</td>\n",
       "    </tr>\n",
       "  </tbody>\n",
       "</table>\n",
       "</div>"
      ],
      "text/plain": [
       "             track_id        genre_id\n",
       "0  TRAAAAV128F421A322        Pop_Rock\n",
       "1  TRAAAAW128F429D538             Rap\n",
       "2  TRAAABD128F429CF47        Pop_Rock\n",
       "3  TRAAACV128F423E09E        Pop_Rock\n",
       "4  TRAAADT12903CCC339  Easy_Listening"
      ]
     },
     "execution_count": 48,
     "metadata": {},
     "output_type": "execute_result"
    }
   ],
   "source": [
    "genres.head()"
   ]
  },
  {
   "cell_type": "code",
   "execution_count": 49,
   "metadata": {
    "collapsed": true
   },
   "outputs": [],
   "source": [
    "behavior_df_wgenre = pd.merge(behavior_df_wtrackids, genres, on='track_id',how='inner')"
   ]
  },
  {
   "cell_type": "code",
   "execution_count": 50,
   "metadata": {
    "collapsed": false
   },
   "outputs": [
    {
     "data": {
      "text/html": [
       "<div>\n",
       "<table border=\"1\" class=\"dataframe\">\n",
       "  <thead>\n",
       "    <tr style=\"text-align: right;\">\n",
       "      <th></th>\n",
       "      <th>song_ids</th>\n",
       "      <th>track_id</th>\n",
       "      <th>play_count_sum</th>\n",
       "      <th>user_id_count</th>\n",
       "      <th>genre_id</th>\n",
       "    </tr>\n",
       "  </thead>\n",
       "  <tbody>\n",
       "    <tr>\n",
       "      <th>0</th>\n",
       "      <td>SOAAAMT12AB018C9C4</td>\n",
       "      <td>TRYIOYF12903CD4E73</td>\n",
       "      <td>1</td>\n",
       "      <td>1</td>\n",
       "      <td>Pop_Rock</td>\n",
       "    </tr>\n",
       "    <tr>\n",
       "      <th>1</th>\n",
       "      <td>SOAAAXN12A8C13A70C</td>\n",
       "      <td>TRXWDIG128F4274BF1</td>\n",
       "      <td>5</td>\n",
       "      <td>1</td>\n",
       "      <td>Latin</td>\n",
       "    </tr>\n",
       "    <tr>\n",
       "      <th>2</th>\n",
       "      <td>SOAABLP12A6D4F8861</td>\n",
       "      <td>TRXOSZE128F148A158</td>\n",
       "      <td>1</td>\n",
       "      <td>1</td>\n",
       "      <td>Pop_Rock</td>\n",
       "    </tr>\n",
       "    <tr>\n",
       "      <th>3</th>\n",
       "      <td>SOAABRT12A6D4F7940</td>\n",
       "      <td>TRUGBDI128F14548CD</td>\n",
       "      <td>13</td>\n",
       "      <td>2</td>\n",
       "      <td>International</td>\n",
       "    </tr>\n",
       "    <tr>\n",
       "      <th>4</th>\n",
       "      <td>SOAABVA12AC3DF673F</td>\n",
       "      <td>TRXVIGQ12903CE7F6E</td>\n",
       "      <td>4</td>\n",
       "      <td>3</td>\n",
       "      <td>Pop_Rock</td>\n",
       "    </tr>\n",
       "  </tbody>\n",
       "</table>\n",
       "</div>"
      ],
      "text/plain": [
       "             song_ids            track_id  play_count_sum  user_id_count  \\\n",
       "0  SOAAAMT12AB018C9C4  TRYIOYF12903CD4E73               1              1   \n",
       "1  SOAAAXN12A8C13A70C  TRXWDIG128F4274BF1               5              1   \n",
       "2  SOAABLP12A6D4F8861  TRXOSZE128F148A158               1              1   \n",
       "3  SOAABRT12A6D4F7940  TRUGBDI128F14548CD              13              2   \n",
       "4  SOAABVA12AC3DF673F  TRXVIGQ12903CE7F6E               4              3   \n",
       "\n",
       "        genre_id  \n",
       "0       Pop_Rock  \n",
       "1          Latin  \n",
       "2       Pop_Rock  \n",
       "3  International  \n",
       "4       Pop_Rock  "
      ]
     },
     "execution_count": 50,
     "metadata": {},
     "output_type": "execute_result"
    }
   ],
   "source": [
    "behavior_df_wgenre.head()"
   ]
  },
  {
   "cell_type": "code",
   "execution_count": null,
   "metadata": {
    "collapsed": true
   },
   "outputs": [],
   "source": [
    "f=df.plot(df[['genre_id']].grouby(),df[['play_count_sum']].sum())"
   ]
  },
  {
   "cell_type": "code",
   "execution_count": 51,
   "metadata": {
    "collapsed": false
   },
   "outputs": [
    {
     "data": {
      "text/plain": [
       "84102"
      ]
     },
     "execution_count": 51,
     "metadata": {},
     "output_type": "execute_result"
    }
   ],
   "source": [
    "len(behavior_df_wgenre)"
   ]
  },
  {
   "cell_type": "markdown",
   "metadata": {},
   "source": [
    "## 4. hdf5 song attributes"
   ]
  },
  {
   "cell_type": "code",
   "execution_count": 52,
   "metadata": {
    "collapsed": true
   },
   "outputs": [],
   "source": [
    "hdf5_df = pd.read_csv('music_project.csv')"
   ]
  },
  {
   "cell_type": "code",
   "execution_count": 53,
   "metadata": {
    "collapsed": true
   },
   "outputs": [],
   "source": [
    "behavior_df_whdf5 = pd.merge(behavior_df_wgenre, hdf5_df, on='song_ids',how='inner')"
   ]
  },
  {
   "cell_type": "code",
   "execution_count": 54,
   "metadata": {
    "collapsed": false
   },
   "outputs": [
    {
     "data": {
      "text/html": [
       "<div>\n",
       "<table border=\"1\" class=\"dataframe\">\n",
       "  <thead>\n",
       "    <tr style=\"text-align: right;\">\n",
       "      <th></th>\n",
       "      <th>song_ids</th>\n",
       "      <th>track_id</th>\n",
       "      <th>play_count_sum</th>\n",
       "      <th>user_id_count</th>\n",
       "      <th>genre_id</th>\n",
       "      <th>Unnamed: 0</th>\n",
       "      <th>artist_familiarty</th>\n",
       "      <th>artist_hotness</th>\n",
       "      <th>artist_names</th>\n",
       "      <th>song_bars</th>\n",
       "      <th>...</th>\n",
       "      <th>song_durations</th>\n",
       "      <th>song_energies</th>\n",
       "      <th>song_hotness</th>\n",
       "      <th>song_keys</th>\n",
       "      <th>song_modes</th>\n",
       "      <th>song_realease_years</th>\n",
       "      <th>song_tatum</th>\n",
       "      <th>song_tempo</th>\n",
       "      <th>song_time_signatures</th>\n",
       "      <th>song_titles</th>\n",
       "    </tr>\n",
       "  </thead>\n",
       "  <tbody>\n",
       "    <tr>\n",
       "      <th>0</th>\n",
       "      <td>SOAAEHR12A6D4FB060</td>\n",
       "      <td>TRAYPFH128E07937C3</td>\n",
       "      <td>16</td>\n",
       "      <td>11</td>\n",
       "      <td>Pop_Rock</td>\n",
       "      <td>7181</td>\n",
       "      <td>0.806359</td>\n",
       "      <td>0.545789</td>\n",
       "      <td>Soundgarden</td>\n",
       "      <td>[   0.85125    2.69826    4.53846    6.3912   ...</td>\n",
       "      <td>...</td>\n",
       "      <td>415.81669</td>\n",
       "      <td>0</td>\n",
       "      <td>0.654068</td>\n",
       "      <td>0</td>\n",
       "      <td>1</td>\n",
       "      <td>1991</td>\n",
       "      <td>[  1.56890000e-01   3.88730000e-01   6.2056000...</td>\n",
       "      <td>131.272</td>\n",
       "      <td>4</td>\n",
       "      <td>Slaves &amp; Bulldozers</td>\n",
       "    </tr>\n",
       "    <tr>\n",
       "      <th>1</th>\n",
       "      <td>SOABLAF12AB018E1D9</td>\n",
       "      <td>TRABUMO12903CBE25F</td>\n",
       "      <td>66</td>\n",
       "      <td>15</td>\n",
       "      <td>Pop_Rock</td>\n",
       "      <td>546</td>\n",
       "      <td>0.796337</td>\n",
       "      <td>0.582922</td>\n",
       "      <td>Alice In Chains</td>\n",
       "      <td>[   0.92741    3.15716    5.38085    7.60259  ...</td>\n",
       "      <td>...</td>\n",
       "      <td>256.52200</td>\n",
       "      <td>0</td>\n",
       "      <td>0.824433</td>\n",
       "      <td>10</td>\n",
       "      <td>0</td>\n",
       "      <td>2009</td>\n",
       "      <td>[  8.94000000e-02   3.69200000e-01   6.4900000...</td>\n",
       "      <td>107.845</td>\n",
       "      <td>4</td>\n",
       "      <td>Lesson Learned</td>\n",
       "    </tr>\n",
       "    <tr>\n",
       "      <th>2</th>\n",
       "      <td>SOACEDS12A6701EAAA</td>\n",
       "      <td>TRASNOT128E0791785</td>\n",
       "      <td>5</td>\n",
       "      <td>4</td>\n",
       "      <td>Pop_Rock</td>\n",
       "      <td>5412</td>\n",
       "      <td>0.712745</td>\n",
       "      <td>0.470700</td>\n",
       "      <td>Semisonic</td>\n",
       "      <td>[   0.67473    3.1441     5.58583    8.0254   ...</td>\n",
       "      <td>...</td>\n",
       "      <td>232.25424</td>\n",
       "      <td>0</td>\n",
       "      <td>0.612055</td>\n",
       "      <td>0</td>\n",
       "      <td>1</td>\n",
       "      <td>1998</td>\n",
       "      <td>[   0.36436    0.67473    0.98823    1.29676  ...</td>\n",
       "      <td>97.995</td>\n",
       "      <td>4</td>\n",
       "      <td>Gone To The Movies</td>\n",
       "    </tr>\n",
       "    <tr>\n",
       "      <th>3</th>\n",
       "      <td>SOAECHX12A6D4FC3D9</td>\n",
       "      <td>TRACSBL128F42480E8</td>\n",
       "      <td>17</td>\n",
       "      <td>3</td>\n",
       "      <td>Pop_Rock</td>\n",
       "      <td>822</td>\n",
       "      <td>0.724864</td>\n",
       "      <td>0.524449</td>\n",
       "      <td>The Presets</td>\n",
       "      <td>[   1.48499    3.48481    5.48587    7.48445  ...</td>\n",
       "      <td>...</td>\n",
       "      <td>271.85587</td>\n",
       "      <td>0</td>\n",
       "      <td>0.663125</td>\n",
       "      <td>4</td>\n",
       "      <td>1</td>\n",
       "      <td>2008</td>\n",
       "      <td>[  2.40190000e-01   4.89400000e-01   7.3737000...</td>\n",
       "      <td>120.119</td>\n",
       "      <td>4</td>\n",
       "      <td>Yippiyo-Ay</td>\n",
       "    </tr>\n",
       "    <tr>\n",
       "      <th>4</th>\n",
       "      <td>SOAEGMV12A8C1455F2</td>\n",
       "      <td>TRAVZWX128F92EC110</td>\n",
       "      <td>1</td>\n",
       "      <td>1</td>\n",
       "      <td>Pop_Rock</td>\n",
       "      <td>6418</td>\n",
       "      <td>0.651773</td>\n",
       "      <td>0.524477</td>\n",
       "      <td>Berlin</td>\n",
       "      <td>[   1.45526    3.73822    6.01853    8.33562  ...</td>\n",
       "      <td>...</td>\n",
       "      <td>255.32036</td>\n",
       "      <td>0</td>\n",
       "      <td>0.270776</td>\n",
       "      <td>11</td>\n",
       "      <td>1</td>\n",
       "      <td>2002</td>\n",
       "      <td>[   0.58706    0.88027    1.16776    1.45526  ...</td>\n",
       "      <td>104.040</td>\n",
       "      <td>4</td>\n",
       "      <td>Blink Of An Eye (Alternative)</td>\n",
       "    </tr>\n",
       "  </tbody>\n",
       "</table>\n",
       "<p>5 rows × 22 columns</p>\n",
       "</div>"
      ],
      "text/plain": [
       "             song_ids            track_id  play_count_sum  user_id_count  \\\n",
       "0  SOAAEHR12A6D4FB060  TRAYPFH128E07937C3              16             11   \n",
       "1  SOABLAF12AB018E1D9  TRABUMO12903CBE25F              66             15   \n",
       "2  SOACEDS12A6701EAAA  TRASNOT128E0791785               5              4   \n",
       "3  SOAECHX12A6D4FC3D9  TRACSBL128F42480E8              17              3   \n",
       "4  SOAEGMV12A8C1455F2  TRAVZWX128F92EC110               1              1   \n",
       "\n",
       "   genre_id  Unnamed: 0  artist_familiarty  artist_hotness     artist_names  \\\n",
       "0  Pop_Rock        7181           0.806359        0.545789      Soundgarden   \n",
       "1  Pop_Rock         546           0.796337        0.582922  Alice In Chains   \n",
       "2  Pop_Rock        5412           0.712745        0.470700        Semisonic   \n",
       "3  Pop_Rock         822           0.724864        0.524449      The Presets   \n",
       "4  Pop_Rock        6418           0.651773        0.524477           Berlin   \n",
       "\n",
       "                                           song_bars  \\\n",
       "0  [   0.85125    2.69826    4.53846    6.3912   ...   \n",
       "1  [   0.92741    3.15716    5.38085    7.60259  ...   \n",
       "2  [   0.67473    3.1441     5.58583    8.0254   ...   \n",
       "3  [   1.48499    3.48481    5.48587    7.48445  ...   \n",
       "4  [   1.45526    3.73822    6.01853    8.33562  ...   \n",
       "\n",
       "               ...               song_durations  song_energies  song_hotness  \\\n",
       "0              ...                    415.81669              0      0.654068   \n",
       "1              ...                    256.52200              0      0.824433   \n",
       "2              ...                    232.25424              0      0.612055   \n",
       "3              ...                    271.85587              0      0.663125   \n",
       "4              ...                    255.32036              0      0.270776   \n",
       "\n",
       "   song_keys  song_modes  song_realease_years  \\\n",
       "0          0           1                 1991   \n",
       "1         10           0                 2009   \n",
       "2          0           1                 1998   \n",
       "3          4           1                 2008   \n",
       "4         11           1                 2002   \n",
       "\n",
       "                                          song_tatum  song_tempo  \\\n",
       "0  [  1.56890000e-01   3.88730000e-01   6.2056000...     131.272   \n",
       "1  [  8.94000000e-02   3.69200000e-01   6.4900000...     107.845   \n",
       "2  [   0.36436    0.67473    0.98823    1.29676  ...      97.995   \n",
       "3  [  2.40190000e-01   4.89400000e-01   7.3737000...     120.119   \n",
       "4  [   0.58706    0.88027    1.16776    1.45526  ...     104.040   \n",
       "\n",
       "  song_time_signatures                    song_titles  \n",
       "0                    4            Slaves & Bulldozers  \n",
       "1                    4                 Lesson Learned  \n",
       "2                    4             Gone To The Movies  \n",
       "3                    4                     Yippiyo-Ay  \n",
       "4                    4  Blink Of An Eye (Alternative)  \n",
       "\n",
       "[5 rows x 22 columns]"
      ]
     },
     "execution_count": 54,
     "metadata": {},
     "output_type": "execute_result"
    }
   ],
   "source": [
    "behavior_df_whdf5.head()"
   ]
  },
  {
   "cell_type": "code",
   "execution_count": 55,
   "metadata": {
    "collapsed": false
   },
   "outputs": [
    {
     "data": {
      "text/plain": [
       "864"
      ]
     },
     "execution_count": 55,
     "metadata": {},
     "output_type": "execute_result"
    }
   ],
   "source": [
    "len(behavior_df_whdf5)"
   ]
  },
  {
   "cell_type": "markdown",
   "metadata": {},
   "source": [
    "Unfortunately, this inner join, cuts out too much information and we are left with a very small dataset. "
   ]
  },
  {
   "cell_type": "markdown",
   "metadata": {},
   "source": [
    "## 5. AWS EC2 HDF5 files"
   ]
  },
  {
   "cell_type": "markdown",
   "metadata": {},
   "source": [
    "Therefore, let's try the AWS approach. \n",
    "The million song set already exists on AWS as a public data set:\n",
    "https://aws.amazon.com/datasets/million-song-dataset/\n",
    "\n",
    "I am following these instructions to create a volume, attach it to an instance and then mount it. \n",
    "http://docs.aws.amazon.com/AWSEC2/latest/UserGuide/using-public-data-sets.html"
   ]
  },
  {
   "cell_type": "markdown",
   "metadata": {},
   "source": [
    "## 6. lyrics data"
   ]
  },
  {
   "cell_type": "markdown",
   "metadata": {
    "collapsed": false
   },
   "source": [
    "Reading in the lyrics information by song id and saving it as a csv in order to merge it with the larger data set by song id. http://labrosa.ee.columbia.edu/millionsong/musixmatch"
   ]
  },
  {
   "cell_type": "markdown",
   "metadata": {},
   "source": [
    "- song lyrics in bag-of-words format for the million song data set\n",
    "- provided as a SQLlite database\n",
    "- python code provided https://github.com/tbertinmahieux/MSongsDB/blob/master/Tasks_Demos/Lyrics/mxm_dataset_to_db.py"
   ]
  },
  {
   "cell_type": "code",
   "execution_count": null,
   "metadata": {
    "collapsed": true
   },
   "outputs": [],
   "source": [
    "For this set I needed to use AWS. I created an EC2 instance in AWS. \n",
    "#terminal: \n",
    "# I copied the pyhton file and the databases provided by the million song set to put the lyrics data into a sqlite database\n",
    "scp -i my_key.pem MSongsDB/Tasks_Demos/Lyrics/mxm_dataset_to_db.py ec2-user@ec2-52-87-214-185.compute-1.amazonaws.com:\n",
    "scp -i my_key.pem track_metadata.db ec2-user@ec2-52-87-214-185.compute-1.amazonaws.com:~"
   ]
  },
  {
   "cell_type": "code",
   "execution_count": null,
   "metadata": {
    "collapsed": true
   },
   "outputs": [],
   "source": [
    "#terminal: \n",
    "#let's run my AWS instance\n",
    "ssh -i \"my_key.pem\" ec2-user@ec2-52-87-214-185.compute-1.amazonaws.com\n",
    "\n",
    "#then I ran the python file\n",
    "python mxm_dataset_to_db.py\n",
    "\n",
    "#the lyrics data is now in the sqlite database in AWS EC2"
   ]
  },
  {
   "cell_type": "markdown",
   "metadata": {},
   "source": [
    "This is the code provided by http://labrosa.ee.columbia.edu/millionsong/blog/11-4-11-musixmatch-dataset-connecting-lyrics"
   ]
  },
  {
   "cell_type": "code",
   "execution_count": null,
   "metadata": {
    "collapsed": true
   },
   "outputs": [],
   "source": [
    "terminal: \n",
    "    python\n",
    "    import sqlite3\n",
    "    conn = sqlite3.connect('mxm_dataset.db')\n",
    "    res = conn.execute(\"SELECT * FROM sqlite_master WHERE type='table'\")\n",
    "    res.fetchall()\n",
    "    res = conn.execute(\"SELECT word FROM words\")\n",
    "    len(res.fetchall())"
   ]
  },
  {
   "cell_type": "code",
   "execution_count": null,
   "metadata": {
    "collapsed": true
   },
   "outputs": [],
   "source": [
    "#remebere to stop the AWS instance \n",
    "#smile"
   ]
  },
  {
   "cell_type": "markdown",
   "metadata": {},
   "source": [
    "## Save final dataframe as csv"
   ]
  },
  {
   "cell_type": "code",
   "execution_count": null,
   "metadata": {
    "collapsed": true
   },
   "outputs": [],
   "source": []
  }
 ],
 "metadata": {
  "kernelspec": {
   "display_name": "Python 2",
   "language": "python",
   "name": "python2"
  },
  "language_info": {
   "codemirror_mode": {
    "name": "ipython",
    "version": 2
   },
   "file_extension": ".py",
   "mimetype": "text/x-python",
   "name": "python",
   "nbconvert_exporter": "python",
   "pygments_lexer": "ipython2",
   "version": "2.7.11"
  }
 },
 "nbformat": 4,
 "nbformat_minor": 0
}
