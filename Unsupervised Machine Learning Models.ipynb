{
 "cells": [
  {
   "cell_type": "markdown",
   "metadata": {},
   "source": [
    "# Unsupervised Machine Learning Models"
   ]
  },
  {
   "cell_type": "markdown",
   "metadata": {},
   "source": [
    "Modules:"
   ]
  },
  {
   "cell_type": "code",
   "execution_count": 1,
   "metadata": {
    "collapsed": true
   },
   "outputs": [],
   "source": [
    "import numpy as np\n",
    "import pandas as pd\n",
    "import matplotlib.pyplot as plt\n",
    "%matplotlib inline\n",
    "import vincent as vin\n",
    "import seaborn as sb\n",
    "\n",
    "import time"
   ]
  },
  {
   "cell_type": "markdown",
   "metadata": {},
   "source": [
    "## data"
   ]
  },
  {
   "cell_type": "markdown",
   "metadata": {},
   "source": [
    "I will actually create a new dataset by user by song. "
   ]
  },
  {
   "cell_type": "code",
   "execution_count": 2,
   "metadata": {
    "collapsed": false
   },
   "outputs": [
    {
     "data": {
      "text/plain": [
       "10000"
      ]
     },
     "execution_count": 2,
     "metadata": {},
     "output_type": "execute_result"
    }
   ],
   "source": [
    "#hdf5 metadata\n",
    "hdf5_data= pd.read_csv('hdf5.csv', sep=',')\n",
    "len(hdf5_data)"
   ]
  },
  {
   "cell_type": "code",
   "execution_count": 3,
   "metadata": {
    "collapsed": true
   },
   "outputs": [],
   "source": [
    "genres = pd.read_table('http://www.ifs.tuwien.ac.at/mir/msd/partitions/msd-MAGD-genreAssignment.cls',sep='\\t', header=None)"
   ]
  },
  {
   "cell_type": "code",
   "execution_count": 4,
   "metadata": {
    "collapsed": true
   },
   "outputs": [],
   "source": [
    "genres.columns=['track_id','genre_id']"
   ]
  },
  {
   "cell_type": "code",
   "execution_count": 5,
   "metadata": {
    "collapsed": true
   },
   "outputs": [],
   "source": [
    "hdf5_w_genre = hdf5_data.merge(genres,on='track_id')"
   ]
  },
  {
   "cell_type": "code",
   "execution_count": 6,
   "metadata": {
    "collapsed": true
   },
   "outputs": [],
   "source": [
    "user_behavior = pd.read_table('/Users/juliaengel-dagher/Downloads/train_triplets.txt', sep='\\t', names =['user_id','song_id','play_count'])"
   ]
  },
  {
   "cell_type": "code",
   "execution_count": 7,
   "metadata": {
    "collapsed": false
   },
   "outputs": [
    {
     "data": {
      "text/plain": [
       "48373586"
      ]
     },
     "execution_count": 7,
     "metadata": {},
     "output_type": "execute_result"
    }
   ],
   "source": [
    "len(user_behavior)"
   ]
  },
  {
   "cell_type": "code",
   "execution_count": 8,
   "metadata": {
    "collapsed": false
   },
   "outputs": [
    {
     "data": {
      "text/html": [
       "<div>\n",
       "<table border=\"1\" class=\"dataframe\">\n",
       "  <thead>\n",
       "    <tr style=\"text-align: right;\">\n",
       "      <th></th>\n",
       "      <th>user_id</th>\n",
       "      <th>song_id</th>\n",
       "      <th>play_count</th>\n",
       "    </tr>\n",
       "  </thead>\n",
       "  <tbody>\n",
       "    <tr>\n",
       "      <th>0</th>\n",
       "      <td>b80344d063b5ccb3212f76538f3d9e43d87dca9e</td>\n",
       "      <td>SOAKIMP12A8C130995</td>\n",
       "      <td>1</td>\n",
       "    </tr>\n",
       "    <tr>\n",
       "      <th>1</th>\n",
       "      <td>b80344d063b5ccb3212f76538f3d9e43d87dca9e</td>\n",
       "      <td>SOAPDEY12A81C210A9</td>\n",
       "      <td>1</td>\n",
       "    </tr>\n",
       "    <tr>\n",
       "      <th>2</th>\n",
       "      <td>b80344d063b5ccb3212f76538f3d9e43d87dca9e</td>\n",
       "      <td>SOBBMDR12A8C13253B</td>\n",
       "      <td>2</td>\n",
       "    </tr>\n",
       "    <tr>\n",
       "      <th>3</th>\n",
       "      <td>b80344d063b5ccb3212f76538f3d9e43d87dca9e</td>\n",
       "      <td>SOBFNSP12AF72A0E22</td>\n",
       "      <td>1</td>\n",
       "    </tr>\n",
       "    <tr>\n",
       "      <th>4</th>\n",
       "      <td>b80344d063b5ccb3212f76538f3d9e43d87dca9e</td>\n",
       "      <td>SOBFOVM12A58A7D494</td>\n",
       "      <td>1</td>\n",
       "    </tr>\n",
       "  </tbody>\n",
       "</table>\n",
       "</div>"
      ],
      "text/plain": [
       "                                    user_id             song_id  play_count\n",
       "0  b80344d063b5ccb3212f76538f3d9e43d87dca9e  SOAKIMP12A8C130995           1\n",
       "1  b80344d063b5ccb3212f76538f3d9e43d87dca9e  SOAPDEY12A81C210A9           1\n",
       "2  b80344d063b5ccb3212f76538f3d9e43d87dca9e  SOBBMDR12A8C13253B           2\n",
       "3  b80344d063b5ccb3212f76538f3d9e43d87dca9e  SOBFNSP12AF72A0E22           1\n",
       "4  b80344d063b5ccb3212f76538f3d9e43d87dca9e  SOBFOVM12A58A7D494           1"
      ]
     },
     "execution_count": 8,
     "metadata": {},
     "output_type": "execute_result"
    }
   ],
   "source": [
    "user_behavior.head()"
   ]
  },
  {
   "cell_type": "code",
   "execution_count": 9,
   "metadata": {
    "collapsed": true
   },
   "outputs": [],
   "source": [
    "df = user_behavior.merge(hdf5_w_genre, on='song_id')"
   ]
  },
  {
   "cell_type": "code",
   "execution_count": 10,
   "metadata": {
    "collapsed": false
   },
   "outputs": [
    {
     "data": {
      "text/plain": [
       "393727"
      ]
     },
     "execution_count": 10,
     "metadata": {},
     "output_type": "execute_result"
    }
   ],
   "source": [
    "len(df)"
   ]
  },
  {
   "cell_type": "code",
   "execution_count": 11,
   "metadata": {
    "collapsed": false
   },
   "outputs": [
    {
     "data": {
      "text/html": [
       "<div>\n",
       "<table border=\"1\" class=\"dataframe\">\n",
       "  <thead>\n",
       "    <tr style=\"text-align: right;\">\n",
       "      <th></th>\n",
       "      <th>user_id</th>\n",
       "      <th>song_id</th>\n",
       "      <th>play_count</th>\n",
       "      <th>Unnamed: 0</th>\n",
       "      <th>artist_familiarty</th>\n",
       "      <th>artist_hotness</th>\n",
       "      <th>artist_id</th>\n",
       "      <th>artist_latitude</th>\n",
       "      <th>artist_location</th>\n",
       "      <th>artist_longitude</th>\n",
       "      <th>...</th>\n",
       "      <th>song_titles</th>\n",
       "      <th>track_id</th>\n",
       "      <th>song_bars</th>\n",
       "      <th>song_beats</th>\n",
       "      <th>song_keys</th>\n",
       "      <th>song_modes</th>\n",
       "      <th>song_tatum</th>\n",
       "      <th>song_tempo</th>\n",
       "      <th>song_time_signatures</th>\n",
       "      <th>genre_id</th>\n",
       "    </tr>\n",
       "  </thead>\n",
       "  <tbody>\n",
       "    <tr>\n",
       "      <th>0</th>\n",
       "      <td>b64cdd1a0bd907e5e00b39e345194768e330d652</td>\n",
       "      <td>SOLXDDC12A6701FBFD</td>\n",
       "      <td>1</td>\n",
       "      <td>6089</td>\n",
       "      <td>0.871011</td>\n",
       "      <td>0.80483</td>\n",
       "      <td>ARTH9041187FB43E1F</td>\n",
       "      <td>NaN</td>\n",
       "      <td>St. Joseph, MO</td>\n",
       "      <td>NaN</td>\n",
       "      <td>...</td>\n",
       "      <td>I'm Back</td>\n",
       "      <td>TRAUURC128E078EC6E</td>\n",
       "      <td>[  1.37360000e-01   1.46432000e+00   2.7929300...</td>\n",
       "      <td>[  1.37360000e-01   4.69100000e-01   8.0084000...</td>\n",
       "      <td>11</td>\n",
       "      <td>0</td>\n",
       "      <td>[  1.37360000e-01   3.03640000e-01   4.6910000...</td>\n",
       "      <td>180.168</td>\n",
       "      <td>4</td>\n",
       "      <td>Rap</td>\n",
       "    </tr>\n",
       "    <tr>\n",
       "      <th>1</th>\n",
       "      <td>951945330eb5df161ac4f97729647514001cd102</td>\n",
       "      <td>SOLXDDC12A6701FBFD</td>\n",
       "      <td>3</td>\n",
       "      <td>6089</td>\n",
       "      <td>0.871011</td>\n",
       "      <td>0.80483</td>\n",
       "      <td>ARTH9041187FB43E1F</td>\n",
       "      <td>NaN</td>\n",
       "      <td>St. Joseph, MO</td>\n",
       "      <td>NaN</td>\n",
       "      <td>...</td>\n",
       "      <td>I'm Back</td>\n",
       "      <td>TRAUURC128E078EC6E</td>\n",
       "      <td>[  1.37360000e-01   1.46432000e+00   2.7929300...</td>\n",
       "      <td>[  1.37360000e-01   4.69100000e-01   8.0084000...</td>\n",
       "      <td>11</td>\n",
       "      <td>0</td>\n",
       "      <td>[  1.37360000e-01   3.03640000e-01   4.6910000...</td>\n",
       "      <td>180.168</td>\n",
       "      <td>4</td>\n",
       "      <td>Rap</td>\n",
       "    </tr>\n",
       "    <tr>\n",
       "      <th>2</th>\n",
       "      <td>bd64f193f0f53f09d44ff48fd52830ff2fded392</td>\n",
       "      <td>SOLXDDC12A6701FBFD</td>\n",
       "      <td>1</td>\n",
       "      <td>6089</td>\n",
       "      <td>0.871011</td>\n",
       "      <td>0.80483</td>\n",
       "      <td>ARTH9041187FB43E1F</td>\n",
       "      <td>NaN</td>\n",
       "      <td>St. Joseph, MO</td>\n",
       "      <td>NaN</td>\n",
       "      <td>...</td>\n",
       "      <td>I'm Back</td>\n",
       "      <td>TRAUURC128E078EC6E</td>\n",
       "      <td>[  1.37360000e-01   1.46432000e+00   2.7929300...</td>\n",
       "      <td>[  1.37360000e-01   4.69100000e-01   8.0084000...</td>\n",
       "      <td>11</td>\n",
       "      <td>0</td>\n",
       "      <td>[  1.37360000e-01   3.03640000e-01   4.6910000...</td>\n",
       "      <td>180.168</td>\n",
       "      <td>4</td>\n",
       "      <td>Rap</td>\n",
       "    </tr>\n",
       "    <tr>\n",
       "      <th>3</th>\n",
       "      <td>e427f647c231c1bde8881eca5b2f5db9b3bcb2b4</td>\n",
       "      <td>SOLXDDC12A6701FBFD</td>\n",
       "      <td>1</td>\n",
       "      <td>6089</td>\n",
       "      <td>0.871011</td>\n",
       "      <td>0.80483</td>\n",
       "      <td>ARTH9041187FB43E1F</td>\n",
       "      <td>NaN</td>\n",
       "      <td>St. Joseph, MO</td>\n",
       "      <td>NaN</td>\n",
       "      <td>...</td>\n",
       "      <td>I'm Back</td>\n",
       "      <td>TRAUURC128E078EC6E</td>\n",
       "      <td>[  1.37360000e-01   1.46432000e+00   2.7929300...</td>\n",
       "      <td>[  1.37360000e-01   4.69100000e-01   8.0084000...</td>\n",
       "      <td>11</td>\n",
       "      <td>0</td>\n",
       "      <td>[  1.37360000e-01   3.03640000e-01   4.6910000...</td>\n",
       "      <td>180.168</td>\n",
       "      <td>4</td>\n",
       "      <td>Rap</td>\n",
       "    </tr>\n",
       "    <tr>\n",
       "      <th>4</th>\n",
       "      <td>02192554db8fe6d17b6309aabb2b7526a2e58534</td>\n",
       "      <td>SOLXDDC12A6701FBFD</td>\n",
       "      <td>1</td>\n",
       "      <td>6089</td>\n",
       "      <td>0.871011</td>\n",
       "      <td>0.80483</td>\n",
       "      <td>ARTH9041187FB43E1F</td>\n",
       "      <td>NaN</td>\n",
       "      <td>St. Joseph, MO</td>\n",
       "      <td>NaN</td>\n",
       "      <td>...</td>\n",
       "      <td>I'm Back</td>\n",
       "      <td>TRAUURC128E078EC6E</td>\n",
       "      <td>[  1.37360000e-01   1.46432000e+00   2.7929300...</td>\n",
       "      <td>[  1.37360000e-01   4.69100000e-01   8.0084000...</td>\n",
       "      <td>11</td>\n",
       "      <td>0</td>\n",
       "      <td>[  1.37360000e-01   3.03640000e-01   4.6910000...</td>\n",
       "      <td>180.168</td>\n",
       "      <td>4</td>\n",
       "      <td>Rap</td>\n",
       "    </tr>\n",
       "  </tbody>\n",
       "</table>\n",
       "<p>5 rows × 24 columns</p>\n",
       "</div>"
      ],
      "text/plain": [
       "                                    user_id             song_id  play_count  \\\n",
       "0  b64cdd1a0bd907e5e00b39e345194768e330d652  SOLXDDC12A6701FBFD           1   \n",
       "1  951945330eb5df161ac4f97729647514001cd102  SOLXDDC12A6701FBFD           3   \n",
       "2  bd64f193f0f53f09d44ff48fd52830ff2fded392  SOLXDDC12A6701FBFD           1   \n",
       "3  e427f647c231c1bde8881eca5b2f5db9b3bcb2b4  SOLXDDC12A6701FBFD           1   \n",
       "4  02192554db8fe6d17b6309aabb2b7526a2e58534  SOLXDDC12A6701FBFD           1   \n",
       "\n",
       "   Unnamed: 0  artist_familiarty  artist_hotness           artist_id  \\\n",
       "0        6089           0.871011         0.80483  ARTH9041187FB43E1F   \n",
       "1        6089           0.871011         0.80483  ARTH9041187FB43E1F   \n",
       "2        6089           0.871011         0.80483  ARTH9041187FB43E1F   \n",
       "3        6089           0.871011         0.80483  ARTH9041187FB43E1F   \n",
       "4        6089           0.871011         0.80483  ARTH9041187FB43E1F   \n",
       "\n",
       "   artist_latitude artist_location  artist_longitude    ...    song_titles  \\\n",
       "0              NaN  St. Joseph, MO               NaN    ...       I'm Back   \n",
       "1              NaN  St. Joseph, MO               NaN    ...       I'm Back   \n",
       "2              NaN  St. Joseph, MO               NaN    ...       I'm Back   \n",
       "3              NaN  St. Joseph, MO               NaN    ...       I'm Back   \n",
       "4              NaN  St. Joseph, MO               NaN    ...       I'm Back   \n",
       "\n",
       "             track_id                                          song_bars  \\\n",
       "0  TRAUURC128E078EC6E  [  1.37360000e-01   1.46432000e+00   2.7929300...   \n",
       "1  TRAUURC128E078EC6E  [  1.37360000e-01   1.46432000e+00   2.7929300...   \n",
       "2  TRAUURC128E078EC6E  [  1.37360000e-01   1.46432000e+00   2.7929300...   \n",
       "3  TRAUURC128E078EC6E  [  1.37360000e-01   1.46432000e+00   2.7929300...   \n",
       "4  TRAUURC128E078EC6E  [  1.37360000e-01   1.46432000e+00   2.7929300...   \n",
       "\n",
       "                                          song_beats song_keys song_modes  \\\n",
       "0  [  1.37360000e-01   4.69100000e-01   8.0084000...        11          0   \n",
       "1  [  1.37360000e-01   4.69100000e-01   8.0084000...        11          0   \n",
       "2  [  1.37360000e-01   4.69100000e-01   8.0084000...        11          0   \n",
       "3  [  1.37360000e-01   4.69100000e-01   8.0084000...        11          0   \n",
       "4  [  1.37360000e-01   4.69100000e-01   8.0084000...        11          0   \n",
       "\n",
       "                                          song_tatum song_tempo  \\\n",
       "0  [  1.37360000e-01   3.03640000e-01   4.6910000...    180.168   \n",
       "1  [  1.37360000e-01   3.03640000e-01   4.6910000...    180.168   \n",
       "2  [  1.37360000e-01   3.03640000e-01   4.6910000...    180.168   \n",
       "3  [  1.37360000e-01   3.03640000e-01   4.6910000...    180.168   \n",
       "4  [  1.37360000e-01   3.03640000e-01   4.6910000...    180.168   \n",
       "\n",
       "   song_time_signatures  genre_id  \n",
       "0                     4       Rap  \n",
       "1                     4       Rap  \n",
       "2                     4       Rap  \n",
       "3                     4       Rap  \n",
       "4                     4       Rap  \n",
       "\n",
       "[5 rows x 24 columns]"
      ]
     },
     "execution_count": 11,
     "metadata": {},
     "output_type": "execute_result"
    }
   ],
   "source": [
    "df.head()"
   ]
  },
  {
   "cell_type": "code",
   "execution_count": 12,
   "metadata": {
    "collapsed": false
   },
   "outputs": [
    {
     "name": "stdout",
     "output_type": "stream",
     "text": [
      "<class 'pandas.core.frame.DataFrame'>\n",
      "Int64Index: 393727 entries, 0 to 393726\n",
      "Data columns (total 24 columns):\n",
      "user_id                 393727 non-null object\n",
      "song_id                 393727 non-null object\n",
      "play_count              393727 non-null int64\n",
      "Unnamed: 0              393727 non-null int64\n",
      "artist_familiarty       393727 non-null float64\n",
      "artist_hotness          393727 non-null float64\n",
      "artist_id               393727 non-null object\n",
      "artist_latitude         175746 non-null float64\n",
      "artist_location         329387 non-null object\n",
      "artist_longitude        175746 non-null float64\n",
      "artist_names            393727 non-null object\n",
      "song_durations          393727 non-null float64\n",
      "song_hotness            350523 non-null float64\n",
      "song_release_years      393727 non-null int64\n",
      "song_titles             393727 non-null object\n",
      "track_id                393727 non-null object\n",
      "song_bars               393727 non-null object\n",
      "song_beats              393727 non-null object\n",
      "song_keys               393727 non-null int64\n",
      "song_modes              393727 non-null int64\n",
      "song_tatum              393727 non-null object\n",
      "song_tempo              393727 non-null float64\n",
      "song_time_signatures    393727 non-null int64\n",
      "genre_id                393727 non-null object\n",
      "dtypes: float64(7), int64(6), object(11)\n",
      "memory usage: 75.1+ MB\n"
     ]
    }
   ],
   "source": [
    "df.info()"
   ]
  },
  {
   "cell_type": "code",
   "execution_count": 14,
   "metadata": {
    "collapsed": false
   },
   "outputs": [],
   "source": [
    "df['beats_number'] = [len(x) for x in df.song_beats]\n",
    "df['bars_number'] = [len(x) for x in df.song_bars]\n",
    "df['tatum_number'] = [len(x) for x in df.song_tatum]"
   ]
  },
  {
   "cell_type": "code",
   "execution_count": 15,
   "metadata": {
    "collapsed": true
   },
   "outputs": [],
   "source": [
    "#delete Unnamed column which was created during merge\n",
    "df=df.drop(['Unnamed: 0','artist_latitude','artist_location','artist_longitude','song_bars','song_beats','song_tatum'],1)"
   ]
  },
  {
   "cell_type": "code",
   "execution_count": 16,
   "metadata": {
    "collapsed": true
   },
   "outputs": [],
   "source": [
    "#substitute all NaN with 0\n",
    "df = df.fillna(0)"
   ]
  },
  {
   "cell_type": "markdown",
   "metadata": {},
   "source": [
    "Now let's add a rating system based on play count - so the more often the user listened to the song, the higher it was rated. Let's create a simple rating system 1-5. "
   ]
  },
  {
   "cell_type": "code",
   "execution_count": 17,
   "metadata": {
    "collapsed": false
   },
   "outputs": [
    {
     "data": {
      "image/png": "[encoded data removed]",
      "text/plain": [
       "<matplotlib.figure.Figure at 0x10d889710>"
      ]
     },
     "metadata": {},
     "output_type": "display_data"
    }
   ],
   "source": [
    "f = df.play_count.hist(bins=20)"
   ]
  },
  {
   "cell_type": "code",
   "execution_count": 18,
   "metadata": {
    "collapsed": false
   },
   "outputs": [
    {
     "data": {
      "text/plain": [
       "count    393727.000000\n",
       "mean          2.567627\n",
       "std           4.822111\n",
       "min           1.000000\n",
       "25%           1.000000\n",
       "50%           1.000000\n",
       "75%           2.000000\n",
       "max         771.000000\n",
       "Name: play_count, dtype: float64"
      ]
     },
     "execution_count": 18,
     "metadata": {},
     "output_type": "execute_result"
    }
   ],
   "source": [
    "df.play_count.describe()"
   ]
  },
  {
   "cell_type": "markdown",
   "metadata": {},
   "source": [
    "Not very evenly distributed. 50% of the songs were listened to only once by a user. We will give htis a rating of 1 - the person didn't like it, but listened to it (vs. 0 not listening to it at all.)"
   ]
  },
  {
   "cell_type": "code",
   "execution_count": 19,
   "metadata": {
    "collapsed": false
   },
   "outputs": [
    {
     "data": {
      "text/plain": [
       "<matplotlib.axes._subplots.AxesSubplot at 0x10dedc090>"
      ]
     },
     "execution_count": 19,
     "metadata": {},
     "output_type": "execute_result"
    },
    {
     "data": {
      "image/png": "[encoded data removed]",
      "text/plain": [
       "<matplotlib.figure.Figure at 0x10e02da50>"
      ]
     },
     "metadata": {},
     "output_type": "display_data"
    }
   ],
   "source": [
    "np.log(df.play_count+1).hist(alpha=.5)"
   ]
  },
  {
   "cell_type": "code",
   "execution_count": 20,
   "metadata": {
    "collapsed": false
   },
   "outputs": [
    {
     "data": {
      "text/plain": [
       "1      238951\n",
       "2       61504\n",
       "3       27170\n",
       "5       15592\n",
       "4       15350\n",
       "6        7464\n",
       "7        5225\n",
       "8        3767\n",
       "10       2962\n",
       "9        2769\n",
       "11       1875\n",
       "12       1526\n",
       "13       1216\n",
       "15        989\n",
       "14        946\n",
       "16        721\n",
       "17        685\n",
       "18        483\n",
       "19        443\n",
       "20        438\n",
       "21        363\n",
       "22        286\n",
       "24        237\n",
       "25        236\n",
       "23        234\n",
       "27        170\n",
       "26        165\n",
       "28        141\n",
       "29        141\n",
       "30        135\n",
       "        ...  \n",
       "204         1\n",
       "202         1\n",
       "179         1\n",
       "174         1\n",
       "171         1\n",
       "166         1\n",
       "160         1\n",
       "156         1\n",
       "154         1\n",
       "152         1\n",
       "145         1\n",
       "143         1\n",
       "142         1\n",
       "133         1\n",
       "86          1\n",
       "132         1\n",
       "380         1\n",
       "123         1\n",
       "120         1\n",
       "118         1\n",
       "372         1\n",
       "116         1\n",
       "115         1\n",
       "110         1\n",
       "106         1\n",
       "104         1\n",
       "92          1\n",
       "88          1\n",
       "87          1\n",
       "256         1\n",
       "Name: play_count, dtype: int64"
      ]
     },
     "execution_count": 20,
     "metadata": {},
     "output_type": "execute_result"
    }
   ],
   "source": [
    "df.play_count.value_counts()"
   ]
  },
  {
   "cell_type": "code",
   "execution_count": 21,
   "metadata": {
    "collapsed": false
   },
   "outputs": [
    {
     "data": {
      "text/plain": [
       "(0.23, 78]    393576\n",
       "(78, 155]        129\n",
       "(155, 232]        13\n",
       "(232, 309]         6\n",
       "(309, 386]         2\n",
       "(694, 771]         1\n",
       "(617, 694]         0\n",
       "(540, 617]         0\n",
       "(463, 540]         0\n",
       "(386, 463]         0\n",
       "dtype: int64"
      ]
     },
     "execution_count": 21,
     "metadata": {},
     "output_type": "execute_result"
    }
   ],
   "source": [
    "pd.value_counts(pd.cut(df.play_count, bins = 10))"
   ]
  },
  {
   "cell_type": "code",
   "execution_count": 22,
   "metadata": {
    "collapsed": false
   },
   "outputs": [
    {
     "data": {
      "text/plain": [
       "array([[<matplotlib.axes._subplots.AxesSubplot object at 0x10e09a3d0>,\n",
       "        <matplotlib.axes._subplots.AxesSubplot object at 0x1100a7050>,\n",
       "        <matplotlib.axes._subplots.AxesSubplot object at 0x11044a790>,\n",
       "        <matplotlib.axes._subplots.AxesSubplot object at 0x1107c8ad0>],\n",
       "       [<matplotlib.axes._subplots.AxesSubplot object at 0x110cc9b90>,\n",
       "        <matplotlib.axes._subplots.AxesSubplot object at 0x111042990>,\n",
       "        <matplotlib.axes._subplots.AxesSubplot object at 0x111d4fd50>,\n",
       "        <matplotlib.axes._subplots.AxesSubplot object at 0x111dd1d10>],\n",
       "       [<matplotlib.axes._subplots.AxesSubplot object at 0x111e3dd10>,\n",
       "        <matplotlib.axes._subplots.AxesSubplot object at 0x111ecc050>,\n",
       "        <matplotlib.axes._subplots.AxesSubplot object at 0x11202f050>,\n",
       "        <matplotlib.axes._subplots.AxesSubplot object at 0x1120af610>],\n",
       "       [<matplotlib.axes._subplots.AxesSubplot object at 0x11205ba10>,\n",
       "        <matplotlib.axes._subplots.AxesSubplot object at 0x11219d3d0>,\n",
       "        <matplotlib.axes._subplots.AxesSubplot object at 0x1125346d0>,\n",
       "        <matplotlib.axes._subplots.AxesSubplot object at 0x11256f290>]], dtype=object)"
      ]
     },
     "execution_count": 22,
     "metadata": {},
     "output_type": "execute_result"
    },
    {
     "data": {
      "image/png": "[encoded data removed]",
      "text/plain": [
       "<matplotlib.figure.Figure at 0x10e0a4e50>"
      ]
     },
     "metadata": {},
     "output_type": "display_data"
    }
   ],
   "source": [
    "df[df['play_count'] < 200].hist()"
   ]
  },
  {
   "cell_type": "code",
   "execution_count": 23,
   "metadata": {
    "collapsed": true
   },
   "outputs": [],
   "source": [
    "bins = [1,2,10,20,40, np.inf]"
   ]
  },
  {
   "cell_type": "code",
   "execution_count": 24,
   "metadata": {
    "collapsed": true
   },
   "outputs": [],
   "source": [
    "df['rating']= pd.cut(df['play_count'], bins=bins, include_lowest=True, labels=[1,2,3,4,5]).astype(int)"
   ]
  },
  {
   "cell_type": "code",
   "execution_count": 25,
   "metadata": {
    "collapsed": false
   },
   "outputs": [
    {
     "data": {
      "text/html": [
       "<div>\n",
       "<table border=\"1\" class=\"dataframe\">\n",
       "  <thead>\n",
       "    <tr style=\"text-align: right;\">\n",
       "      <th></th>\n",
       "      <th>user_id</th>\n",
       "      <th>song_id</th>\n",
       "      <th>play_count</th>\n",
       "      <th>artist_familiarty</th>\n",
       "      <th>artist_hotness</th>\n",
       "      <th>artist_id</th>\n",
       "      <th>artist_names</th>\n",
       "      <th>song_durations</th>\n",
       "      <th>song_hotness</th>\n",
       "      <th>song_release_years</th>\n",
       "      <th>...</th>\n",
       "      <th>track_id</th>\n",
       "      <th>song_keys</th>\n",
       "      <th>song_modes</th>\n",
       "      <th>song_tempo</th>\n",
       "      <th>song_time_signatures</th>\n",
       "      <th>genre_id</th>\n",
       "      <th>beats_number</th>\n",
       "      <th>bars_number</th>\n",
       "      <th>tatum_number</th>\n",
       "      <th>rating</th>\n",
       "    </tr>\n",
       "  </thead>\n",
       "  <tbody>\n",
       "    <tr>\n",
       "      <th>0</th>\n",
       "      <td>b64cdd1a0bd907e5e00b39e345194768e330d652</td>\n",
       "      <td>SOLXDDC12A6701FBFD</td>\n",
       "      <td>1</td>\n",
       "      <td>0.871011</td>\n",
       "      <td>0.80483</td>\n",
       "      <td>ARTH9041187FB43E1F</td>\n",
       "      <td>Eminem</td>\n",
       "      <td>312.2673</td>\n",
       "      <td>0.811708</td>\n",
       "      <td>2000</td>\n",
       "      <td>...</td>\n",
       "      <td>TRAUURC128E078EC6E</td>\n",
       "      <td>11</td>\n",
       "      <td>0</td>\n",
       "      <td>180.168</td>\n",
       "      <td>4</td>\n",
       "      <td>Rap</td>\n",
       "      <td>16077</td>\n",
       "      <td>4002</td>\n",
       "      <td>109</td>\n",
       "      <td>1</td>\n",
       "    </tr>\n",
       "    <tr>\n",
       "      <th>1</th>\n",
       "      <td>951945330eb5df161ac4f97729647514001cd102</td>\n",
       "      <td>SOLXDDC12A6701FBFD</td>\n",
       "      <td>3</td>\n",
       "      <td>0.871011</td>\n",
       "      <td>0.80483</td>\n",
       "      <td>ARTH9041187FB43E1F</td>\n",
       "      <td>Eminem</td>\n",
       "      <td>312.2673</td>\n",
       "      <td>0.811708</td>\n",
       "      <td>2000</td>\n",
       "      <td>...</td>\n",
       "      <td>TRAUURC128E078EC6E</td>\n",
       "      <td>11</td>\n",
       "      <td>0</td>\n",
       "      <td>180.168</td>\n",
       "      <td>4</td>\n",
       "      <td>Rap</td>\n",
       "      <td>16077</td>\n",
       "      <td>4002</td>\n",
       "      <td>109</td>\n",
       "      <td>2</td>\n",
       "    </tr>\n",
       "    <tr>\n",
       "      <th>2</th>\n",
       "      <td>bd64f193f0f53f09d44ff48fd52830ff2fded392</td>\n",
       "      <td>SOLXDDC12A6701FBFD</td>\n",
       "      <td>1</td>\n",
       "      <td>0.871011</td>\n",
       "      <td>0.80483</td>\n",
       "      <td>ARTH9041187FB43E1F</td>\n",
       "      <td>Eminem</td>\n",
       "      <td>312.2673</td>\n",
       "      <td>0.811708</td>\n",
       "      <td>2000</td>\n",
       "      <td>...</td>\n",
       "      <td>TRAUURC128E078EC6E</td>\n",
       "      <td>11</td>\n",
       "      <td>0</td>\n",
       "      <td>180.168</td>\n",
       "      <td>4</td>\n",
       "      <td>Rap</td>\n",
       "      <td>16077</td>\n",
       "      <td>4002</td>\n",
       "      <td>109</td>\n",
       "      <td>1</td>\n",
       "    </tr>\n",
       "    <tr>\n",
       "      <th>3</th>\n",
       "      <td>e427f647c231c1bde8881eca5b2f5db9b3bcb2b4</td>\n",
       "      <td>SOLXDDC12A6701FBFD</td>\n",
       "      <td>1</td>\n",
       "      <td>0.871011</td>\n",
       "      <td>0.80483</td>\n",
       "      <td>ARTH9041187FB43E1F</td>\n",
       "      <td>Eminem</td>\n",
       "      <td>312.2673</td>\n",
       "      <td>0.811708</td>\n",
       "      <td>2000</td>\n",
       "      <td>...</td>\n",
       "      <td>TRAUURC128E078EC6E</td>\n",
       "      <td>11</td>\n",
       "      <td>0</td>\n",
       "      <td>180.168</td>\n",
       "      <td>4</td>\n",
       "      <td>Rap</td>\n",
       "      <td>16077</td>\n",
       "      <td>4002</td>\n",
       "      <td>109</td>\n",
       "      <td>1</td>\n",
       "    </tr>\n",
       "    <tr>\n",
       "      <th>4</th>\n",
       "      <td>02192554db8fe6d17b6309aabb2b7526a2e58534</td>\n",
       "      <td>SOLXDDC12A6701FBFD</td>\n",
       "      <td>1</td>\n",
       "      <td>0.871011</td>\n",
       "      <td>0.80483</td>\n",
       "      <td>ARTH9041187FB43E1F</td>\n",
       "      <td>Eminem</td>\n",
       "      <td>312.2673</td>\n",
       "      <td>0.811708</td>\n",
       "      <td>2000</td>\n",
       "      <td>...</td>\n",
       "      <td>TRAUURC128E078EC6E</td>\n",
       "      <td>11</td>\n",
       "      <td>0</td>\n",
       "      <td>180.168</td>\n",
       "      <td>4</td>\n",
       "      <td>Rap</td>\n",
       "      <td>16077</td>\n",
       "      <td>4002</td>\n",
       "      <td>109</td>\n",
       "      <td>1</td>\n",
       "    </tr>\n",
       "  </tbody>\n",
       "</table>\n",
       "<p>5 rows × 21 columns</p>\n",
       "</div>"
      ],
      "text/plain": [
       "                                    user_id             song_id  play_count  \\\n",
       "0  b64cdd1a0bd907e5e00b39e345194768e330d652  SOLXDDC12A6701FBFD           1   \n",
       "1  951945330eb5df161ac4f97729647514001cd102  SOLXDDC12A6701FBFD           3   \n",
       "2  bd64f193f0f53f09d44ff48fd52830ff2fded392  SOLXDDC12A6701FBFD           1   \n",
       "3  e427f647c231c1bde8881eca5b2f5db9b3bcb2b4  SOLXDDC12A6701FBFD           1   \n",
       "4  02192554db8fe6d17b6309aabb2b7526a2e58534  SOLXDDC12A6701FBFD           1   \n",
       "\n",
       "   artist_familiarty  artist_hotness           artist_id artist_names  \\\n",
       "0           0.871011         0.80483  ARTH9041187FB43E1F       Eminem   \n",
       "1           0.871011         0.80483  ARTH9041187FB43E1F       Eminem   \n",
       "2           0.871011         0.80483  ARTH9041187FB43E1F       Eminem   \n",
       "3           0.871011         0.80483  ARTH9041187FB43E1F       Eminem   \n",
       "4           0.871011         0.80483  ARTH9041187FB43E1F       Eminem   \n",
       "\n",
       "   song_durations  song_hotness  song_release_years   ...    \\\n",
       "0        312.2673      0.811708                2000   ...     \n",
       "1        312.2673      0.811708                2000   ...     \n",
       "2        312.2673      0.811708                2000   ...     \n",
       "3        312.2673      0.811708                2000   ...     \n",
       "4        312.2673      0.811708                2000   ...     \n",
       "\n",
       "             track_id song_keys  song_modes  song_tempo  song_time_signatures  \\\n",
       "0  TRAUURC128E078EC6E        11           0     180.168                     4   \n",
       "1  TRAUURC128E078EC6E        11           0     180.168                     4   \n",
       "2  TRAUURC128E078EC6E        11           0     180.168                     4   \n",
       "3  TRAUURC128E078EC6E        11           0     180.168                     4   \n",
       "4  TRAUURC128E078EC6E        11           0     180.168                     4   \n",
       "\n",
       "   genre_id beats_number  bars_number  tatum_number  rating  \n",
       "0       Rap        16077         4002           109       1  \n",
       "1       Rap        16077         4002           109       2  \n",
       "2       Rap        16077         4002           109       1  \n",
       "3       Rap        16077         4002           109       1  \n",
       "4       Rap        16077         4002           109       1  \n",
       "\n",
       "[5 rows x 21 columns]"
      ]
     },
     "execution_count": 25,
     "metadata": {},
     "output_type": "execute_result"
    }
   ],
   "source": [
    "df.head()"
   ]
  },
  {
   "cell_type": "code",
   "execution_count": 26,
   "metadata": {
    "collapsed": false
   },
   "outputs": [
    {
     "name": "stdout",
     "output_type": "stream",
     "text": [
      "user_id             :  266346 uniques\n",
      "song_id             :    1780 uniques\n",
      "play_count          :     150 uniques\n",
      "artist_familiarty   :    1089 uniques\n",
      "artist_hotness      :    1075 uniques\n",
      "artist_id           :    1066 uniques\n",
      "artist_names        :    1067 uniques\n",
      "song_durations      :    1642 uniques\n",
      "song_hotness        :     876 uniques\n",
      "song_release_years  :      51 uniques\n",
      "song_titles         :    1767 uniques\n",
      "track_id            :    1780 uniques\n",
      "song_keys           :      12 uniques\n",
      "song_modes          :       2 uniques\n",
      "song_tempo          :    1753 uniques\n",
      "song_time_signatures:       6 uniques\n",
      "genre_id            :      20 uniques\n",
      "beats_number        :    1416 uniques\n",
      "bars_number         :    1071 uniques\n",
      "tatum_number        :     734 uniques\n",
      "rating              :       5 uniques\n"
     ]
    }
   ],
   "source": [
    "for col in df:\n",
    "    print \"%-20s: %7d uniques\" % (col, df[col].nunique())"
   ]
  },
  {
   "cell_type": "code",
   "execution_count": 27,
   "metadata": {
    "collapsed": true
   },
   "outputs": [],
   "source": [
    "#add rating index\n",
    "df['index'] = range(1, len(df) + 1)"
   ]
  },
  {
   "cell_type": "code",
   "execution_count": 28,
   "metadata": {
    "collapsed": false
   },
   "outputs": [
    {
     "name": "stdout",
     "output_type": "stream",
     "text": [
      "We have 393727 ratings for 1780 songs from 20 genres, by 266346 listeneres\n"
     ]
    }
   ],
   "source": [
    "print \"We have %d ratings for %d songs from %d genres, by %d listeneres\" % \\\n",
    "    (len(df), df.song_id.nunique(), df.genre_id.nunique(), df.user_id.nunique())"
   ]
  },
  {
   "cell_type": "code",
   "execution_count": 29,
   "metadata": {
    "collapsed": true
   },
   "outputs": [],
   "source": [
    "#creating an index to look up song information\n",
    "song_names = df.groupby('song_id').song_titles.first()"
   ]
  },
  {
   "cell_type": "code",
   "execution_count": 30,
   "metadata": {
    "collapsed": false
   },
   "outputs": [],
   "source": [
    "song_df=df.groupby('song_id')['song_titles','artist_names'].first()"
   ]
  },
  {
   "cell_type": "code",
   "execution_count": 31,
   "metadata": {
    "collapsed": false
   },
   "outputs": [
    {
     "data": {
      "text/html": [
       "<div>\n",
       "<table border=\"1\" class=\"dataframe\">\n",
       "  <thead>\n",
       "    <tr style=\"text-align: right;\">\n",
       "      <th></th>\n",
       "      <th>song_titles</th>\n",
       "      <th>artist_names</th>\n",
       "    </tr>\n",
       "    <tr>\n",
       "      <th>song_id</th>\n",
       "      <th></th>\n",
       "      <th></th>\n",
       "    </tr>\n",
       "  </thead>\n",
       "  <tbody>\n",
       "    <tr>\n",
       "      <th>SOAAEHR12A6D4FB060</th>\n",
       "      <td>Slaves &amp; Bulldozers</td>\n",
       "      <td>Soundgarden</td>\n",
       "    </tr>\n",
       "    <tr>\n",
       "      <th>SOAAFUV12AB018831D</th>\n",
       "      <td>Where Do The Children Play? (LP Version)</td>\n",
       "      <td>Big Mountain</td>\n",
       "    </tr>\n",
       "    <tr>\n",
       "      <th>SOABLAF12AB018E1D9</th>\n",
       "      <td>Lesson Learned</td>\n",
       "      <td>Alice In Chains</td>\n",
       "    </tr>\n",
       "    <tr>\n",
       "      <th>SOABVPU12AB018AA22</th>\n",
       "      <td>Conquer Me</td>\n",
       "      <td>Delroy Wilson</td>\n",
       "    </tr>\n",
       "    <tr>\n",
       "      <th>SOACEDS12A6701EAAA</th>\n",
       "      <td>Gone To The Movies</td>\n",
       "      <td>Semisonic</td>\n",
       "    </tr>\n",
       "  </tbody>\n",
       "</table>\n",
       "</div>"
      ],
      "text/plain": [
       "                                                 song_titles     artist_names\n",
       "song_id                                                                      \n",
       "SOAAEHR12A6D4FB060                       Slaves & Bulldozers      Soundgarden\n",
       "SOAAFUV12AB018831D  Where Do The Children Play? (LP Version)     Big Mountain\n",
       "SOABLAF12AB018E1D9                            Lesson Learned  Alice In Chains\n",
       "SOABVPU12AB018AA22                                Conquer Me    Delroy Wilson\n",
       "SOACEDS12A6701EAAA                        Gone To The Movies        Semisonic"
      ]
     },
     "execution_count": 31,
     "metadata": {},
     "output_type": "execute_result"
    }
   ],
   "source": [
    "song_df.head()"
   ]
  },
  {
   "cell_type": "code",
   "execution_count": 32,
   "metadata": {
    "collapsed": false
   },
   "outputs": [
    {
     "data": {
      "text/plain": [
       "1    300455\n",
       "2     80299\n",
       "3      9322\n",
       "4      2866\n",
       "5       785\n",
       "Name: rating, dtype: int64"
      ]
     },
     "execution_count": 32,
     "metadata": {},
     "output_type": "execute_result"
    }
   ],
   "source": [
    "df.rating.value_counts().sort_index()"
   ]
  },
  {
   "cell_type": "code",
   "execution_count": 33,
   "metadata": {
    "collapsed": false
   },
   "outputs": [
    {
     "data": {
      "text/plain": [
       "<matplotlib.axes._subplots.AxesSubplot at 0x11292b9d0>"
      ]
     },
     "execution_count": 33,
     "metadata": {},
     "output_type": "execute_result"
    },
    {
     "data": {
      "image/png": "[encoded data removed]",
      "text/plain": [
       "<matplotlib.figure.Figure at 0x112979750>"
      ]
     },
     "metadata": {},
     "output_type": "display_data"
    }
   ],
   "source": [
    "df.rating.value_counts().sort_index().plot()"
   ]
  },
  {
   "cell_type": "code",
   "execution_count": 34,
   "metadata": {
    "collapsed": false
   },
   "outputs": [
    {
     "data": {
      "text/plain": [
       "<matplotlib.axes._subplots.AxesSubplot at 0x112aedcd0>"
      ]
     },
     "execution_count": 34,
     "metadata": {},
     "output_type": "execute_result"
    },
    {
     "data": {
      "image/png": "[encoded data removed]",
      "text/plain": [
       "<matplotlib.figure.Figure at 0x11339b150>"
      ]
     },
     "metadata": {},
     "output_type": "display_data"
    }
   ],
   "source": [
    "df.rating.value_counts().sort_index().plot(kind='bar')"
   ]
  },
  {
   "cell_type": "code",
   "execution_count": 35,
   "metadata": {
    "collapsed": false
   },
   "outputs": [
    {
     "data": {
      "image/png": "[encoded data removed]",
      "text/plain": [
       "<matplotlib.figure.Figure at 0x11404ed50>"
      ]
     },
     "metadata": {},
     "output_type": "display_data"
    }
   ],
   "source": [
    "f = df.rating.hist(bins=5)\n",
    "f = plt.title(\"Song ratings\")"
   ]
  },
  {
   "cell_type": "code",
   "execution_count": 36,
   "metadata": {
    "collapsed": false
   },
   "outputs": [
    {
     "data": {
      "text/plain": [
       "1    300455\n",
       "2     80299\n",
       "3      9322\n",
       "4      2866\n",
       "5       785\n",
       "Name: rating, dtype: int64"
      ]
     },
     "execution_count": 36,
     "metadata": {},
     "output_type": "execute_result"
    }
   ],
   "source": [
    "df.rating.value_counts().sort_index()"
   ]
  },
  {
   "cell_type": "code",
   "execution_count": 37,
   "metadata": {
    "collapsed": false
   },
   "outputs": [
    {
     "data": {
      "text/plain": [
       "Avant_Garde           18\n",
       "Blues               1067\n",
       "Children             165\n",
       "Classical            414\n",
       "Comedy_Spoken        493\n",
       "Country             9121\n",
       "Easy_Listening        59\n",
       "Electronic         12956\n",
       "Folk                 766\n",
       "International       1048\n",
       "Jazz                2170\n",
       "Latin              11239\n",
       "New Age              825\n",
       "Pop_Rock          274827\n",
       "Rap                47429\n",
       "Reggae             18085\n",
       "Religious           2576\n",
       "RnB                 8917\n",
       "Stage                190\n",
       "Vocal               1362\n",
       "Name: genre_id, dtype: int64"
      ]
     },
     "execution_count": 37,
     "metadata": {},
     "output_type": "execute_result"
    }
   ],
   "source": [
    "df.genre_id.value_counts().sort_index()"
   ]
  },
  {
   "cell_type": "markdown",
   "metadata": {},
   "source": [
    "## Feature Matrix"
   ]
  },
  {
   "cell_type": "markdown",
   "metadata": {},
   "source": [
    "For unsupervised learning we are going to create a feature matrix."
   ]
  },
  {
   "cell_type": "code",
   "execution_count": 38,
   "metadata": {
    "collapsed": false
   },
   "outputs": [
    {
     "name": "stdout",
     "output_type": "stream",
     "text": [
      "<class 'pandas.core.frame.DataFrame'>\n",
      "Int64Index: 393727 entries, 0 to 393726\n",
      "Data columns (total 22 columns):\n",
      "user_id                 393727 non-null object\n",
      "song_id                 393727 non-null object\n",
      "play_count              393727 non-null int64\n",
      "artist_familiarty       393727 non-null float64\n",
      "artist_hotness          393727 non-null float64\n",
      "artist_id               393727 non-null object\n",
      "artist_names            393727 non-null object\n",
      "song_durations          393727 non-null float64\n",
      "song_hotness            393727 non-null float64\n",
      "song_release_years      393727 non-null int64\n",
      "song_titles             393727 non-null object\n",
      "track_id                393727 non-null object\n",
      "song_keys               393727 non-null int64\n",
      "song_modes              393727 non-null int64\n",
      "song_tempo              393727 non-null float64\n",
      "song_time_signatures    393727 non-null int64\n",
      "genre_id                393727 non-null object\n",
      "beats_number            393727 non-null int64\n",
      "bars_number             393727 non-null int64\n",
      "tatum_number            393727 non-null int64\n",
      "rating                  393727 non-null int64\n",
      "index                   393727 non-null int64\n",
      "dtypes: float64(5), int64(10), object(7)\n",
      "memory usage: 69.1+ MB\n"
     ]
    }
   ],
   "source": [
    "df.info()"
   ]
  },
  {
   "cell_type": "markdown",
   "metadata": {},
   "source": [
    "The class **DictVectorizer** can be used to convert feature arrays represented as lists of standard Python dict objects to the NumPy/SciPy representation used by scikit-learn estimators"
   ]
  },
  {
   "cell_type": "code",
   "execution_count": 39,
   "metadata": {
    "collapsed": false
   },
   "outputs": [],
   "source": [
    "#first we nee to vectorixe genre_id\n",
    "from sklearn.feature_extraction import DictVectorizer\n",
    "\n",
    "categorical_features = df[['genre_id']]\n",
    "dv = DictVectorizer()\n",
    "cat_matrix = dv.fit_transform(categorical_features.T.to_dict().values())"
   ]
  },
  {
   "cell_type": "markdown",
   "metadata": {},
   "source": [
    "Convert numerical values to strings, so patsy will treat them as categorical features"
   ]
  },
  {
   "cell_type": "code",
   "execution_count": null,
   "metadata": {
    "collapsed": true
   },
   "outputs": [],
   "source": [
    "#from homework\n",
    "#data['beer_abv_cat'] = abv.dropna().astype(int).astype(str)\n",
    "#data['brewery_id_str'] = data.brewery_id.astype(str)\n",
    "#X_abv_brew = dmatrix('beer_abv_cat + brewery_id_str', data=data.fillna(0), return_type='dataframe')\n",
    "#X_abv_brew.shape"
   ]
  },
  {
   "cell_type": "code",
   "execution_count": null,
   "metadata": {
    "collapsed": true
   },
   "outputs": [],
   "source": [
    "#X_abv_brew.head()"
   ]
  },
  {
   "cell_type": "markdown",
   "metadata": {},
   "source": [
    "**CountVectorizer** implements both tokenization and occurrence counting in a single class"
   ]
  },
  {
   "cell_type": "code",
   "execution_count": null,
   "metadata": {
    "collapsed": true
   },
   "outputs": [],
   "source": [
    "#from sklearn.feature_extraction.text import CountVectorizer\n",
    "#cv = CountVectorizer(max_features=max_features)\n",
    "#X_genre = cv.fit_transform(data.genre_id)"
   ]
  },
  {
   "cell_type": "code",
   "execution_count": 40,
   "metadata": {
    "collapsed": false
   },
   "outputs": [
    {
     "data": {
      "text/html": [
       "<div>\n",
       "<table border=\"1\" class=\"dataframe\">\n",
       "  <thead>\n",
       "    <tr style=\"text-align: right;\">\n",
       "      <th></th>\n",
       "      <th>genre_id</th>\n",
       "    </tr>\n",
       "  </thead>\n",
       "  <tbody>\n",
       "    <tr>\n",
       "      <th>0</th>\n",
       "      <td>Rap</td>\n",
       "    </tr>\n",
       "    <tr>\n",
       "      <th>1</th>\n",
       "      <td>Rap</td>\n",
       "    </tr>\n",
       "    <tr>\n",
       "      <th>2</th>\n",
       "      <td>Rap</td>\n",
       "    </tr>\n",
       "    <tr>\n",
       "      <th>3</th>\n",
       "      <td>Rap</td>\n",
       "    </tr>\n",
       "    <tr>\n",
       "      <th>4</th>\n",
       "      <td>Rap</td>\n",
       "    </tr>\n",
       "  </tbody>\n",
       "</table>\n",
       "</div>"
      ],
      "text/plain": [
       "  genre_id\n",
       "0      Rap\n",
       "1      Rap\n",
       "2      Rap\n",
       "3      Rap\n",
       "4      Rap"
      ]
     },
     "execution_count": 40,
     "metadata": {},
     "output_type": "execute_result"
    }
   ],
   "source": [
    "categorical_features.head()"
   ]
  },
  {
   "cell_type": "code",
   "execution_count": 41,
   "metadata": {
    "collapsed": false
   },
   "outputs": [
    {
     "name": "stdout",
     "output_type": "stream",
     "text": [
      "<class 'pandas.core.frame.DataFrame'>\n",
      "Int64Index: 393727 entries, 0 to 393726\n",
      "Data columns (total 22 columns):\n",
      "user_id                 393727 non-null object\n",
      "song_id                 393727 non-null object\n",
      "play_count              393727 non-null int64\n",
      "artist_familiarty       393727 non-null float64\n",
      "artist_hotness          393727 non-null float64\n",
      "artist_id               393727 non-null object\n",
      "artist_names            393727 non-null object\n",
      "song_durations          393727 non-null float64\n",
      "song_hotness            393727 non-null float64\n",
      "song_release_years      393727 non-null int64\n",
      "song_titles             393727 non-null object\n",
      "track_id                393727 non-null object\n",
      "song_keys               393727 non-null int64\n",
      "song_modes              393727 non-null int64\n",
      "song_tempo              393727 non-null float64\n",
      "song_time_signatures    393727 non-null int64\n",
      "genre_id                393727 non-null object\n",
      "beats_number            393727 non-null int64\n",
      "bars_number             393727 non-null int64\n",
      "tatum_number            393727 non-null int64\n",
      "rating                  393727 non-null int64\n",
      "index                   393727 non-null int64\n",
      "dtypes: float64(5), int64(10), object(7)\n",
      "memory usage: 69.1+ MB\n"
     ]
    }
   ],
   "source": [
    "df.info()"
   ]
  },
  {
   "cell_type": "code",
   "execution_count": 42,
   "metadata": {
    "collapsed": false
   },
   "outputs": [],
   "source": [
    "from scipy.sparse import hstack\n",
    "other_features = df[['artist_familiarty','artist_hotness','song_modes','song_time_signatures',\\\n",
    "                       'song_durations','song_tempo','beats_number','song_release_years']]"
   ]
  },
  {
   "cell_type": "code",
   "execution_count": 43,
   "metadata": {
    "collapsed": false
   },
   "outputs": [
    {
     "data": {
      "text/html": [
       "<div>\n",
       "<table border=\"1\" class=\"dataframe\">\n",
       "  <thead>\n",
       "    <tr style=\"text-align: right;\">\n",
       "      <th></th>\n",
       "      <th>artist_familiarty</th>\n",
       "      <th>artist_hotness</th>\n",
       "      <th>song_modes</th>\n",
       "      <th>song_time_signatures</th>\n",
       "      <th>song_durations</th>\n",
       "      <th>song_tempo</th>\n",
       "      <th>beats_number</th>\n",
       "      <th>song_release_years</th>\n",
       "    </tr>\n",
       "  </thead>\n",
       "  <tbody>\n",
       "    <tr>\n",
       "      <th>0</th>\n",
       "      <td>0.871011</td>\n",
       "      <td>0.80483</td>\n",
       "      <td>0</td>\n",
       "      <td>4</td>\n",
       "      <td>312.2673</td>\n",
       "      <td>180.168</td>\n",
       "      <td>16077</td>\n",
       "      <td>2000</td>\n",
       "    </tr>\n",
       "    <tr>\n",
       "      <th>1</th>\n",
       "      <td>0.871011</td>\n",
       "      <td>0.80483</td>\n",
       "      <td>0</td>\n",
       "      <td>4</td>\n",
       "      <td>312.2673</td>\n",
       "      <td>180.168</td>\n",
       "      <td>16077</td>\n",
       "      <td>2000</td>\n",
       "    </tr>\n",
       "    <tr>\n",
       "      <th>2</th>\n",
       "      <td>0.871011</td>\n",
       "      <td>0.80483</td>\n",
       "      <td>0</td>\n",
       "      <td>4</td>\n",
       "      <td>312.2673</td>\n",
       "      <td>180.168</td>\n",
       "      <td>16077</td>\n",
       "      <td>2000</td>\n",
       "    </tr>\n",
       "    <tr>\n",
       "      <th>3</th>\n",
       "      <td>0.871011</td>\n",
       "      <td>0.80483</td>\n",
       "      <td>0</td>\n",
       "      <td>4</td>\n",
       "      <td>312.2673</td>\n",
       "      <td>180.168</td>\n",
       "      <td>16077</td>\n",
       "      <td>2000</td>\n",
       "    </tr>\n",
       "    <tr>\n",
       "      <th>4</th>\n",
       "      <td>0.871011</td>\n",
       "      <td>0.80483</td>\n",
       "      <td>0</td>\n",
       "      <td>4</td>\n",
       "      <td>312.2673</td>\n",
       "      <td>180.168</td>\n",
       "      <td>16077</td>\n",
       "      <td>2000</td>\n",
       "    </tr>\n",
       "  </tbody>\n",
       "</table>\n",
       "</div>"
      ],
      "text/plain": [
       "   artist_familiarty  artist_hotness  song_modes  song_time_signatures  \\\n",
       "0           0.871011         0.80483           0                     4   \n",
       "1           0.871011         0.80483           0                     4   \n",
       "2           0.871011         0.80483           0                     4   \n",
       "3           0.871011         0.80483           0                     4   \n",
       "4           0.871011         0.80483           0                     4   \n",
       "\n",
       "   song_durations  song_tempo  beats_number  song_release_years  \n",
       "0        312.2673     180.168         16077                2000  \n",
       "1        312.2673     180.168         16077                2000  \n",
       "2        312.2673     180.168         16077                2000  \n",
       "3        312.2673     180.168         16077                2000  \n",
       "4        312.2673     180.168         16077                2000  "
      ]
     },
     "execution_count": 43,
     "metadata": {},
     "output_type": "execute_result"
    }
   ],
   "source": [
    "other_features.head()"
   ]
  },
  {
   "cell_type": "code",
   "execution_count": 44,
   "metadata": {
    "collapsed": false
   },
   "outputs": [
    {
     "data": {
      "text/plain": [
       "<393727x28 sparse matrix of type '<type 'numpy.float64'>'\n",
       "\twith 3346923 stored elements in COOrdinate format>"
      ]
     },
     "execution_count": 44,
     "metadata": {},
     "output_type": "execute_result"
    }
   ],
   "source": [
    "data_matrix = hstack([cat_matrix, other_features])\n",
    "data_matrix"
   ]
  },
  {
   "cell_type": "code",
   "execution_count": 45,
   "metadata": {
    "collapsed": true
   },
   "outputs": [],
   "source": [
    "from sklearn.preprocessing import scale\n",
    "\n",
    "data_matrix = scale(data_matrix.todense())"
   ]
  },
  {
   "cell_type": "markdown",
   "metadata": {},
   "source": [
    "## Content Filtering"
   ]
  },
  {
   "cell_type": "markdown",
   "metadata": {},
   "source": [
    "In this approach we create a feature space, where we map the data to compare listeners to songs. \n",
    "Each song gets a representation in the space and each listener gets a listener profile."
   ]
  },
  {
   "cell_type": "code",
   "execution_count": null,
   "metadata": {
    "collapsed": true
   },
   "outputs": [],
   "source": []
  },
  {
   "cell_type": "markdown",
   "metadata": {},
   "source": [
    "## Collaborative Filtering"
   ]
  },
  {
   "cell_type": "markdown",
   "metadata": {},
   "source": [
    "It seems this is the way to go to recommend a song. \n",
    "\n",
    "http://benanne.github.io/2014/08/05/spotify-cnns.html"
   ]
  },
  {
   "cell_type": "markdown",
   "metadata": {},
   "source": [
    "### Item-based collaborative filtering"
   ]
  },
  {
   "cell_type": "code",
   "execution_count": null,
   "metadata": {
    "collapsed": true
   },
   "outputs": [],
   "source": []
  },
  {
   "cell_type": "markdown",
   "metadata": {},
   "source": [
    "### model-based collaborative filtering"
   ]
  },
  {
   "cell_type": "code",
   "execution_count": null,
   "metadata": {
    "collapsed": true
   },
   "outputs": [],
   "source": []
  },
  {
   "cell_type": "markdown",
   "metadata": {},
   "source": [
    "## K-means"
   ]
  },
  {
   "cell_type": "code",
   "execution_count": 46,
   "metadata": {
    "collapsed": false
   },
   "outputs": [
    {
     "data": {
      "text/plain": [
       "array([19, 19, 19, ..., 24, 24, 14], dtype=int32)"
      ]
     },
     "execution_count": 46,
     "metadata": {},
     "output_type": "execute_result"
    }
   ],
   "source": [
    "from sklearn.cluster import KMeans\n",
    "\n",
    "clustering_model = KMeans(n_clusters = 25)\n",
    "clustering_model.fit(data_matrix)\n",
    "\n",
    "clusters = clustering_model.predict(data_matrix)\n",
    "\n",
    "clusters"
   ]
  },
  {
   "cell_type": "code",
   "execution_count": 47,
   "metadata": {
    "collapsed": false
   },
   "outputs": [
    {
     "data": {
      "text/plain": [
       "0     73446\n",
       "22    57302\n",
       "15    51203\n",
       "19    45790\n",
       "3     44168\n",
       "24    37784\n",
       "2     18085\n",
       "7     12956\n",
       "23    12563\n",
       "4     11239\n",
       "1      9121\n",
       "11     8917\n",
       "5      2576\n",
       "10     2170\n",
       "6      1362\n",
       "17     1067\n",
       "8      1048\n",
       "14      825\n",
       "12      766\n",
       "9       493\n",
       "16      414\n",
       "20      190\n",
       "13      165\n",
       "18       59\n",
       "21       18\n",
       "dtype: int64"
      ]
     },
     "execution_count": 47,
     "metadata": {},
     "output_type": "execute_result"
    }
   ],
   "source": [
    "pd.Series(clusters).value_counts()"
   ]
  },
  {
   "cell_type": "code",
   "execution_count": 49,
   "metadata": {
    "collapsed": false
   },
   "outputs": [
    {
     "data": {
      "text/plain": [
       "Pop_Rock          274827\n",
       "Rap                47429\n",
       "Reggae             18085\n",
       "Electronic         12956\n",
       "Latin              11239\n",
       "Country             9121\n",
       "RnB                 8917\n",
       "Religious           2576\n",
       "Jazz                2170\n",
       "Vocal               1362\n",
       "Blues               1067\n",
       "International       1048\n",
       "New Age              825\n",
       "Folk                 766\n",
       "Comedy_Spoken        493\n",
       "Classical            414\n",
       "Stage                190\n",
       "Children             165\n",
       "Easy_Listening        59\n",
       "Avant_Garde           18\n",
       "Name: genre_id, dtype: int64"
      ]
     },
     "execution_count": 49,
     "metadata": {},
     "output_type": "execute_result"
    }
   ],
   "source": [
    "df['genre_id'].value_counts()"
   ]
  },
  {
   "cell_type": "code",
   "execution_count": 50,
   "metadata": {
    "collapsed": true
   },
   "outputs": [],
   "source": [
    "results = pd.DataFrame({ 'cluster' : clusters, 'genre_id' : df['genre_id']})\n",
    "cluster_counts = results.groupby('cluster')['genre_id'].value_counts()"
   ]
  },
  {
   "cell_type": "code",
   "execution_count": 51,
   "metadata": {
    "collapsed": false
   },
   "outputs": [
    {
     "data": {
      "text/html": [
       "<div>\n",
       "<table border=\"1\" class=\"dataframe\">\n",
       "  <thead>\n",
       "    <tr style=\"text-align: right;\">\n",
       "      <th></th>\n",
       "      <th>cluster</th>\n",
       "      <th>genre_id</th>\n",
       "    </tr>\n",
       "  </thead>\n",
       "  <tbody>\n",
       "    <tr>\n",
       "      <th>0</th>\n",
       "      <td>19</td>\n",
       "      <td>Rap</td>\n",
       "    </tr>\n",
       "    <tr>\n",
       "      <th>1</th>\n",
       "      <td>19</td>\n",
       "      <td>Rap</td>\n",
       "    </tr>\n",
       "    <tr>\n",
       "      <th>2</th>\n",
       "      <td>19</td>\n",
       "      <td>Rap</td>\n",
       "    </tr>\n",
       "    <tr>\n",
       "      <th>3</th>\n",
       "      <td>19</td>\n",
       "      <td>Rap</td>\n",
       "    </tr>\n",
       "    <tr>\n",
       "      <th>4</th>\n",
       "      <td>19</td>\n",
       "      <td>Rap</td>\n",
       "    </tr>\n",
       "    <tr>\n",
       "      <th>5</th>\n",
       "      <td>19</td>\n",
       "      <td>Rap</td>\n",
       "    </tr>\n",
       "    <tr>\n",
       "      <th>6</th>\n",
       "      <td>19</td>\n",
       "      <td>Rap</td>\n",
       "    </tr>\n",
       "    <tr>\n",
       "      <th>7</th>\n",
       "      <td>19</td>\n",
       "      <td>Rap</td>\n",
       "    </tr>\n",
       "    <tr>\n",
       "      <th>8</th>\n",
       "      <td>19</td>\n",
       "      <td>Rap</td>\n",
       "    </tr>\n",
       "    <tr>\n",
       "      <th>9</th>\n",
       "      <td>19</td>\n",
       "      <td>Rap</td>\n",
       "    </tr>\n",
       "    <tr>\n",
       "      <th>10</th>\n",
       "      <td>19</td>\n",
       "      <td>Rap</td>\n",
       "    </tr>\n",
       "    <tr>\n",
       "      <th>11</th>\n",
       "      <td>19</td>\n",
       "      <td>Rap</td>\n",
       "    </tr>\n",
       "    <tr>\n",
       "      <th>12</th>\n",
       "      <td>19</td>\n",
       "      <td>Rap</td>\n",
       "    </tr>\n",
       "    <tr>\n",
       "      <th>13</th>\n",
       "      <td>19</td>\n",
       "      <td>Rap</td>\n",
       "    </tr>\n",
       "    <tr>\n",
       "      <th>14</th>\n",
       "      <td>19</td>\n",
       "      <td>Rap</td>\n",
       "    </tr>\n",
       "    <tr>\n",
       "      <th>15</th>\n",
       "      <td>19</td>\n",
       "      <td>Rap</td>\n",
       "    </tr>\n",
       "    <tr>\n",
       "      <th>16</th>\n",
       "      <td>19</td>\n",
       "      <td>Rap</td>\n",
       "    </tr>\n",
       "    <tr>\n",
       "      <th>17</th>\n",
       "      <td>19</td>\n",
       "      <td>Rap</td>\n",
       "    </tr>\n",
       "    <tr>\n",
       "      <th>18</th>\n",
       "      <td>19</td>\n",
       "      <td>Rap</td>\n",
       "    </tr>\n",
       "    <tr>\n",
       "      <th>19</th>\n",
       "      <td>19</td>\n",
       "      <td>Rap</td>\n",
       "    </tr>\n",
       "    <tr>\n",
       "      <th>20</th>\n",
       "      <td>19</td>\n",
       "      <td>Rap</td>\n",
       "    </tr>\n",
       "    <tr>\n",
       "      <th>21</th>\n",
       "      <td>19</td>\n",
       "      <td>Rap</td>\n",
       "    </tr>\n",
       "    <tr>\n",
       "      <th>22</th>\n",
       "      <td>19</td>\n",
       "      <td>Rap</td>\n",
       "    </tr>\n",
       "    <tr>\n",
       "      <th>23</th>\n",
       "      <td>19</td>\n",
       "      <td>Rap</td>\n",
       "    </tr>\n",
       "    <tr>\n",
       "      <th>24</th>\n",
       "      <td>19</td>\n",
       "      <td>Rap</td>\n",
       "    </tr>\n",
       "    <tr>\n",
       "      <th>25</th>\n",
       "      <td>19</td>\n",
       "      <td>Rap</td>\n",
       "    </tr>\n",
       "    <tr>\n",
       "      <th>26</th>\n",
       "      <td>19</td>\n",
       "      <td>Rap</td>\n",
       "    </tr>\n",
       "    <tr>\n",
       "      <th>27</th>\n",
       "      <td>19</td>\n",
       "      <td>Rap</td>\n",
       "    </tr>\n",
       "    <tr>\n",
       "      <th>28</th>\n",
       "      <td>19</td>\n",
       "      <td>Rap</td>\n",
       "    </tr>\n",
       "    <tr>\n",
       "      <th>29</th>\n",
       "      <td>19</td>\n",
       "      <td>Rap</td>\n",
       "    </tr>\n",
       "    <tr>\n",
       "      <th>...</th>\n",
       "      <td>...</td>\n",
       "      <td>...</td>\n",
       "    </tr>\n",
       "    <tr>\n",
       "      <th>393697</th>\n",
       "      <td>24</td>\n",
       "      <td>Pop_Rock</td>\n",
       "    </tr>\n",
       "    <tr>\n",
       "      <th>393698</th>\n",
       "      <td>24</td>\n",
       "      <td>Pop_Rock</td>\n",
       "    </tr>\n",
       "    <tr>\n",
       "      <th>393699</th>\n",
       "      <td>24</td>\n",
       "      <td>Pop_Rock</td>\n",
       "    </tr>\n",
       "    <tr>\n",
       "      <th>393700</th>\n",
       "      <td>23</td>\n",
       "      <td>Pop_Rock</td>\n",
       "    </tr>\n",
       "    <tr>\n",
       "      <th>393701</th>\n",
       "      <td>23</td>\n",
       "      <td>Pop_Rock</td>\n",
       "    </tr>\n",
       "    <tr>\n",
       "      <th>393702</th>\n",
       "      <td>24</td>\n",
       "      <td>Pop_Rock</td>\n",
       "    </tr>\n",
       "    <tr>\n",
       "      <th>393703</th>\n",
       "      <td>1</td>\n",
       "      <td>Country</td>\n",
       "    </tr>\n",
       "    <tr>\n",
       "      <th>393704</th>\n",
       "      <td>2</td>\n",
       "      <td>Reggae</td>\n",
       "    </tr>\n",
       "    <tr>\n",
       "      <th>393705</th>\n",
       "      <td>23</td>\n",
       "      <td>Pop_Rock</td>\n",
       "    </tr>\n",
       "    <tr>\n",
       "      <th>393706</th>\n",
       "      <td>24</td>\n",
       "      <td>Pop_Rock</td>\n",
       "    </tr>\n",
       "    <tr>\n",
       "      <th>393707</th>\n",
       "      <td>7</td>\n",
       "      <td>Electronic</td>\n",
       "    </tr>\n",
       "    <tr>\n",
       "      <th>393708</th>\n",
       "      <td>14</td>\n",
       "      <td>New Age</td>\n",
       "    </tr>\n",
       "    <tr>\n",
       "      <th>393709</th>\n",
       "      <td>14</td>\n",
       "      <td>New Age</td>\n",
       "    </tr>\n",
       "    <tr>\n",
       "      <th>393710</th>\n",
       "      <td>5</td>\n",
       "      <td>Religious</td>\n",
       "    </tr>\n",
       "    <tr>\n",
       "      <th>393711</th>\n",
       "      <td>2</td>\n",
       "      <td>Reggae</td>\n",
       "    </tr>\n",
       "    <tr>\n",
       "      <th>393712</th>\n",
       "      <td>3</td>\n",
       "      <td>Rap</td>\n",
       "    </tr>\n",
       "    <tr>\n",
       "      <th>393713</th>\n",
       "      <td>24</td>\n",
       "      <td>Pop_Rock</td>\n",
       "    </tr>\n",
       "    <tr>\n",
       "      <th>393714</th>\n",
       "      <td>7</td>\n",
       "      <td>Electronic</td>\n",
       "    </tr>\n",
       "    <tr>\n",
       "      <th>393715</th>\n",
       "      <td>24</td>\n",
       "      <td>Pop_Rock</td>\n",
       "    </tr>\n",
       "    <tr>\n",
       "      <th>393716</th>\n",
       "      <td>2</td>\n",
       "      <td>Reggae</td>\n",
       "    </tr>\n",
       "    <tr>\n",
       "      <th>393717</th>\n",
       "      <td>22</td>\n",
       "      <td>Pop_Rock</td>\n",
       "    </tr>\n",
       "    <tr>\n",
       "      <th>393718</th>\n",
       "      <td>24</td>\n",
       "      <td>Pop_Rock</td>\n",
       "    </tr>\n",
       "    <tr>\n",
       "      <th>393719</th>\n",
       "      <td>7</td>\n",
       "      <td>Electronic</td>\n",
       "    </tr>\n",
       "    <tr>\n",
       "      <th>393720</th>\n",
       "      <td>7</td>\n",
       "      <td>Electronic</td>\n",
       "    </tr>\n",
       "    <tr>\n",
       "      <th>393721</th>\n",
       "      <td>7</td>\n",
       "      <td>Electronic</td>\n",
       "    </tr>\n",
       "    <tr>\n",
       "      <th>393722</th>\n",
       "      <td>2</td>\n",
       "      <td>Reggae</td>\n",
       "    </tr>\n",
       "    <tr>\n",
       "      <th>393723</th>\n",
       "      <td>23</td>\n",
       "      <td>Pop_Rock</td>\n",
       "    </tr>\n",
       "    <tr>\n",
       "      <th>393724</th>\n",
       "      <td>24</td>\n",
       "      <td>Pop_Rock</td>\n",
       "    </tr>\n",
       "    <tr>\n",
       "      <th>393725</th>\n",
       "      <td>24</td>\n",
       "      <td>Pop_Rock</td>\n",
       "    </tr>\n",
       "    <tr>\n",
       "      <th>393726</th>\n",
       "      <td>14</td>\n",
       "      <td>New Age</td>\n",
       "    </tr>\n",
       "  </tbody>\n",
       "</table>\n",
       "<p>393727 rows × 2 columns</p>\n",
       "</div>"
      ],
      "text/plain": [
       "        cluster    genre_id\n",
       "0            19         Rap\n",
       "1            19         Rap\n",
       "2            19         Rap\n",
       "3            19         Rap\n",
       "4            19         Rap\n",
       "5            19         Rap\n",
       "6            19         Rap\n",
       "7            19         Rap\n",
       "8            19         Rap\n",
       "9            19         Rap\n",
       "10           19         Rap\n",
       "11           19         Rap\n",
       "12           19         Rap\n",
       "13           19         Rap\n",
       "14           19         Rap\n",
       "15           19         Rap\n",
       "16           19         Rap\n",
       "17           19         Rap\n",
       "18           19         Rap\n",
       "19           19         Rap\n",
       "20           19         Rap\n",
       "21           19         Rap\n",
       "22           19         Rap\n",
       "23           19         Rap\n",
       "24           19         Rap\n",
       "25           19         Rap\n",
       "26           19         Rap\n",
       "27           19         Rap\n",
       "28           19         Rap\n",
       "29           19         Rap\n",
       "...         ...         ...\n",
       "393697       24    Pop_Rock\n",
       "393698       24    Pop_Rock\n",
       "393699       24    Pop_Rock\n",
       "393700       23    Pop_Rock\n",
       "393701       23    Pop_Rock\n",
       "393702       24    Pop_Rock\n",
       "393703        1     Country\n",
       "393704        2      Reggae\n",
       "393705       23    Pop_Rock\n",
       "393706       24    Pop_Rock\n",
       "393707        7  Electronic\n",
       "393708       14     New Age\n",
       "393709       14     New Age\n",
       "393710        5   Religious\n",
       "393711        2      Reggae\n",
       "393712        3         Rap\n",
       "393713       24    Pop_Rock\n",
       "393714        7  Electronic\n",
       "393715       24    Pop_Rock\n",
       "393716        2      Reggae\n",
       "393717       22    Pop_Rock\n",
       "393718       24    Pop_Rock\n",
       "393719        7  Electronic\n",
       "393720        7  Electronic\n",
       "393721        7  Electronic\n",
       "393722        2      Reggae\n",
       "393723       23    Pop_Rock\n",
       "393724       24    Pop_Rock\n",
       "393725       24    Pop_Rock\n",
       "393726       14     New Age\n",
       "\n",
       "[393727 rows x 2 columns]"
      ]
     },
     "execution_count": 51,
     "metadata": {},
     "output_type": "execute_result"
    }
   ],
   "source": [
    "results"
   ]
  },
  {
   "cell_type": "code",
   "execution_count": 52,
   "metadata": {
    "collapsed": false
   },
   "outputs": [
    {
     "data": {
      "text/plain": [
       "cluster  genre_id      \n",
       "0        Pop_Rock          73446\n",
       "1        Country            9121\n",
       "2        Reggae            18085\n",
       "3        Rap               44168\n",
       "4        Latin             11239\n",
       "5        Religious          2576\n",
       "6        Vocal              1362\n",
       "7        Electronic        12956\n",
       "8        International      1048\n",
       "9        Comedy_Spoken       493\n",
       "10       Jazz               2170\n",
       "11       RnB                8917\n",
       "12       Folk                766\n",
       "13       Children            165\n",
       "14       New Age             825\n",
       "15       Pop_Rock          51203\n",
       "16       Classical           414\n",
       "17       Blues              1067\n",
       "18       Easy_Listening       59\n",
       "19       Pop_Rock          43420\n",
       "         Rap                2370\n",
       "20       Stage               190\n",
       "21       Avant_Garde          18\n",
       "22       Pop_Rock          57302\n",
       "23       Pop_Rock          11697\n",
       "         Rap                 866\n",
       "24       Pop_Rock          37759\n",
       "         Rap                  25\n",
       "dtype: int64"
      ]
     },
     "execution_count": 52,
     "metadata": {},
     "output_type": "execute_result"
    }
   ],
   "source": [
    "cluster_counts"
   ]
  },
  {
   "cell_type": "code",
   "execution_count": 53,
   "metadata": {
    "collapsed": false
   },
   "outputs": [
    {
     "name": "stdout",
     "output_type": "stream",
     "text": [
      "Cluster  0\n",
      "genre_id\n",
      "Pop_Rock    73446\n",
      "dtype: int64\n",
      "\n",
      "Cluster  1\n",
      "genre_id\n",
      "Country    9121\n",
      "dtype: int64\n",
      "\n",
      "Cluster  2\n",
      "genre_id\n",
      "Reggae    18085\n",
      "dtype: int64\n",
      "\n",
      "Cluster  3\n",
      "genre_id\n",
      "Rap    44168\n",
      "dtype: int64\n",
      "\n",
      "Cluster  4\n",
      "genre_id\n",
      "Latin    11239\n",
      "dtype: int64\n",
      "\n",
      "Cluster  5\n",
      "genre_id\n",
      "Religious    2576\n",
      "dtype: int64\n",
      "\n",
      "Cluster  6\n",
      "genre_id\n",
      "Vocal    1362\n",
      "dtype: int64\n",
      "\n",
      "Cluster  7\n",
      "genre_id\n",
      "Electronic    12956\n",
      "dtype: int64\n",
      "\n",
      "Cluster  8\n",
      "genre_id\n",
      "International    1048\n",
      "dtype: int64\n",
      "\n",
      "Cluster  9\n",
      "genre_id\n",
      "Comedy_Spoken    493\n",
      "dtype: int64\n",
      "\n",
      "Cluster  10\n",
      "genre_id\n",
      "Jazz    2170\n",
      "dtype: int64\n",
      "\n",
      "Cluster  11\n",
      "genre_id\n",
      "RnB    8917\n",
      "dtype: int64\n",
      "\n",
      "Cluster  12\n",
      "genre_id\n",
      "Folk    766\n",
      "dtype: int64\n",
      "\n",
      "Cluster  13\n",
      "genre_id\n",
      "Children    165\n",
      "dtype: int64\n",
      "\n",
      "Cluster  14\n",
      "genre_id\n",
      "New Age    825\n",
      "dtype: int64\n",
      "\n",
      "Cluster  15\n",
      "genre_id\n",
      "Pop_Rock    51203\n",
      "dtype: int64\n",
      "\n",
      "Cluster  16\n",
      "genre_id\n",
      "Classical    414\n",
      "dtype: int64\n",
      "\n",
      "Cluster  17\n",
      "genre_id\n",
      "Blues    1067\n",
      "dtype: int64\n",
      "\n",
      "Cluster  18\n",
      "genre_id\n",
      "Easy_Listening    59\n",
      "dtype: int64\n",
      "\n",
      "Cluster  19\n",
      "genre_id\n",
      "Pop_Rock    43420\n",
      "Rap          2370\n",
      "dtype: int64\n",
      "\n",
      "Cluster  20\n",
      "genre_id\n",
      "Stage     190\n",
      "dtype: int64\n",
      "\n",
      "Cluster  21\n",
      "genre_id\n",
      "Avant_Garde    18\n",
      "dtype: int64\n",
      "\n",
      "Cluster  22\n",
      "genre_id\n",
      "Pop_Rock    57302\n",
      "dtype: int64\n",
      "\n",
      "Cluster  23\n",
      "genre_id\n",
      "Pop_Rock    11697\n",
      "Rap           866\n",
      "dtype: int64\n",
      "\n",
      "Cluster  24\n",
      "genre_id\n",
      "Pop_Rock    37759\n",
      "Rap            25\n",
      "dtype: int64\n",
      "\n",
      "Cluster  25\n",
      "866\n",
      "\n",
      "Cluster  26\n",
      "37759\n",
      "\n",
      "Cluster  27\n",
      "25\n",
      "\n"
     ]
    }
   ],
   "source": [
    "for i in xrange(len(cluster_counts)):\n",
    "    print \"Cluster \" ,i\n",
    "    print cluster_counts[i]\n",
    "    print"
   ]
  },
  {
   "cell_type": "code",
   "execution_count": null,
   "metadata": {
    "collapsed": true
   },
   "outputs": [],
   "source": []
  }
 ],
 "metadata": {
  "kernelspec": {
   "display_name": "Python 2",
   "language": "python",
   "name": "python2"
  },
  "language_info": {
   "codemirror_mode": {
    "name": "ipython",
    "version": 2
   },
   "file_extension": ".py",
   "mimetype": "text/x-python",
   "name": "python",
   "nbconvert_exporter": "python",
   "pygments_lexer": "ipython2",
   "version": "2.7.11"
  }
 },
 "nbformat": 4,
 "nbformat_minor": 0
}
