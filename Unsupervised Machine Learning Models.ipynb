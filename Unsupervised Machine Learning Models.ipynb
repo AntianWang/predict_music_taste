{
 "cells": [
  {
   "cell_type": "markdown",
   "metadata": {},
   "source": [
    "# Unsupervised Machine Learning Models"
   ]
  },
  {
   "cell_type": "markdown",
   "metadata": {},
   "source": [
    "Modules:"
   ]
  },
  {
   "cell_type": "code",
   "execution_count": 2,
   "metadata": {
    "collapsed": true
   },
   "outputs": [],
   "source": [
    "import numpy as np\n",
    "import pandas as pd\n",
    "import matplotlib.pyplot as plt\n",
    "%matplotlib inline\n",
    "import vincent as vin\n",
    "import seaborn as sb\n",
    "\n",
    "import time\n",
    "\n",
    "from sklearn.linear_model import LinearRegression, Lasso, Ridge\n",
    "from sklearn.cross_validation import cross_val_score, train_test_split\n",
    "from sklearn.feature_extraction.text import CountVectorizer\n",
    "from patsy import dmatrix"
   ]
  },
  {
   "cell_type": "markdown",
   "metadata": {},
   "source": [
    "## data"
   ]
  },
  {
   "cell_type": "markdown",
   "metadata": {},
   "source": [
    "I will actually create a new dataset by user by song. (Please see the previous notebook for the creation)"
   ]
  },
  {
   "cell_type": "code",
   "execution_count": null,
   "metadata": {
    "collapsed": true
   },
   "outputs": [],
   "source": [
    "df= pd.read_csv('unsupervised_learning_data.csv', sep=',')\n",
    "len(df)"
   ]
  },
  {
   "cell_type": "code",
   "execution_count": 31,
   "metadata": {
    "collapsed": true
   },
   "outputs": [],
   "source": [
    "#creating an index to look up song information\n",
    "song_names = df.groupby('song_id').song_titles.first()"
   ]
  },
  {
   "cell_type": "code",
   "execution_count": 32,
   "metadata": {
    "collapsed": false
   },
   "outputs": [],
   "source": [
    "song_df=df.groupby('song_id')['song_titles','artist_names'].first()"
   ]
  },
  {
   "cell_type": "code",
   "execution_count": 33,
   "metadata": {
    "collapsed": false
   },
   "outputs": [
    {
     "data": {
      "text/html": [
       "<div>\n",
       "<table border=\"1\" class=\"dataframe\">\n",
       "  <thead>\n",
       "    <tr style=\"text-align: right;\">\n",
       "      <th></th>\n",
       "      <th>song_titles</th>\n",
       "      <th>artist_names</th>\n",
       "    </tr>\n",
       "    <tr>\n",
       "      <th>song_id</th>\n",
       "      <th></th>\n",
       "      <th></th>\n",
       "    </tr>\n",
       "  </thead>\n",
       "  <tbody>\n",
       "    <tr>\n",
       "      <th>SOAAEHR12A6D4FB060</th>\n",
       "      <td>Slaves &amp; Bulldozers</td>\n",
       "      <td>Soundgarden</td>\n",
       "    </tr>\n",
       "    <tr>\n",
       "      <th>SOAAFUV12AB018831D</th>\n",
       "      <td>Where Do The Children Play? (LP Version)</td>\n",
       "      <td>Big Mountain</td>\n",
       "    </tr>\n",
       "    <tr>\n",
       "      <th>SOABLAF12AB018E1D9</th>\n",
       "      <td>Lesson Learned</td>\n",
       "      <td>Alice In Chains</td>\n",
       "    </tr>\n",
       "    <tr>\n",
       "      <th>SOABVPU12AB018AA22</th>\n",
       "      <td>Conquer Me</td>\n",
       "      <td>Delroy Wilson</td>\n",
       "    </tr>\n",
       "    <tr>\n",
       "      <th>SOACEDS12A6701EAAA</th>\n",
       "      <td>Gone To The Movies</td>\n",
       "      <td>Semisonic</td>\n",
       "    </tr>\n",
       "  </tbody>\n",
       "</table>\n",
       "</div>"
      ],
      "text/plain": [
       "                                                 song_titles     artist_names\n",
       "song_id                                                                      \n",
       "SOAAEHR12A6D4FB060                       Slaves & Bulldozers      Soundgarden\n",
       "SOAAFUV12AB018831D  Where Do The Children Play? (LP Version)     Big Mountain\n",
       "SOABLAF12AB018E1D9                            Lesson Learned  Alice In Chains\n",
       "SOABVPU12AB018AA22                                Conquer Me    Delroy Wilson\n",
       "SOACEDS12A6701EAAA                        Gone To The Movies        Semisonic"
      ]
     },
     "execution_count": 33,
     "metadata": {},
     "output_type": "execute_result"
    }
   ],
   "source": [
    "song_df.head()"
   ]
  },
  {
   "cell_type": "code",
   "execution_count": 31,
   "metadata": {
    "collapsed": false
   },
   "outputs": [
    {
     "data": {
      "text/plain": [
       "1    300455\n",
       "2     80299\n",
       "3      9322\n",
       "4      2866\n",
       "5       785\n",
       "Name: rating, dtype: int64"
      ]
     },
     "execution_count": 31,
     "metadata": {},
     "output_type": "execute_result"
    }
   ],
   "source": [
    "df.rating.value_counts().sort_index()"
   ]
  },
  {
   "cell_type": "markdown",
   "metadata": {},
   "source": [
    "## Feature Matrix"
   ]
  },
  {
   "cell_type": "markdown",
   "metadata": {},
   "source": [
    "For unsupervised learning we are going to create a feature matrix."
   ]
  },
  {
   "cell_type": "markdown",
   "metadata": {},
   "source": [
    "The class **DictVectorizer** can be used to convert feature arrays represented as lists of standard Python dict objects to the NumPy/SciPy representation used by scikit-learn estimators"
   ]
  },
  {
   "cell_type": "code",
   "execution_count": 4,
   "metadata": {
    "collapsed": false
   },
   "outputs": [],
   "source": [
    "#first we nee to vectorixe genre_id\n",
    "from sklearn.feature_extraction import DictVectorizer\n",
    "\n",
    "categorical_features = df[['genre_id']]\n",
    "dv = DictVectorizer()\n",
    "cat_matrix = dv.fit_transform(categorical_features.T.to_dict().values())"
   ]
  },
  {
   "cell_type": "markdown",
   "metadata": {},
   "source": [
    "Convert numerical values to strings, so patsy will treat them as categorical features"
   ]
  },
  {
   "cell_type": "markdown",
   "metadata": {},
   "source": [
    "We need all the features to be strings."
   ]
  },
  {
   "cell_type": "markdown",
   "metadata": {},
   "source": [
    "This was too many features, it kept on crashing:\n",
    "\n",
    "```python\n",
    "df['artist_familiarty'] = df.artist_familiarty.astype(str)\n",
    "df['artist_hotness'] = df.artist_familiarty.astype(str)\n",
    "df['song_modes'] = df.artist_familiarty.astype(str)\n",
    "df['song_time_signatures'] = df.artist_familiarty.astype(str)\n",
    "df['song_durations'] = df.artist_familiarty.astype(str)\n",
    "df['song_tempo'] = df.artist_familiarty.astype(str)\n",
    "df['beats_number'] = df.artist_familiarty.astype(str)\n",
    "df['song_release_years'] = df.artist_familiarty.astype(str)\n",
    "\n",
    "X_features = dmatrix('artist_familiarty + artist_hotness + song_modes + song_time_signatures + song_durations + song_tempo + beats_number + song_release_years', data=df.fillna(0), return_type='dataframe')\n",
    "\n",
    "```"
   ]
  },
  {
   "cell_type": "code",
   "execution_count": 5,
   "metadata": {
    "collapsed": false
   },
   "outputs": [
    {
     "name": "stdout",
     "output_type": "stream",
     "text": [
      "<class 'pandas.core.frame.DataFrame'>\n",
      "Int64Index: 393727 entries, 0 to 393726\n",
      "Data columns (total 23 columns):\n",
      "Unnamed: 0              393727 non-null int64\n",
      "user_id                 393727 non-null object\n",
      "song_id                 393727 non-null object\n",
      "play_count              393727 non-null int64\n",
      "artist_familiarty       393727 non-null float64\n",
      "artist_hotness          393727 non-null float64\n",
      "artist_id               393727 non-null object\n",
      "artist_names            393727 non-null object\n",
      "song_durations          393727 non-null float64\n",
      "song_hotness            393727 non-null float64\n",
      "song_release_years      393727 non-null int64\n",
      "song_titles             393727 non-null object\n",
      "track_id                393727 non-null object\n",
      "song_keys               393727 non-null int64\n",
      "song_modes              393727 non-null float64\n",
      "song_tempo              393727 non-null float64\n",
      "song_time_signatures    393727 non-null float64\n",
      "genre_id                393727 non-null object\n",
      "beats_number            393727 non-null int64\n",
      "bars_number             393727 non-null int64\n",
      "tatum_number            393727 non-null int64\n",
      "rating                  393727 non-null int64\n",
      "index                   393727 non-null int64\n",
      "dtypes: float64(7), int64(9), object(7)\n",
      "memory usage: 72.1+ MB\n"
     ]
    }
   ],
   "source": [
    "df.info()"
   ]
  },
  {
   "cell_type": "code",
   "execution_count": 6,
   "metadata": {
    "collapsed": false
   },
   "outputs": [
    {
     "name": "stdout",
     "output_type": "stream",
     "text": [
      "Unnamed: 0 has 393727 unique categories\n",
      "user_id has 266346 unique categories\n",
      "song_id has 1780 unique categories\n",
      "play_count has 150 unique categories\n",
      "artist_familiarty has 1089 unique categories\n",
      "artist_hotness has 1089 unique categories\n",
      "artist_id has 1066 unique categories\n",
      "artist_names has 1067 unique categories\n",
      "song_durations has 1642 unique categories\n",
      "song_hotness has 876 unique categories\n",
      "song_release_years has 51 unique categories\n",
      "song_titles has 1767 unique categories\n",
      "track_id has 1780 unique categories\n",
      "song_keys has 12 unique categories\n",
      "song_modes has 1089 unique categories\n",
      "song_tempo has 1089 unique categories\n",
      "song_time_signatures has 1089 unique categories\n",
      "genre_id has 20 unique categories\n",
      "beats_number has 1416 unique categories\n",
      "bars_number has 1071 unique categories\n",
      "tatum_number has 734 unique categories\n",
      "rating has 5 unique categories\n",
      "index has 393727 unique categories\n"
     ]
    }
   ],
   "source": [
    "for col in df.columns:\n",
    "    print \"%s has %s unique categories\" % (col, df[col].nunique())"
   ]
  },
  {
   "cell_type": "code",
   "execution_count": 7,
   "metadata": {
    "collapsed": true
   },
   "outputs": [],
   "source": [
    "df['artist_familiarty'] = df.artist_familiarty.astype(str)\n",
    "df['song_keys'] = df.song_keys.astype(str)\n",
    "df['tatum_number'] = df.tatum_number.astype(str)"
   ]
  },
  {
   "cell_type": "code",
   "execution_count": 8,
   "metadata": {
    "collapsed": false
   },
   "outputs": [],
   "source": [
    "X_features = dmatrix('artist_familiarty + song_keys + tatum_number', data=df.fillna(0), return_type='dataframe')"
   ]
  },
  {
   "cell_type": "code",
   "execution_count": null,
   "metadata": {
    "collapsed": false
   },
   "outputs": [],
   "source": [
    "X_features.head()"
   ]
  },
  {
   "cell_type": "markdown",
   "metadata": {},
   "source": [
    "**CountVectorizer** implements both tokenization and occurrence counting in a single class"
   ]
  },
  {
   "cell_type": "code",
   "execution_count": 9,
   "metadata": {
    "collapsed": false
   },
   "outputs": [],
   "source": [
    "from sklearn.feature_extraction.text import CountVectorizer\n",
    "cv = CountVectorizer(max_features=10)\n",
    "X_genre = cv.fit_transform(df.genre_id)\n",
    "#Could also use tfdifVectorizer"
   ]
  },
  {
   "cell_type": "code",
   "execution_count": 10,
   "metadata": {
    "collapsed": false
   },
   "outputs": [],
   "source": [
    "from scipy.sparse import hstack"
   ]
  },
  {
   "cell_type": "code",
   "execution_count": null,
   "metadata": {
    "collapsed": true
   },
   "outputs": [],
   "source": [
    "other_features = df[['artist_familiarty','artist_hotness','song_modes','song_time_signatures',\\\n",
    "                       'song_durations','song_tempo','beats_number','song_release_years']]"
   ]
  },
  {
   "cell_type": "markdown",
   "metadata": {},
   "source": [
    "You can also use dummier to create the feature matrix."
   ]
  },
  {
   "cell_type": "code",
   "execution_count": 43,
   "metadata": {
    "collapsed": false
   },
   "outputs": [
    {
     "ename": "KeyboardInterrupt",
     "evalue": "",
     "output_type": "error",
     "traceback": [
      "\u001b[0;31m---------------------------------------------------------------------------\u001b[0m",
      "\u001b[0;31mKeyboardInterrupt\u001b[0m                         Traceback (most recent call last)",
      "\u001b[0;32m<ipython-input-43-7eba21241212>\u001b[0m in \u001b[0;36m<module>\u001b[0;34m()\u001b[0m\n\u001b[0;32m----> 1\u001b[0;31m \u001b[0mdummy_features\u001b[0m\u001b[0;34m=\u001b[0m\u001b[0mpd\u001b[0m\u001b[0;34m.\u001b[0m\u001b[0mget_dummies\u001b[0m\u001b[0;34m(\u001b[0m\u001b[0mother_features\u001b[0m\u001b[0;34m)\u001b[0m\u001b[0;34m\u001b[0m\u001b[0m\n\u001b[0m",
      "\u001b[0;32m//anaconda/lib/python2.7/site-packages/pandas/core/reshape.pyc\u001b[0m in \u001b[0;36mget_dummies\u001b[0;34m(data, prefix, prefix_sep, dummy_na, columns, sparse)\u001b[0m\n\u001b[1;32m   1069\u001b[0m                                     dummy_na=dummy_na, sparse=sparse)\n\u001b[1;32m   1070\u001b[0m             \u001b[0mwith_dummies\u001b[0m\u001b[0;34m.\u001b[0m\u001b[0mappend\u001b[0m\u001b[0;34m(\u001b[0m\u001b[0mdummy\u001b[0m\u001b[0;34m)\u001b[0m\u001b[0;34m\u001b[0m\u001b[0m\n\u001b[0;32m-> 1071\u001b[0;31m         \u001b[0mresult\u001b[0m \u001b[0;34m=\u001b[0m \u001b[0mconcat\u001b[0m\u001b[0;34m(\u001b[0m\u001b[0mwith_dummies\u001b[0m\u001b[0;34m,\u001b[0m \u001b[0maxis\u001b[0m\u001b[0;34m=\u001b[0m\u001b[0;36m1\u001b[0m\u001b[0;34m)\u001b[0m\u001b[0;34m\u001b[0m\u001b[0m\n\u001b[0m\u001b[1;32m   1072\u001b[0m     \u001b[0;32melse\u001b[0m\u001b[0;34m:\u001b[0m\u001b[0;34m\u001b[0m\u001b[0m\n\u001b[1;32m   1073\u001b[0m         result = _get_dummies_1d(data, prefix, prefix_sep, dummy_na,\n",
      "\u001b[0;32m//anaconda/lib/python2.7/site-packages/pandas/tools/merge.pyc\u001b[0m in \u001b[0;36mconcat\u001b[0;34m(objs, axis, join, join_axes, ignore_index, keys, levels, names, verify_integrity, copy)\u001b[0m\n\u001b[1;32m    811\u001b[0m                        \u001b[0mverify_integrity\u001b[0m\u001b[0;34m=\u001b[0m\u001b[0mverify_integrity\u001b[0m\u001b[0;34m,\u001b[0m\u001b[0;34m\u001b[0m\u001b[0m\n\u001b[1;32m    812\u001b[0m                        copy=copy)\n\u001b[0;32m--> 813\u001b[0;31m     \u001b[0;32mreturn\u001b[0m \u001b[0mop\u001b[0m\u001b[0;34m.\u001b[0m\u001b[0mget_result\u001b[0m\u001b[0;34m(\u001b[0m\u001b[0;34m)\u001b[0m\u001b[0;34m\u001b[0m\u001b[0m\n\u001b[0m\u001b[1;32m    814\u001b[0m \u001b[0;34m\u001b[0m\u001b[0m\n\u001b[1;32m    815\u001b[0m \u001b[0;34m\u001b[0m\u001b[0m\n",
      "\u001b[0;32m//anaconda/lib/python2.7/site-packages/pandas/tools/merge.pyc\u001b[0m in \u001b[0;36mget_result\u001b[0;34m(self)\u001b[0m\n\u001b[1;32m    993\u001b[0m \u001b[0;34m\u001b[0m\u001b[0m\n\u001b[1;32m    994\u001b[0m             new_data = concatenate_block_managers(\n\u001b[0;32m--> 995\u001b[0;31m                 mgrs_indexers, self.new_axes, concat_axis=self.axis, copy=self.copy)\n\u001b[0m\u001b[1;32m    996\u001b[0m             \u001b[0;32mif\u001b[0m \u001b[0;32mnot\u001b[0m \u001b[0mself\u001b[0m\u001b[0;34m.\u001b[0m\u001b[0mcopy\u001b[0m\u001b[0;34m:\u001b[0m\u001b[0;34m\u001b[0m\u001b[0m\n\u001b[1;32m    997\u001b[0m                 \u001b[0mnew_data\u001b[0m\u001b[0;34m.\u001b[0m\u001b[0m_consolidate_inplace\u001b[0m\u001b[0;34m(\u001b[0m\u001b[0;34m)\u001b[0m\u001b[0;34m\u001b[0m\u001b[0m\n",
      "\u001b[0;32m//anaconda/lib/python2.7/site-packages/pandas/core/internals.pyc\u001b[0m in \u001b[0;36mconcatenate_block_managers\u001b[0;34m(mgrs_indexers, axes, concat_axis, copy)\u001b[0m\n\u001b[1;32m   4454\u001b[0m                                                 copy=copy),\n\u001b[1;32m   4455\u001b[0m                          placement=placement)\n\u001b[0;32m-> 4456\u001b[0;31m               for placement, join_units in concat_plan]\n\u001b[0m\u001b[1;32m   4457\u001b[0m \u001b[0;34m\u001b[0m\u001b[0m\n\u001b[1;32m   4458\u001b[0m     \u001b[0;32mreturn\u001b[0m \u001b[0mBlockManager\u001b[0m\u001b[0;34m(\u001b[0m\u001b[0mblocks\u001b[0m\u001b[0;34m,\u001b[0m \u001b[0maxes\u001b[0m\u001b[0;34m)\u001b[0m\u001b[0;34m\u001b[0m\u001b[0m\n",
      "\u001b[0;32m//anaconda/lib/python2.7/site-packages/pandas/core/internals.pyc\u001b[0m in \u001b[0;36mconcatenate_join_units\u001b[0;34m(join_units, concat_axis, copy)\u001b[0m\n\u001b[1;32m   4547\u001b[0m         \u001b[0;32mraise\u001b[0m \u001b[0mAssertionError\u001b[0m\u001b[0;34m(\u001b[0m\u001b[0;34m\"Concatenating join units along axis0\"\u001b[0m\u001b[0;34m)\u001b[0m\u001b[0;34m\u001b[0m\u001b[0m\n\u001b[1;32m   4548\u001b[0m \u001b[0;34m\u001b[0m\u001b[0m\n\u001b[0;32m-> 4549\u001b[0;31m     \u001b[0mempty_dtype\u001b[0m\u001b[0;34m,\u001b[0m \u001b[0mupcasted_na\u001b[0m \u001b[0;34m=\u001b[0m \u001b[0mget_empty_dtype_and_na\u001b[0m\u001b[0;34m(\u001b[0m\u001b[0mjoin_units\u001b[0m\u001b[0;34m)\u001b[0m\u001b[0;34m\u001b[0m\u001b[0m\n\u001b[0m\u001b[1;32m   4550\u001b[0m \u001b[0;34m\u001b[0m\u001b[0m\n\u001b[1;32m   4551\u001b[0m     to_concat = [ju.get_reindexed_values(empty_dtype=empty_dtype,\n",
      "\u001b[0;32m//anaconda/lib/python2.7/site-packages/pandas/core/internals.pyc\u001b[0m in \u001b[0;36mget_empty_dtype_and_na\u001b[0;34m(join_units)\u001b[0m\n\u001b[1;32m   4508\u001b[0m         \u001b[0;31m# are only null blocks, when same upcasting rules must be applied to\u001b[0m\u001b[0;34m\u001b[0m\u001b[0;34m\u001b[0m\u001b[0m\n\u001b[1;32m   4509\u001b[0m         \u001b[0;31m# null upcast classes.\u001b[0m\u001b[0;34m\u001b[0m\u001b[0;34m\u001b[0m\u001b[0m\n\u001b[0;32m-> 4510\u001b[0;31m         \u001b[0;32mif\u001b[0m \u001b[0munit\u001b[0m\u001b[0;34m.\u001b[0m\u001b[0mis_null\u001b[0m\u001b[0;34m:\u001b[0m\u001b[0;34m\u001b[0m\u001b[0m\n\u001b[0m\u001b[1;32m   4511\u001b[0m             \u001b[0mnull_upcast_classes\u001b[0m\u001b[0;34m[\u001b[0m\u001b[0mupcast_cls\u001b[0m\u001b[0;34m]\u001b[0m\u001b[0;34m.\u001b[0m\u001b[0mappend\u001b[0m\u001b[0;34m(\u001b[0m\u001b[0mdtype\u001b[0m\u001b[0;34m)\u001b[0m\u001b[0;34m\u001b[0m\u001b[0m\n\u001b[1;32m   4512\u001b[0m         \u001b[0;32melse\u001b[0m\u001b[0;34m:\u001b[0m\u001b[0;34m\u001b[0m\u001b[0m\n",
      "\u001b[0;32mpandas/src/properties.pyx\u001b[0m in \u001b[0;36mpandas.lib.cache_readonly.__get__ (pandas/lib.c:44341)\u001b[0;34m()\u001b[0m\n",
      "\u001b[0;32m//anaconda/lib/python2.7/site-packages/pandas/core/internals.pyc\u001b[0m in \u001b[0;36mis_null\u001b[0;34m(self)\u001b[0m\n\u001b[1;32m   4780\u001b[0m             \u001b[0mvalues_flat\u001b[0m \u001b[0;34m=\u001b[0m \u001b[0mvalues\u001b[0m\u001b[0;34m.\u001b[0m\u001b[0mcategories\u001b[0m\u001b[0;34m\u001b[0m\u001b[0m\n\u001b[1;32m   4781\u001b[0m         \u001b[0;32melse\u001b[0m\u001b[0;34m:\u001b[0m\u001b[0;34m\u001b[0m\u001b[0m\n\u001b[0;32m-> 4782\u001b[0;31m             \u001b[0mvalues_flat\u001b[0m \u001b[0;34m=\u001b[0m \u001b[0mvalues\u001b[0m\u001b[0;34m.\u001b[0m\u001b[0mravel\u001b[0m\u001b[0;34m(\u001b[0m\u001b[0;34m)\u001b[0m\u001b[0;34m\u001b[0m\u001b[0m\n\u001b[0m\u001b[1;32m   4783\u001b[0m         \u001b[0mtotal_len\u001b[0m \u001b[0;34m=\u001b[0m \u001b[0mvalues_flat\u001b[0m\u001b[0;34m.\u001b[0m\u001b[0mshape\u001b[0m\u001b[0;34m[\u001b[0m\u001b[0;36m0\u001b[0m\u001b[0;34m]\u001b[0m\u001b[0;34m\u001b[0m\u001b[0m\n\u001b[1;32m   4784\u001b[0m         \u001b[0mchunk_len\u001b[0m \u001b[0;34m=\u001b[0m \u001b[0mmax\u001b[0m\u001b[0;34m(\u001b[0m\u001b[0mtotal_len\u001b[0m \u001b[0;34m//\u001b[0m \u001b[0;36m40\u001b[0m\u001b[0;34m,\u001b[0m \u001b[0;36m1000\u001b[0m\u001b[0;34m)\u001b[0m\u001b[0;34m\u001b[0m\u001b[0m\n",
      "\u001b[0;31mKeyboardInterrupt\u001b[0m: "
     ]
    }
   ],
   "source": [
    "#dummy_features=pd.get_dummies(other_features)"
   ]
  },
  {
   "cell_type": "code",
   "execution_count": 11,
   "metadata": {
    "collapsed": false
   },
   "outputs": [],
   "source": [
    "X = np.hstack([X_features, X_genre.toarray()])\n",
    "y = df.rating\n",
    "n_samples, n_features = X.shape"
   ]
  },
  {
   "cell_type": "code",
   "execution_count": null,
   "metadata": {
    "collapsed": false
   },
   "outputs": [],
   "source": [
    "X"
   ]
  },
  {
   "cell_type": "markdown",
   "metadata": {},
   "source": [
    "## Content Filtering"
   ]
  },
  {
   "cell_type": "markdown",
   "metadata": {},
   "source": [
    "In this approach we create a feature space, where we map the data to compare listeners to songs. \n",
    "Each song gets a representation in the space and each listener gets a listener profile."
   ]
  },
  {
   "cell_type": "markdown",
   "metadata": {},
   "source": [
    "#### Song Features"
   ]
  },
  {
   "cell_type": "code",
   "execution_count": 12,
   "metadata": {
    "collapsed": false
   },
   "outputs": [
    {
     "name": "stdout",
     "output_type": "stream",
     "text": [
      "(1780, 1843)\n"
     ]
    },
    {
     "data": {
      "text/html": [
       "<div>\n",
       "<table border=\"1\" class=\"dataframe\">\n",
       "  <thead>\n",
       "    <tr style=\"text-align: right;\">\n",
       "      <th></th>\n",
       "      <th>0</th>\n",
       "      <th>1</th>\n",
       "      <th>2</th>\n",
       "      <th>3</th>\n",
       "      <th>4</th>\n",
       "      <th>5</th>\n",
       "      <th>6</th>\n",
       "      <th>7</th>\n",
       "      <th>8</th>\n",
       "      <th>9</th>\n",
       "      <th>...</th>\n",
       "      <th>1833</th>\n",
       "      <th>1834</th>\n",
       "      <th>1835</th>\n",
       "      <th>1836</th>\n",
       "      <th>1837</th>\n",
       "      <th>1838</th>\n",
       "      <th>1839</th>\n",
       "      <th>1840</th>\n",
       "      <th>1841</th>\n",
       "      <th>1842</th>\n",
       "    </tr>\n",
       "    <tr>\n",
       "      <th>song_id</th>\n",
       "      <th></th>\n",
       "      <th></th>\n",
       "      <th></th>\n",
       "      <th></th>\n",
       "      <th></th>\n",
       "      <th></th>\n",
       "      <th></th>\n",
       "      <th></th>\n",
       "      <th></th>\n",
       "      <th></th>\n",
       "      <th></th>\n",
       "      <th></th>\n",
       "      <th></th>\n",
       "      <th></th>\n",
       "      <th></th>\n",
       "      <th></th>\n",
       "      <th></th>\n",
       "      <th></th>\n",
       "      <th></th>\n",
       "      <th></th>\n",
       "      <th></th>\n",
       "    </tr>\n",
       "  </thead>\n",
       "  <tbody>\n",
       "    <tr>\n",
       "      <th>SOAAEHR12A6D4FB060</th>\n",
       "      <td>1</td>\n",
       "      <td>0</td>\n",
       "      <td>0</td>\n",
       "      <td>0</td>\n",
       "      <td>0</td>\n",
       "      <td>0</td>\n",
       "      <td>0</td>\n",
       "      <td>0</td>\n",
       "      <td>0</td>\n",
       "      <td>0</td>\n",
       "      <td>...</td>\n",
       "      <td>0</td>\n",
       "      <td>0</td>\n",
       "      <td>0</td>\n",
       "      <td>0</td>\n",
       "      <td>1</td>\n",
       "      <td>0</td>\n",
       "      <td>0</td>\n",
       "      <td>0</td>\n",
       "      <td>0</td>\n",
       "      <td>0</td>\n",
       "    </tr>\n",
       "    <tr>\n",
       "      <th>SOAAFUV12AB018831D</th>\n",
       "      <td>1</td>\n",
       "      <td>0</td>\n",
       "      <td>0</td>\n",
       "      <td>0</td>\n",
       "      <td>0</td>\n",
       "      <td>0</td>\n",
       "      <td>0</td>\n",
       "      <td>0</td>\n",
       "      <td>0</td>\n",
       "      <td>0</td>\n",
       "      <td>...</td>\n",
       "      <td>0</td>\n",
       "      <td>0</td>\n",
       "      <td>0</td>\n",
       "      <td>0</td>\n",
       "      <td>0</td>\n",
       "      <td>0</td>\n",
       "      <td>1</td>\n",
       "      <td>0</td>\n",
       "      <td>0</td>\n",
       "      <td>0</td>\n",
       "    </tr>\n",
       "  </tbody>\n",
       "</table>\n",
       "<p>2 rows × 1843 columns</p>\n",
       "</div>"
      ],
      "text/plain": [
       "                    0     1     2     3     4     5     6     7     8     \\\n",
       "song_id                                                                    \n",
       "SOAAEHR12A6D4FB060     1     0     0     0     0     0     0     0     0   \n",
       "SOAAFUV12AB018831D     1     0     0     0     0     0     0     0     0   \n",
       "\n",
       "                    9     ...   1833  1834  1835  1836  1837  1838  1839  \\\n",
       "song_id                   ...                                              \n",
       "SOAAEHR12A6D4FB060     0  ...      0     0     0     0     1     0     0   \n",
       "SOAAFUV12AB018831D     0  ...      0     0     0     0     0     0     1   \n",
       "\n",
       "                    1840  1841  1842  \n",
       "song_id                               \n",
       "SOAAEHR12A6D4FB060     0     0     0  \n",
       "SOAAFUV12AB018831D     0     0     0  \n",
       "\n",
       "[2 rows x 1843 columns]"
      ]
     },
     "execution_count": 12,
     "metadata": {},
     "output_type": "execute_result"
    }
   ],
   "source": [
    "uniques, idx = np.unique(df.song_id, return_index=True)\n",
    "song_features = pd.DataFrame(X[idx, :], index=df.song_id[idx])\n",
    "print song_features.shape\n",
    "song_features.head(2)"
   ]
  },
  {
   "cell_type": "markdown",
   "metadata": {
    "collapsed": true
   },
   "source": [
    "#### Listener Profile"
   ]
  },
  {
   "cell_type": "code",
   "execution_count": 13,
   "metadata": {
    "collapsed": false
   },
   "outputs": [],
   "source": [
    "listener_features = pd.DataFrame(X * (df.rating.values).reshape(n_samples, 1))"
   ]
  },
  {
   "cell_type": "code",
   "execution_count": 14,
   "metadata": {
    "collapsed": true
   },
   "outputs": [],
   "source": [
    "listener_features['listener_profile'] = df.user_id"
   ]
  },
  {
   "cell_type": "code",
   "execution_count": 13,
   "metadata": {
    "collapsed": false
   },
   "outputs": [
    {
     "ename": "AttributeError",
     "evalue": "'DataFrame' object has no attribute 'sparse'",
     "output_type": "error",
     "traceback": [
      "\u001b[0;31m---------------------------------------------------------------------------\u001b[0m",
      "\u001b[0;31mAttributeError\u001b[0m                            Traceback (most recent call last)",
      "\u001b[0;32m<ipython-input-13-6fa3ab4e0f00>\u001b[0m in \u001b[0;36m<module>\u001b[0;34m()\u001b[0m\n\u001b[0;32m----> 1\u001b[0;31m \u001b[0mlistener_features\u001b[0m\u001b[0;34m.\u001b[0m\u001b[0msparse\u001b[0m\u001b[0;34m(\u001b[0m\u001b[0;34m)\u001b[0m\u001b[0;34m\u001b[0m\u001b[0m\n\u001b[0m",
      "\u001b[0;32m//anaconda/lib/python2.7/site-packages/pandas/core/generic.pyc\u001b[0m in \u001b[0;36m__getattr__\u001b[0;34m(self, name)\u001b[0m\n\u001b[1;32m   2358\u001b[0m                 \u001b[0;32mreturn\u001b[0m \u001b[0mself\u001b[0m\u001b[0;34m[\u001b[0m\u001b[0mname\u001b[0m\u001b[0;34m]\u001b[0m\u001b[0;34m\u001b[0m\u001b[0m\n\u001b[1;32m   2359\u001b[0m             raise AttributeError(\"'%s' object has no attribute '%s'\" %\n\u001b[0;32m-> 2360\u001b[0;31m                                  (type(self).__name__, name))\n\u001b[0m\u001b[1;32m   2361\u001b[0m \u001b[0;34m\u001b[0m\u001b[0m\n\u001b[1;32m   2362\u001b[0m     \u001b[0;32mdef\u001b[0m \u001b[0m__setattr__\u001b[0m\u001b[0;34m(\u001b[0m\u001b[0mself\u001b[0m\u001b[0;34m,\u001b[0m \u001b[0mname\u001b[0m\u001b[0;34m,\u001b[0m \u001b[0mvalue\u001b[0m\u001b[0;34m)\u001b[0m\u001b[0;34m:\u001b[0m\u001b[0;34m\u001b[0m\u001b[0m\n",
      "\u001b[0;31mAttributeError\u001b[0m: 'DataFrame' object has no attribute 'sparse'"
     ]
    }
   ],
   "source": [
    "#listener_features.sparse()"
   ]
  },
  {
   "cell_type": "code",
   "execution_count": 15,
   "metadata": {
    "collapsed": false
   },
   "outputs": [],
   "source": [
    "listener_features = listener_features.groupby('listener_profile')[range(n_features)].mean()"
   ]
  },
  {
   "cell_type": "code",
   "execution_count": 16,
   "metadata": {
    "collapsed": false,
    "scrolled": true
   },
   "outputs": [],
   "source": [
    "listener_features = listener_features.divide(listener_features.sum(axis=1), axis=0)"
   ]
  },
  {
   "cell_type": "markdown",
   "metadata": {},
   "source": [
    "The kernel dies at this point. Let's try \n",
    "\n",
    "from sklearn.preprocessing import scale\n",
    "data_matrix = scale(data_matrix.todense())\n",
    "\n",
    "or .sparse()"
   ]
  },
  {
   "cell_type": "code",
   "execution_count": 17,
   "metadata": {
    "collapsed": false
   },
   "outputs": [
    {
     "name": "stdout",
     "output_type": "stream",
     "text": [
      "<class 'pandas.core.frame.DataFrame'>\n",
      "Index: 266346 entries, 00004fb90a86beb8bed1e9e328f5d9b6ee7dc03e to ffffd330940a2a40754ec0383391f55c6129f48b\n",
      "Columns: 1843 entries, 0 to 1842\n",
      "dtypes: float64(1843)\n",
      "memory usage: 3.7+ GB\n"
     ]
    }
   ],
   "source": [
    "listener_features.info()"
   ]
  },
  {
   "cell_type": "code",
   "execution_count": 18,
   "metadata": {
    "collapsed": false
   },
   "outputs": [
    {
     "name": "stdout",
     "output_type": "stream",
     "text": [
      "<class 'pandas.core.frame.DataFrame'>\n",
      "Index: 266346 entries, 00004fb90a86beb8bed1e9e328f5d9b6ee7dc03e to ffffd330940a2a40754ec0383391f55c6129f48b\n",
      "Data columns (total 1 columns):\n",
      "0    266346 non-null float64\n",
      "dtypes: float64(1)\n",
      "memory usage: 4.1+ MB\n"
     ]
    }
   ],
   "source": [
    "listener_features[[0]].info()"
   ]
  },
  {
   "cell_type": "code",
   "execution_count": 19,
   "metadata": {
    "collapsed": true
   },
   "outputs": [],
   "source": [
    "listener_features = listener_features.dropna(how='any')"
   ]
  },
  {
   "cell_type": "code",
   "execution_count": 20,
   "metadata": {
    "collapsed": false
   },
   "outputs": [
    {
     "data": {
      "text/html": [
       "<div>\n",
       "<table border=\"1\" class=\"dataframe\">\n",
       "  <thead>\n",
       "    <tr style=\"text-align: right;\">\n",
       "      <th></th>\n",
       "      <th>0</th>\n",
       "      <th>1</th>\n",
       "      <th>2</th>\n",
       "      <th>3</th>\n",
       "      <th>4</th>\n",
       "      <th>5</th>\n",
       "      <th>6</th>\n",
       "      <th>7</th>\n",
       "      <th>8</th>\n",
       "      <th>9</th>\n",
       "      <th>...</th>\n",
       "      <th>1833</th>\n",
       "      <th>1834</th>\n",
       "      <th>1835</th>\n",
       "      <th>1836</th>\n",
       "      <th>1837</th>\n",
       "      <th>1838</th>\n",
       "      <th>1839</th>\n",
       "      <th>1840</th>\n",
       "      <th>1841</th>\n",
       "      <th>1842</th>\n",
       "    </tr>\n",
       "    <tr>\n",
       "      <th>listener_profile</th>\n",
       "      <th></th>\n",
       "      <th></th>\n",
       "      <th></th>\n",
       "      <th></th>\n",
       "      <th></th>\n",
       "      <th></th>\n",
       "      <th></th>\n",
       "      <th></th>\n",
       "      <th></th>\n",
       "      <th></th>\n",
       "      <th></th>\n",
       "      <th></th>\n",
       "      <th></th>\n",
       "      <th></th>\n",
       "      <th></th>\n",
       "      <th></th>\n",
       "      <th></th>\n",
       "      <th></th>\n",
       "      <th></th>\n",
       "      <th></th>\n",
       "      <th></th>\n",
       "    </tr>\n",
       "  </thead>\n",
       "  <tbody>\n",
       "    <tr>\n",
       "      <th>00004fb90a86beb8bed1e9e328f5d9b6ee7dc03e</th>\n",
       "      <td>0.2</td>\n",
       "      <td>0</td>\n",
       "      <td>0</td>\n",
       "      <td>0</td>\n",
       "      <td>0</td>\n",
       "      <td>0</td>\n",
       "      <td>0</td>\n",
       "      <td>0</td>\n",
       "      <td>0</td>\n",
       "      <td>0</td>\n",
       "      <td>...</td>\n",
       "      <td>0.000000</td>\n",
       "      <td>0</td>\n",
       "      <td>0</td>\n",
       "      <td>0</td>\n",
       "      <td>0.200000</td>\n",
       "      <td>0.0</td>\n",
       "      <td>0.0</td>\n",
       "      <td>0</td>\n",
       "      <td>0</td>\n",
       "      <td>0</td>\n",
       "    </tr>\n",
       "    <tr>\n",
       "      <th>0000d3c803e068cf1da17724f1674897b2dd7130</th>\n",
       "      <td>0.2</td>\n",
       "      <td>0</td>\n",
       "      <td>0</td>\n",
       "      <td>0</td>\n",
       "      <td>0</td>\n",
       "      <td>0</td>\n",
       "      <td>0</td>\n",
       "      <td>0</td>\n",
       "      <td>0</td>\n",
       "      <td>0</td>\n",
       "      <td>...</td>\n",
       "      <td>0.000000</td>\n",
       "      <td>0</td>\n",
       "      <td>0</td>\n",
       "      <td>0</td>\n",
       "      <td>0.200000</td>\n",
       "      <td>0.0</td>\n",
       "      <td>0.0</td>\n",
       "      <td>0</td>\n",
       "      <td>0</td>\n",
       "      <td>0</td>\n",
       "    </tr>\n",
       "    <tr>\n",
       "      <th>0000f88f8d76a238c251450913b0d070e4a77d19</th>\n",
       "      <td>0.2</td>\n",
       "      <td>0</td>\n",
       "      <td>0</td>\n",
       "      <td>0</td>\n",
       "      <td>0</td>\n",
       "      <td>0</td>\n",
       "      <td>0</td>\n",
       "      <td>0</td>\n",
       "      <td>0</td>\n",
       "      <td>0</td>\n",
       "      <td>...</td>\n",
       "      <td>0.066667</td>\n",
       "      <td>0</td>\n",
       "      <td>0</td>\n",
       "      <td>0</td>\n",
       "      <td>0.133333</td>\n",
       "      <td>0.0</td>\n",
       "      <td>0.0</td>\n",
       "      <td>0</td>\n",
       "      <td>0</td>\n",
       "      <td>0</td>\n",
       "    </tr>\n",
       "    <tr>\n",
       "      <th>0001d493b98f820a7e37b16b1fa0b31b7eadc4d3</th>\n",
       "      <td>0.2</td>\n",
       "      <td>0</td>\n",
       "      <td>0</td>\n",
       "      <td>0</td>\n",
       "      <td>0</td>\n",
       "      <td>0</td>\n",
       "      <td>0</td>\n",
       "      <td>0</td>\n",
       "      <td>0</td>\n",
       "      <td>0</td>\n",
       "      <td>...</td>\n",
       "      <td>0.000000</td>\n",
       "      <td>0</td>\n",
       "      <td>0</td>\n",
       "      <td>0</td>\n",
       "      <td>0.200000</td>\n",
       "      <td>0.0</td>\n",
       "      <td>0.0</td>\n",
       "      <td>0</td>\n",
       "      <td>0</td>\n",
       "      <td>0</td>\n",
       "    </tr>\n",
       "    <tr>\n",
       "      <th>00020e8ba3f9041deed64ec9c60b26ff6bf41c66</th>\n",
       "      <td>0.2</td>\n",
       "      <td>0</td>\n",
       "      <td>0</td>\n",
       "      <td>0</td>\n",
       "      <td>0</td>\n",
       "      <td>0</td>\n",
       "      <td>0</td>\n",
       "      <td>0</td>\n",
       "      <td>0</td>\n",
       "      <td>0</td>\n",
       "      <td>...</td>\n",
       "      <td>0.000000</td>\n",
       "      <td>0</td>\n",
       "      <td>0</td>\n",
       "      <td>0</td>\n",
       "      <td>0.000000</td>\n",
       "      <td>0.2</td>\n",
       "      <td>0.0</td>\n",
       "      <td>0</td>\n",
       "      <td>0</td>\n",
       "      <td>0</td>\n",
       "    </tr>\n",
       "    <tr>\n",
       "      <th>0002236e33c94f6d300fa52a045e0c7ae1e19ccf</th>\n",
       "      <td>0.2</td>\n",
       "      <td>0</td>\n",
       "      <td>0</td>\n",
       "      <td>0</td>\n",
       "      <td>0</td>\n",
       "      <td>0</td>\n",
       "      <td>0</td>\n",
       "      <td>0</td>\n",
       "      <td>0</td>\n",
       "      <td>0</td>\n",
       "      <td>...</td>\n",
       "      <td>0.000000</td>\n",
       "      <td>0</td>\n",
       "      <td>0</td>\n",
       "      <td>0</td>\n",
       "      <td>0.200000</td>\n",
       "      <td>0.0</td>\n",
       "      <td>0.0</td>\n",
       "      <td>0</td>\n",
       "      <td>0</td>\n",
       "      <td>0</td>\n",
       "    </tr>\n",
       "    <tr>\n",
       "      <th>000227c5bf4bc34aac7ca21227f452c1f7ae6417</th>\n",
       "      <td>0.2</td>\n",
       "      <td>0</td>\n",
       "      <td>0</td>\n",
       "      <td>0</td>\n",
       "      <td>0</td>\n",
       "      <td>0</td>\n",
       "      <td>0</td>\n",
       "      <td>0</td>\n",
       "      <td>0</td>\n",
       "      <td>0</td>\n",
       "      <td>...</td>\n",
       "      <td>0.000000</td>\n",
       "      <td>0</td>\n",
       "      <td>0</td>\n",
       "      <td>0</td>\n",
       "      <td>0.200000</td>\n",
       "      <td>0.0</td>\n",
       "      <td>0.0</td>\n",
       "      <td>0</td>\n",
       "      <td>0</td>\n",
       "      <td>0</td>\n",
       "    </tr>\n",
       "    <tr>\n",
       "      <th>0002b896949cb2899feaed47104406e99eafa983</th>\n",
       "      <td>0.2</td>\n",
       "      <td>0</td>\n",
       "      <td>0</td>\n",
       "      <td>0</td>\n",
       "      <td>0</td>\n",
       "      <td>0</td>\n",
       "      <td>0</td>\n",
       "      <td>0</td>\n",
       "      <td>0</td>\n",
       "      <td>0</td>\n",
       "      <td>...</td>\n",
       "      <td>0.000000</td>\n",
       "      <td>0</td>\n",
       "      <td>0</td>\n",
       "      <td>0</td>\n",
       "      <td>0.200000</td>\n",
       "      <td>0.0</td>\n",
       "      <td>0.0</td>\n",
       "      <td>0</td>\n",
       "      <td>0</td>\n",
       "      <td>0</td>\n",
       "    </tr>\n",
       "    <tr>\n",
       "      <th>0002e94348b2543c6e6ccf408b0160d14064e46f</th>\n",
       "      <td>0.2</td>\n",
       "      <td>0</td>\n",
       "      <td>0</td>\n",
       "      <td>0</td>\n",
       "      <td>0</td>\n",
       "      <td>0</td>\n",
       "      <td>0</td>\n",
       "      <td>0</td>\n",
       "      <td>0</td>\n",
       "      <td>0</td>\n",
       "      <td>...</td>\n",
       "      <td>0.000000</td>\n",
       "      <td>0</td>\n",
       "      <td>0</td>\n",
       "      <td>0</td>\n",
       "      <td>0.200000</td>\n",
       "      <td>0.0</td>\n",
       "      <td>0.0</td>\n",
       "      <td>0</td>\n",
       "      <td>0</td>\n",
       "      <td>0</td>\n",
       "    </tr>\n",
       "    <tr>\n",
       "      <th>0003498ef13c9db2720f5dd4b44f270c87399900</th>\n",
       "      <td>0.2</td>\n",
       "      <td>0</td>\n",
       "      <td>0</td>\n",
       "      <td>0</td>\n",
       "      <td>0</td>\n",
       "      <td>0</td>\n",
       "      <td>0</td>\n",
       "      <td>0</td>\n",
       "      <td>0</td>\n",
       "      <td>0</td>\n",
       "      <td>...</td>\n",
       "      <td>0.000000</td>\n",
       "      <td>0</td>\n",
       "      <td>0</td>\n",
       "      <td>0</td>\n",
       "      <td>0.000000</td>\n",
       "      <td>0.0</td>\n",
       "      <td>0.2</td>\n",
       "      <td>0</td>\n",
       "      <td>0</td>\n",
       "      <td>0</td>\n",
       "    </tr>\n",
       "  </tbody>\n",
       "</table>\n",
       "<p>10 rows × 1843 columns</p>\n",
       "</div>"
      ],
      "text/plain": [
       "                                          0     1     2     3     4     5     \\\n",
       "listener_profile                                                               \n",
       "00004fb90a86beb8bed1e9e328f5d9b6ee7dc03e   0.2     0     0     0     0     0   \n",
       "0000d3c803e068cf1da17724f1674897b2dd7130   0.2     0     0     0     0     0   \n",
       "0000f88f8d76a238c251450913b0d070e4a77d19   0.2     0     0     0     0     0   \n",
       "0001d493b98f820a7e37b16b1fa0b31b7eadc4d3   0.2     0     0     0     0     0   \n",
       "00020e8ba3f9041deed64ec9c60b26ff6bf41c66   0.2     0     0     0     0     0   \n",
       "0002236e33c94f6d300fa52a045e0c7ae1e19ccf   0.2     0     0     0     0     0   \n",
       "000227c5bf4bc34aac7ca21227f452c1f7ae6417   0.2     0     0     0     0     0   \n",
       "0002b896949cb2899feaed47104406e99eafa983   0.2     0     0     0     0     0   \n",
       "0002e94348b2543c6e6ccf408b0160d14064e46f   0.2     0     0     0     0     0   \n",
       "0003498ef13c9db2720f5dd4b44f270c87399900   0.2     0     0     0     0     0   \n",
       "\n",
       "                                          6     7     8     9     ...   \\\n",
       "listener_profile                                                  ...    \n",
       "00004fb90a86beb8bed1e9e328f5d9b6ee7dc03e     0     0     0     0  ...    \n",
       "0000d3c803e068cf1da17724f1674897b2dd7130     0     0     0     0  ...    \n",
       "0000f88f8d76a238c251450913b0d070e4a77d19     0     0     0     0  ...    \n",
       "0001d493b98f820a7e37b16b1fa0b31b7eadc4d3     0     0     0     0  ...    \n",
       "00020e8ba3f9041deed64ec9c60b26ff6bf41c66     0     0     0     0  ...    \n",
       "0002236e33c94f6d300fa52a045e0c7ae1e19ccf     0     0     0     0  ...    \n",
       "000227c5bf4bc34aac7ca21227f452c1f7ae6417     0     0     0     0  ...    \n",
       "0002b896949cb2899feaed47104406e99eafa983     0     0     0     0  ...    \n",
       "0002e94348b2543c6e6ccf408b0160d14064e46f     0     0     0     0  ...    \n",
       "0003498ef13c9db2720f5dd4b44f270c87399900     0     0     0     0  ...    \n",
       "\n",
       "                                              1833  1834  1835  1836  \\\n",
       "listener_profile                                                       \n",
       "00004fb90a86beb8bed1e9e328f5d9b6ee7dc03e  0.000000     0     0     0   \n",
       "0000d3c803e068cf1da17724f1674897b2dd7130  0.000000     0     0     0   \n",
       "0000f88f8d76a238c251450913b0d070e4a77d19  0.066667     0     0     0   \n",
       "0001d493b98f820a7e37b16b1fa0b31b7eadc4d3  0.000000     0     0     0   \n",
       "00020e8ba3f9041deed64ec9c60b26ff6bf41c66  0.000000     0     0     0   \n",
       "0002236e33c94f6d300fa52a045e0c7ae1e19ccf  0.000000     0     0     0   \n",
       "000227c5bf4bc34aac7ca21227f452c1f7ae6417  0.000000     0     0     0   \n",
       "0002b896949cb2899feaed47104406e99eafa983  0.000000     0     0     0   \n",
       "0002e94348b2543c6e6ccf408b0160d14064e46f  0.000000     0     0     0   \n",
       "0003498ef13c9db2720f5dd4b44f270c87399900  0.000000     0     0     0   \n",
       "\n",
       "                                              1837  1838  1839  1840  1841  \\\n",
       "listener_profile                                                             \n",
       "00004fb90a86beb8bed1e9e328f5d9b6ee7dc03e  0.200000   0.0   0.0     0     0   \n",
       "0000d3c803e068cf1da17724f1674897b2dd7130  0.200000   0.0   0.0     0     0   \n",
       "0000f88f8d76a238c251450913b0d070e4a77d19  0.133333   0.0   0.0     0     0   \n",
       "0001d493b98f820a7e37b16b1fa0b31b7eadc4d3  0.200000   0.0   0.0     0     0   \n",
       "00020e8ba3f9041deed64ec9c60b26ff6bf41c66  0.000000   0.2   0.0     0     0   \n",
       "0002236e33c94f6d300fa52a045e0c7ae1e19ccf  0.200000   0.0   0.0     0     0   \n",
       "000227c5bf4bc34aac7ca21227f452c1f7ae6417  0.200000   0.0   0.0     0     0   \n",
       "0002b896949cb2899feaed47104406e99eafa983  0.200000   0.0   0.0     0     0   \n",
       "0002e94348b2543c6e6ccf408b0160d14064e46f  0.200000   0.0   0.0     0     0   \n",
       "0003498ef13c9db2720f5dd4b44f270c87399900  0.000000   0.0   0.2     0     0   \n",
       "\n",
       "                                          1842  \n",
       "listener_profile                                \n",
       "00004fb90a86beb8bed1e9e328f5d9b6ee7dc03e     0  \n",
       "0000d3c803e068cf1da17724f1674897b2dd7130     0  \n",
       "0000f88f8d76a238c251450913b0d070e4a77d19     0  \n",
       "0001d493b98f820a7e37b16b1fa0b31b7eadc4d3     0  \n",
       "00020e8ba3f9041deed64ec9c60b26ff6bf41c66     0  \n",
       "0002236e33c94f6d300fa52a045e0c7ae1e19ccf     0  \n",
       "000227c5bf4bc34aac7ca21227f452c1f7ae6417     0  \n",
       "0002b896949cb2899feaed47104406e99eafa983     0  \n",
       "0002e94348b2543c6e6ccf408b0160d14064e46f     0  \n",
       "0003498ef13c9db2720f5dd4b44f270c87399900     0  \n",
       "\n",
       "[10 rows x 1843 columns]"
      ]
     },
     "execution_count": 20,
     "metadata": {},
     "output_type": "execute_result"
    }
   ],
   "source": [
    "listener_features.head(10)"
   ]
  },
  {
   "cell_type": "markdown",
   "metadata": {},
   "source": [
    "#### Song Recommendation"
   ]
  },
  {
   "cell_type": "markdown",
   "metadata": {},
   "source": [
    "Let's predict user Charlie's next song!!!"
   ]
  },
  {
   "cell_type": "code",
   "execution_count": 24,
   "metadata": {
    "collapsed": false
   },
   "outputs": [
    {
     "data": {
      "text/plain": [
       "0         b64cdd1a0bd907e5e00b39e345194768e330d652\n",
       "1         951945330eb5df161ac4f97729647514001cd102\n",
       "2         bd64f193f0f53f09d44ff48fd52830ff2fded392\n",
       "3         e427f647c231c1bde8881eca5b2f5db9b3bcb2b4\n",
       "4         02192554db8fe6d17b6309aabb2b7526a2e58534\n",
       "5         34c327464b7c8eaf912e6ba37cadcb64514b5900\n",
       "6         453b8c452ef73afd327e7522490be3a464db2ba1\n",
       "7         9e448d03be35d855a8fba9cf70e8f7ba3d5d3008\n",
       "8         c805c895d0b2f69c5deb95f829a8b30e6e9e6b9e\n",
       "9         b87670a903ef43bada1d0e75c3b2d981b90f6697\n",
       "10        ced8b390f1c4de9b97ad75b3a46b1938efb5def2\n",
       "11        e8d37d9337aec9dfa73c47fdf04b3f18780ac251\n",
       "12        08e3f149eb81d427c97a6f0276861ddd26d52db5\n",
       "13        66c010584fb0b6bc51353dd9840144d995560504\n",
       "14        de574a0e7ad97d93b0a10a4dc90fa85112d705cd\n",
       "15        ee7aa84c164038c963cfd02a7e52a5598aa470c3\n",
       "16        13610ce0628c06f5c11aa6a3f815996d528d6c16\n",
       "17        94455a44b78ea9072a9d8cbfcd8dde6454077b5e\n",
       "18        0bb22a12310849b8416cc0682c5a8f5cc9235dde\n",
       "19        850b3c1c95b96e3705438a5ca14b2f1eece4292c\n",
       "20        08bc8c0b65eab5b21990fc27bc82883142d3cd96\n",
       "21        00c118711b64b0c9059e1450bd253da32f2ca9a8\n",
       "22        9028ea1dd0f46edf85f4049aaacf31d316d994d2\n",
       "23        666b7970296e8123c43805554fe42c6518a40b5a\n",
       "24        34e191b5e3ac4d0b86b100e3325aa46c34998248\n",
       "25        d921a05cf870240b649ed692ae5243251a38b066\n",
       "26        21fe97e9f2fd4aa4cd11db08c9683f5bb910b66b\n",
       "27        7f2567fae93ebc668e76b321a6b1612c3548d9b0\n",
       "28        5f633da6ad4845350949c3c76ce6c4ef6f167476\n",
       "29        770072569eb8b7509141b296753b3c99dc0b8921\n",
       "                            ...                   \n",
       "393697    c66491f70eebcb224acafd3dc624828a86a2423a\n",
       "393698    14fac5f05df7dec6036efe5b5c9c4dd85214e61f\n",
       "393699    c5abe5d2bb0e53c5430edcf2842ff8dae64a33b1\n",
       "393700    dc3edaa033a577a3fe8141caea56b688363404c0\n",
       "393701    ecd07f235487d00a784a21371745e05f18bd5647\n",
       "393702    0ccbc09ccded5b8fc026842eb775d394c6f73105\n",
       "393703    4cee70f4805a59eb1259e3318f4fb237dbf086e9\n",
       "393704    918f3a26fcc77c5202516e5bcec8fe017fda04db\n",
       "393705    385a1e2ddb68a915d0c79e70a52b8901bc7f24fe\n",
       "393706    8f51837710e7cff2e0653ed6dbb0fd1ec2bc1bac\n",
       "393707    932bb3a90bff8f5a6a27695e666eb3275a45dc41\n",
       "393708    a92f4dffe72b2f9e74930dceaa8e9f89955ecf05\n",
       "393709    862b5855967f0909a323ced23c110949f8679c64\n",
       "393710    f6c686cf7851611a847742f979688f39df48802d\n",
       "393711    4ac11aa55db2a6a5d6affdb360e60ae254149530\n",
       "393712    56e744b7b57066949205c65af34bdcb4a620166b\n",
       "393713    dd3b4e64a6004ee7650b2ced0a24abd093d17ba6\n",
       "393714    c4073e07678e36cf4692722b86e14bcd7ef1195d\n",
       "393715    da9ccab0fcdc8240cf4e352f2cc530d0c69dd8e1\n",
       "393716    8e2681ed744160a445c2af8698e967904f2d3e67\n",
       "393717    c10468b7fbfb225ebfe985d07999a7ad0b9c5b2d\n",
       "393718    c805da68c9296bfc7fe90896b428ad47fb98a72c\n",
       "393719    d4337c3ad4ddf9940228342be86dea9c045495a7\n",
       "393720    744e3c9f4892e03b1c48d95b9c4fc345ab46dbc9\n",
       "393721    308298e0f9d2cb3b862dfb1bee75e4c16196315b\n",
       "393722    f55a77d6f3848ad80486d6e1d6b609f21751d04c\n",
       "393723    826617899c7281b711a2ed3a1708d15da5d2283b\n",
       "393724    1e835159ea7ef7e728a59bceb035bfd64400b863\n",
       "393725    3a2d1642c26b16b178a43bead38ea1fe6883e543\n",
       "393726    6b9df737dae978d4b8a2099ffa6a501a3c30b091\n",
       "Name: user_id, dtype: object"
      ]
     },
     "execution_count": 24,
     "metadata": {},
     "output_type": "execute_result"
    }
   ],
   "source": [
    "df.user_id"
   ]
  },
  {
   "cell_type": "code",
   "execution_count": 27,
   "metadata": {
    "collapsed": false
   },
   "outputs": [
    {
     "data": {
      "text/plain": [
       "00004fb90a86beb8bed1e9e328f5d9b6ee7dc03e    1\n",
       "0000d3c803e068cf1da17724f1674897b2dd7130    1\n",
       "0000f88f8d76a238c251450913b0d070e4a77d19    3\n",
       "0001d493b98f820a7e37b16b1fa0b31b7eadc4d3    1\n",
       "00020e8ba3f9041deed64ec9c60b26ff6bf41c66    1\n",
       "Name: user_id, dtype: int64"
      ]
     },
     "execution_count": 27,
     "metadata": {},
     "output_type": "execute_result"
    }
   ],
   "source": [
    "df.user_id.value_counts().sort_index().head()"
   ]
  },
  {
   "cell_type": "code",
   "execution_count": 28,
   "metadata": {
    "collapsed": true
   },
   "outputs": [],
   "source": [
    "user = '0000f88f8d76a238c251450913b0d070e4a77d19'"
   ]
  },
  {
   "cell_type": "code",
   "execution_count": 29,
   "metadata": {
    "collapsed": false
   },
   "outputs": [
    {
     "data": {
      "text/plain": [
       "0       0.200000\n",
       "1       0.000000\n",
       "2       0.000000\n",
       "3       0.000000\n",
       "4       0.000000\n",
       "5       0.000000\n",
       "6       0.000000\n",
       "7       0.000000\n",
       "8       0.000000\n",
       "9       0.000000\n",
       "10      0.000000\n",
       "11      0.000000\n",
       "12      0.000000\n",
       "13      0.000000\n",
       "14      0.000000\n",
       "15      0.000000\n",
       "16      0.000000\n",
       "17      0.000000\n",
       "18      0.000000\n",
       "19      0.000000\n",
       "20      0.000000\n",
       "21      0.000000\n",
       "22      0.000000\n",
       "23      0.000000\n",
       "24      0.000000\n",
       "25      0.000000\n",
       "26      0.000000\n",
       "27      0.000000\n",
       "28      0.000000\n",
       "29      0.000000\n",
       "          ...   \n",
       "1813    0.000000\n",
       "1814    0.000000\n",
       "1815    0.000000\n",
       "1816    0.000000\n",
       "1817    0.000000\n",
       "1818    0.000000\n",
       "1819    0.000000\n",
       "1820    0.000000\n",
       "1821    0.000000\n",
       "1822    0.000000\n",
       "1823    0.000000\n",
       "1824    0.000000\n",
       "1825    0.000000\n",
       "1826    0.000000\n",
       "1827    0.000000\n",
       "1828    0.000000\n",
       "1829    0.000000\n",
       "1830    0.000000\n",
       "1831    0.000000\n",
       "1832    0.000000\n",
       "1833    0.066667\n",
       "1834    0.000000\n",
       "1835    0.000000\n",
       "1836    0.000000\n",
       "1837    0.133333\n",
       "1838    0.000000\n",
       "1839    0.000000\n",
       "1840    0.000000\n",
       "1841    0.000000\n",
       "1842    0.000000\n",
       "Name: 0000f88f8d76a238c251450913b0d070e4a77d19, dtype: float64"
      ]
     },
     "execution_count": 29,
     "metadata": {},
     "output_type": "execute_result"
    }
   ],
   "source": [
    "listener_features.loc[user]"
   ]
  },
  {
   "cell_type": "code",
   "execution_count": 35,
   "metadata": {
    "collapsed": false
   },
   "outputs": [
    {
     "name": "stdout",
     "output_type": "stream",
     "text": [
      "Top recommendations for 0000f88f8d76a238c251450913b0d070e4a77d19\n",
      "song_titles\n",
      "I Did it for You              0.600000\n",
      "Country Day                   0.533333\n",
      "Red Socks Pugie               0.533333\n",
      "Missionary Man                0.533333\n",
      "Burn 'Em Down (LP Version)    0.533333\n",
      "Name: predictions, dtype: float64\n"
     ]
    },
    {
     "name": "stderr",
     "output_type": "stream",
     "text": [
      "/anaconda/lib/python2.7/site-packages/ipykernel/__main__.py:6: FutureWarning: sort is deprecated, use sort_values(inplace=True) for for INPLACE sorting\n"
     ]
    },
    {
     "ename": "TypeError",
     "evalue": "not all arguments converted during string formatting",
     "output_type": "error",
     "traceback": [
      "\u001b[0;31m---------------------------------------------------------------------------\u001b[0m",
      "\u001b[0;31mTypeError\u001b[0m                                 Traceback (most recent call last)",
      "\u001b[0;32m<ipython-input-35-016e969b1dd4>\u001b[0m in \u001b[0;36m<module>\u001b[0;34m()\u001b[0m\n\u001b[1;32m     10\u001b[0m \u001b[0;32mprint\u001b[0m \u001b[0mpred_name\u001b[0m\u001b[0;34m.\u001b[0m\u001b[0mhead\u001b[0m\u001b[0;34m(\u001b[0m\u001b[0;34m)\u001b[0m\u001b[0;34m\u001b[0m\u001b[0m\n\u001b[1;32m     11\u001b[0m \u001b[0;34m\u001b[0m\u001b[0m\n\u001b[0;32m---> 12\u001b[0;31m \u001b[0;32mprint\u001b[0m \u001b[0;34m\"Bottom  recommendations\"\u001b[0m \u001b[0;34m%\u001b[0m \u001b[0muser\u001b[0m\u001b[0;34m\u001b[0m\u001b[0m\n\u001b[0m\u001b[1;32m     13\u001b[0m \u001b[0;32mprint\u001b[0m \u001b[0mpred_name\u001b[0m\u001b[0;34m.\u001b[0m\u001b[0mtail\u001b[0m\u001b[0;34m(\u001b[0m\u001b[0;34m)\u001b[0m\u001b[0;34m\u001b[0m\u001b[0m\n",
      "\u001b[0;31mTypeError\u001b[0m: not all arguments converted during string formatting"
     ]
    }
   ],
   "source": [
    "v = listener_features.loc[user].values\n",
    "M = song_features.values\n",
    "pred = M.dot(v)\n",
    "\n",
    "# Now index this vector with the actual beers, so we can understand the values\n",
    "pred = pd.Series(pred, index=song_features.index, name=\"predictions\") \\\n",
    "    .sort(ascending=False, inplace=False)\n",
    "pred_name = pd.Series(pred.values, song_names[pred.index], name=pred.name)\n",
    "\n",
    "print \"Top recommendations for %s\" % user\n",
    "print pred_name.head()\n",
    "\n",
    "print \"Bottom  recommendations\" % user\n",
    "print pred_name.tail()"
   ]
  },
  {
   "cell_type": "code",
   "execution_count": 36,
   "metadata": {
    "collapsed": false
   },
   "outputs": [
    {
     "data": {
      "text/plain": [
       "song_titles\n",
       "I Did it for You                                                              0.600000\n",
       "Country Day                                                                   0.533333\n",
       "Red Socks Pugie                                                               0.533333\n",
       "Missionary Man                                                                0.533333\n",
       "Burn 'Em Down (LP Version)                                                    0.533333\n",
       "Hate Zone                                                                     0.533333\n",
       "Clever Girls Like Clever Boys Much More Than Clever Boys Like Clever Girls    0.533333\n",
       "Magico                                                                        0.533333\n",
       "Better Days                                                                   0.533333\n",
       "Eoarchaean                                                                    0.533333\n",
       "The Date ( LP Version )                                                       0.533333\n",
       "Running On The Rocks                                                          0.533333\n",
       "Hawaï                                                                         0.533333\n",
       "St. Patrick's Day                                                             0.533333\n",
       "Nonfiction                                                                    0.533333\n",
       "Ley Lines                                                                     0.533333\n",
       "Shrine (Reissue) (Album Version)                                              0.533333\n",
       "Never Alone                                                                   0.533333\n",
       "Papa Don't Preach                                                             0.533333\n",
       "Skinhead on the MBTA (Album Version)                                          0.533333\n",
       "She Will Love You (Album Version)                                             0.533333\n",
       "(We Don't Need This) Fascist Groove Thang (Rapino Club Mix)                   0.533333\n",
       "Boring                                                                        0.533333\n",
       "Lose This Skin                                                                0.533333\n",
       "When Rules Change                                                             0.533333\n",
       "Tides Of Time                                                                 0.533333\n",
       "Devil's Daughter                                                              0.533333\n",
       "It's Going Down                                                               0.533333\n",
       "Last Good Time In Town                                                        0.533333\n",
       "Out In The Woods                                                              0.533333\n",
       "                                                                                ...   \n",
       "Breaking Of Day (Album Version)                                               0.200000\n",
       "Morning Bird                                                                  0.200000\n",
       "Look Me In The Eye                                                            0.200000\n",
       "No seamos tontos                                                              0.200000\n",
       "Playgirl's Love                                                               0.200000\n",
       "Pray On                                                                       0.200000\n",
       "Lead Me Lord                                                                  0.200000\n",
       "Persiana Americana (Live)                                                     0.200000\n",
       "This is My Father's World/For the Beauty of the Earth                         0.200000\n",
       "Kathleen's Song / Ray Lynch                                                   0.200000\n",
       "Jane 5                                                                        0.200000\n",
       "Hollow Eyes (Beat The System Album Version)                                   0.200000\n",
       "If You Build A Better Mousetrap                                               0.200000\n",
       "Lo Siento En Mi Corazón                                                       0.200000\n",
       "Widescreen                                                                    0.200000\n",
       "If I...                                                                       0.200000\n",
       "part 2 - Winterlight                                                          0.200000\n",
       "Die Slow                                                                      0.200000\n",
       "Eugene's Lament                                                               0.200000\n",
       "Disco Jonki                                                                   0.200000\n",
       "Fat Tuesday                                                                   0.200000\n",
       "Good Day                                                                      0.200000\n",
       "Ice Cream Man                                                                 0.200000\n",
       "I denna ljuva sommartid                                                       0.200000\n",
       "Genesis                                                                       0.200000\n",
       "Ricky Ticky Toc                                                               0.200000\n",
       "Freak Out                                                                     0.200000\n",
       "Auf Der Mundharmonika                                                         0.200000\n",
       "Better Off That Way                                                           0.200000\n",
       "(The Grave Prelude)                                                           0.200000\n",
       "Name: predictions, dtype: float64"
      ]
     },
     "execution_count": 36,
     "metadata": {},
     "output_type": "execute_result"
    }
   ],
   "source": [
    "pred_name"
   ]
  },
  {
   "cell_type": "markdown",
   "metadata": {},
   "source": [
    "Comparison to actual reviews"
   ]
  },
  {
   "cell_type": "code",
   "execution_count": 38,
   "metadata": {
    "collapsed": false
   },
   "outputs": [
    {
     "name": "stdout",
     "output_type": "stream",
     "text": [
      "Top reviewed by 0000f88f8d76a238c251450913b0d070e4a77d19\n",
      "song_titles\n",
      "Ragoo               1\n",
      "I Did it for You    1\n",
      "Lullaby             1\n",
      "dtype: int64\n",
      "\n",
      "Bottom reviewed by 0000f88f8d76a238c251450913b0d070e4a77d19\n",
      "song_titles\n",
      "Ragoo               1\n",
      "I Did it for You    1\n",
      "Lullaby             1\n",
      "dtype: int64\n"
     ]
    },
    {
     "name": "stderr",
     "output_type": "stream",
     "text": [
      "/anaconda/lib/python2.7/site-packages/ipykernel/__main__.py:1: FutureWarning: sort is deprecated, use sort_values(inplace=True) for for INPLACE sorting\n",
      "  if __name__ == '__main__':\n"
     ]
    }
   ],
   "source": [
    "my_reviews = df[df.user_id == user].groupby('song_id').rating.mean()\\\n",
    "    .sort(ascending=False, inplace=False)\n",
    "my_reviews_name = pd.Series(my_reviews.values, index=song_names[my_reviews.index])\n",
    "print \"Top reviewed by %s\" % user\n",
    "print my_reviews_name.head()\n",
    "print \"\\nBottom reviewed by %s\" % user\n",
    "print my_reviews_name.tail()"
   ]
  },
  {
   "cell_type": "code",
   "execution_count": 39,
   "metadata": {
    "collapsed": false
   },
   "outputs": [
    {
     "data": {
      "image/png": "[encoded data removed]",
      "text/plain": [
       "<matplotlib.figure.Figure at 0x1100ca8d0>"
      ]
     },
     "metadata": {},
     "output_type": "display_data"
    }
   ],
   "source": [
    "f = sb.regplot(my_reviews, pred[list(my_reviews.index)], scatter_kws=dict(alpha=.4))"
   ]
  },
  {
   "cell_type": "markdown",
   "metadata": {},
   "source": [
    "## Collaborative Filtering"
   ]
  },
  {
   "cell_type": "markdown",
   "metadata": {},
   "source": [
    "It seems this is the way to go to recommend a song. \n",
    "\n",
    "http://benanne.github.io/2014/08/05/spotify-cnns.html"
   ]
  },
  {
   "cell_type": "markdown",
   "metadata": {},
   "source": [
    "### Item-based collaborative filtering"
   ]
  },
  {
   "cell_type": "code",
   "execution_count": null,
   "metadata": {
    "collapsed": true
   },
   "outputs": [],
   "source": [
    "# Create song x listener preference matrix\n",
    "M2 = df.groupby(['song_id', 'review_profilename']).rating.mean().unstack()\n",
    "M2 = np.maximum(-1, (M - 3).fillna(0) / 2.)  # scale to -1..+1  (treat \"0\" scores as \"1\" scores)\n",
    "M2.head(2)"
   ]
  },
  {
   "cell_type": "code",
   "execution_count": null,
   "metadata": {
    "collapsed": true
   },
   "outputs": [],
   "source": [
    "%%time\n",
    "n_ratings = data.groupby(['song_id', 'user_id']).size()\n",
    "n_ratings[n_ratings  > 1] = 1  # just keep 1 or 0 for user-song rating\n",
    "n_ratings = n_ratings.unstack().fillna(0)  # create matrix, fill empty cells with 0\n",
    "n_ratings = n_ratings.dot(n_ratings.T)  # how many ratings do two beers have in common?"
   ]
  },
  {
   "cell_type": "code",
   "execution_count": null,
   "metadata": {
    "collapsed": true
   },
   "outputs": [],
   "source": [
    "n_ratings"
   ]
  },
  {
   "cell_type": "code",
   "execution_count": null,
   "metadata": {
    "collapsed": true
   },
   "outputs": [],
   "source": [
    "%%time\n",
    "# if we have `ignore_up_to_n` or less common ratings between two songs, just ignore it\n",
    "ignore_up_to_n = 3\n",
    "n_ratings = np.maximum(ignore_up_to_n, n_ratings).replace(ignore_up_to_n, np.nan)"
   ]
  },
  {
   "cell_type": "code",
   "execution_count": null,
   "metadata": {
    "collapsed": true
   },
   "outputs": [],
   "source": [
    "%%time\n",
    "sim = M.dot(M.T)  # total score in common between two songs\n",
    "sim = sim / n_ratings  # scale so we get an average score (not a sum)\n",
    "# note that if we have no common ratings, we get a NaN now"
   ]
  },
  {
   "cell_type": "code",
   "execution_count": null,
   "metadata": {
    "collapsed": true
   },
   "outputs": [],
   "source": [
    "sim"
   ]
  },
  {
   "cell_type": "code",
   "execution_count": null,
   "metadata": {
    "collapsed": true
   },
   "outputs": [],
   "source": [
    "n_ratings = data.groupby(['song_id']).size()\n",
    "songs = n_ratings[n_ratings > 10].index"
   ]
  },
  {
   "cell_type": "code",
   "execution_count": null,
   "metadata": {
    "collapsed": true
   },
   "outputs": [],
   "source": [
    "n_songs = 5\n",
    "top = 5\n",
    "print \n",
    "for song in np.random.choice(songs, n_songs):\n",
    "    print \"--\", song_names[song], \"--\"\n",
    "    sim_songs = sim[song].sort(ascending=False, inplace=False).dropna()\n",
    "    if len(sim_songs) == 0:\n",
    "        print \"Not enough comparisons\"\n",
    "    else:\n",
    "        print \"MOST  similar:\", \", \".join(song_names[list(sim_songs.head(top).index)])\n",
    "        print \"LEAST similar:\", \", \".join(song_names[list(sim_songs.tail(top).index)])\n",
    "    print"
   ]
  },
  {
   "cell_type": "code",
   "execution_count": null,
   "metadata": {
    "collapsed": true
   },
   "outputs": [],
   "source": [
    "print \"Top reviews by %s.\" % user\n",
    "print my_reviews_name.head()"
   ]
  },
  {
   "cell_type": "code",
   "execution_count": null,
   "metadata": {
    "collapsed": true
   },
   "outputs": [],
   "source": [
    "top = 5\n",
    "favorite_songs = list(my_reviews[my_reviews > 4].index)\n",
    "pred = sim[favorite_songs].mean(axis=1).dropna().sort(ascending=False, inplace=False)\n",
    "pred_name = pd.Series(pred.values, song_names[pred.index], name=pred.name)\n",
    "print \"Top recommendations for %s\" % user\n",
    "print pred_name.head()\n",
    "print \"\\nBottom  recommendations (don't drink these, %s!)\" % user\n",
    "print pred_name.tail()"
   ]
  },
  {
   "cell_type": "code",
   "execution_count": null,
   "metadata": {
    "collapsed": true
   },
   "outputs": [],
   "source": [
    "f = sb.regplot(my_reviews, pred[list(my_reviews.index)], scatter_kws=dict(alpha=.4))"
   ]
  },
  {
   "cell_type": "markdown",
   "metadata": {},
   "source": [
    "### model-based collaborative filtering"
   ]
  },
  {
   "cell_type": "code",
   "execution_count": null,
   "metadata": {
    "collapsed": true
   },
   "outputs": [],
   "source": [
    "from sklearn.decomposition import TruncatedSVD\n",
    "from sklearn.pipeline import make_pipeline\n",
    "from sklearn.preprocessing import Normalizer"
   ]
  },
  {
   "cell_type": "code",
   "execution_count": null,
   "metadata": {
    "collapsed": true
   },
   "outputs": [],
   "source": [
    "%%time\n",
    "n_components = 200   # number of beer classes\n",
    "svd = TruncatedSVD(n_components)\n",
    "X_red = svd.fit_transform(M.T)\n",
    "explained_variance = svd.explained_variance_ratio_.sum()\n",
    "print \"Explained variance of the SVD step: %d%%\" % (explained_variance * 100)\n",
    "print \"Dimensions feature matrix (old):\", M.T.shape\n",
    "print \"Dimensions feature matrix (new):\", X_red.shape"
   ]
  },
  {
   "cell_type": "code",
   "execution_count": null,
   "metadata": {
    "collapsed": true
   },
   "outputs": [],
   "source": [
    "plt.plot(svd.explained_variance_ratio_.cumsum())\n",
    "f = plt.ylim(0,1)"
   ]
  },
  {
   "cell_type": "code",
   "execution_count": null,
   "metadata": {
    "collapsed": true
   },
   "outputs": [],
   "source": [
    "songs = M.index\n",
    "top_songs = 10\n",
    "n_rows, n_cols = 2, 3\n",
    "top_components = n_rows * n_cols\n",
    "f, axes = plt.subplots(n_rows, n_cols, figsize=(20, n_rows * 3))\n",
    "for no, component in enumerate(svd.components_[:top_components]):\n",
    "    ax = axes[no / n_cols][no % n_cols]\n",
    "    s = pd.Series(svd.components_[no], index=song_names[songs].values).sort(inplace=False)[-top_songs:]\n",
    "    s.plot(kind='barh', ax=ax, title=\"Component %d\\nexplained variance %4.1f\" % \n",
    "           (no, 100 * svd.explained_variance_ratio_[no]))\n",
    "f = plt.tight_layout()"
   ]
  },
  {
   "cell_type": "code",
   "execution_count": null,
   "metadata": {
    "collapsed": true
   },
   "outputs": [],
   "source": [
    "userid = list(M.columns).index(user)\n",
    "recs = pd.Series(X_red[userid])\n",
    "f = recs.sort(inplace=False)[-10:].plot(\n",
    "    kind='barh', title='Top recommended categories for %s' % user)"
   ]
  },
  {
   "cell_type": "code",
   "execution_count": null,
   "metadata": {
    "collapsed": true
   },
   "outputs": [],
   "source": [
    "songs_from_top_category = pd.Series(svd.components_[recs.argmax()], index=song_names[songs].values)\n",
    "print \"Songs from top recommended category for %s:\" % user,\n",
    "print ', '.join(songs_from_top_category.sort(inplace=False)[-top_songs:].index)"
   ]
  },
  {
   "cell_type": "code",
   "execution_count": null,
   "metadata": {
    "collapsed": true
   },
   "outputs": [],
   "source": [
    "song_recs = X_red[userid].dot(svd.components_)\n",
    "song_recs = pd.Series(song_recs, index=song_names[songs].values)\n",
    "print \"Beers recommended for %s:\" % user,\n",
    "print ', '.join(song_recs.sort(inplace=False)[-top_songs:].index)"
   ]
  },
  {
   "cell_type": "code",
   "execution_count": null,
   "metadata": {
    "collapsed": true
   },
   "outputs": [],
   "source": [
    "pred = pd.Series(recs.dot(svd.components_), index=songs)\n",
    "f = sb.regplot(my_reviews, pred[list(my_reviews.index)], scatter_kws=dict(alpha=.4))"
   ]
  },
  {
   "cell_type": "markdown",
   "metadata": {},
   "source": [
    "## K-means"
   ]
  },
  {
   "cell_type": "code",
   "execution_count": null,
   "metadata": {
    "collapsed": true
   },
   "outputs": [],
   "source": [
    "data_matrix = hstack([cat_matrix, other_features])\n",
    "data_matrix"
   ]
  },
  {
   "cell_type": "code",
   "execution_count": null,
   "metadata": {
    "collapsed": true
   },
   "outputs": [],
   "source": [
    "from sklearn.preprocessing import scale\n",
    "\n",
    "data_matrix = scale(data_matrix.todense())"
   ]
  },
  {
   "cell_type": "code",
   "execution_count": null,
   "metadata": {
    "collapsed": false
   },
   "outputs": [],
   "source": [
    "from sklearn.cluster import KMeans\n",
    "\n",
    "clustering_model = KMeans(n_clusters = 25)\n",
    "clustering_model.fit(data_matrix)\n",
    "\n",
    "clusters = clustering_model.predict(data_matrix)\n",
    "\n",
    "clusters"
   ]
  },
  {
   "cell_type": "code",
   "execution_count": null,
   "metadata": {
    "collapsed": false
   },
   "outputs": [],
   "source": [
    "pd.Series(clusters).value_counts()"
   ]
  },
  {
   "cell_type": "code",
   "execution_count": null,
   "metadata": {
    "collapsed": false
   },
   "outputs": [],
   "source": [
    "df['genre_id'].value_counts()"
   ]
  },
  {
   "cell_type": "code",
   "execution_count": null,
   "metadata": {
    "collapsed": true
   },
   "outputs": [],
   "source": [
    "results = pd.DataFrame({ 'cluster' : clusters, 'genre_id' : df['genre_id']})\n",
    "cluster_counts = results.groupby('cluster')['genre_id'].value_counts()"
   ]
  },
  {
   "cell_type": "code",
   "execution_count": null,
   "metadata": {
    "collapsed": false
   },
   "outputs": [],
   "source": [
    "results"
   ]
  },
  {
   "cell_type": "code",
   "execution_count": null,
   "metadata": {
    "collapsed": false
   },
   "outputs": [],
   "source": [
    "cluster_counts"
   ]
  },
  {
   "cell_type": "code",
   "execution_count": null,
   "metadata": {
    "collapsed": false
   },
   "outputs": [],
   "source": [
    "for i in xrange(len(cluster_counts)):\n",
    "    print \"Cluster \" ,i\n",
    "    print cluster_counts[i]\n",
    "    print"
   ]
  },
  {
   "cell_type": "code",
   "execution_count": null,
   "metadata": {
    "collapsed": true
   },
   "outputs": [],
   "source": []
  }
 ],
 "metadata": {
  "kernelspec": {
   "display_name": "Python 2",
   "language": "python",
   "name": "python2"
  },
  "language_info": {
   "codemirror_mode": {
    "name": "ipython",
    "version": 2
   },
   "file_extension": ".py",
   "mimetype": "text/x-python",
   "name": "python",
   "nbconvert_exporter": "python",
   "pygments_lexer": "ipython2",
   "version": "2.7.11"
  }
 },
 "nbformat": 4,
 "nbformat_minor": 0
}
