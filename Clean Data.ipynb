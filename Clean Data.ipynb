{
 "cells": [
  {
   "cell_type": "markdown",
   "metadata": {},
   "source": [
    "# Clean data and add features"
   ]
  },
  {
   "cell_type": "markdown",
   "metadata": {},
   "source": [
    "The created dataset needs to be cleaned and additional features added."
   ]
  },
  {
   "cell_type": "markdown",
   "metadata": {},
   "source": [
    "Modules needed"
   ]
  },
  {
   "cell_type": "code",
   "execution_count": 52,
   "metadata": {
    "collapsed": true
   },
   "outputs": [],
   "source": [
    "import numpy as np\n",
    "import pandas as pd"
   ]
  },
  {
   "cell_type": "markdown",
   "metadata": {
    "collapsed": true
   },
   "source": [
    "First let's read in all of the CSVs created:"
   ]
  },
  {
   "cell_type": "code",
   "execution_count": 53,
   "metadata": {
    "collapsed": false
   },
   "outputs": [
    {
     "data": {
      "text/plain": [
       "10000"
      ]
     },
     "execution_count": 53,
     "metadata": {},
     "output_type": "execute_result"
    }
   ],
   "source": [
    "#hdf5 metadata\n",
    "hdf5_data= pd.read_csv('hdf5.csv', sep=',')\n",
    "len(hdf5_data)"
   ]
  },
  {
   "cell_type": "code",
   "execution_count": 54,
   "metadata": {
    "collapsed": false
   },
   "outputs": [
    {
     "data": {
      "text/plain": [
       "4011"
      ]
     },
     "execution_count": 54,
     "metadata": {},
     "output_type": "execute_result"
    }
   ],
   "source": [
    "#hdf5 metadata with genre\n",
    "hdf5_w_genre=pd.read_csv('data_w_genre', sep=',')\n",
    "len(hdf5_w_genre)"
   ]
  },
  {
   "cell_type": "code",
   "execution_count": 55,
   "metadata": {
    "collapsed": false
   },
   "outputs": [
    {
     "data": {
      "text/plain": [
       "3675"
      ]
     },
     "execution_count": 55,
     "metadata": {},
     "output_type": "execute_result"
    }
   ],
   "source": [
    "#hdf5 with behavior\n",
    "hdf5_w_behavior=pd.read_csv('data_w_behavior.csv', sep=',')\n",
    "len(hdf5_w_behavior)"
   ]
  },
  {
   "cell_type": "code",
   "execution_count": 56,
   "metadata": {
    "collapsed": false
   },
   "outputs": [
    {
     "data": {
      "text/plain": [
       "193840"
      ]
     },
     "execution_count": 56,
     "metadata": {},
     "output_type": "execute_result"
    }
   ],
   "source": [
    "#behavior with genre\n",
    "behavior_w_genre=pd.read_csv('behavior_w_genre.csv',sep=',')\n",
    "len(behavior_w_genre)"
   ]
  },
  {
   "cell_type": "code",
   "execution_count": 57,
   "metadata": {
    "collapsed": false
   },
   "outputs": [
    {
     "data": {
      "text/plain": [
       "384546"
      ]
     },
     "execution_count": 57,
     "metadata": {},
     "output_type": "execute_result"
    }
   ],
   "source": [
    "#behavior\n",
    "behavior=pd.read_csv('behavior.csv', sep=',')\n",
    "len(behavior)"
   ]
  },
  {
   "cell_type": "code",
   "execution_count": 58,
   "metadata": {
    "collapsed": false
   },
   "outputs": [
    {
     "data": {
      "text/plain": [
       "1760"
      ]
     },
     "execution_count": 58,
     "metadata": {},
     "output_type": "execute_result"
    }
   ],
   "source": [
    "#ultimate data set hdf5 + user behavior + genre\n",
    "data=pd.read_csv('ultimate_mini.csv',sep=',')\n",
    "len(data)"
   ]
  },
  {
   "cell_type": "markdown",
   "metadata": {},
   "source": [
    "# The mini ultimate data set"
   ]
  },
  {
   "cell_type": "markdown",
   "metadata": {},
   "source": [
    "## clean data set"
   ]
  },
  {
   "cell_type": "code",
   "execution_count": 59,
   "metadata": {
    "collapsed": false
   },
   "outputs": [
    {
     "data": {
      "text/html": [
       "<div>\n",
       "<table border=\"1\" class=\"dataframe\">\n",
       "  <thead>\n",
       "    <tr style=\"text-align: right;\">\n",
       "      <th></th>\n",
       "      <th>Unnamed: 0</th>\n",
       "      <th>song_id_x</th>\n",
       "      <th>play_count_sum</th>\n",
       "      <th>user_id_count</th>\n",
       "      <th>track_id</th>\n",
       "      <th>genre_id</th>\n",
       "      <th>artist_familiarty</th>\n",
       "      <th>artist_hotness</th>\n",
       "      <th>artist_id</th>\n",
       "      <th>artist_latitude</th>\n",
       "      <th>...</th>\n",
       "      <th>song_hotness</th>\n",
       "      <th>song_release_years</th>\n",
       "      <th>song_titles</th>\n",
       "      <th>song_bars</th>\n",
       "      <th>song_beats</th>\n",
       "      <th>song_keys</th>\n",
       "      <th>song_modes</th>\n",
       "      <th>song_tatum</th>\n",
       "      <th>song_tempo</th>\n",
       "      <th>song_time_signatures</th>\n",
       "    </tr>\n",
       "  </thead>\n",
       "  <tbody>\n",
       "    <tr>\n",
       "      <th>0</th>\n",
       "      <td>0</td>\n",
       "      <td>SOAAEHR12A6D4FB060</td>\n",
       "      <td>957</td>\n",
       "      <td>554</td>\n",
       "      <td>TRAYPFH128E07937C3</td>\n",
       "      <td>Pop_Rock</td>\n",
       "      <td>0.806359</td>\n",
       "      <td>0.545789</td>\n",
       "      <td>AR5N8VN1187FB37A4E</td>\n",
       "      <td>47.60356</td>\n",
       "      <td>...</td>\n",
       "      <td>0.654068</td>\n",
       "      <td>2005</td>\n",
       "      <td>Slaves &amp; Bulldozers</td>\n",
       "      <td>[   0.85125    2.69826    4.53846    6.3912   ...</td>\n",
       "      <td>[  3.88730000e-01   8.51250000e-01   1.3130100...</td>\n",
       "      <td>0</td>\n",
       "      <td>1</td>\n",
       "      <td>[  1.56890000e-01   3.88730000e-01   6.2056000...</td>\n",
       "      <td>131.272</td>\n",
       "      <td>4</td>\n",
       "    </tr>\n",
       "    <tr>\n",
       "      <th>1</th>\n",
       "      <td>1</td>\n",
       "      <td>SOAAFUV12AB018831D</td>\n",
       "      <td>10</td>\n",
       "      <td>6</td>\n",
       "      <td>TRAMPCN12903CC4E5B</td>\n",
       "      <td>Reggae</td>\n",
       "      <td>0.623502</td>\n",
       "      <td>0.422380</td>\n",
       "      <td>AR5ZGC11187FB417A3</td>\n",
       "      <td>37.27188</td>\n",
       "      <td>...</td>\n",
       "      <td>NaN</td>\n",
       "      <td>2005</td>\n",
       "      <td>Where Do The Children Play? (LP Version)</td>\n",
       "      <td>[   0.72088    2.49211    4.094      5.69368  ...</td>\n",
       "      <td>[   0.24835    0.72088    1.19209    1.66199  ...</td>\n",
       "      <td>2</td>\n",
       "      <td>1</td>\n",
       "      <td>[   0.24835    0.48462    0.72088 ...,  213.08...</td>\n",
       "      <td>149.169</td>\n",
       "      <td>4</td>\n",
       "    </tr>\n",
       "    <tr>\n",
       "      <th>2</th>\n",
       "      <td>2</td>\n",
       "      <td>SOABLAF12AB018E1D9</td>\n",
       "      <td>1980</td>\n",
       "      <td>748</td>\n",
       "      <td>TRABUMO12903CBE25F</td>\n",
       "      <td>Pop_Rock</td>\n",
       "      <td>0.796337</td>\n",
       "      <td>0.582922</td>\n",
       "      <td>ARSW5F51187FB4CFC9</td>\n",
       "      <td>NaN</td>\n",
       "      <td>...</td>\n",
       "      <td>0.824433</td>\n",
       "      <td>2005</td>\n",
       "      <td>Lesson Learned</td>\n",
       "      <td>[   0.92741    3.15716    5.38085    7.60259  ...</td>\n",
       "      <td>[   0.3692     0.92741    1.48952    2.04734  ...</td>\n",
       "      <td>10</td>\n",
       "      <td>0</td>\n",
       "      <td>[  8.94000000e-02   3.69200000e-01   6.4900000...</td>\n",
       "      <td>107.845</td>\n",
       "      <td>4</td>\n",
       "    </tr>\n",
       "    <tr>\n",
       "      <th>3</th>\n",
       "      <td>3</td>\n",
       "      <td>SOABVPU12AB018AA22</td>\n",
       "      <td>1</td>\n",
       "      <td>1</td>\n",
       "      <td>TRAYPXP12903CD8D45</td>\n",
       "      <td>Reggae</td>\n",
       "      <td>0.583443</td>\n",
       "      <td>0.385788</td>\n",
       "      <td>ARZZRK91187B9A5CA5</td>\n",
       "      <td>18.01571</td>\n",
       "      <td>...</td>\n",
       "      <td>0.299877</td>\n",
       "      <td>2005</td>\n",
       "      <td>Conquer Me</td>\n",
       "      <td>[   1.08342    2.62899    4.18827    5.75054  ...</td>\n",
       "      <td>[   0.28773    0.69392    1.08342    1.46969  ...</td>\n",
       "      <td>8</td>\n",
       "      <td>1</td>\n",
       "      <td>[  8.56200000e-02   2.87730000e-01   4.9082000...</td>\n",
       "      <td>151.498</td>\n",
       "      <td>4</td>\n",
       "    </tr>\n",
       "    <tr>\n",
       "      <th>4</th>\n",
       "      <td>4</td>\n",
       "      <td>SOACEDS12A6701EAAA</td>\n",
       "      <td>230</td>\n",
       "      <td>80</td>\n",
       "      <td>TRASNOT128E0791785</td>\n",
       "      <td>Pop_Rock</td>\n",
       "      <td>0.712745</td>\n",
       "      <td>0.470700</td>\n",
       "      <td>ARP96FM1187B9AEA77</td>\n",
       "      <td>44.97903</td>\n",
       "      <td>...</td>\n",
       "      <td>0.612055</td>\n",
       "      <td>2005</td>\n",
       "      <td>Gone To The Movies</td>\n",
       "      <td>[   0.67473    3.1441     5.58583    8.0254   ...</td>\n",
       "      <td>[   0.67473    1.29676    1.91538    2.53247  ...</td>\n",
       "      <td>0</td>\n",
       "      <td>1</td>\n",
       "      <td>[   0.36436    0.67473    0.98823    1.29676  ...</td>\n",
       "      <td>97.995</td>\n",
       "      <td>4</td>\n",
       "    </tr>\n",
       "  </tbody>\n",
       "</table>\n",
       "<p>5 rows × 25 columns</p>\n",
       "</div>"
      ],
      "text/plain": [
       "   Unnamed: 0           song_id_x  play_count_sum  user_id_count  \\\n",
       "0           0  SOAAEHR12A6D4FB060             957            554   \n",
       "1           1  SOAAFUV12AB018831D              10              6   \n",
       "2           2  SOABLAF12AB018E1D9            1980            748   \n",
       "3           3  SOABVPU12AB018AA22               1              1   \n",
       "4           4  SOACEDS12A6701EAAA             230             80   \n",
       "\n",
       "             track_id  genre_id  artist_familiarty  artist_hotness  \\\n",
       "0  TRAYPFH128E07937C3  Pop_Rock           0.806359        0.545789   \n",
       "1  TRAMPCN12903CC4E5B    Reggae           0.623502        0.422380   \n",
       "2  TRABUMO12903CBE25F  Pop_Rock           0.796337        0.582922   \n",
       "3  TRAYPXP12903CD8D45    Reggae           0.583443        0.385788   \n",
       "4  TRASNOT128E0791785  Pop_Rock           0.712745        0.470700   \n",
       "\n",
       "            artist_id  artist_latitude         ...          song_hotness  \\\n",
       "0  AR5N8VN1187FB37A4E         47.60356         ...              0.654068   \n",
       "1  AR5ZGC11187FB417A3         37.27188         ...                   NaN   \n",
       "2  ARSW5F51187FB4CFC9              NaN         ...              0.824433   \n",
       "3  ARZZRK91187B9A5CA5         18.01571         ...              0.299877   \n",
       "4  ARP96FM1187B9AEA77         44.97903         ...              0.612055   \n",
       "\n",
       "   song_release_years                               song_titles  \\\n",
       "0                2005                       Slaves & Bulldozers   \n",
       "1                2005  Where Do The Children Play? (LP Version)   \n",
       "2                2005                            Lesson Learned   \n",
       "3                2005                                Conquer Me   \n",
       "4                2005                        Gone To The Movies   \n",
       "\n",
       "                                           song_bars  \\\n",
       "0  [   0.85125    2.69826    4.53846    6.3912   ...   \n",
       "1  [   0.72088    2.49211    4.094      5.69368  ...   \n",
       "2  [   0.92741    3.15716    5.38085    7.60259  ...   \n",
       "3  [   1.08342    2.62899    4.18827    5.75054  ...   \n",
       "4  [   0.67473    3.1441     5.58583    8.0254   ...   \n",
       "\n",
       "                                          song_beats  song_keys  song_modes  \\\n",
       "0  [  3.88730000e-01   8.51250000e-01   1.3130100...          0           1   \n",
       "1  [   0.24835    0.72088    1.19209    1.66199  ...          2           1   \n",
       "2  [   0.3692     0.92741    1.48952    2.04734  ...         10           0   \n",
       "3  [   0.28773    0.69392    1.08342    1.46969  ...          8           1   \n",
       "4  [   0.67473    1.29676    1.91538    2.53247  ...          0           1   \n",
       "\n",
       "                                          song_tatum song_tempo  \\\n",
       "0  [  1.56890000e-01   3.88730000e-01   6.2056000...    131.272   \n",
       "1  [   0.24835    0.48462    0.72088 ...,  213.08...    149.169   \n",
       "2  [  8.94000000e-02   3.69200000e-01   6.4900000...    107.845   \n",
       "3  [  8.56200000e-02   2.87730000e-01   4.9082000...    151.498   \n",
       "4  [   0.36436    0.67473    0.98823    1.29676  ...     97.995   \n",
       "\n",
       "  song_time_signatures  \n",
       "0                    4  \n",
       "1                    4  \n",
       "2                    4  \n",
       "3                    4  \n",
       "4                    4  \n",
       "\n",
       "[5 rows x 25 columns]"
      ]
     },
     "execution_count": 59,
     "metadata": {},
     "output_type": "execute_result"
    }
   ],
   "source": [
    "data.head()"
   ]
  },
  {
   "cell_type": "code",
   "execution_count": 60,
   "metadata": {
    "collapsed": false
   },
   "outputs": [],
   "source": [
    "#delete Unnamed column which was created during merge\n",
    "data=data.drop('Unnamed: 0',1)"
   ]
  },
  {
   "cell_type": "code",
   "execution_count": 61,
   "metadata": {
    "collapsed": true
   },
   "outputs": [],
   "source": [
    "#delete song_id_y column which was created during merge\n",
    "data=data.drop('song_id_y',1)"
   ]
  },
  {
   "cell_type": "code",
   "execution_count": 62,
   "metadata": {
    "collapsed": true
   },
   "outputs": [],
   "source": [
    "#rename song_id column (got changed during merges)\n",
    "data=data.rename(columns = {'song_id_x':'song_id'})"
   ]
  },
  {
   "cell_type": "code",
   "execution_count": 63,
   "metadata": {
    "collapsed": true
   },
   "outputs": [],
   "source": [
    "#substitute all NaN with 0\n",
    "data = data.fillna(0)"
   ]
  },
  {
   "cell_type": "code",
   "execution_count": 64,
   "metadata": {
    "collapsed": false
   },
   "outputs": [
    {
     "name": "stdout",
     "output_type": "stream",
     "text": [
      "<class 'pandas.core.frame.DataFrame'>\n",
      "Int64Index: 1760 entries, 0 to 1759\n",
      "Data columns (total 23 columns):\n",
      "song_id                 1760 non-null object\n",
      "play_count_sum          1760 non-null int64\n",
      "user_id_count           1760 non-null int64\n",
      "track_id                1760 non-null object\n",
      "genre_id                1760 non-null object\n",
      "artist_familiarty       1760 non-null float64\n",
      "artist_hotness          1760 non-null float64\n",
      "artist_id               1760 non-null object\n",
      "artist_latitude         1760 non-null float64\n",
      "artist_location         1760 non-null object\n",
      "artist_longitude        1760 non-null float64\n",
      "artist_names            1760 non-null object\n",
      "song_durations          1760 non-null float64\n",
      "song_hotness            1760 non-null float64\n",
      "song_release_years      1760 non-null int64\n",
      "song_titles             1760 non-null object\n",
      "song_bars               1760 non-null object\n",
      "song_beats              1760 non-null object\n",
      "song_keys               1760 non-null int64\n",
      "song_modes              1760 non-null int64\n",
      "song_tatum              1760 non-null object\n",
      "song_tempo              1760 non-null float64\n",
      "song_time_signatures    1760 non-null int64\n",
      "dtypes: float64(7), int64(6), object(10)\n",
      "memory usage: 330.0+ KB\n"
     ]
    }
   ],
   "source": [
    "data.info()"
   ]
  },
  {
   "cell_type": "code",
   "execution_count": 65,
   "metadata": {
    "collapsed": false
   },
   "outputs": [
    {
     "data": {
      "text/html": [
       "<div>\n",
       "<table border=\"1\" class=\"dataframe\">\n",
       "  <thead>\n",
       "    <tr style=\"text-align: right;\">\n",
       "      <th></th>\n",
       "      <th>play_count_sum</th>\n",
       "      <th>user_id_count</th>\n",
       "      <th>artist_familiarty</th>\n",
       "      <th>artist_hotness</th>\n",
       "      <th>artist_latitude</th>\n",
       "      <th>artist_longitude</th>\n",
       "      <th>song_durations</th>\n",
       "      <th>song_hotness</th>\n",
       "      <th>song_release_years</th>\n",
       "      <th>song_keys</th>\n",
       "      <th>song_modes</th>\n",
       "      <th>song_tempo</th>\n",
       "      <th>song_time_signatures</th>\n",
       "    </tr>\n",
       "  </thead>\n",
       "  <tbody>\n",
       "    <tr>\n",
       "      <th>count</th>\n",
       "      <td>1760.000000</td>\n",
       "      <td>1760.000000</td>\n",
       "      <td>1760.000000</td>\n",
       "      <td>1760.000000</td>\n",
       "      <td>1760.000000</td>\n",
       "      <td>1760.000000</td>\n",
       "      <td>1760.000000</td>\n",
       "      <td>1760.000000</td>\n",
       "      <td>1760</td>\n",
       "      <td>1760.000000</td>\n",
       "      <td>1760.000000</td>\n",
       "      <td>1760.000000</td>\n",
       "      <td>1760.000000</td>\n",
       "    </tr>\n",
       "    <tr>\n",
       "      <th>mean</th>\n",
       "      <td>462.388068</td>\n",
       "      <td>182.150000</td>\n",
       "      <td>0.650936</td>\n",
       "      <td>0.453090</td>\n",
       "      <td>14.555694</td>\n",
       "      <td>-26.317367</td>\n",
       "      <td>241.905996</td>\n",
       "      <td>0.401018</td>\n",
       "      <td>2005</td>\n",
       "      <td>5.376136</td>\n",
       "      <td>0.672159</td>\n",
       "      <td>125.041325</td>\n",
       "      <td>3.636932</td>\n",
       "    </tr>\n",
       "    <tr>\n",
       "      <th>std</th>\n",
       "      <td>1909.025630</td>\n",
       "      <td>724.219197</td>\n",
       "      <td>0.131488</td>\n",
       "      <td>0.117018</td>\n",
       "      <td>20.844045</td>\n",
       "      <td>45.906739</td>\n",
       "      <td>100.514858</td>\n",
       "      <td>0.262014</td>\n",
       "      <td>0</td>\n",
       "      <td>3.576739</td>\n",
       "      <td>0.469560</td>\n",
       "      <td>35.464805</td>\n",
       "      <td>1.185232</td>\n",
       "    </tr>\n",
       "    <tr>\n",
       "      <th>min</th>\n",
       "      <td>1.000000</td>\n",
       "      <td>1.000000</td>\n",
       "      <td>0.000000</td>\n",
       "      <td>0.000000</td>\n",
       "      <td>-41.280540</td>\n",
       "      <td>-123.207900</td>\n",
       "      <td>7.130980</td>\n",
       "      <td>0.000000</td>\n",
       "      <td>2005</td>\n",
       "      <td>0.000000</td>\n",
       "      <td>0.000000</td>\n",
       "      <td>0.000000</td>\n",
       "      <td>0.000000</td>\n",
       "    </tr>\n",
       "    <tr>\n",
       "      <th>25%</th>\n",
       "      <td>10.000000</td>\n",
       "      <td>6.000000</td>\n",
       "      <td>0.558481</td>\n",
       "      <td>0.374530</td>\n",
       "      <td>0.000000</td>\n",
       "      <td>-74.007120</td>\n",
       "      <td>187.388935</td>\n",
       "      <td>0.215080</td>\n",
       "      <td>2005</td>\n",
       "      <td>2.000000</td>\n",
       "      <td>0.000000</td>\n",
       "      <td>98.524250</td>\n",
       "      <td>4.000000</td>\n",
       "    </tr>\n",
       "    <tr>\n",
       "      <th>50%</th>\n",
       "      <td>44.000000</td>\n",
       "      <td>18.000000</td>\n",
       "      <td>0.640635</td>\n",
       "      <td>0.435576</td>\n",
       "      <td>0.000000</td>\n",
       "      <td>0.000000</td>\n",
       "      <td>231.548930</td>\n",
       "      <td>0.463669</td>\n",
       "      <td>2005</td>\n",
       "      <td>5.000000</td>\n",
       "      <td>1.000000</td>\n",
       "      <td>121.890000</td>\n",
       "      <td>4.000000</td>\n",
       "    </tr>\n",
       "    <tr>\n",
       "      <th>75%</th>\n",
       "      <td>209.250000</td>\n",
       "      <td>83.250000</td>\n",
       "      <td>0.747557</td>\n",
       "      <td>0.519965</td>\n",
       "      <td>35.222500</td>\n",
       "      <td>0.000000</td>\n",
       "      <td>280.090972</td>\n",
       "      <td>0.606810</td>\n",
       "      <td>2005</td>\n",
       "      <td>9.000000</td>\n",
       "      <td>1.000000</td>\n",
       "      <td>146.237500</td>\n",
       "      <td>4.000000</td>\n",
       "    </tr>\n",
       "    <tr>\n",
       "      <th>max</th>\n",
       "      <td>40739.000000</td>\n",
       "      <td>14729.000000</td>\n",
       "      <td>1.000000</td>\n",
       "      <td>1.082503</td>\n",
       "      <td>69.651020</td>\n",
       "      <td>174.767140</td>\n",
       "      <td>1204.296690</td>\n",
       "      <td>0.984347</td>\n",
       "      <td>2005</td>\n",
       "      <td>11.000000</td>\n",
       "      <td>1.000000</td>\n",
       "      <td>253.357000</td>\n",
       "      <td>7.000000</td>\n",
       "    </tr>\n",
       "  </tbody>\n",
       "</table>\n",
       "</div>"
      ],
      "text/plain": [
       "       play_count_sum  user_id_count  artist_familiarty  artist_hotness  \\\n",
       "count     1760.000000    1760.000000        1760.000000     1760.000000   \n",
       "mean       462.388068     182.150000           0.650936        0.453090   \n",
       "std       1909.025630     724.219197           0.131488        0.117018   \n",
       "min          1.000000       1.000000           0.000000        0.000000   \n",
       "25%         10.000000       6.000000           0.558481        0.374530   \n",
       "50%         44.000000      18.000000           0.640635        0.435576   \n",
       "75%        209.250000      83.250000           0.747557        0.519965   \n",
       "max      40739.000000   14729.000000           1.000000        1.082503   \n",
       "\n",
       "       artist_latitude  artist_longitude  song_durations  song_hotness  \\\n",
       "count      1760.000000       1760.000000     1760.000000   1760.000000   \n",
       "mean         14.555694        -26.317367      241.905996      0.401018   \n",
       "std          20.844045         45.906739      100.514858      0.262014   \n",
       "min         -41.280540       -123.207900        7.130980      0.000000   \n",
       "25%           0.000000        -74.007120      187.388935      0.215080   \n",
       "50%           0.000000          0.000000      231.548930      0.463669   \n",
       "75%          35.222500          0.000000      280.090972      0.606810   \n",
       "max          69.651020        174.767140     1204.296690      0.984347   \n",
       "\n",
       "       song_release_years    song_keys   song_modes   song_tempo  \\\n",
       "count                1760  1760.000000  1760.000000  1760.000000   \n",
       "mean                 2005     5.376136     0.672159   125.041325   \n",
       "std                     0     3.576739     0.469560    35.464805   \n",
       "min                  2005     0.000000     0.000000     0.000000   \n",
       "25%                  2005     2.000000     0.000000    98.524250   \n",
       "50%                  2005     5.000000     1.000000   121.890000   \n",
       "75%                  2005     9.000000     1.000000   146.237500   \n",
       "max                  2005    11.000000     1.000000   253.357000   \n",
       "\n",
       "       song_time_signatures  \n",
       "count           1760.000000  \n",
       "mean               3.636932  \n",
       "std                1.185232  \n",
       "min                0.000000  \n",
       "25%                4.000000  \n",
       "50%                4.000000  \n",
       "75%                4.000000  \n",
       "max                7.000000  "
      ]
     },
     "execution_count": 65,
     "metadata": {},
     "output_type": "execute_result"
    }
   ],
   "source": [
    "data.describe()"
   ]
  },
  {
   "cell_type": "code",
   "execution_count": 66,
   "metadata": {
    "collapsed": false
   },
   "outputs": [
    {
     "data": {
      "text/html": [
       "<div>\n",
       "<table border=\"1\" class=\"dataframe\">\n",
       "  <thead>\n",
       "    <tr style=\"text-align: right;\">\n",
       "      <th></th>\n",
       "      <th>song_id</th>\n",
       "      <th>play_count_sum</th>\n",
       "      <th>user_id_count</th>\n",
       "      <th>track_id</th>\n",
       "      <th>genre_id</th>\n",
       "      <th>artist_familiarty</th>\n",
       "      <th>artist_hotness</th>\n",
       "      <th>artist_id</th>\n",
       "      <th>artist_latitude</th>\n",
       "      <th>artist_location</th>\n",
       "      <th>...</th>\n",
       "      <th>song_hotness</th>\n",
       "      <th>song_release_years</th>\n",
       "      <th>song_titles</th>\n",
       "      <th>song_bars</th>\n",
       "      <th>song_beats</th>\n",
       "      <th>song_keys</th>\n",
       "      <th>song_modes</th>\n",
       "      <th>song_tatum</th>\n",
       "      <th>song_tempo</th>\n",
       "      <th>song_time_signatures</th>\n",
       "    </tr>\n",
       "  </thead>\n",
       "  <tbody>\n",
       "    <tr>\n",
       "      <th>0</th>\n",
       "      <td>SOAAEHR12A6D4FB060</td>\n",
       "      <td>957</td>\n",
       "      <td>554</td>\n",
       "      <td>TRAYPFH128E07937C3</td>\n",
       "      <td>Pop_Rock</td>\n",
       "      <td>0.806359</td>\n",
       "      <td>0.545789</td>\n",
       "      <td>AR5N8VN1187FB37A4E</td>\n",
       "      <td>47.60356</td>\n",
       "      <td>Seattle</td>\n",
       "      <td>...</td>\n",
       "      <td>0.654068</td>\n",
       "      <td>2005</td>\n",
       "      <td>Slaves &amp; Bulldozers</td>\n",
       "      <td>[   0.85125    2.69826    4.53846    6.3912   ...</td>\n",
       "      <td>[  3.88730000e-01   8.51250000e-01   1.3130100...</td>\n",
       "      <td>0</td>\n",
       "      <td>1</td>\n",
       "      <td>[  1.56890000e-01   3.88730000e-01   6.2056000...</td>\n",
       "      <td>131.272</td>\n",
       "      <td>4</td>\n",
       "    </tr>\n",
       "    <tr>\n",
       "      <th>1</th>\n",
       "      <td>SOAAFUV12AB018831D</td>\n",
       "      <td>10</td>\n",
       "      <td>6</td>\n",
       "      <td>TRAMPCN12903CC4E5B</td>\n",
       "      <td>Reggae</td>\n",
       "      <td>0.623502</td>\n",
       "      <td>0.422380</td>\n",
       "      <td>AR5ZGC11187FB417A3</td>\n",
       "      <td>37.27188</td>\n",
       "      <td>California</td>\n",
       "      <td>...</td>\n",
       "      <td>0.000000</td>\n",
       "      <td>2005</td>\n",
       "      <td>Where Do The Children Play? (LP Version)</td>\n",
       "      <td>[   0.72088    2.49211    4.094      5.69368  ...</td>\n",
       "      <td>[   0.24835    0.72088    1.19209    1.66199  ...</td>\n",
       "      <td>2</td>\n",
       "      <td>1</td>\n",
       "      <td>[   0.24835    0.48462    0.72088 ...,  213.08...</td>\n",
       "      <td>149.169</td>\n",
       "      <td>4</td>\n",
       "    </tr>\n",
       "    <tr>\n",
       "      <th>2</th>\n",
       "      <td>SOABLAF12AB018E1D9</td>\n",
       "      <td>1980</td>\n",
       "      <td>748</td>\n",
       "      <td>TRABUMO12903CBE25F</td>\n",
       "      <td>Pop_Rock</td>\n",
       "      <td>0.796337</td>\n",
       "      <td>0.582922</td>\n",
       "      <td>ARSW5F51187FB4CFC9</td>\n",
       "      <td>0.00000</td>\n",
       "      <td>Seattle, WA</td>\n",
       "      <td>...</td>\n",
       "      <td>0.824433</td>\n",
       "      <td>2005</td>\n",
       "      <td>Lesson Learned</td>\n",
       "      <td>[   0.92741    3.15716    5.38085    7.60259  ...</td>\n",
       "      <td>[   0.3692     0.92741    1.48952    2.04734  ...</td>\n",
       "      <td>10</td>\n",
       "      <td>0</td>\n",
       "      <td>[  8.94000000e-02   3.69200000e-01   6.4900000...</td>\n",
       "      <td>107.845</td>\n",
       "      <td>4</td>\n",
       "    </tr>\n",
       "    <tr>\n",
       "      <th>3</th>\n",
       "      <td>SOABVPU12AB018AA22</td>\n",
       "      <td>1</td>\n",
       "      <td>1</td>\n",
       "      <td>TRAYPXP12903CD8D45</td>\n",
       "      <td>Reggae</td>\n",
       "      <td>0.583443</td>\n",
       "      <td>0.385788</td>\n",
       "      <td>ARZZRK91187B9A5CA5</td>\n",
       "      <td>18.01571</td>\n",
       "      <td>Kingston, Jamaica</td>\n",
       "      <td>...</td>\n",
       "      <td>0.299877</td>\n",
       "      <td>2005</td>\n",
       "      <td>Conquer Me</td>\n",
       "      <td>[   1.08342    2.62899    4.18827    5.75054  ...</td>\n",
       "      <td>[   0.28773    0.69392    1.08342    1.46969  ...</td>\n",
       "      <td>8</td>\n",
       "      <td>1</td>\n",
       "      <td>[  8.56200000e-02   2.87730000e-01   4.9082000...</td>\n",
       "      <td>151.498</td>\n",
       "      <td>4</td>\n",
       "    </tr>\n",
       "    <tr>\n",
       "      <th>4</th>\n",
       "      <td>SOACEDS12A6701EAAA</td>\n",
       "      <td>230</td>\n",
       "      <td>80</td>\n",
       "      <td>TRASNOT128E0791785</td>\n",
       "      <td>Pop_Rock</td>\n",
       "      <td>0.712745</td>\n",
       "      <td>0.470700</td>\n",
       "      <td>ARP96FM1187B9AEA77</td>\n",
       "      <td>44.97903</td>\n",
       "      <td>Minneapolis, MN</td>\n",
       "      <td>...</td>\n",
       "      <td>0.612055</td>\n",
       "      <td>2005</td>\n",
       "      <td>Gone To The Movies</td>\n",
       "      <td>[   0.67473    3.1441     5.58583    8.0254   ...</td>\n",
       "      <td>[   0.67473    1.29676    1.91538    2.53247  ...</td>\n",
       "      <td>0</td>\n",
       "      <td>1</td>\n",
       "      <td>[   0.36436    0.67473    0.98823    1.29676  ...</td>\n",
       "      <td>97.995</td>\n",
       "      <td>4</td>\n",
       "    </tr>\n",
       "  </tbody>\n",
       "</table>\n",
       "<p>5 rows × 23 columns</p>\n",
       "</div>"
      ],
      "text/plain": [
       "              song_id  play_count_sum  user_id_count            track_id  \\\n",
       "0  SOAAEHR12A6D4FB060             957            554  TRAYPFH128E07937C3   \n",
       "1  SOAAFUV12AB018831D              10              6  TRAMPCN12903CC4E5B   \n",
       "2  SOABLAF12AB018E1D9            1980            748  TRABUMO12903CBE25F   \n",
       "3  SOABVPU12AB018AA22               1              1  TRAYPXP12903CD8D45   \n",
       "4  SOACEDS12A6701EAAA             230             80  TRASNOT128E0791785   \n",
       "\n",
       "   genre_id  artist_familiarty  artist_hotness           artist_id  \\\n",
       "0  Pop_Rock           0.806359        0.545789  AR5N8VN1187FB37A4E   \n",
       "1    Reggae           0.623502        0.422380  AR5ZGC11187FB417A3   \n",
       "2  Pop_Rock           0.796337        0.582922  ARSW5F51187FB4CFC9   \n",
       "3    Reggae           0.583443        0.385788  ARZZRK91187B9A5CA5   \n",
       "4  Pop_Rock           0.712745        0.470700  ARP96FM1187B9AEA77   \n",
       "\n",
       "   artist_latitude    artist_location          ...           song_hotness  \\\n",
       "0         47.60356            Seattle          ...               0.654068   \n",
       "1         37.27188         California          ...               0.000000   \n",
       "2          0.00000        Seattle, WA          ...               0.824433   \n",
       "3         18.01571  Kingston, Jamaica          ...               0.299877   \n",
       "4         44.97903    Minneapolis, MN          ...               0.612055   \n",
       "\n",
       "  song_release_years                               song_titles  \\\n",
       "0               2005                       Slaves & Bulldozers   \n",
       "1               2005  Where Do The Children Play? (LP Version)   \n",
       "2               2005                            Lesson Learned   \n",
       "3               2005                                Conquer Me   \n",
       "4               2005                        Gone To The Movies   \n",
       "\n",
       "                                           song_bars  \\\n",
       "0  [   0.85125    2.69826    4.53846    6.3912   ...   \n",
       "1  [   0.72088    2.49211    4.094      5.69368  ...   \n",
       "2  [   0.92741    3.15716    5.38085    7.60259  ...   \n",
       "3  [   1.08342    2.62899    4.18827    5.75054  ...   \n",
       "4  [   0.67473    3.1441     5.58583    8.0254   ...   \n",
       "\n",
       "                                          song_beats song_keys song_modes  \\\n",
       "0  [  3.88730000e-01   8.51250000e-01   1.3130100...         0          1   \n",
       "1  [   0.24835    0.72088    1.19209    1.66199  ...         2          1   \n",
       "2  [   0.3692     0.92741    1.48952    2.04734  ...        10          0   \n",
       "3  [   0.28773    0.69392    1.08342    1.46969  ...         8          1   \n",
       "4  [   0.67473    1.29676    1.91538    2.53247  ...         0          1   \n",
       "\n",
       "                                          song_tatum  song_tempo  \\\n",
       "0  [  1.56890000e-01   3.88730000e-01   6.2056000...     131.272   \n",
       "1  [   0.24835    0.48462    0.72088 ...,  213.08...     149.169   \n",
       "2  [  8.94000000e-02   3.69200000e-01   6.4900000...     107.845   \n",
       "3  [  8.56200000e-02   2.87730000e-01   4.9082000...     151.498   \n",
       "4  [   0.36436    0.67473    0.98823    1.29676  ...      97.995   \n",
       "\n",
       "   song_time_signatures  \n",
       "0                     4  \n",
       "1                     4  \n",
       "2                     4  \n",
       "3                     4  \n",
       "4                     4  \n",
       "\n",
       "[5 rows x 23 columns]"
      ]
     },
     "execution_count": 66,
     "metadata": {},
     "output_type": "execute_result"
    }
   ],
   "source": [
    "data.head()"
   ]
  },
  {
   "cell_type": "code",
   "execution_count": 78,
   "metadata": {
    "collapsed": true
   },
   "outputs": [],
   "source": [
    "#add a column with 1, so we can count songs\n",
    "data['count'] = 1"
   ]
  },
  {
   "cell_type": "markdown",
   "metadata": {},
   "source": [
    "Let's' missing song hotness replace with median\n",
    "first we need to see how hotness is distributed, so we can decided between mean or median imputation"
   ]
  },
  {
   "cell_type": "code",
   "execution_count": 79,
   "metadata": {
    "collapsed": true
   },
   "outputs": [],
   "source": [
    "from matplotlib import pyplot as plt  \n",
    "%matplotlib inline \n",
    "import seaborn as sb"
   ]
  },
  {
   "cell_type": "code",
   "execution_count": 80,
   "metadata": {
    "collapsed": false
   },
   "outputs": [
    {
     "data": {
      "image/png": "[encoded data removed]",
      "text/plain": [
       "<matplotlib.figure.Figure at 0x1133d8e90>"
      ]
     },
     "metadata": {},
     "output_type": "display_data"
    }
   ],
   "source": [
    "f = data.song_hotness.hist(bins=30)"
   ]
  },
  {
   "cell_type": "code",
   "execution_count": 81,
   "metadata": {
    "collapsed": false
   },
   "outputs": [
    {
     "data": {
      "image/png": "[encoded data removed]",
      "text/plain": [
       "<matplotlib.figure.Figure at 0x11bdcd110>"
      ]
     },
     "metadata": {},
     "output_type": "display_data"
    }
   ],
   "source": [
    "f = sb.boxplot(data.song_hotness)"
   ]
  },
  {
   "cell_type": "code",
   "execution_count": 82,
   "metadata": {
    "collapsed": true
   },
   "outputs": [],
   "source": [
    "median_song_hotness = data['song_hotness'].dropna().median()\n",
    "mean_song_hotness = data['song_hotness'].dropna().mean()"
   ]
  },
  {
   "cell_type": "code",
   "execution_count": 83,
   "metadata": {
    "collapsed": true
   },
   "outputs": [],
   "source": [
    "if len(data.song_hotness[ data.song_hotness.isnull() ]) > 0:\n",
    "    data.song_hotness.loc[ (data.song_hotness.isnull()), 'Age'] = median_song_hotness"
   ]
  },
  {
   "cell_type": "markdown",
   "metadata": {},
   "source": [
    "We will do the same for artist hotness and artist familiarity, since they also have 0 values"
   ]
  },
  {
   "cell_type": "code",
   "execution_count": 84,
   "metadata": {
    "collapsed": false
   },
   "outputs": [
    {
     "data": {
      "image/png": "[encoded data removed]",
      "text/plain": [
       "<matplotlib.figure.Figure at 0x108aa51d0>"
      ]
     },
     "metadata": {},
     "output_type": "display_data"
    }
   ],
   "source": [
    "f = data.artist_hotness.hist(bins=30)"
   ]
  },
  {
   "cell_type": "code",
   "execution_count": 85,
   "metadata": {
    "collapsed": false
   },
   "outputs": [
    {
     "data": {
      "image/png": "[encoded data removed]",
      "text/plain": [
       "<matplotlib.figure.Figure at 0x108b89dd0>"
      ]
     },
     "metadata": {},
     "output_type": "display_data"
    }
   ],
   "source": [
    "f = data.artist_familiarty.hist(bins=30)"
   ]
  },
  {
   "cell_type": "code",
   "execution_count": 86,
   "metadata": {
    "collapsed": true
   },
   "outputs": [],
   "source": [
    "mean_artist_hotness = data['artist_hotness'].dropna().mean()"
   ]
  },
  {
   "cell_type": "code",
   "execution_count": 87,
   "metadata": {
    "collapsed": true
   },
   "outputs": [],
   "source": [
    "if len(data.artist_hotness[ data.artist_hotness.isnull() ]) > 0:\n",
    "    data.artist_hotness.loc[ (data.artist_hotness.isnull()), 'Age'] = mean_artist_hotness"
   ]
  },
  {
   "cell_type": "code",
   "execution_count": 88,
   "metadata": {
    "collapsed": true
   },
   "outputs": [],
   "source": [
    "mean_artist_familiarty = data['artist_familiarty'].dropna().mean()"
   ]
  },
  {
   "cell_type": "code",
   "execution_count": 89,
   "metadata": {
    "collapsed": true
   },
   "outputs": [],
   "source": [
    "if len(data.artist_familiarty[ data.artist_familiarty.isnull() ]) > 0:\n",
    "    data.artist_familiarty.loc[ (data.artist_familiarty.isnull()), 'Age'] = mean_artist_familiarty"
   ]
  },
  {
   "cell_type": "markdown",
   "metadata": {},
   "source": [
    "Next, we will substitute missing years with the most common year"
   ]
  },
  {
   "cell_type": "code",
   "execution_count": 92,
   "metadata": {
    "collapsed": false
   },
   "outputs": [],
   "source": [
    "if len(data.song_release_years[ data.song_release_years.isnull() ]) > 0:\n",
    "    data.song_release_years[ data.song_release_years.isnull() ] = data.song_release_years.dropna().mode().values\n",
    "Years = list(enumerate(np.unique(data['song_release_years'])))\n",
    "Years_dict = { name : i for i, name in Years }\n",
    "data.song_release_years = data.song_release_years.map( lambda x: Years_dict[x]).astype(int)"
   ]
  },
  {
   "cell_type": "markdown",
   "metadata": {},
   "source": [
    "## add features"
   ]
  },
  {
   "cell_type": "code",
   "execution_count": 70,
   "metadata": {
    "collapsed": false
   },
   "outputs": [
    {
     "data": {
      "text/plain": [
       "0    [   0.85125    2.69826    4.53846    6.3912   ...\n",
       "1    [   0.72088    2.49211    4.094      5.69368  ...\n",
       "2    [   0.92741    3.15716    5.38085    7.60259  ...\n",
       "3    [   1.08342    2.62899    4.18827    5.75054  ...\n",
       "4    [   0.67473    3.1441     5.58583    8.0254   ...\n",
       "Name: song_bars, dtype: object"
      ]
     },
     "execution_count": 70,
     "metadata": {},
     "output_type": "execute_result"
    }
   ],
   "source": [
    "#song bars actually consist of lists\n",
    "data['song_bars'].head()"
   ]
  },
  {
   "cell_type": "code",
   "execution_count": 73,
   "metadata": {
    "collapsed": false
   },
   "outputs": [],
   "source": [
    "#number of beats\n",
    "data['beats_number'] = [len(x) for x in data.song_beats]"
   ]
  },
  {
   "cell_type": "code",
   "execution_count": 74,
   "metadata": {
    "collapsed": true
   },
   "outputs": [],
   "source": [
    "#number of bars\n",
    "data['bars_number'] = [len(x) for x in data.song_bars]"
   ]
  },
  {
   "cell_type": "code",
   "execution_count": 75,
   "metadata": {
    "collapsed": true
   },
   "outputs": [],
   "source": [
    "#number of bars\n",
    "data['tatum_number'] = [len(x) for x in data.song_tatum]"
   ]
  },
  {
   "cell_type": "markdown",
   "metadata": {},
   "source": [
    "The distribution of play_count_sum and user_id_count is very wide, therefore we will add a log column for each "
   ]
  },
  {
   "cell_type": "code",
   "execution_count": 76,
   "metadata": {
    "collapsed": true
   },
   "outputs": [],
   "source": [
    "data['log_play_count_sum'] = np.log(data[['play_count_sum']])"
   ]
  },
  {
   "cell_type": "code",
   "execution_count": 77,
   "metadata": {
    "collapsed": true
   },
   "outputs": [],
   "source": [
    "data['log_user_id_count'] = np.log(data[['user_id_count']])"
   ]
  },
  {
   "cell_type": "code",
   "execution_count": 93,
   "metadata": {
    "collapsed": false
   },
   "outputs": [
    {
     "data": {
      "text/html": [
       "<div>\n",
       "<table border=\"1\" class=\"dataframe\">\n",
       "  <thead>\n",
       "    <tr style=\"text-align: right;\">\n",
       "      <th></th>\n",
       "      <th>song_id</th>\n",
       "      <th>play_count_sum</th>\n",
       "      <th>user_id_count</th>\n",
       "      <th>track_id</th>\n",
       "      <th>genre_id</th>\n",
       "      <th>artist_familiarty</th>\n",
       "      <th>artist_hotness</th>\n",
       "      <th>artist_id</th>\n",
       "      <th>artist_latitude</th>\n",
       "      <th>artist_location</th>\n",
       "      <th>...</th>\n",
       "      <th>song_modes</th>\n",
       "      <th>song_tatum</th>\n",
       "      <th>song_tempo</th>\n",
       "      <th>song_time_signatures</th>\n",
       "      <th>count</th>\n",
       "      <th>beats_number</th>\n",
       "      <th>bars_number</th>\n",
       "      <th>tatum_number</th>\n",
       "      <th>log_play_count_sum</th>\n",
       "      <th>log_user_id_count</th>\n",
       "    </tr>\n",
       "  </thead>\n",
       "  <tbody>\n",
       "    <tr>\n",
       "      <th>0</th>\n",
       "      <td>SOAAEHR12A6D4FB060</td>\n",
       "      <td>957</td>\n",
       "      <td>554</td>\n",
       "      <td>TRAYPFH128E07937C3</td>\n",
       "      <td>Pop_Rock</td>\n",
       "      <td>0.806359</td>\n",
       "      <td>0.545789</td>\n",
       "      <td>AR5N8VN1187FB37A4E</td>\n",
       "      <td>47.60356</td>\n",
       "      <td>Seattle</td>\n",
       "      <td>...</td>\n",
       "      <td>1</td>\n",
       "      <td>[  1.56890000e-01   3.88730000e-01   6.2056000...</td>\n",
       "      <td>131.272</td>\n",
       "      <td>4</td>\n",
       "      <td>1</td>\n",
       "      <td>15715</td>\n",
       "      <td>2532</td>\n",
       "      <td>109</td>\n",
       "      <td>6.863803</td>\n",
       "      <td>6.317165</td>\n",
       "    </tr>\n",
       "    <tr>\n",
       "      <th>1</th>\n",
       "      <td>SOAAFUV12AB018831D</td>\n",
       "      <td>10</td>\n",
       "      <td>6</td>\n",
       "      <td>TRAMPCN12903CC4E5B</td>\n",
       "      <td>Reggae</td>\n",
       "      <td>0.623502</td>\n",
       "      <td>0.422380</td>\n",
       "      <td>AR5ZGC11187FB417A3</td>\n",
       "      <td>37.27188</td>\n",
       "      <td>California</td>\n",
       "      <td>...</td>\n",
       "      <td>1</td>\n",
       "      <td>[   0.24835    0.48462    0.72088 ...,  213.08...</td>\n",
       "      <td>149.169</td>\n",
       "      <td>4</td>\n",
       "      <td>1</td>\n",
       "      <td>5912</td>\n",
       "      <td>1474</td>\n",
       "      <td>72</td>\n",
       "      <td>2.302585</td>\n",
       "      <td>1.791759</td>\n",
       "    </tr>\n",
       "    <tr>\n",
       "      <th>2</th>\n",
       "      <td>SOABLAF12AB018E1D9</td>\n",
       "      <td>1980</td>\n",
       "      <td>748</td>\n",
       "      <td>TRABUMO12903CBE25F</td>\n",
       "      <td>Pop_Rock</td>\n",
       "      <td>0.796337</td>\n",
       "      <td>0.582922</td>\n",
       "      <td>ARSW5F51187FB4CFC9</td>\n",
       "      <td>0.00000</td>\n",
       "      <td>Seattle, WA</td>\n",
       "      <td>...</td>\n",
       "      <td>0</td>\n",
       "      <td>[  8.94000000e-02   3.69200000e-01   6.4900000...</td>\n",
       "      <td>107.845</td>\n",
       "      <td>4</td>\n",
       "      <td>1</td>\n",
       "      <td>5036</td>\n",
       "      <td>1250</td>\n",
       "      <td>15612</td>\n",
       "      <td>7.590852</td>\n",
       "      <td>6.617403</td>\n",
       "    </tr>\n",
       "    <tr>\n",
       "      <th>3</th>\n",
       "      <td>SOABVPU12AB018AA22</td>\n",
       "      <td>1</td>\n",
       "      <td>1</td>\n",
       "      <td>TRAYPXP12903CD8D45</td>\n",
       "      <td>Reggae</td>\n",
       "      <td>0.583443</td>\n",
       "      <td>0.385788</td>\n",
       "      <td>ARZZRK91187B9A5CA5</td>\n",
       "      <td>18.01571</td>\n",
       "      <td>Kingston, Jamaica</td>\n",
       "      <td>...</td>\n",
       "      <td>1</td>\n",
       "      <td>[  8.56200000e-02   2.87730000e-01   4.9082000...</td>\n",
       "      <td>151.498</td>\n",
       "      <td>4</td>\n",
       "      <td>1</td>\n",
       "      <td>5005</td>\n",
       "      <td>1240</td>\n",
       "      <td>15508</td>\n",
       "      <td>0.000000</td>\n",
       "      <td>0.000000</td>\n",
       "    </tr>\n",
       "    <tr>\n",
       "      <th>4</th>\n",
       "      <td>SOACEDS12A6701EAAA</td>\n",
       "      <td>230</td>\n",
       "      <td>80</td>\n",
       "      <td>TRASNOT128E0791785</td>\n",
       "      <td>Pop_Rock</td>\n",
       "      <td>0.712745</td>\n",
       "      <td>0.470700</td>\n",
       "      <td>ARP96FM1187B9AEA77</td>\n",
       "      <td>44.97903</td>\n",
       "      <td>Minneapolis, MN</td>\n",
       "      <td>...</td>\n",
       "      <td>1</td>\n",
       "      <td>[   0.36436    0.67473    0.98823    1.29676  ...</td>\n",
       "      <td>97.995</td>\n",
       "      <td>4</td>\n",
       "      <td>1</td>\n",
       "      <td>4092</td>\n",
       "      <td>1014</td>\n",
       "      <td>8191</td>\n",
       "      <td>5.438079</td>\n",
       "      <td>4.382027</td>\n",
       "    </tr>\n",
       "  </tbody>\n",
       "</table>\n",
       "<p>5 rows × 29 columns</p>\n",
       "</div>"
      ],
      "text/plain": [
       "              song_id  play_count_sum  user_id_count            track_id  \\\n",
       "0  SOAAEHR12A6D4FB060             957            554  TRAYPFH128E07937C3   \n",
       "1  SOAAFUV12AB018831D              10              6  TRAMPCN12903CC4E5B   \n",
       "2  SOABLAF12AB018E1D9            1980            748  TRABUMO12903CBE25F   \n",
       "3  SOABVPU12AB018AA22               1              1  TRAYPXP12903CD8D45   \n",
       "4  SOACEDS12A6701EAAA             230             80  TRASNOT128E0791785   \n",
       "\n",
       "   genre_id  artist_familiarty  artist_hotness           artist_id  \\\n",
       "0  Pop_Rock           0.806359        0.545789  AR5N8VN1187FB37A4E   \n",
       "1    Reggae           0.623502        0.422380  AR5ZGC11187FB417A3   \n",
       "2  Pop_Rock           0.796337        0.582922  ARSW5F51187FB4CFC9   \n",
       "3    Reggae           0.583443        0.385788  ARZZRK91187B9A5CA5   \n",
       "4  Pop_Rock           0.712745        0.470700  ARP96FM1187B9AEA77   \n",
       "\n",
       "   artist_latitude    artist_location        ...          song_modes  \\\n",
       "0         47.60356            Seattle        ...                   1   \n",
       "1         37.27188         California        ...                   1   \n",
       "2          0.00000        Seattle, WA        ...                   0   \n",
       "3         18.01571  Kingston, Jamaica        ...                   1   \n",
       "4         44.97903    Minneapolis, MN        ...                   1   \n",
       "\n",
       "                                          song_tatum  song_tempo  \\\n",
       "0  [  1.56890000e-01   3.88730000e-01   6.2056000...     131.272   \n",
       "1  [   0.24835    0.48462    0.72088 ...,  213.08...     149.169   \n",
       "2  [  8.94000000e-02   3.69200000e-01   6.4900000...     107.845   \n",
       "3  [  8.56200000e-02   2.87730000e-01   4.9082000...     151.498   \n",
       "4  [   0.36436    0.67473    0.98823    1.29676  ...      97.995   \n",
       "\n",
       "   song_time_signatures  count beats_number bars_number tatum_number  \\\n",
       "0                     4      1        15715        2532          109   \n",
       "1                     4      1         5912        1474           72   \n",
       "2                     4      1         5036        1250        15612   \n",
       "3                     4      1         5005        1240        15508   \n",
       "4                     4      1         4092        1014         8191   \n",
       "\n",
       "   log_play_count_sum  log_user_id_count  \n",
       "0            6.863803           6.317165  \n",
       "1            2.302585           1.791759  \n",
       "2            7.590852           6.617403  \n",
       "3            0.000000           0.000000  \n",
       "4            5.438079           4.382027  \n",
       "\n",
       "[5 rows x 29 columns]"
      ]
     },
     "execution_count": 93,
     "metadata": {},
     "output_type": "execute_result"
    }
   ],
   "source": [
    "data.head()"
   ]
  },
  {
   "cell_type": "code",
   "execution_count": 94,
   "metadata": {
    "collapsed": false
   },
   "outputs": [
    {
     "name": "stdout",
     "output_type": "stream",
     "text": [
      "<class 'pandas.core.frame.DataFrame'>\n",
      "Int64Index: 1760 entries, 0 to 1759\n",
      "Data columns (total 29 columns):\n",
      "song_id                 1760 non-null object\n",
      "play_count_sum          1760 non-null int64\n",
      "user_id_count           1760 non-null int64\n",
      "track_id                1760 non-null object\n",
      "genre_id                1760 non-null object\n",
      "artist_familiarty       1760 non-null float64\n",
      "artist_hotness          1760 non-null float64\n",
      "artist_id               1760 non-null object\n",
      "artist_latitude         1760 non-null float64\n",
      "artist_location         1760 non-null object\n",
      "artist_longitude        1760 non-null float64\n",
      "artist_names            1760 non-null object\n",
      "song_durations          1760 non-null float64\n",
      "song_hotness            1760 non-null float64\n",
      "song_release_years      1760 non-null int64\n",
      "song_titles             1760 non-null object\n",
      "song_bars               1760 non-null object\n",
      "song_beats              1760 non-null object\n",
      "song_keys               1760 non-null int64\n",
      "song_modes              1760 non-null int64\n",
      "song_tatum              1760 non-null object\n",
      "song_tempo              1760 non-null float64\n",
      "song_time_signatures    1760 non-null int64\n",
      "count                   1760 non-null int64\n",
      "beats_number            1760 non-null int64\n",
      "bars_number             1760 non-null int64\n",
      "tatum_number            1760 non-null int64\n",
      "log_play_count_sum      1760 non-null float64\n",
      "log_user_id_count       1760 non-null float64\n",
      "dtypes: float64(9), int64(10), object(10)\n",
      "memory usage: 412.5+ KB\n"
     ]
    }
   ],
   "source": [
    "data.info()"
   ]
  },
  {
   "cell_type": "code",
   "execution_count": 95,
   "metadata": {
    "collapsed": false,
    "scrolled": true
   },
   "outputs": [
    {
     "data": {
      "text/html": [
       "<div>\n",
       "<table border=\"1\" class=\"dataframe\">\n",
       "  <thead>\n",
       "    <tr style=\"text-align: right;\">\n",
       "      <th></th>\n",
       "      <th>play_count_sum</th>\n",
       "      <th>user_id_count</th>\n",
       "      <th>artist_familiarty</th>\n",
       "      <th>artist_hotness</th>\n",
       "      <th>artist_latitude</th>\n",
       "      <th>artist_longitude</th>\n",
       "      <th>song_durations</th>\n",
       "      <th>song_hotness</th>\n",
       "      <th>song_release_years</th>\n",
       "      <th>song_keys</th>\n",
       "      <th>song_modes</th>\n",
       "      <th>song_tempo</th>\n",
       "      <th>song_time_signatures</th>\n",
       "      <th>count</th>\n",
       "      <th>beats_number</th>\n",
       "      <th>bars_number</th>\n",
       "      <th>tatum_number</th>\n",
       "      <th>log_play_count_sum</th>\n",
       "      <th>log_user_id_count</th>\n",
       "    </tr>\n",
       "  </thead>\n",
       "  <tbody>\n",
       "    <tr>\n",
       "      <th>count</th>\n",
       "      <td>1760.000000</td>\n",
       "      <td>1760.000000</td>\n",
       "      <td>1760.000000</td>\n",
       "      <td>1760.000000</td>\n",
       "      <td>1760.000000</td>\n",
       "      <td>1760.000000</td>\n",
       "      <td>1760.000000</td>\n",
       "      <td>1760.000000</td>\n",
       "      <td>1760</td>\n",
       "      <td>1760.000000</td>\n",
       "      <td>1760.000000</td>\n",
       "      <td>1760.000000</td>\n",
       "      <td>1760.000000</td>\n",
       "      <td>1760</td>\n",
       "      <td>1760.000000</td>\n",
       "      <td>1760.000000</td>\n",
       "      <td>1760.000000</td>\n",
       "      <td>1760.000000</td>\n",
       "      <td>1760.000000</td>\n",
       "    </tr>\n",
       "    <tr>\n",
       "      <th>mean</th>\n",
       "      <td>462.388068</td>\n",
       "      <td>182.150000</td>\n",
       "      <td>0.650936</td>\n",
       "      <td>0.453090</td>\n",
       "      <td>14.555694</td>\n",
       "      <td>-26.317367</td>\n",
       "      <td>241.905996</td>\n",
       "      <td>0.401018</td>\n",
       "      <td>0</td>\n",
       "      <td>5.376136</td>\n",
       "      <td>0.672159</td>\n",
       "      <td>125.041325</td>\n",
       "      <td>3.636932</td>\n",
       "      <td>1</td>\n",
       "      <td>6055.241477</td>\n",
       "      <td>1940.652273</td>\n",
       "      <td>4833.406818</td>\n",
       "      <td>3.877748</td>\n",
       "      <td>3.134512</td>\n",
       "    </tr>\n",
       "    <tr>\n",
       "      <th>std</th>\n",
       "      <td>1909.025630</td>\n",
       "      <td>724.219197</td>\n",
       "      <td>0.131488</td>\n",
       "      <td>0.117018</td>\n",
       "      <td>20.844045</td>\n",
       "      <td>45.906739</td>\n",
       "      <td>100.514858</td>\n",
       "      <td>0.262014</td>\n",
       "      <td>0</td>\n",
       "      <td>3.576739</td>\n",
       "      <td>0.469560</td>\n",
       "      <td>35.464805</td>\n",
       "      <td>1.185232</td>\n",
       "      <td>0</td>\n",
       "      <td>3378.891528</td>\n",
       "      <td>1788.931690</td>\n",
       "      <td>5690.317673</td>\n",
       "      <td>2.111355</td>\n",
       "      <td>1.933786</td>\n",
       "    </tr>\n",
       "    <tr>\n",
       "      <th>min</th>\n",
       "      <td>1.000000</td>\n",
       "      <td>1.000000</td>\n",
       "      <td>0.000000</td>\n",
       "      <td>0.000000</td>\n",
       "      <td>-41.280540</td>\n",
       "      <td>-123.207900</td>\n",
       "      <td>7.130980</td>\n",
       "      <td>0.000000</td>\n",
       "      <td>0</td>\n",
       "      <td>0.000000</td>\n",
       "      <td>0.000000</td>\n",
       "      <td>0.000000</td>\n",
       "      <td>0.000000</td>\n",
       "      <td>1</td>\n",
       "      <td>2.000000</td>\n",
       "      <td>2.000000</td>\n",
       "      <td>2.000000</td>\n",
       "      <td>0.000000</td>\n",
       "      <td>0.000000</td>\n",
       "    </tr>\n",
       "    <tr>\n",
       "      <th>25%</th>\n",
       "      <td>10.000000</td>\n",
       "      <td>6.000000</td>\n",
       "      <td>0.558481</td>\n",
       "      <td>0.374530</td>\n",
       "      <td>0.000000</td>\n",
       "      <td>-74.007120</td>\n",
       "      <td>187.388935</td>\n",
       "      <td>0.215080</td>\n",
       "      <td>0</td>\n",
       "      <td>2.000000</td>\n",
       "      <td>0.000000</td>\n",
       "      <td>98.524250</td>\n",
       "      <td>4.000000</td>\n",
       "      <td>1</td>\n",
       "      <td>3759.750000</td>\n",
       "      <td>1014.000000</td>\n",
       "      <td>109.000000</td>\n",
       "      <td>2.302585</td>\n",
       "      <td>1.791759</td>\n",
       "    </tr>\n",
       "    <tr>\n",
       "      <th>50%</th>\n",
       "      <td>44.000000</td>\n",
       "      <td>18.000000</td>\n",
       "      <td>0.640635</td>\n",
       "      <td>0.435576</td>\n",
       "      <td>0.000000</td>\n",
       "      <td>0.000000</td>\n",
       "      <td>231.548930</td>\n",
       "      <td>0.463669</td>\n",
       "      <td>0</td>\n",
       "      <td>5.000000</td>\n",
       "      <td>1.000000</td>\n",
       "      <td>121.890000</td>\n",
       "      <td>4.000000</td>\n",
       "      <td>1</td>\n",
       "      <td>5555.500000</td>\n",
       "      <td>1448.000000</td>\n",
       "      <td>109.000000</td>\n",
       "      <td>3.784190</td>\n",
       "      <td>2.890372</td>\n",
       "    </tr>\n",
       "    <tr>\n",
       "      <th>75%</th>\n",
       "      <td>209.250000</td>\n",
       "      <td>83.250000</td>\n",
       "      <td>0.747557</td>\n",
       "      <td>0.519965</td>\n",
       "      <td>35.222500</td>\n",
       "      <td>0.000000</td>\n",
       "      <td>280.090972</td>\n",
       "      <td>0.606810</td>\n",
       "      <td>0</td>\n",
       "      <td>9.000000</td>\n",
       "      <td>1.000000</td>\n",
       "      <td>146.237500</td>\n",
       "      <td>4.000000</td>\n",
       "      <td>1</td>\n",
       "      <td>7895.000000</td>\n",
       "      <td>2065.250000</td>\n",
       "      <td>9536.250000</td>\n",
       "      <td>5.343528</td>\n",
       "      <td>4.421835</td>\n",
       "    </tr>\n",
       "    <tr>\n",
       "      <th>max</th>\n",
       "      <td>40739.000000</td>\n",
       "      <td>14729.000000</td>\n",
       "      <td>1.000000</td>\n",
       "      <td>1.082503</td>\n",
       "      <td>69.651020</td>\n",
       "      <td>174.767140</td>\n",
       "      <td>1204.296690</td>\n",
       "      <td>0.984347</td>\n",
       "      <td>0</td>\n",
       "      <td>11.000000</td>\n",
       "      <td>1.000000</td>\n",
       "      <td>253.357000</td>\n",
       "      <td>7.000000</td>\n",
       "      <td>1</td>\n",
       "      <td>17181.000000</td>\n",
       "      <td>16284.000000</td>\n",
       "      <td>17233.000000</td>\n",
       "      <td>10.614941</td>\n",
       "      <td>9.597574</td>\n",
       "    </tr>\n",
       "  </tbody>\n",
       "</table>\n",
       "</div>"
      ],
      "text/plain": [
       "       play_count_sum  user_id_count  artist_familiarty  artist_hotness  \\\n",
       "count     1760.000000    1760.000000        1760.000000     1760.000000   \n",
       "mean       462.388068     182.150000           0.650936        0.453090   \n",
       "std       1909.025630     724.219197           0.131488        0.117018   \n",
       "min          1.000000       1.000000           0.000000        0.000000   \n",
       "25%         10.000000       6.000000           0.558481        0.374530   \n",
       "50%         44.000000      18.000000           0.640635        0.435576   \n",
       "75%        209.250000      83.250000           0.747557        0.519965   \n",
       "max      40739.000000   14729.000000           1.000000        1.082503   \n",
       "\n",
       "       artist_latitude  artist_longitude  song_durations  song_hotness  \\\n",
       "count      1760.000000       1760.000000     1760.000000   1760.000000   \n",
       "mean         14.555694        -26.317367      241.905996      0.401018   \n",
       "std          20.844045         45.906739      100.514858      0.262014   \n",
       "min         -41.280540       -123.207900        7.130980      0.000000   \n",
       "25%           0.000000        -74.007120      187.388935      0.215080   \n",
       "50%           0.000000          0.000000      231.548930      0.463669   \n",
       "75%          35.222500          0.000000      280.090972      0.606810   \n",
       "max          69.651020        174.767140     1204.296690      0.984347   \n",
       "\n",
       "       song_release_years    song_keys   song_modes   song_tempo  \\\n",
       "count                1760  1760.000000  1760.000000  1760.000000   \n",
       "mean                    0     5.376136     0.672159   125.041325   \n",
       "std                     0     3.576739     0.469560    35.464805   \n",
       "min                     0     0.000000     0.000000     0.000000   \n",
       "25%                     0     2.000000     0.000000    98.524250   \n",
       "50%                     0     5.000000     1.000000   121.890000   \n",
       "75%                     0     9.000000     1.000000   146.237500   \n",
       "max                     0    11.000000     1.000000   253.357000   \n",
       "\n",
       "       song_time_signatures  count  beats_number   bars_number  tatum_number  \\\n",
       "count           1760.000000   1760   1760.000000   1760.000000   1760.000000   \n",
       "mean               3.636932      1   6055.241477   1940.652273   4833.406818   \n",
       "std                1.185232      0   3378.891528   1788.931690   5690.317673   \n",
       "min                0.000000      1      2.000000      2.000000      2.000000   \n",
       "25%                4.000000      1   3759.750000   1014.000000    109.000000   \n",
       "50%                4.000000      1   5555.500000   1448.000000    109.000000   \n",
       "75%                4.000000      1   7895.000000   2065.250000   9536.250000   \n",
       "max                7.000000      1  17181.000000  16284.000000  17233.000000   \n",
       "\n",
       "       log_play_count_sum  log_user_id_count  \n",
       "count         1760.000000        1760.000000  \n",
       "mean             3.877748           3.134512  \n",
       "std              2.111355           1.933786  \n",
       "min              0.000000           0.000000  \n",
       "25%              2.302585           1.791759  \n",
       "50%              3.784190           2.890372  \n",
       "75%              5.343528           4.421835  \n",
       "max             10.614941           9.597574  "
      ]
     },
     "execution_count": 95,
     "metadata": {},
     "output_type": "execute_result"
    }
   ],
   "source": [
    "data.describe()"
   ]
  },
  {
   "cell_type": "code",
   "execution_count": 96,
   "metadata": {
    "collapsed": true
   },
   "outputs": [],
   "source": [
    "data.to_csv('clean_data.csv',sep=',')"
   ]
  }
 ],
 "metadata": {
  "kernelspec": {
   "display_name": "Python 2",
   "language": "python",
   "name": "python2"
  },
  "language_info": {
   "codemirror_mode": {
    "name": "ipython",
    "version": 2
   },
   "file_extension": ".py",
   "mimetype": "text/x-python",
   "name": "python",
   "nbconvert_exporter": "python",
   "pygments_lexer": "ipython2",
   "version": "2.7.11"
  }
 },
 "nbformat": 4,
 "nbformat_minor": 0
}
