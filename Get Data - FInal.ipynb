{
 "cells": [
  {
   "cell_type": "markdown",
   "metadata": {},
   "source": [
    "# Modules"
   ]
  },
  {
   "cell_type": "code",
   "execution_count": 1,
   "metadata": {
    "collapsed": true
   },
   "outputs": [],
   "source": [
    "import numpy as np\n",
    "import pandas as pd\n",
    "import matplotlib.pyplot as plt\n",
    "%matplotlib inline\n",
    "import vincent as vin\n",
    "import seaborn as sb"
   ]
  },
  {
   "cell_type": "markdown",
   "metadata": {},
   "source": [
    "Importing modules recommended by Project\n",
    "http://labrosa.ee.columbia.edu/millionsong/sites/default/files/tutorial1.py.txt"
   ]
  },
  {
   "cell_type": "code",
   "execution_count": 2,
   "metadata": {
    "collapsed": true
   },
   "outputs": [],
   "source": [
    "import os\n",
    "import sys\n",
    "import time\n",
    "import glob\n",
    "import datetime\n",
    "import sqlite3"
   ]
  },
  {
   "cell_type": "markdown",
   "metadata": {},
   "source": [
    "# Upload data sets"
   ]
  },
  {
   "cell_type": "markdown",
   "metadata": {},
   "source": [
    "## HDF5 10,000 song subset"
   ]
  },
  {
   "cell_type": "markdown",
   "metadata": {},
   "source": [
    "http://labrosa.ee.columbia.edu/millionsong/pages/getting-dataset#subset\n",
    "https://aws.amazon.com/datasets/million-song-dataset/"
   ]
  },
  {
   "cell_type": "code",
   "execution_count": 4,
   "metadata": {
    "collapsed": true
   },
   "outputs": [],
   "source": [
    "import pandas as pd #as alias pd\n",
    "import numpy as nm\n",
    "import sys\n",
    "sys.path.append('/Users/juliaengel-dagher/Downloads/MSongsDB/PythonSrc')"
   ]
  },
  {
   "cell_type": "code",
   "execution_count": 5,
   "metadata": {
    "collapsed": false
   },
   "outputs": [
    {
     "name": "stdout",
     "output_type": "stream",
     "text": [
      "Requirement already satisfied (use --upgrade to upgrade): h5py in /anaconda/lib/python2.7/site-packages\r\n",
      "Requirement already satisfied (use --upgrade to upgrade): numpy>=1.6.1 in /anaconda/lib/python2.7/site-packages (from h5py)\r\n",
      "Requirement already satisfied (use --upgrade to upgrade): six in /anaconda/lib/python2.7/site-packages (from h5py)\r\n",
      "\u001b[33mYou are using pip version 7.1.2, however version 8.1.2 is available.\r\n",
      "You should consider upgrading via the 'pip install --upgrade pip' command.\u001b[0m\r\n"
     ]
    }
   ],
   "source": [
    "!pip install h5py"
   ]
  },
  {
   "cell_type": "code",
   "execution_count": 6,
   "metadata": {
    "collapsed": false
   },
   "outputs": [
    {
     "name": "stdout",
     "output_type": "stream",
     "text": [
      "need pg module and MBrainzDB folder of Python source code if you\n",
      "want to use musicbrainz related functions, e.g. fill_hdf5_from_musicbrainz\n"
     ]
    }
   ],
   "source": [
    "#Data Load\n",
    "#the files are in h5 format \n",
    "import hdf5_utils as HDF5\n",
    "import hdf5_getters as g\n",
    "#h5 = HDF5.open_h5_file_read('/Users/juliaengel-dagher/Downloads/TRBAADN128F426B7A4.h5')"
   ]
  },
  {
   "cell_type": "code",
   "execution_count": 7,
   "metadata": {
    "collapsed": false
   },
   "outputs": [
    {
     "data": {
      "text/plain": [
       "['get_danceability',\n",
       " 'get_audio_md5',\n",
       " 'get_segments_timbre',\n",
       " 'get_artist_longitude',\n",
       " 'get_artist_id',\n",
       " 'get_similar_artists',\n",
       " 'get_key',\n",
       " 'get_artist_playmeid',\n",
       " 'get_time_signature_confidence',\n",
       " 'get_track_7digitalid',\n",
       " 'get_artist_terms',\n",
       " 'get_segments_loudness_max',\n",
       " 'get_artist_mbtags_count',\n",
       " 'get_tempo',\n",
       " 'get_release',\n",
       " 'get_artist_hotttnesss',\n",
       " 'get_beats_start',\n",
       " 'get_sections_start',\n",
       " 'get_artist_7digitalid',\n",
       " 'get_segments_loudness_max_time',\n",
       " 'get_mode',\n",
       " 'get_segments_pitches',\n",
       " 'get_year',\n",
       " 'get_key_confidence',\n",
       " 'get_bars_start',\n",
       " 'get_segments_confidence',\n",
       " 'get_start_of_fade_out',\n",
       " 'get_song_id',\n",
       " 'get_time_signature',\n",
       " 'get_artist_familiarity',\n",
       " 'get_end_of_fade_in',\n",
       " 'get_sections_confidence',\n",
       " 'get_artist_terms_freq',\n",
       " 'get_mode_confidence',\n",
       " 'get_song_hotttnesss',\n",
       " 'get_artist_name',\n",
       " 'get_artist_mbtags',\n",
       " 'get_analysis_sample_rate',\n",
       " 'get_artist_location',\n",
       " 'get_bars_confidence',\n",
       " 'get_artist_terms_weight',\n",
       " 'get_track_id',\n",
       " 'get_num_songs',\n",
       " 'get_title',\n",
       " 'get_beats_confidence',\n",
       " 'get_tatums_start',\n",
       " 'get_artist_mbid',\n",
       " 'get_loudness',\n",
       " 'get_segments_loudness_start',\n",
       " 'get_energy',\n",
       " 'get_segments_start',\n",
       " 'get_duration',\n",
       " 'get_release_7digitalid',\n",
       " 'get_tatums_confidence',\n",
       " 'get_artist_latitude']"
      ]
     },
     "execution_count": 7,
     "metadata": {},
     "output_type": "execute_result"
    }
   ],
   "source": [
    "#all of the methods to get song metadata\n",
    "filter(lambda x: x[:3] == 'get',HDF5.__dict__.keys())"
   ]
  },
  {
   "cell_type": "code",
   "execution_count": 8,
   "metadata": {
    "collapsed": true
   },
   "outputs": [],
   "source": [
    "import glob\n",
    "files = glob.glob('/Users/juliaengel-dagher/Downloads/MillionSongSubset/data/*/*/*/*.h5')"
   ]
  },
  {
   "cell_type": "code",
   "execution_count": 9,
   "metadata": {
    "collapsed": false
   },
   "outputs": [
    {
     "data": {
      "text/plain": [
       "10000"
      ]
     },
     "execution_count": 9,
     "metadata": {},
     "output_type": "execute_result"
    }
   ],
   "source": [
    "len(files)"
   ]
  },
  {
   "cell_type": "markdown",
   "metadata": {},
   "source": [
    "Artist Info"
   ]
  },
  {
   "cell_type": "code",
   "execution_count": 10,
   "metadata": {
    "collapsed": false
   },
   "outputs": [
    {
     "name": "stdout",
     "output_type": "stream",
     "text": [
      "CPU times: user 3 µs, sys: 2 µs, total: 5 µs\n",
      "Wall time: 5.96 µs\n"
     ]
    }
   ],
   "source": [
    "% time\n",
    "artist_names = []\n",
    "artist_familiarty = []\n",
    "artist_hotness = []\n",
    "artist_id = []\n",
    "artist_latitude = []\n",
    "artist_longitude = []\n",
    "artist_location = []\n",
    "song_id = []\n",
    "\n",
    "for f in files:\n",
    "    \n",
    "    h5 = HDF5.open_h5_file_read(f)\n",
    "    \n",
    "    artist_name = g.get_artist_name(h5)\n",
    "    artist_familar = g.get_artist_familiarity(h5)\n",
    "    artist_hot = g.get_artist_hotttnesss(h5)\n",
    "    artist_ids = g.get_artist_id(h5)\n",
    "    artist_lat = g.get_artist_latitude(h5)\n",
    "    artist_long = g.get_artist_longitude(h5)\n",
    "    artist_loc = g.get_artist_location(h5)\n",
    "    song_idss = g.get_song_id(h5)\n",
    "    \n",
    "    artist_names.append(artist_name)\n",
    "    artist_familiarty.append(artist_familar)\n",
    "    artist_hotness.append(artist_hot)\n",
    "    artist_id.append(artist_ids)\n",
    "    artist_latitude.append(artist_lat)\n",
    "    artist_longitude.append(artist_long)\n",
    "    artist_location.append(artist_loc)\n",
    "    song_id.append(song_idss)\n",
    "    \n",
    "    h5.close()"
   ]
  },
  {
   "cell_type": "code",
   "execution_count": 11,
   "metadata": {
    "collapsed": true
   },
   "outputs": [],
   "source": [
    "data_artist = {'song_id':song_id\n",
    "        ,'artist_names':artist_names\n",
    "        ,'artist_familiarty':artist_familiarty\n",
    "        ,'artist_hotness':artist_hotness\n",
    "        ,'artist_latitude':artist_latitude\n",
    "        ,'artist_longitude':artist_longitude\n",
    "        ,'artist_location':artist_location\n",
    "        ,'artist_id':artist_id\n",
    "       }"
   ]
  },
  {
   "cell_type": "code",
   "execution_count": 12,
   "metadata": {
    "collapsed": true
   },
   "outputs": [],
   "source": [
    "artist_df=pd.DataFrame(data_artist)"
   ]
  },
  {
   "cell_type": "code",
   "execution_count": 13,
   "metadata": {
    "collapsed": false
   },
   "outputs": [
    {
     "data": {
      "text/plain": [
       "10000"
      ]
     },
     "execution_count": 13,
     "metadata": {},
     "output_type": "execute_result"
    }
   ],
   "source": [
    "len(artist_df)"
   ]
  },
  {
   "cell_type": "code",
   "execution_count": 14,
   "metadata": {
    "collapsed": false
   },
   "outputs": [
    {
     "data": {
      "text/html": [
       "<div>\n",
       "<table border=\"1\" class=\"dataframe\">\n",
       "  <thead>\n",
       "    <tr style=\"text-align: right;\">\n",
       "      <th></th>\n",
       "      <th>artist_familiarty</th>\n",
       "      <th>artist_hotness</th>\n",
       "      <th>artist_id</th>\n",
       "      <th>artist_latitude</th>\n",
       "      <th>artist_location</th>\n",
       "      <th>artist_longitude</th>\n",
       "      <th>artist_names</th>\n",
       "      <th>song_id</th>\n",
       "    </tr>\n",
       "  </thead>\n",
       "  <tbody>\n",
       "    <tr>\n",
       "      <th>0</th>\n",
       "      <td>0.581794</td>\n",
       "      <td>0.401998</td>\n",
       "      <td>ARD7TVE1187B99BFB1</td>\n",
       "      <td>NaN</td>\n",
       "      <td>California - LA</td>\n",
       "      <td>NaN</td>\n",
       "      <td>Casual</td>\n",
       "      <td>SOMZWCG12A8C13C480</td>\n",
       "    </tr>\n",
       "    <tr>\n",
       "      <th>1</th>\n",
       "      <td>0.630630</td>\n",
       "      <td>0.417500</td>\n",
       "      <td>ARMJAGH1187FB546F3</td>\n",
       "      <td>35.14968</td>\n",
       "      <td>Memphis, TN</td>\n",
       "      <td>-90.04892</td>\n",
       "      <td>The Box Tops</td>\n",
       "      <td>SOCIWDW12A8C13D406</td>\n",
       "    </tr>\n",
       "    <tr>\n",
       "      <th>2</th>\n",
       "      <td>0.487357</td>\n",
       "      <td>0.343428</td>\n",
       "      <td>ARKRRTF1187B9984DA</td>\n",
       "      <td>NaN</td>\n",
       "      <td></td>\n",
       "      <td>NaN</td>\n",
       "      <td>Sonora Santanera</td>\n",
       "      <td>SOXVLOJ12AB0189215</td>\n",
       "    </tr>\n",
       "    <tr>\n",
       "      <th>3</th>\n",
       "      <td>0.630382</td>\n",
       "      <td>0.454231</td>\n",
       "      <td>AR7G5I41187FB4CE6C</td>\n",
       "      <td>NaN</td>\n",
       "      <td>London, England</td>\n",
       "      <td>NaN</td>\n",
       "      <td>Adam Ant</td>\n",
       "      <td>SONHOTT12A8C13493C</td>\n",
       "    </tr>\n",
       "    <tr>\n",
       "      <th>4</th>\n",
       "      <td>0.651046</td>\n",
       "      <td>0.401724</td>\n",
       "      <td>ARXR32B1187FB57099</td>\n",
       "      <td>NaN</td>\n",
       "      <td></td>\n",
       "      <td>NaN</td>\n",
       "      <td>Gob</td>\n",
       "      <td>SOFSOCN12A8C143F5D</td>\n",
       "    </tr>\n",
       "  </tbody>\n",
       "</table>\n",
       "</div>"
      ],
      "text/plain": [
       "   artist_familiarty  artist_hotness           artist_id  artist_latitude  \\\n",
       "0           0.581794        0.401998  ARD7TVE1187B99BFB1              NaN   \n",
       "1           0.630630        0.417500  ARMJAGH1187FB546F3         35.14968   \n",
       "2           0.487357        0.343428  ARKRRTF1187B9984DA              NaN   \n",
       "3           0.630382        0.454231  AR7G5I41187FB4CE6C              NaN   \n",
       "4           0.651046        0.401724  ARXR32B1187FB57099              NaN   \n",
       "\n",
       "   artist_location  artist_longitude      artist_names             song_id  \n",
       "0  California - LA               NaN            Casual  SOMZWCG12A8C13C480  \n",
       "1      Memphis, TN         -90.04892      The Box Tops  SOCIWDW12A8C13D406  \n",
       "2                                NaN  Sonora Santanera  SOXVLOJ12AB0189215  \n",
       "3  London, England               NaN          Adam Ant  SONHOTT12A8C13493C  \n",
       "4                                NaN               Gob  SOFSOCN12A8C143F5D  "
      ]
     },
     "execution_count": 14,
     "metadata": {},
     "output_type": "execute_result"
    }
   ],
   "source": [
    "artist_df.head()"
   ]
  },
  {
   "cell_type": "markdown",
   "metadata": {},
   "source": [
    "Basic Song Information"
   ]
  },
  {
   "cell_type": "code",
   "execution_count": 15,
   "metadata": {
    "collapsed": false
   },
   "outputs": [
    {
     "name": "stdout",
     "output_type": "stream",
     "text": [
      "CPU times: user 2 µs, sys: 1 µs, total: 3 µs\n",
      "Wall time: 5.01 µs\n"
     ]
    }
   ],
   "source": [
    "%time\n",
    "song_id = []\n",
    "song_titles =[]\n",
    "song_durations =[]\n",
    "song_release_year =[]\n",
    "song_hotness  =[]\n",
    "track_id =[]\n",
    "\n",
    "for f in files:\n",
    "    \n",
    "    h5 = HDF5.open_h5_file_read(f)\n",
    "    \n",
    "    song_idss = g.get_song_id(h5)\n",
    "    song_title = g.get_title(h5)\n",
    "    song_duration = g.get_duration(h5)\n",
    "    song_release_years = g.get_year(h5)\n",
    "    song_hot = g.get_song_hotttnesss (h5)\n",
    "    track_idss = g.get_track_id(h5)\n",
    "    \n",
    "    song_id.append(song_idss)\n",
    "    song_titles.append(song_title)\n",
    "    song_durations.append(song_duration)\n",
    "    song_release_year.append(song_release_years)\n",
    "    song_hotness.append(song_hot)\n",
    "    track_id.append(track_idss)\n",
    "    \n",
    "    h5.close()"
   ]
  },
  {
   "cell_type": "code",
   "execution_count": 16,
   "metadata": {
    "collapsed": true
   },
   "outputs": [],
   "source": [
    "data_song = {'song_id':song_id\n",
    "        ,'track_id':track_id\n",
    "        ,'song_titles':song_titles\n",
    "        ,'song_durations':song_durations\n",
    "        ,'song_release_years':song_release_year\n",
    "        ,'song_hotness':song_hotness\n",
    "       }"
   ]
  },
  {
   "cell_type": "code",
   "execution_count": 17,
   "metadata": {
    "collapsed": true
   },
   "outputs": [],
   "source": [
    "song_df=pd.DataFrame(data_song)"
   ]
  },
  {
   "cell_type": "code",
   "execution_count": 18,
   "metadata": {
    "collapsed": false
   },
   "outputs": [
    {
     "data": {
      "text/plain": [
       "10000"
      ]
     },
     "execution_count": 18,
     "metadata": {},
     "output_type": "execute_result"
    }
   ],
   "source": [
    "len(song_df)"
   ]
  },
  {
   "cell_type": "code",
   "execution_count": 19,
   "metadata": {
    "collapsed": false
   },
   "outputs": [
    {
     "data": {
      "text/html": [
       "<div>\n",
       "<table border=\"1\" class=\"dataframe\">\n",
       "  <thead>\n",
       "    <tr style=\"text-align: right;\">\n",
       "      <th></th>\n",
       "      <th>song_durations</th>\n",
       "      <th>song_hotness</th>\n",
       "      <th>song_id</th>\n",
       "      <th>song_release_years</th>\n",
       "      <th>song_titles</th>\n",
       "      <th>track_id</th>\n",
       "    </tr>\n",
       "  </thead>\n",
       "  <tbody>\n",
       "    <tr>\n",
       "      <th>0</th>\n",
       "      <td>218.93179</td>\n",
       "      <td>0.602120</td>\n",
       "      <td>SOMZWCG12A8C13C480</td>\n",
       "      <td>0</td>\n",
       "      <td>I Didn't Mean To</td>\n",
       "      <td>TRAAAAW128F429D538</td>\n",
       "    </tr>\n",
       "    <tr>\n",
       "      <th>1</th>\n",
       "      <td>148.03546</td>\n",
       "      <td>NaN</td>\n",
       "      <td>SOCIWDW12A8C13D406</td>\n",
       "      <td>1969</td>\n",
       "      <td>Soul Deep</td>\n",
       "      <td>TRAAABD128F429CF47</td>\n",
       "    </tr>\n",
       "    <tr>\n",
       "      <th>2</th>\n",
       "      <td>177.47546</td>\n",
       "      <td>NaN</td>\n",
       "      <td>SOXVLOJ12AB0189215</td>\n",
       "      <td>0</td>\n",
       "      <td>Amor De Cabaret</td>\n",
       "      <td>TRAAADZ128F9348C2E</td>\n",
       "    </tr>\n",
       "    <tr>\n",
       "      <th>3</th>\n",
       "      <td>233.40363</td>\n",
       "      <td>NaN</td>\n",
       "      <td>SONHOTT12A8C13493C</td>\n",
       "      <td>1982</td>\n",
       "      <td>Something Girls</td>\n",
       "      <td>TRAAAEF128F4273421</td>\n",
       "    </tr>\n",
       "    <tr>\n",
       "      <th>4</th>\n",
       "      <td>209.60608</td>\n",
       "      <td>0.604501</td>\n",
       "      <td>SOFSOCN12A8C143F5D</td>\n",
       "      <td>2007</td>\n",
       "      <td>Face the Ashes</td>\n",
       "      <td>TRAAAFD128F92F423A</td>\n",
       "    </tr>\n",
       "  </tbody>\n",
       "</table>\n",
       "</div>"
      ],
      "text/plain": [
       "   song_durations  song_hotness             song_id  song_release_years  \\\n",
       "0       218.93179      0.602120  SOMZWCG12A8C13C480                   0   \n",
       "1       148.03546           NaN  SOCIWDW12A8C13D406                1969   \n",
       "2       177.47546           NaN  SOXVLOJ12AB0189215                   0   \n",
       "3       233.40363           NaN  SONHOTT12A8C13493C                1982   \n",
       "4       209.60608      0.604501  SOFSOCN12A8C143F5D                2007   \n",
       "\n",
       "        song_titles            track_id  \n",
       "0  I Didn't Mean To  TRAAAAW128F429D538  \n",
       "1         Soul Deep  TRAAABD128F429CF47  \n",
       "2   Amor De Cabaret  TRAAADZ128F9348C2E  \n",
       "3   Something Girls  TRAAAEF128F4273421  \n",
       "4    Face the Ashes  TRAAAFD128F92F423A  "
      ]
     },
     "execution_count": 19,
     "metadata": {},
     "output_type": "execute_result"
    }
   ],
   "source": [
    "song_df.head()"
   ]
  },
  {
   "cell_type": "markdown",
   "metadata": {},
   "source": [
    "More Elaborate Song Information"
   ]
  },
  {
   "cell_type": "code",
   "execution_count": 20,
   "metadata": {
    "collapsed": false,
    "scrolled": true
   },
   "outputs": [
    {
     "name": "stdout",
     "output_type": "stream",
     "text": [
      "CPU times: user 2 µs, sys: 1e+03 ns, total: 3 µs\n",
      "Wall time: 5.96 µs\n"
     ]
    }
   ],
   "source": [
    "% time\n",
    "song_tempo = []\n",
    "song_bars =[]\n",
    "song_beats = []\n",
    "song_time_signatures =[]\n",
    "song_tatum =[]\n",
    "song_modes=[]\n",
    "song_keys=[]\n",
    "song_id = []\n",
    "\n",
    "\n",
    "for f in files:\n",
    "    \n",
    "    h5 = HDF5.open_h5_file_read(f)\n",
    "    \n",
    "    song_speed = g.get_tempo(h5)\n",
    "    song_bar = g.get_bars_start(h5)\n",
    "    song_beat = g.get_beats_start(h5)\n",
    "    song_time_signature = g.get_time_signature(h5)\n",
    "    song_tat = g.get_tatums_start(h5)\n",
    "    song_mode = g.get_mode(h5)\n",
    "    song_key = g.get_key(h5)\n",
    "    song_idss = g.get_song_id(h5)\n",
    "    \n",
    "    song_tempo.append(song_speed)\n",
    "    song_bars.append(song_bar)\n",
    "    song_beats.append(song_beat)\n",
    "    song_time_signatures.append(song_time_signature)\n",
    "    song_tatum.append(song_tat)\n",
    "    song_modes.append(song_mode)\n",
    "    song_keys.append(song_key)\n",
    "    song_id.append(song_idss)\n",
    "    \n",
    "    h5.close()"
   ]
  },
  {
   "cell_type": "code",
   "execution_count": 22,
   "metadata": {
    "collapsed": false
   },
   "outputs": [],
   "source": [
    "data_song_more = {'song_id':song_id\n",
    "        ,'song_tempo':song_tempo\n",
    "        ,'song_bars':song_bars\n",
    "        ,'song_beats':song_beats\n",
    "        ,'song_time_signatures':song_time_signatures\n",
    "        ,'song_tatum':song_tatum\n",
    "        ,'song_modes':song_modes\n",
    "        ,'song_keys':song_keys\n",
    "       }"
   ]
  },
  {
   "cell_type": "code",
   "execution_count": 23,
   "metadata": {
    "collapsed": false
   },
   "outputs": [],
   "source": [
    "song_more_df=pd.DataFrame(data_song_more)"
   ]
  },
  {
   "cell_type": "code",
   "execution_count": 24,
   "metadata": {
    "collapsed": false
   },
   "outputs": [
    {
     "data": {
      "text/plain": [
       "10000"
      ]
     },
     "execution_count": 24,
     "metadata": {},
     "output_type": "execute_result"
    }
   ],
   "source": [
    "len(song_more_df)"
   ]
  },
  {
   "cell_type": "code",
   "execution_count": 25,
   "metadata": {
    "collapsed": false
   },
   "outputs": [
    {
     "data": {
      "text/html": [
       "<div>\n",
       "<table border=\"1\" class=\"dataframe\">\n",
       "  <thead>\n",
       "    <tr style=\"text-align: right;\">\n",
       "      <th></th>\n",
       "      <th>song_bars</th>\n",
       "      <th>song_beats</th>\n",
       "      <th>song_id</th>\n",
       "      <th>song_keys</th>\n",
       "      <th>song_modes</th>\n",
       "      <th>song_tatum</th>\n",
       "      <th>song_tempo</th>\n",
       "      <th>song_time_signatures</th>\n",
       "    </tr>\n",
       "  </thead>\n",
       "  <tbody>\n",
       "    <tr>\n",
       "      <th>0</th>\n",
       "      <td>[0.58521, 2.94247, 5.14371, 7.74554, 10.36149,...</td>\n",
       "      <td>[0.58521, 1.19196, 1.78893, 2.37813, 2.94247, ...</td>\n",
       "      <td>SOMZWCG12A8C13C480</td>\n",
       "      <td>1</td>\n",
       "      <td>0</td>\n",
       "      <td>[0.28519, 0.58521, 0.89422, 1.19196, 1.49119, ...</td>\n",
       "      <td>92.198</td>\n",
       "      <td>4</td>\n",
       "    </tr>\n",
       "    <tr>\n",
       "      <th>1</th>\n",
       "      <td>[0.71054, 2.71502, 4.70861, 6.69288, 8.66941, ...</td>\n",
       "      <td>[0.20627, 0.71054, 1.21836, 1.71841, 2.21729, ...</td>\n",
       "      <td>SOCIWDW12A8C13D406</td>\n",
       "      <td>6</td>\n",
       "      <td>0</td>\n",
       "      <td>[0.20627, 0.45904, 0.71054, 0.96834, 1.21836, ...</td>\n",
       "      <td>121.274</td>\n",
       "      <td>4</td>\n",
       "    </tr>\n",
       "    <tr>\n",
       "      <th>2</th>\n",
       "      <td>[0.73152, 1.39732, 2.04852, 2.68691, 3.315, 3....</td>\n",
       "      <td>[0.73152, 1.39732, 2.04852, 2.68691, 3.315, 3....</td>\n",
       "      <td>SOXVLOJ12AB0189215</td>\n",
       "      <td>8</td>\n",
       "      <td>1</td>\n",
       "      <td>[0.42132, 0.73152, 1.06609, 1.39732, 1.72854, ...</td>\n",
       "      <td>100.070</td>\n",
       "      <td>1</td>\n",
       "    </tr>\n",
       "    <tr>\n",
       "      <th>3</th>\n",
       "      <td>[1.30621, 3.29887, 5.30252, 7.32327, 9.33775, ...</td>\n",
       "      <td>[0.81002, 1.30621, 1.80617, 2.2996, 2.80049, 3...</td>\n",
       "      <td>SONHOTT12A8C13493C</td>\n",
       "      <td>0</td>\n",
       "      <td>1</td>\n",
       "      <td>[0.56254, 0.81002, 1.05749, 1.30621, 1.55494, ...</td>\n",
       "      <td>119.293</td>\n",
       "      <td>4</td>\n",
       "    </tr>\n",
       "    <tr>\n",
       "      <th>4</th>\n",
       "      <td>[1.06368, 2.91491, 4.76729, 6.61852, 8.46978, ...</td>\n",
       "      <td>[0.13576, 0.59914, 1.06368, 1.52591, 1.99045, ...</td>\n",
       "      <td>SOFSOCN12A8C143F5D</td>\n",
       "      <td>2</td>\n",
       "      <td>1</td>\n",
       "      <td>[0.13576, 0.36918, 0.59914, 0.83141, 1.06368, ...</td>\n",
       "      <td>129.738</td>\n",
       "      <td>4</td>\n",
       "    </tr>\n",
       "  </tbody>\n",
       "</table>\n",
       "</div>"
      ],
      "text/plain": [
       "                                           song_bars  \\\n",
       "0  [0.58521, 2.94247, 5.14371, 7.74554, 10.36149,...   \n",
       "1  [0.71054, 2.71502, 4.70861, 6.69288, 8.66941, ...   \n",
       "2  [0.73152, 1.39732, 2.04852, 2.68691, 3.315, 3....   \n",
       "3  [1.30621, 3.29887, 5.30252, 7.32327, 9.33775, ...   \n",
       "4  [1.06368, 2.91491, 4.76729, 6.61852, 8.46978, ...   \n",
       "\n",
       "                                          song_beats             song_id  \\\n",
       "0  [0.58521, 1.19196, 1.78893, 2.37813, 2.94247, ...  SOMZWCG12A8C13C480   \n",
       "1  [0.20627, 0.71054, 1.21836, 1.71841, 2.21729, ...  SOCIWDW12A8C13D406   \n",
       "2  [0.73152, 1.39732, 2.04852, 2.68691, 3.315, 3....  SOXVLOJ12AB0189215   \n",
       "3  [0.81002, 1.30621, 1.80617, 2.2996, 2.80049, 3...  SONHOTT12A8C13493C   \n",
       "4  [0.13576, 0.59914, 1.06368, 1.52591, 1.99045, ...  SOFSOCN12A8C143F5D   \n",
       "\n",
       "   song_keys  song_modes                                         song_tatum  \\\n",
       "0          1           0  [0.28519, 0.58521, 0.89422, 1.19196, 1.49119, ...   \n",
       "1          6           0  [0.20627, 0.45904, 0.71054, 0.96834, 1.21836, ...   \n",
       "2          8           1  [0.42132, 0.73152, 1.06609, 1.39732, 1.72854, ...   \n",
       "3          0           1  [0.56254, 0.81002, 1.05749, 1.30621, 1.55494, ...   \n",
       "4          2           1  [0.13576, 0.36918, 0.59914, 0.83141, 1.06368, ...   \n",
       "\n",
       "   song_tempo  song_time_signatures  \n",
       "0      92.198                     4  \n",
       "1     121.274                     4  \n",
       "2     100.070                     1  \n",
       "3     119.293                     4  \n",
       "4     129.738                     4  "
      ]
     },
     "execution_count": 25,
     "metadata": {},
     "output_type": "execute_result"
    }
   ],
   "source": [
    "song_more_df.head()"
   ]
  },
  {
   "cell_type": "markdown",
   "metadata": {},
   "source": [
    "Merge the three datasets together"
   ]
  },
  {
   "cell_type": "code",
   "execution_count": 26,
   "metadata": {
    "collapsed": false
   },
   "outputs": [],
   "source": [
    "all_song_df = song_df.merge(song_more_df, on='song_id')"
   ]
  },
  {
   "cell_type": "code",
   "execution_count": 27,
   "metadata": {
    "collapsed": false
   },
   "outputs": [
    {
     "data": {
      "text/plain": [
       "10000"
      ]
     },
     "execution_count": 27,
     "metadata": {},
     "output_type": "execute_result"
    }
   ],
   "source": [
    "len(all_song_df)"
   ]
  },
  {
   "cell_type": "code",
   "execution_count": 28,
   "metadata": {
    "collapsed": false
   },
   "outputs": [
    {
     "data": {
      "text/html": [
       "<div>\n",
       "<table border=\"1\" class=\"dataframe\">\n",
       "  <thead>\n",
       "    <tr style=\"text-align: right;\">\n",
       "      <th></th>\n",
       "      <th>song_durations</th>\n",
       "      <th>song_hotness</th>\n",
       "      <th>song_id</th>\n",
       "      <th>song_release_years</th>\n",
       "      <th>song_titles</th>\n",
       "      <th>track_id</th>\n",
       "      <th>song_bars</th>\n",
       "      <th>song_beats</th>\n",
       "      <th>song_keys</th>\n",
       "      <th>song_modes</th>\n",
       "      <th>song_tatum</th>\n",
       "      <th>song_tempo</th>\n",
       "      <th>song_time_signatures</th>\n",
       "    </tr>\n",
       "  </thead>\n",
       "  <tbody>\n",
       "    <tr>\n",
       "      <th>0</th>\n",
       "      <td>218.93179</td>\n",
       "      <td>0.602120</td>\n",
       "      <td>SOMZWCG12A8C13C480</td>\n",
       "      <td>0</td>\n",
       "      <td>I Didn't Mean To</td>\n",
       "      <td>TRAAAAW128F429D538</td>\n",
       "      <td>[0.58521, 2.94247, 5.14371, 7.74554, 10.36149,...</td>\n",
       "      <td>[0.58521, 1.19196, 1.78893, 2.37813, 2.94247, ...</td>\n",
       "      <td>1</td>\n",
       "      <td>0</td>\n",
       "      <td>[0.28519, 0.58521, 0.89422, 1.19196, 1.49119, ...</td>\n",
       "      <td>92.198</td>\n",
       "      <td>4</td>\n",
       "    </tr>\n",
       "    <tr>\n",
       "      <th>1</th>\n",
       "      <td>148.03546</td>\n",
       "      <td>NaN</td>\n",
       "      <td>SOCIWDW12A8C13D406</td>\n",
       "      <td>1969</td>\n",
       "      <td>Soul Deep</td>\n",
       "      <td>TRAAABD128F429CF47</td>\n",
       "      <td>[0.71054, 2.71502, 4.70861, 6.69288, 8.66941, ...</td>\n",
       "      <td>[0.20627, 0.71054, 1.21836, 1.71841, 2.21729, ...</td>\n",
       "      <td>6</td>\n",
       "      <td>0</td>\n",
       "      <td>[0.20627, 0.45904, 0.71054, 0.96834, 1.21836, ...</td>\n",
       "      <td>121.274</td>\n",
       "      <td>4</td>\n",
       "    </tr>\n",
       "    <tr>\n",
       "      <th>2</th>\n",
       "      <td>177.47546</td>\n",
       "      <td>NaN</td>\n",
       "      <td>SOXVLOJ12AB0189215</td>\n",
       "      <td>0</td>\n",
       "      <td>Amor De Cabaret</td>\n",
       "      <td>TRAAADZ128F9348C2E</td>\n",
       "      <td>[0.73152, 1.39732, 2.04852, 2.68691, 3.315, 3....</td>\n",
       "      <td>[0.73152, 1.39732, 2.04852, 2.68691, 3.315, 3....</td>\n",
       "      <td>8</td>\n",
       "      <td>1</td>\n",
       "      <td>[0.42132, 0.73152, 1.06609, 1.39732, 1.72854, ...</td>\n",
       "      <td>100.070</td>\n",
       "      <td>1</td>\n",
       "    </tr>\n",
       "    <tr>\n",
       "      <th>3</th>\n",
       "      <td>233.40363</td>\n",
       "      <td>NaN</td>\n",
       "      <td>SONHOTT12A8C13493C</td>\n",
       "      <td>1982</td>\n",
       "      <td>Something Girls</td>\n",
       "      <td>TRAAAEF128F4273421</td>\n",
       "      <td>[1.30621, 3.29887, 5.30252, 7.32327, 9.33775, ...</td>\n",
       "      <td>[0.81002, 1.30621, 1.80617, 2.2996, 2.80049, 3...</td>\n",
       "      <td>0</td>\n",
       "      <td>1</td>\n",
       "      <td>[0.56254, 0.81002, 1.05749, 1.30621, 1.55494, ...</td>\n",
       "      <td>119.293</td>\n",
       "      <td>4</td>\n",
       "    </tr>\n",
       "    <tr>\n",
       "      <th>4</th>\n",
       "      <td>209.60608</td>\n",
       "      <td>0.604501</td>\n",
       "      <td>SOFSOCN12A8C143F5D</td>\n",
       "      <td>2007</td>\n",
       "      <td>Face the Ashes</td>\n",
       "      <td>TRAAAFD128F92F423A</td>\n",
       "      <td>[1.06368, 2.91491, 4.76729, 6.61852, 8.46978, ...</td>\n",
       "      <td>[0.13576, 0.59914, 1.06368, 1.52591, 1.99045, ...</td>\n",
       "      <td>2</td>\n",
       "      <td>1</td>\n",
       "      <td>[0.13576, 0.36918, 0.59914, 0.83141, 1.06368, ...</td>\n",
       "      <td>129.738</td>\n",
       "      <td>4</td>\n",
       "    </tr>\n",
       "  </tbody>\n",
       "</table>\n",
       "</div>"
      ],
      "text/plain": [
       "   song_durations  song_hotness             song_id  song_release_years  \\\n",
       "0       218.93179      0.602120  SOMZWCG12A8C13C480                   0   \n",
       "1       148.03546           NaN  SOCIWDW12A8C13D406                1969   \n",
       "2       177.47546           NaN  SOXVLOJ12AB0189215                   0   \n",
       "3       233.40363           NaN  SONHOTT12A8C13493C                1982   \n",
       "4       209.60608      0.604501  SOFSOCN12A8C143F5D                2007   \n",
       "\n",
       "        song_titles            track_id  \\\n",
       "0  I Didn't Mean To  TRAAAAW128F429D538   \n",
       "1         Soul Deep  TRAAABD128F429CF47   \n",
       "2   Amor De Cabaret  TRAAADZ128F9348C2E   \n",
       "3   Something Girls  TRAAAEF128F4273421   \n",
       "4    Face the Ashes  TRAAAFD128F92F423A   \n",
       "\n",
       "                                           song_bars  \\\n",
       "0  [0.58521, 2.94247, 5.14371, 7.74554, 10.36149,...   \n",
       "1  [0.71054, 2.71502, 4.70861, 6.69288, 8.66941, ...   \n",
       "2  [0.73152, 1.39732, 2.04852, 2.68691, 3.315, 3....   \n",
       "3  [1.30621, 3.29887, 5.30252, 7.32327, 9.33775, ...   \n",
       "4  [1.06368, 2.91491, 4.76729, 6.61852, 8.46978, ...   \n",
       "\n",
       "                                          song_beats  song_keys  song_modes  \\\n",
       "0  [0.58521, 1.19196, 1.78893, 2.37813, 2.94247, ...          1           0   \n",
       "1  [0.20627, 0.71054, 1.21836, 1.71841, 2.21729, ...          6           0   \n",
       "2  [0.73152, 1.39732, 2.04852, 2.68691, 3.315, 3....          8           1   \n",
       "3  [0.81002, 1.30621, 1.80617, 2.2996, 2.80049, 3...          0           1   \n",
       "4  [0.13576, 0.59914, 1.06368, 1.52591, 1.99045, ...          2           1   \n",
       "\n",
       "                                          song_tatum  song_tempo  \\\n",
       "0  [0.28519, 0.58521, 0.89422, 1.19196, 1.49119, ...      92.198   \n",
       "1  [0.20627, 0.45904, 0.71054, 0.96834, 1.21836, ...     121.274   \n",
       "2  [0.42132, 0.73152, 1.06609, 1.39732, 1.72854, ...     100.070   \n",
       "3  [0.56254, 0.81002, 1.05749, 1.30621, 1.55494, ...     119.293   \n",
       "4  [0.13576, 0.36918, 0.59914, 0.83141, 1.06368, ...     129.738   \n",
       "\n",
       "   song_time_signatures  \n",
       "0                     4  \n",
       "1                     4  \n",
       "2                     1  \n",
       "3                     4  \n",
       "4                     4  "
      ]
     },
     "execution_count": 28,
     "metadata": {},
     "output_type": "execute_result"
    }
   ],
   "source": [
    "all_song_df.head()"
   ]
  },
  {
   "cell_type": "code",
   "execution_count": 29,
   "metadata": {
    "collapsed": true
   },
   "outputs": [],
   "source": [
    "data = artist_df.merge(all_song_df, on='song_id')"
   ]
  },
  {
   "cell_type": "code",
   "execution_count": 30,
   "metadata": {
    "collapsed": false
   },
   "outputs": [
    {
     "data": {
      "text/plain": [
       "10000"
      ]
     },
     "execution_count": 30,
     "metadata": {},
     "output_type": "execute_result"
    }
   ],
   "source": [
    "len(data)"
   ]
  },
  {
   "cell_type": "code",
   "execution_count": 31,
   "metadata": {
    "collapsed": false
   },
   "outputs": [
    {
     "data": {
      "text/html": [
       "<div>\n",
       "<table border=\"1\" class=\"dataframe\">\n",
       "  <thead>\n",
       "    <tr style=\"text-align: right;\">\n",
       "      <th></th>\n",
       "      <th>artist_familiarty</th>\n",
       "      <th>artist_hotness</th>\n",
       "      <th>artist_id</th>\n",
       "      <th>artist_latitude</th>\n",
       "      <th>artist_location</th>\n",
       "      <th>artist_longitude</th>\n",
       "      <th>artist_names</th>\n",
       "      <th>song_id</th>\n",
       "      <th>song_durations</th>\n",
       "      <th>song_hotness</th>\n",
       "      <th>song_release_years</th>\n",
       "      <th>song_titles</th>\n",
       "      <th>track_id</th>\n",
       "      <th>song_bars</th>\n",
       "      <th>song_beats</th>\n",
       "      <th>song_keys</th>\n",
       "      <th>song_modes</th>\n",
       "      <th>song_tatum</th>\n",
       "      <th>song_tempo</th>\n",
       "      <th>song_time_signatures</th>\n",
       "    </tr>\n",
       "  </thead>\n",
       "  <tbody>\n",
       "    <tr>\n",
       "      <th>0</th>\n",
       "      <td>0.581794</td>\n",
       "      <td>0.401998</td>\n",
       "      <td>ARD7TVE1187B99BFB1</td>\n",
       "      <td>NaN</td>\n",
       "      <td>California - LA</td>\n",
       "      <td>NaN</td>\n",
       "      <td>Casual</td>\n",
       "      <td>SOMZWCG12A8C13C480</td>\n",
       "      <td>218.93179</td>\n",
       "      <td>0.602120</td>\n",
       "      <td>0</td>\n",
       "      <td>I Didn't Mean To</td>\n",
       "      <td>TRAAAAW128F429D538</td>\n",
       "      <td>[0.58521, 2.94247, 5.14371, 7.74554, 10.36149,...</td>\n",
       "      <td>[0.58521, 1.19196, 1.78893, 2.37813, 2.94247, ...</td>\n",
       "      <td>1</td>\n",
       "      <td>0</td>\n",
       "      <td>[0.28519, 0.58521, 0.89422, 1.19196, 1.49119, ...</td>\n",
       "      <td>92.198</td>\n",
       "      <td>4</td>\n",
       "    </tr>\n",
       "    <tr>\n",
       "      <th>1</th>\n",
       "      <td>0.630630</td>\n",
       "      <td>0.417500</td>\n",
       "      <td>ARMJAGH1187FB546F3</td>\n",
       "      <td>35.14968</td>\n",
       "      <td>Memphis, TN</td>\n",
       "      <td>-90.04892</td>\n",
       "      <td>The Box Tops</td>\n",
       "      <td>SOCIWDW12A8C13D406</td>\n",
       "      <td>148.03546</td>\n",
       "      <td>NaN</td>\n",
       "      <td>1969</td>\n",
       "      <td>Soul Deep</td>\n",
       "      <td>TRAAABD128F429CF47</td>\n",
       "      <td>[0.71054, 2.71502, 4.70861, 6.69288, 8.66941, ...</td>\n",
       "      <td>[0.20627, 0.71054, 1.21836, 1.71841, 2.21729, ...</td>\n",
       "      <td>6</td>\n",
       "      <td>0</td>\n",
       "      <td>[0.20627, 0.45904, 0.71054, 0.96834, 1.21836, ...</td>\n",
       "      <td>121.274</td>\n",
       "      <td>4</td>\n",
       "    </tr>\n",
       "    <tr>\n",
       "      <th>2</th>\n",
       "      <td>0.487357</td>\n",
       "      <td>0.343428</td>\n",
       "      <td>ARKRRTF1187B9984DA</td>\n",
       "      <td>NaN</td>\n",
       "      <td></td>\n",
       "      <td>NaN</td>\n",
       "      <td>Sonora Santanera</td>\n",
       "      <td>SOXVLOJ12AB0189215</td>\n",
       "      <td>177.47546</td>\n",
       "      <td>NaN</td>\n",
       "      <td>0</td>\n",
       "      <td>Amor De Cabaret</td>\n",
       "      <td>TRAAADZ128F9348C2E</td>\n",
       "      <td>[0.73152, 1.39732, 2.04852, 2.68691, 3.315, 3....</td>\n",
       "      <td>[0.73152, 1.39732, 2.04852, 2.68691, 3.315, 3....</td>\n",
       "      <td>8</td>\n",
       "      <td>1</td>\n",
       "      <td>[0.42132, 0.73152, 1.06609, 1.39732, 1.72854, ...</td>\n",
       "      <td>100.070</td>\n",
       "      <td>1</td>\n",
       "    </tr>\n",
       "    <tr>\n",
       "      <th>3</th>\n",
       "      <td>0.630382</td>\n",
       "      <td>0.454231</td>\n",
       "      <td>AR7G5I41187FB4CE6C</td>\n",
       "      <td>NaN</td>\n",
       "      <td>London, England</td>\n",
       "      <td>NaN</td>\n",
       "      <td>Adam Ant</td>\n",
       "      <td>SONHOTT12A8C13493C</td>\n",
       "      <td>233.40363</td>\n",
       "      <td>NaN</td>\n",
       "      <td>1982</td>\n",
       "      <td>Something Girls</td>\n",
       "      <td>TRAAAEF128F4273421</td>\n",
       "      <td>[1.30621, 3.29887, 5.30252, 7.32327, 9.33775, ...</td>\n",
       "      <td>[0.81002, 1.30621, 1.80617, 2.2996, 2.80049, 3...</td>\n",
       "      <td>0</td>\n",
       "      <td>1</td>\n",
       "      <td>[0.56254, 0.81002, 1.05749, 1.30621, 1.55494, ...</td>\n",
       "      <td>119.293</td>\n",
       "      <td>4</td>\n",
       "    </tr>\n",
       "    <tr>\n",
       "      <th>4</th>\n",
       "      <td>0.651046</td>\n",
       "      <td>0.401724</td>\n",
       "      <td>ARXR32B1187FB57099</td>\n",
       "      <td>NaN</td>\n",
       "      <td></td>\n",
       "      <td>NaN</td>\n",
       "      <td>Gob</td>\n",
       "      <td>SOFSOCN12A8C143F5D</td>\n",
       "      <td>209.60608</td>\n",
       "      <td>0.604501</td>\n",
       "      <td>2007</td>\n",
       "      <td>Face the Ashes</td>\n",
       "      <td>TRAAAFD128F92F423A</td>\n",
       "      <td>[1.06368, 2.91491, 4.76729, 6.61852, 8.46978, ...</td>\n",
       "      <td>[0.13576, 0.59914, 1.06368, 1.52591, 1.99045, ...</td>\n",
       "      <td>2</td>\n",
       "      <td>1</td>\n",
       "      <td>[0.13576, 0.36918, 0.59914, 0.83141, 1.06368, ...</td>\n",
       "      <td>129.738</td>\n",
       "      <td>4</td>\n",
       "    </tr>\n",
       "  </tbody>\n",
       "</table>\n",
       "</div>"
      ],
      "text/plain": [
       "   artist_familiarty  artist_hotness           artist_id  artist_latitude  \\\n",
       "0           0.581794        0.401998  ARD7TVE1187B99BFB1              NaN   \n",
       "1           0.630630        0.417500  ARMJAGH1187FB546F3         35.14968   \n",
       "2           0.487357        0.343428  ARKRRTF1187B9984DA              NaN   \n",
       "3           0.630382        0.454231  AR7G5I41187FB4CE6C              NaN   \n",
       "4           0.651046        0.401724  ARXR32B1187FB57099              NaN   \n",
       "\n",
       "   artist_location  artist_longitude      artist_names             song_id  \\\n",
       "0  California - LA               NaN            Casual  SOMZWCG12A8C13C480   \n",
       "1      Memphis, TN         -90.04892      The Box Tops  SOCIWDW12A8C13D406   \n",
       "2                                NaN  Sonora Santanera  SOXVLOJ12AB0189215   \n",
       "3  London, England               NaN          Adam Ant  SONHOTT12A8C13493C   \n",
       "4                                NaN               Gob  SOFSOCN12A8C143F5D   \n",
       "\n",
       "   song_durations  song_hotness  song_release_years       song_titles  \\\n",
       "0       218.93179      0.602120                   0  I Didn't Mean To   \n",
       "1       148.03546           NaN                1969         Soul Deep   \n",
       "2       177.47546           NaN                   0   Amor De Cabaret   \n",
       "3       233.40363           NaN                1982   Something Girls   \n",
       "4       209.60608      0.604501                2007    Face the Ashes   \n",
       "\n",
       "             track_id                                          song_bars  \\\n",
       "0  TRAAAAW128F429D538  [0.58521, 2.94247, 5.14371, 7.74554, 10.36149,...   \n",
       "1  TRAAABD128F429CF47  [0.71054, 2.71502, 4.70861, 6.69288, 8.66941, ...   \n",
       "2  TRAAADZ128F9348C2E  [0.73152, 1.39732, 2.04852, 2.68691, 3.315, 3....   \n",
       "3  TRAAAEF128F4273421  [1.30621, 3.29887, 5.30252, 7.32327, 9.33775, ...   \n",
       "4  TRAAAFD128F92F423A  [1.06368, 2.91491, 4.76729, 6.61852, 8.46978, ...   \n",
       "\n",
       "                                          song_beats  song_keys  song_modes  \\\n",
       "0  [0.58521, 1.19196, 1.78893, 2.37813, 2.94247, ...          1           0   \n",
       "1  [0.20627, 0.71054, 1.21836, 1.71841, 2.21729, ...          6           0   \n",
       "2  [0.73152, 1.39732, 2.04852, 2.68691, 3.315, 3....          8           1   \n",
       "3  [0.81002, 1.30621, 1.80617, 2.2996, 2.80049, 3...          0           1   \n",
       "4  [0.13576, 0.59914, 1.06368, 1.52591, 1.99045, ...          2           1   \n",
       "\n",
       "                                          song_tatum  song_tempo  \\\n",
       "0  [0.28519, 0.58521, 0.89422, 1.19196, 1.49119, ...      92.198   \n",
       "1  [0.20627, 0.45904, 0.71054, 0.96834, 1.21836, ...     121.274   \n",
       "2  [0.42132, 0.73152, 1.06609, 1.39732, 1.72854, ...     100.070   \n",
       "3  [0.56254, 0.81002, 1.05749, 1.30621, 1.55494, ...     119.293   \n",
       "4  [0.13576, 0.36918, 0.59914, 0.83141, 1.06368, ...     129.738   \n",
       "\n",
       "   song_time_signatures  \n",
       "0                     4  \n",
       "1                     4  \n",
       "2                     1  \n",
       "3                     4  \n",
       "4                     4  "
      ]
     },
     "execution_count": 31,
     "metadata": {},
     "output_type": "execute_result"
    }
   ],
   "source": [
    "data.head()"
   ]
  },
  {
   "cell_type": "code",
   "execution_count": 32,
   "metadata": {
    "collapsed": true
   },
   "outputs": [],
   "source": [
    "data.to_csv('hdf5.csv', sep=',')"
   ]
  },
  {
   "cell_type": "markdown",
   "metadata": {},
   "source": [
    "## genre data"
   ]
  },
  {
   "cell_type": "code",
   "execution_count": 33,
   "metadata": {
    "collapsed": true
   },
   "outputs": [],
   "source": [
    "genres = pd.read_table('http://www.ifs.tuwien.ac.at/mir/msd/partitions/msd-MAGD-genreAssignment.cls',sep='\\t', header=None)"
   ]
  },
  {
   "cell_type": "code",
   "execution_count": 34,
   "metadata": {
    "collapsed": false
   },
   "outputs": [
    {
     "data": {
      "text/html": [
       "<div>\n",
       "<table border=\"1\" class=\"dataframe\">\n",
       "  <thead>\n",
       "    <tr style=\"text-align: right;\">\n",
       "      <th></th>\n",
       "      <th>0</th>\n",
       "      <th>1</th>\n",
       "    </tr>\n",
       "  </thead>\n",
       "  <tbody>\n",
       "    <tr>\n",
       "      <th>0</th>\n",
       "      <td>TRAAAAK128F9318786</td>\n",
       "      <td>Pop_Rock</td>\n",
       "    </tr>\n",
       "    <tr>\n",
       "      <th>1</th>\n",
       "      <td>TRAAAAV128F421A322</td>\n",
       "      <td>Pop_Rock</td>\n",
       "    </tr>\n",
       "    <tr>\n",
       "      <th>2</th>\n",
       "      <td>TRAAAAW128F429D538</td>\n",
       "      <td>Rap</td>\n",
       "    </tr>\n",
       "    <tr>\n",
       "      <th>3</th>\n",
       "      <td>TRAAABD128F429CF47</td>\n",
       "      <td>Pop_Rock</td>\n",
       "    </tr>\n",
       "    <tr>\n",
       "      <th>4</th>\n",
       "      <td>TRAAACV128F423E09E</td>\n",
       "      <td>Pop_Rock</td>\n",
       "    </tr>\n",
       "  </tbody>\n",
       "</table>\n",
       "</div>"
      ],
      "text/plain": [
       "                    0         1\n",
       "0  TRAAAAK128F9318786  Pop_Rock\n",
       "1  TRAAAAV128F421A322  Pop_Rock\n",
       "2  TRAAAAW128F429D538       Rap\n",
       "3  TRAAABD128F429CF47  Pop_Rock\n",
       "4  TRAAACV128F423E09E  Pop_Rock"
      ]
     },
     "execution_count": 34,
     "metadata": {},
     "output_type": "execute_result"
    }
   ],
   "source": [
    "genres.head()"
   ]
  },
  {
   "cell_type": "code",
   "execution_count": 35,
   "metadata": {
    "collapsed": false
   },
   "outputs": [
    {
     "data": {
      "text/plain": [
       "422714"
      ]
     },
     "execution_count": 35,
     "metadata": {},
     "output_type": "execute_result"
    }
   ],
   "source": [
    "len(genres)"
   ]
  },
  {
   "cell_type": "code",
   "execution_count": 36,
   "metadata": {
    "collapsed": true
   },
   "outputs": [],
   "source": [
    "genres.columns=['track_id','genre_id']"
   ]
  },
  {
   "cell_type": "code",
   "execution_count": 37,
   "metadata": {
    "collapsed": false
   },
   "outputs": [
    {
     "data": {
      "text/html": [
       "<div>\n",
       "<table border=\"1\" class=\"dataframe\">\n",
       "  <thead>\n",
       "    <tr style=\"text-align: right;\">\n",
       "      <th></th>\n",
       "      <th>track_id</th>\n",
       "      <th>genre_id</th>\n",
       "    </tr>\n",
       "  </thead>\n",
       "  <tbody>\n",
       "    <tr>\n",
       "      <th>0</th>\n",
       "      <td>TRAAAAK128F9318786</td>\n",
       "      <td>Pop_Rock</td>\n",
       "    </tr>\n",
       "    <tr>\n",
       "      <th>1</th>\n",
       "      <td>TRAAAAV128F421A322</td>\n",
       "      <td>Pop_Rock</td>\n",
       "    </tr>\n",
       "    <tr>\n",
       "      <th>2</th>\n",
       "      <td>TRAAAAW128F429D538</td>\n",
       "      <td>Rap</td>\n",
       "    </tr>\n",
       "    <tr>\n",
       "      <th>3</th>\n",
       "      <td>TRAAABD128F429CF47</td>\n",
       "      <td>Pop_Rock</td>\n",
       "    </tr>\n",
       "    <tr>\n",
       "      <th>4</th>\n",
       "      <td>TRAAACV128F423E09E</td>\n",
       "      <td>Pop_Rock</td>\n",
       "    </tr>\n",
       "  </tbody>\n",
       "</table>\n",
       "</div>"
      ],
      "text/plain": [
       "             track_id  genre_id\n",
       "0  TRAAAAK128F9318786  Pop_Rock\n",
       "1  TRAAAAV128F421A322  Pop_Rock\n",
       "2  TRAAAAW128F429D538       Rap\n",
       "3  TRAAABD128F429CF47  Pop_Rock\n",
       "4  TRAAACV128F423E09E  Pop_Rock"
      ]
     },
     "execution_count": 37,
     "metadata": {},
     "output_type": "execute_result"
    }
   ],
   "source": [
    "genres.head()"
   ]
  },
  {
   "cell_type": "code",
   "execution_count": 38,
   "metadata": {
    "collapsed": true
   },
   "outputs": [],
   "source": [
    "data_w_genre = data.merge(genres,on='track_id')"
   ]
  },
  {
   "cell_type": "code",
   "execution_count": 39,
   "metadata": {
    "collapsed": false
   },
   "outputs": [
    {
     "data": {
      "text/plain": [
       "4011"
      ]
     },
     "execution_count": 39,
     "metadata": {},
     "output_type": "execute_result"
    }
   ],
   "source": [
    "len(data_w_genre)"
   ]
  },
  {
   "cell_type": "code",
   "execution_count": 40,
   "metadata": {
    "collapsed": false
   },
   "outputs": [
    {
     "data": {
      "text/html": [
       "<div>\n",
       "<table border=\"1\" class=\"dataframe\">\n",
       "  <thead>\n",
       "    <tr style=\"text-align: right;\">\n",
       "      <th></th>\n",
       "      <th>artist_familiarty</th>\n",
       "      <th>artist_hotness</th>\n",
       "      <th>artist_id</th>\n",
       "      <th>artist_latitude</th>\n",
       "      <th>artist_location</th>\n",
       "      <th>artist_longitude</th>\n",
       "      <th>artist_names</th>\n",
       "      <th>song_id</th>\n",
       "      <th>song_durations</th>\n",
       "      <th>song_hotness</th>\n",
       "      <th>...</th>\n",
       "      <th>song_titles</th>\n",
       "      <th>track_id</th>\n",
       "      <th>song_bars</th>\n",
       "      <th>song_beats</th>\n",
       "      <th>song_keys</th>\n",
       "      <th>song_modes</th>\n",
       "      <th>song_tatum</th>\n",
       "      <th>song_tempo</th>\n",
       "      <th>song_time_signatures</th>\n",
       "      <th>genre_id</th>\n",
       "    </tr>\n",
       "  </thead>\n",
       "  <tbody>\n",
       "    <tr>\n",
       "      <th>0</th>\n",
       "      <td>0.581794</td>\n",
       "      <td>0.401998</td>\n",
       "      <td>ARD7TVE1187B99BFB1</td>\n",
       "      <td>NaN</td>\n",
       "      <td>California - LA</td>\n",
       "      <td>NaN</td>\n",
       "      <td>Casual</td>\n",
       "      <td>SOMZWCG12A8C13C480</td>\n",
       "      <td>218.93179</td>\n",
       "      <td>0.602120</td>\n",
       "      <td>...</td>\n",
       "      <td>I Didn't Mean To</td>\n",
       "      <td>TRAAAAW128F429D538</td>\n",
       "      <td>[0.58521, 2.94247, 5.14371, 7.74554, 10.36149,...</td>\n",
       "      <td>[0.58521, 1.19196, 1.78893, 2.37813, 2.94247, ...</td>\n",
       "      <td>1</td>\n",
       "      <td>0</td>\n",
       "      <td>[0.28519, 0.58521, 0.89422, 1.19196, 1.49119, ...</td>\n",
       "      <td>92.198</td>\n",
       "      <td>4</td>\n",
       "      <td>Rap</td>\n",
       "    </tr>\n",
       "    <tr>\n",
       "      <th>1</th>\n",
       "      <td>0.630630</td>\n",
       "      <td>0.417500</td>\n",
       "      <td>ARMJAGH1187FB546F3</td>\n",
       "      <td>35.14968</td>\n",
       "      <td>Memphis, TN</td>\n",
       "      <td>-90.04892</td>\n",
       "      <td>The Box Tops</td>\n",
       "      <td>SOCIWDW12A8C13D406</td>\n",
       "      <td>148.03546</td>\n",
       "      <td>NaN</td>\n",
       "      <td>...</td>\n",
       "      <td>Soul Deep</td>\n",
       "      <td>TRAAABD128F429CF47</td>\n",
       "      <td>[0.71054, 2.71502, 4.70861, 6.69288, 8.66941, ...</td>\n",
       "      <td>[0.20627, 0.71054, 1.21836, 1.71841, 2.21729, ...</td>\n",
       "      <td>6</td>\n",
       "      <td>0</td>\n",
       "      <td>[0.20627, 0.45904, 0.71054, 0.96834, 1.21836, ...</td>\n",
       "      <td>121.274</td>\n",
       "      <td>4</td>\n",
       "      <td>Pop_Rock</td>\n",
       "    </tr>\n",
       "    <tr>\n",
       "      <th>2</th>\n",
       "      <td>0.630382</td>\n",
       "      <td>0.454231</td>\n",
       "      <td>AR7G5I41187FB4CE6C</td>\n",
       "      <td>NaN</td>\n",
       "      <td>London, England</td>\n",
       "      <td>NaN</td>\n",
       "      <td>Adam Ant</td>\n",
       "      <td>SONHOTT12A8C13493C</td>\n",
       "      <td>233.40363</td>\n",
       "      <td>NaN</td>\n",
       "      <td>...</td>\n",
       "      <td>Something Girls</td>\n",
       "      <td>TRAAAEF128F4273421</td>\n",
       "      <td>[1.30621, 3.29887, 5.30252, 7.32327, 9.33775, ...</td>\n",
       "      <td>[0.81002, 1.30621, 1.80617, 2.2996, 2.80049, 3...</td>\n",
       "      <td>0</td>\n",
       "      <td>1</td>\n",
       "      <td>[0.56254, 0.81002, 1.05749, 1.30621, 1.55494, ...</td>\n",
       "      <td>119.293</td>\n",
       "      <td>4</td>\n",
       "      <td>Pop_Rock</td>\n",
       "    </tr>\n",
       "    <tr>\n",
       "      <th>3</th>\n",
       "      <td>0.651046</td>\n",
       "      <td>0.401724</td>\n",
       "      <td>ARXR32B1187FB57099</td>\n",
       "      <td>NaN</td>\n",
       "      <td></td>\n",
       "      <td>NaN</td>\n",
       "      <td>Gob</td>\n",
       "      <td>SOFSOCN12A8C143F5D</td>\n",
       "      <td>209.60608</td>\n",
       "      <td>0.604501</td>\n",
       "      <td>...</td>\n",
       "      <td>Face the Ashes</td>\n",
       "      <td>TRAAAFD128F92F423A</td>\n",
       "      <td>[1.06368, 2.91491, 4.76729, 6.61852, 8.46978, ...</td>\n",
       "      <td>[0.13576, 0.59914, 1.06368, 1.52591, 1.99045, ...</td>\n",
       "      <td>2</td>\n",
       "      <td>1</td>\n",
       "      <td>[0.13576, 0.36918, 0.59914, 0.83141, 1.06368, ...</td>\n",
       "      <td>129.738</td>\n",
       "      <td>4</td>\n",
       "      <td>Pop_Rock</td>\n",
       "    </tr>\n",
       "    <tr>\n",
       "      <th>4</th>\n",
       "      <td>0.535293</td>\n",
       "      <td>0.385471</td>\n",
       "      <td>ARKFYS91187B98E58F</td>\n",
       "      <td>NaN</td>\n",
       "      <td></td>\n",
       "      <td>NaN</td>\n",
       "      <td>Jeff And Sheri Easter</td>\n",
       "      <td>SOYMRWW12A6D4FAB14</td>\n",
       "      <td>267.70240</td>\n",
       "      <td>NaN</td>\n",
       "      <td>...</td>\n",
       "      <td>The Moon And I (Ordinary Day Album Version)</td>\n",
       "      <td>TRAAAMO128F1481E7F</td>\n",
       "      <td>[1.17118, 2.44699, 3.76552, 5.07403, 6.38454, ...</td>\n",
       "      <td>[0.74856, 1.17118, 1.59278, 2.0154, 2.44699, 2...</td>\n",
       "      <td>5</td>\n",
       "      <td>1</td>\n",
       "      <td>[0.53929, 0.74856, 0.95987, 1.17118, 1.38249, ...</td>\n",
       "      <td>147.782</td>\n",
       "      <td>3</td>\n",
       "      <td>Religious</td>\n",
       "    </tr>\n",
       "  </tbody>\n",
       "</table>\n",
       "<p>5 rows × 21 columns</p>\n",
       "</div>"
      ],
      "text/plain": [
       "   artist_familiarty  artist_hotness           artist_id  artist_latitude  \\\n",
       "0           0.581794        0.401998  ARD7TVE1187B99BFB1              NaN   \n",
       "1           0.630630        0.417500  ARMJAGH1187FB546F3         35.14968   \n",
       "2           0.630382        0.454231  AR7G5I41187FB4CE6C              NaN   \n",
       "3           0.651046        0.401724  ARXR32B1187FB57099              NaN   \n",
       "4           0.535293        0.385471  ARKFYS91187B98E58F              NaN   \n",
       "\n",
       "   artist_location  artist_longitude           artist_names  \\\n",
       "0  California - LA               NaN                 Casual   \n",
       "1      Memphis, TN         -90.04892           The Box Tops   \n",
       "2  London, England               NaN               Adam Ant   \n",
       "3                                NaN                    Gob   \n",
       "4                                NaN  Jeff And Sheri Easter   \n",
       "\n",
       "              song_id  song_durations  song_hotness    ...      \\\n",
       "0  SOMZWCG12A8C13C480       218.93179      0.602120    ...       \n",
       "1  SOCIWDW12A8C13D406       148.03546           NaN    ...       \n",
       "2  SONHOTT12A8C13493C       233.40363           NaN    ...       \n",
       "3  SOFSOCN12A8C143F5D       209.60608      0.604501    ...       \n",
       "4  SOYMRWW12A6D4FAB14       267.70240           NaN    ...       \n",
       "\n",
       "                                   song_titles            track_id  \\\n",
       "0                             I Didn't Mean To  TRAAAAW128F429D538   \n",
       "1                                    Soul Deep  TRAAABD128F429CF47   \n",
       "2                              Something Girls  TRAAAEF128F4273421   \n",
       "3                               Face the Ashes  TRAAAFD128F92F423A   \n",
       "4  The Moon And I (Ordinary Day Album Version)  TRAAAMO128F1481E7F   \n",
       "\n",
       "                                           song_bars  \\\n",
       "0  [0.58521, 2.94247, 5.14371, 7.74554, 10.36149,...   \n",
       "1  [0.71054, 2.71502, 4.70861, 6.69288, 8.66941, ...   \n",
       "2  [1.30621, 3.29887, 5.30252, 7.32327, 9.33775, ...   \n",
       "3  [1.06368, 2.91491, 4.76729, 6.61852, 8.46978, ...   \n",
       "4  [1.17118, 2.44699, 3.76552, 5.07403, 6.38454, ...   \n",
       "\n",
       "                                          song_beats song_keys  song_modes  \\\n",
       "0  [0.58521, 1.19196, 1.78893, 2.37813, 2.94247, ...         1           0   \n",
       "1  [0.20627, 0.71054, 1.21836, 1.71841, 2.21729, ...         6           0   \n",
       "2  [0.81002, 1.30621, 1.80617, 2.2996, 2.80049, 3...         0           1   \n",
       "3  [0.13576, 0.59914, 1.06368, 1.52591, 1.99045, ...         2           1   \n",
       "4  [0.74856, 1.17118, 1.59278, 2.0154, 2.44699, 2...         5           1   \n",
       "\n",
       "                                          song_tatum song_tempo  \\\n",
       "0  [0.28519, 0.58521, 0.89422, 1.19196, 1.49119, ...     92.198   \n",
       "1  [0.20627, 0.45904, 0.71054, 0.96834, 1.21836, ...    121.274   \n",
       "2  [0.56254, 0.81002, 1.05749, 1.30621, 1.55494, ...    119.293   \n",
       "3  [0.13576, 0.36918, 0.59914, 0.83141, 1.06368, ...    129.738   \n",
       "4  [0.53929, 0.74856, 0.95987, 1.17118, 1.38249, ...    147.782   \n",
       "\n",
       "   song_time_signatures   genre_id  \n",
       "0                     4        Rap  \n",
       "1                     4   Pop_Rock  \n",
       "2                     4   Pop_Rock  \n",
       "3                     4   Pop_Rock  \n",
       "4                     3  Religious  \n",
       "\n",
       "[5 rows x 21 columns]"
      ]
     },
     "execution_count": 40,
     "metadata": {},
     "output_type": "execute_result"
    }
   ],
   "source": [
    "data_w_genre.head()"
   ]
  },
  {
   "cell_type": "code",
   "execution_count": 41,
   "metadata": {
    "collapsed": true
   },
   "outputs": [],
   "source": [
    "data_w_genre.to_csv('data_w_genre', sep=',')"
   ]
  },
  {
   "cell_type": "markdown",
   "metadata": {},
   "source": [
    "## other genre data"
   ]
  },
  {
   "cell_type": "code",
   "execution_count": 43,
   "metadata": {
    "collapsed": false
   },
   "outputs": [],
   "source": [
    "genres_other = pd.read_table('/Users/juliaengel-dagher/Downloads/msd_tagtraum_cd2c.txt',sep='\\t',header=None)"
   ]
  },
  {
   "cell_type": "code",
   "execution_count": 44,
   "metadata": {
    "collapsed": false
   },
   "outputs": [
    {
     "data": {
      "text/html": [
       "<div>\n",
       "<table border=\"1\" class=\"dataframe\">\n",
       "  <thead>\n",
       "    <tr style=\"text-align: right;\">\n",
       "      <th></th>\n",
       "      <th>0</th>\n",
       "      <th>1</th>\n",
       "    </tr>\n",
       "  </thead>\n",
       "  <tbody>\n",
       "    <tr>\n",
       "      <th>0</th>\n",
       "      <td>TRAAAAK128F9318786</td>\n",
       "      <td>Rock</td>\n",
       "    </tr>\n",
       "    <tr>\n",
       "      <th>1</th>\n",
       "      <td>TRAAAAW128F429D538</td>\n",
       "      <td>Rap</td>\n",
       "    </tr>\n",
       "    <tr>\n",
       "      <th>2</th>\n",
       "      <td>TRAAADJ128F4287B47</td>\n",
       "      <td>Rock</td>\n",
       "    </tr>\n",
       "    <tr>\n",
       "      <th>3</th>\n",
       "      <td>TRAAADZ128F9348C2E</td>\n",
       "      <td>Latin</td>\n",
       "    </tr>\n",
       "    <tr>\n",
       "      <th>4</th>\n",
       "      <td>TRAAAED128E0783FAB</td>\n",
       "      <td>Jazz</td>\n",
       "    </tr>\n",
       "  </tbody>\n",
       "</table>\n",
       "</div>"
      ],
      "text/plain": [
       "                    0      1\n",
       "0  TRAAAAK128F9318786   Rock\n",
       "1  TRAAAAW128F429D538    Rap\n",
       "2  TRAAADJ128F4287B47   Rock\n",
       "3  TRAAADZ128F9348C2E  Latin\n",
       "4  TRAAAED128E0783FAB   Jazz"
      ]
     },
     "execution_count": 44,
     "metadata": {},
     "output_type": "execute_result"
    }
   ],
   "source": [
    "genres_other.head()"
   ]
  },
  {
   "cell_type": "code",
   "execution_count": 45,
   "metadata": {
    "collapsed": true
   },
   "outputs": [],
   "source": [
    "genres_other.columns=['track_id','genre_id']"
   ]
  },
  {
   "cell_type": "code",
   "execution_count": 46,
   "metadata": {
    "collapsed": false
   },
   "outputs": [
    {
     "data": {
      "text/html": [
       "<div>\n",
       "<table border=\"1\" class=\"dataframe\">\n",
       "  <thead>\n",
       "    <tr style=\"text-align: right;\">\n",
       "      <th></th>\n",
       "      <th>track_id</th>\n",
       "      <th>genre_id</th>\n",
       "    </tr>\n",
       "  </thead>\n",
       "  <tbody>\n",
       "    <tr>\n",
       "      <th>0</th>\n",
       "      <td>TRAAAAK128F9318786</td>\n",
       "      <td>Rock</td>\n",
       "    </tr>\n",
       "    <tr>\n",
       "      <th>1</th>\n",
       "      <td>TRAAAAW128F429D538</td>\n",
       "      <td>Rap</td>\n",
       "    </tr>\n",
       "    <tr>\n",
       "      <th>2</th>\n",
       "      <td>TRAAADJ128F4287B47</td>\n",
       "      <td>Rock</td>\n",
       "    </tr>\n",
       "    <tr>\n",
       "      <th>3</th>\n",
       "      <td>TRAAADZ128F9348C2E</td>\n",
       "      <td>Latin</td>\n",
       "    </tr>\n",
       "    <tr>\n",
       "      <th>4</th>\n",
       "      <td>TRAAAED128E0783FAB</td>\n",
       "      <td>Jazz</td>\n",
       "    </tr>\n",
       "  </tbody>\n",
       "</table>\n",
       "</div>"
      ],
      "text/plain": [
       "             track_id genre_id\n",
       "0  TRAAAAK128F9318786     Rock\n",
       "1  TRAAAAW128F429D538      Rap\n",
       "2  TRAAADJ128F4287B47     Rock\n",
       "3  TRAAADZ128F9348C2E    Latin\n",
       "4  TRAAAED128E0783FAB     Jazz"
      ]
     },
     "execution_count": 46,
     "metadata": {},
     "output_type": "execute_result"
    }
   ],
   "source": [
    "genres_other.head()"
   ]
  },
  {
   "cell_type": "code",
   "execution_count": 47,
   "metadata": {
    "collapsed": false
   },
   "outputs": [
    {
     "data": {
      "text/plain": [
       "191401"
      ]
     },
     "execution_count": 47,
     "metadata": {},
     "output_type": "execute_result"
    }
   ],
   "source": [
    "len(genres_other)"
   ]
  },
  {
   "cell_type": "code",
   "execution_count": 48,
   "metadata": {
    "collapsed": true
   },
   "outputs": [],
   "source": [
    "data_w_genre2 = data.merge(genres_other,on='track_id')"
   ]
  },
  {
   "cell_type": "code",
   "execution_count": 49,
   "metadata": {
    "collapsed": false
   },
   "outputs": [
    {
     "data": {
      "text/plain": [
       "2250"
      ]
     },
     "execution_count": 49,
     "metadata": {},
     "output_type": "execute_result"
    }
   ],
   "source": [
    "len(data_w_genre2)"
   ]
  },
  {
   "cell_type": "markdown",
   "metadata": {},
   "source": [
    "It's even worse - not going to use it!"
   ]
  },
  {
   "cell_type": "markdown",
   "metadata": {},
   "source": [
    "## user interaction data"
   ]
  },
  {
   "cell_type": "code",
   "execution_count": 50,
   "metadata": {
    "collapsed": true
   },
   "outputs": [],
   "source": [
    "user_behavior = pd.read_table('/Users/juliaengel-dagher/Downloads/train_triplets.txt', sep='\\t', names =['user_id','song_ids','play_count'])"
   ]
  },
  {
   "cell_type": "code",
   "execution_count": 51,
   "metadata": {
    "collapsed": false
   },
   "outputs": [
    {
     "data": {
      "text/html": [
       "<div>\n",
       "<table border=\"1\" class=\"dataframe\">\n",
       "  <thead>\n",
       "    <tr style=\"text-align: right;\">\n",
       "      <th></th>\n",
       "      <th>user_id</th>\n",
       "      <th>song_ids</th>\n",
       "      <th>play_count</th>\n",
       "    </tr>\n",
       "  </thead>\n",
       "  <tbody>\n",
       "    <tr>\n",
       "      <th>0</th>\n",
       "      <td>b80344d063b5ccb3212f76538f3d9e43d87dca9e</td>\n",
       "      <td>SOAKIMP12A8C130995</td>\n",
       "      <td>1</td>\n",
       "    </tr>\n",
       "    <tr>\n",
       "      <th>1</th>\n",
       "      <td>b80344d063b5ccb3212f76538f3d9e43d87dca9e</td>\n",
       "      <td>SOAPDEY12A81C210A9</td>\n",
       "      <td>1</td>\n",
       "    </tr>\n",
       "    <tr>\n",
       "      <th>2</th>\n",
       "      <td>b80344d063b5ccb3212f76538f3d9e43d87dca9e</td>\n",
       "      <td>SOBBMDR12A8C13253B</td>\n",
       "      <td>2</td>\n",
       "    </tr>\n",
       "    <tr>\n",
       "      <th>3</th>\n",
       "      <td>b80344d063b5ccb3212f76538f3d9e43d87dca9e</td>\n",
       "      <td>SOBFNSP12AF72A0E22</td>\n",
       "      <td>1</td>\n",
       "    </tr>\n",
       "    <tr>\n",
       "      <th>4</th>\n",
       "      <td>b80344d063b5ccb3212f76538f3d9e43d87dca9e</td>\n",
       "      <td>SOBFOVM12A58A7D494</td>\n",
       "      <td>1</td>\n",
       "    </tr>\n",
       "  </tbody>\n",
       "</table>\n",
       "</div>"
      ],
      "text/plain": [
       "                                    user_id            song_ids  play_count\n",
       "0  b80344d063b5ccb3212f76538f3d9e43d87dca9e  SOAKIMP12A8C130995           1\n",
       "1  b80344d063b5ccb3212f76538f3d9e43d87dca9e  SOAPDEY12A81C210A9           1\n",
       "2  b80344d063b5ccb3212f76538f3d9e43d87dca9e  SOBBMDR12A8C13253B           2\n",
       "3  b80344d063b5ccb3212f76538f3d9e43d87dca9e  SOBFNSP12AF72A0E22           1\n",
       "4  b80344d063b5ccb3212f76538f3d9e43d87dca9e  SOBFOVM12A58A7D494           1"
      ]
     },
     "execution_count": 51,
     "metadata": {},
     "output_type": "execute_result"
    }
   ],
   "source": [
    "user_behavior.head()"
   ]
  },
  {
   "cell_type": "code",
   "execution_count": 52,
   "metadata": {
    "collapsed": false
   },
   "outputs": [
    {
     "data": {
      "text/plain": [
       "48373586"
      ]
     },
     "execution_count": 52,
     "metadata": {},
     "output_type": "execute_result"
    }
   ],
   "source": [
    "len(user_behavior)"
   ]
  },
  {
   "cell_type": "code",
   "execution_count": 53,
   "metadata": {
    "collapsed": true
   },
   "outputs": [],
   "source": [
    "funcs = {'play_count':['sum'], 'user_id':['count']}"
   ]
  },
  {
   "cell_type": "code",
   "execution_count": 54,
   "metadata": {
    "collapsed": true
   },
   "outputs": [],
   "source": [
    "behavior_df = user_behavior.groupby('song_ids').agg(funcs)"
   ]
  },
  {
   "cell_type": "code",
   "execution_count": 55,
   "metadata": {
    "collapsed": false
   },
   "outputs": [
    {
     "data": {
      "text/html": [
       "<div>\n",
       "<table border=\"1\" class=\"dataframe\">\n",
       "  <thead>\n",
       "    <tr>\n",
       "      <th></th>\n",
       "      <th>play_count</th>\n",
       "      <th>user_id</th>\n",
       "    </tr>\n",
       "    <tr>\n",
       "      <th></th>\n",
       "      <th>sum</th>\n",
       "      <th>count</th>\n",
       "    </tr>\n",
       "    <tr>\n",
       "      <th>song_ids</th>\n",
       "      <th></th>\n",
       "      <th></th>\n",
       "    </tr>\n",
       "  </thead>\n",
       "  <tbody>\n",
       "    <tr>\n",
       "      <th>SOAAADD12AB018A9DD</th>\n",
       "      <td>24</td>\n",
       "      <td>14</td>\n",
       "    </tr>\n",
       "    <tr>\n",
       "      <th>SOAAADE12A6D4F80CC</th>\n",
       "      <td>12</td>\n",
       "      <td>9</td>\n",
       "    </tr>\n",
       "    <tr>\n",
       "      <th>SOAAADF12A8C13DF62</th>\n",
       "      <td>9</td>\n",
       "      <td>6</td>\n",
       "    </tr>\n",
       "    <tr>\n",
       "      <th>SOAAADZ12A8C1334FB</th>\n",
       "      <td>12</td>\n",
       "      <td>8</td>\n",
       "    </tr>\n",
       "    <tr>\n",
       "      <th>SOAAAFI12A6D4F9C66</th>\n",
       "      <td>188</td>\n",
       "      <td>57</td>\n",
       "    </tr>\n",
       "  </tbody>\n",
       "</table>\n",
       "</div>"
      ],
      "text/plain": [
       "                   play_count user_id\n",
       "                          sum   count\n",
       "song_ids                             \n",
       "SOAAADD12AB018A9DD         24      14\n",
       "SOAAADE12A6D4F80CC         12       9\n",
       "SOAAADF12A8C13DF62          9       6\n",
       "SOAAADZ12A8C1334FB         12       8\n",
       "SOAAAFI12A6D4F9C66        188      57"
      ]
     },
     "execution_count": 55,
     "metadata": {},
     "output_type": "execute_result"
    }
   ],
   "source": [
    "behavior_df.head()"
   ]
  },
  {
   "cell_type": "code",
   "execution_count": 56,
   "metadata": {
    "collapsed": false
   },
   "outputs": [],
   "source": [
    "behavior_df.to_csv('behavior_in_progress.csv', sep=',')"
   ]
  },
  {
   "cell_type": "code",
   "execution_count": 57,
   "metadata": {
    "collapsed": true
   },
   "outputs": [],
   "source": [
    "behavior_df= pd.read_csv('/Users/juliaengel-dagher/Downloads/behavior_in_progress.csv', sep=',')"
   ]
  },
  {
   "cell_type": "code",
   "execution_count": 58,
   "metadata": {
    "collapsed": false
   },
   "outputs": [
    {
     "data": {
      "text/html": [
       "<div>\n",
       "<table border=\"1\" class=\"dataframe\">\n",
       "  <thead>\n",
       "    <tr style=\"text-align: right;\">\n",
       "      <th></th>\n",
       "      <th>song_id</th>\n",
       "      <th>play_count_sum</th>\n",
       "      <th>user_id_count</th>\n",
       "    </tr>\n",
       "  </thead>\n",
       "  <tbody>\n",
       "    <tr>\n",
       "      <th>0</th>\n",
       "      <td>SOAAADD12AB018A9DD</td>\n",
       "      <td>24</td>\n",
       "      <td>14</td>\n",
       "    </tr>\n",
       "    <tr>\n",
       "      <th>1</th>\n",
       "      <td>SOAAADE12A6D4F80CC</td>\n",
       "      <td>12</td>\n",
       "      <td>9</td>\n",
       "    </tr>\n",
       "    <tr>\n",
       "      <th>2</th>\n",
       "      <td>SOAAADF12A8C13DF62</td>\n",
       "      <td>9</td>\n",
       "      <td>6</td>\n",
       "    </tr>\n",
       "    <tr>\n",
       "      <th>3</th>\n",
       "      <td>SOAAADZ12A8C1334FB</td>\n",
       "      <td>12</td>\n",
       "      <td>8</td>\n",
       "    </tr>\n",
       "    <tr>\n",
       "      <th>4</th>\n",
       "      <td>SOAAAFI12A6D4F9C66</td>\n",
       "      <td>188</td>\n",
       "      <td>57</td>\n",
       "    </tr>\n",
       "  </tbody>\n",
       "</table>\n",
       "</div>"
      ],
      "text/plain": [
       "              song_id  play_count_sum  user_id_count\n",
       "0  SOAAADD12AB018A9DD              24             14\n",
       "1  SOAAADE12A6D4F80CC              12              9\n",
       "2  SOAAADF12A8C13DF62               9              6\n",
       "3  SOAAADZ12A8C1334FB              12              8\n",
       "4  SOAAAFI12A6D4F9C66             188             57"
      ]
     },
     "execution_count": 58,
     "metadata": {},
     "output_type": "execute_result"
    }
   ],
   "source": [
    "behavior_df.head()"
   ]
  },
  {
   "cell_type": "code",
   "execution_count": 59,
   "metadata": {
    "collapsed": false
   },
   "outputs": [
    {
     "data": {
      "text/plain": [
       "384546"
      ]
     },
     "execution_count": 59,
     "metadata": {},
     "output_type": "execute_result"
    }
   ],
   "source": [
    "len(behavior_df)"
   ]
  },
  {
   "cell_type": "code",
   "execution_count": 60,
   "metadata": {
    "collapsed": true
   },
   "outputs": [],
   "source": [
    "behavior_df.to_csv('behavior.csv', sep=',')"
   ]
  },
  {
   "cell_type": "markdown",
   "metadata": {},
   "source": [
    "Merge on song id"
   ]
  },
  {
   "cell_type": "code",
   "execution_count": 61,
   "metadata": {
    "collapsed": true
   },
   "outputs": [],
   "source": [
    "data_w_behavior = data.merge(behavior_df,on='song_id')"
   ]
  },
  {
   "cell_type": "code",
   "execution_count": 62,
   "metadata": {
    "collapsed": false
   },
   "outputs": [
    {
     "data": {
      "text/plain": [
       "3675"
      ]
     },
     "execution_count": 62,
     "metadata": {},
     "output_type": "execute_result"
    }
   ],
   "source": [
    "len(data_w_behavior)"
   ]
  },
  {
   "cell_type": "code",
   "execution_count": 63,
   "metadata": {
    "collapsed": true
   },
   "outputs": [],
   "source": [
    "data_w_behavior.to_csv('data_w_behavior.csv', sep=',')"
   ]
  },
  {
   "cell_type": "markdown",
   "metadata": {},
   "source": [
    "Merge on track id"
   ]
  },
  {
   "cell_type": "code",
   "execution_count": 65,
   "metadata": {
    "collapsed": true
   },
   "outputs": [],
   "source": [
    "song_to_track = pd.read_table('/Users/juliaengel-dagher/Downloads/taste_profile_song_to_tracks.txt', sep='\\t', names =['song_id','track_id'])"
   ]
  },
  {
   "cell_type": "code",
   "execution_count": 66,
   "metadata": {
    "collapsed": false
   },
   "outputs": [
    {
     "data": {
      "text/html": [
       "<div>\n",
       "<table border=\"1\" class=\"dataframe\">\n",
       "  <thead>\n",
       "    <tr style=\"text-align: right;\">\n",
       "      <th></th>\n",
       "      <th>song_id</th>\n",
       "      <th>track_id</th>\n",
       "    </tr>\n",
       "  </thead>\n",
       "  <tbody>\n",
       "    <tr>\n",
       "      <th>0</th>\n",
       "      <td>SOAAADD12AB018A9DD</td>\n",
       "      <td>TRNCENP12903C9EF3A</td>\n",
       "    </tr>\n",
       "    <tr>\n",
       "      <th>1</th>\n",
       "      <td>SOAAADE12A6D4F80CC</td>\n",
       "      <td>TRSKKFK128F148B615</td>\n",
       "    </tr>\n",
       "    <tr>\n",
       "      <th>2</th>\n",
       "      <td>SOAAADF12A8C13DF62</td>\n",
       "      <td>TRCQMSP128F428A6F7</td>\n",
       "    </tr>\n",
       "    <tr>\n",
       "      <th>3</th>\n",
       "      <td>SOAAADZ12A8C1334FB</td>\n",
       "      <td>TRMDNZY128F425A532</td>\n",
       "    </tr>\n",
       "    <tr>\n",
       "      <th>4</th>\n",
       "      <td>SOAAAFI12A6D4F9C66</td>\n",
       "      <td>TRZEXLQ128F1491D17</td>\n",
       "    </tr>\n",
       "  </tbody>\n",
       "</table>\n",
       "</div>"
      ],
      "text/plain": [
       "              song_id            track_id\n",
       "0  SOAAADD12AB018A9DD  TRNCENP12903C9EF3A\n",
       "1  SOAAADE12A6D4F80CC  TRSKKFK128F148B615\n",
       "2  SOAAADF12A8C13DF62  TRCQMSP128F428A6F7\n",
       "3  SOAAADZ12A8C1334FB  TRMDNZY128F425A532\n",
       "4  SOAAAFI12A6D4F9C66  TRZEXLQ128F1491D17"
      ]
     },
     "execution_count": 66,
     "metadata": {},
     "output_type": "execute_result"
    }
   ],
   "source": [
    "song_to_track.head()"
   ]
  },
  {
   "cell_type": "code",
   "execution_count": 67,
   "metadata": {
    "collapsed": false
   },
   "outputs": [
    {
     "data": {
      "text/plain": [
       "386213"
      ]
     },
     "execution_count": 67,
     "metadata": {},
     "output_type": "execute_result"
    }
   ],
   "source": [
    "len(song_to_track)"
   ]
  },
  {
   "cell_type": "code",
   "execution_count": 68,
   "metadata": {
    "collapsed": false
   },
   "outputs": [],
   "source": [
    "behavior_w_track = behavior_df.merge(song_to_track,on='song_id')"
   ]
  },
  {
   "cell_type": "code",
   "execution_count": 69,
   "metadata": {
    "collapsed": false
   },
   "outputs": [
    {
     "data": {
      "text/plain": [
       "384546"
      ]
     },
     "execution_count": 69,
     "metadata": {},
     "output_type": "execute_result"
    }
   ],
   "source": [
    "len(behavior_w_track)"
   ]
  },
  {
   "cell_type": "code",
   "execution_count": 70,
   "metadata": {
    "collapsed": false
   },
   "outputs": [
    {
     "data": {
      "text/html": [
       "<div>\n",
       "<table border=\"1\" class=\"dataframe\">\n",
       "  <thead>\n",
       "    <tr style=\"text-align: right;\">\n",
       "      <th></th>\n",
       "      <th>song_id</th>\n",
       "      <th>play_count_sum</th>\n",
       "      <th>user_id_count</th>\n",
       "      <th>track_id</th>\n",
       "    </tr>\n",
       "  </thead>\n",
       "  <tbody>\n",
       "    <tr>\n",
       "      <th>0</th>\n",
       "      <td>SOAAADD12AB018A9DD</td>\n",
       "      <td>24</td>\n",
       "      <td>14</td>\n",
       "      <td>TRNCENP12903C9EF3A</td>\n",
       "    </tr>\n",
       "    <tr>\n",
       "      <th>1</th>\n",
       "      <td>SOAAADE12A6D4F80CC</td>\n",
       "      <td>12</td>\n",
       "      <td>9</td>\n",
       "      <td>TRSKKFK128F148B615</td>\n",
       "    </tr>\n",
       "    <tr>\n",
       "      <th>2</th>\n",
       "      <td>SOAAADF12A8C13DF62</td>\n",
       "      <td>9</td>\n",
       "      <td>6</td>\n",
       "      <td>TRCQMSP128F428A6F7</td>\n",
       "    </tr>\n",
       "    <tr>\n",
       "      <th>3</th>\n",
       "      <td>SOAAADZ12A8C1334FB</td>\n",
       "      <td>12</td>\n",
       "      <td>8</td>\n",
       "      <td>TRMDNZY128F425A532</td>\n",
       "    </tr>\n",
       "    <tr>\n",
       "      <th>4</th>\n",
       "      <td>SOAAAFI12A6D4F9C66</td>\n",
       "      <td>188</td>\n",
       "      <td>57</td>\n",
       "      <td>TRZEXLQ128F1491D17</td>\n",
       "    </tr>\n",
       "  </tbody>\n",
       "</table>\n",
       "</div>"
      ],
      "text/plain": [
       "              song_id  play_count_sum  user_id_count            track_id\n",
       "0  SOAAADD12AB018A9DD              24             14  TRNCENP12903C9EF3A\n",
       "1  SOAAADE12A6D4F80CC              12              9  TRSKKFK128F148B615\n",
       "2  SOAAADF12A8C13DF62               9              6  TRCQMSP128F428A6F7\n",
       "3  SOAAADZ12A8C1334FB              12              8  TRMDNZY128F425A532\n",
       "4  SOAAAFI12A6D4F9C66             188             57  TRZEXLQ128F1491D17"
      ]
     },
     "execution_count": 70,
     "metadata": {},
     "output_type": "execute_result"
    }
   ],
   "source": [
    "behavior_w_track.head()"
   ]
  },
  {
   "cell_type": "code",
   "execution_count": 71,
   "metadata": {
    "collapsed": true
   },
   "outputs": [],
   "source": [
    "data2 = behavior_w_track.merge(data,on='track_id')"
   ]
  },
  {
   "cell_type": "code",
   "execution_count": 72,
   "metadata": {
    "collapsed": false
   },
   "outputs": [
    {
     "data": {
      "text/plain": [
       "3626"
      ]
     },
     "execution_count": 72,
     "metadata": {},
     "output_type": "execute_result"
    }
   ],
   "source": [
    "len(data2)"
   ]
  },
  {
   "cell_type": "code",
   "execution_count": 73,
   "metadata": {
    "collapsed": true
   },
   "outputs": [],
   "source": [
    "data2.to_csv('hdf5_w_behavior.csv', sep=',')"
   ]
  },
  {
   "cell_type": "code",
   "execution_count": 74,
   "metadata": {
    "collapsed": false
   },
   "outputs": [
    {
     "data": {
      "text/html": [
       "<div>\n",
       "<table border=\"1\" class=\"dataframe\">\n",
       "  <thead>\n",
       "    <tr style=\"text-align: right;\">\n",
       "      <th></th>\n",
       "      <th>song_id_x</th>\n",
       "      <th>play_count_sum</th>\n",
       "      <th>user_id_count</th>\n",
       "      <th>track_id</th>\n",
       "      <th>artist_familiarty</th>\n",
       "      <th>artist_hotness</th>\n",
       "      <th>artist_id</th>\n",
       "      <th>artist_latitude</th>\n",
       "      <th>artist_location</th>\n",
       "      <th>artist_longitude</th>\n",
       "      <th>...</th>\n",
       "      <th>song_hotness</th>\n",
       "      <th>song_release_years</th>\n",
       "      <th>song_titles</th>\n",
       "      <th>song_bars</th>\n",
       "      <th>song_beats</th>\n",
       "      <th>song_keys</th>\n",
       "      <th>song_modes</th>\n",
       "      <th>song_tatum</th>\n",
       "      <th>song_tempo</th>\n",
       "      <th>song_time_signatures</th>\n",
       "    </tr>\n",
       "  </thead>\n",
       "  <tbody>\n",
       "    <tr>\n",
       "      <th>0</th>\n",
       "      <td>SOAAAQN12AB01856D3</td>\n",
       "      <td>217</td>\n",
       "      <td>102</td>\n",
       "      <td>TRATLOJ128F9308ABB</td>\n",
       "      <td>0.556751</td>\n",
       "      <td>0.361588</td>\n",
       "      <td>ARAMIDF1187FB3D8D4</td>\n",
       "      <td>NaN</td>\n",
       "      <td></td>\n",
       "      <td>NaN</td>\n",
       "      <td>...</td>\n",
       "      <td>0.427447</td>\n",
       "      <td>0</td>\n",
       "      <td>Campeones De La Vida</td>\n",
       "      <td>[1.16135, 3.15336, 5.06933, 7.05593, 9.04751, ...</td>\n",
       "      <td>[0.16268, 0.66202, 1.16135, 1.66068, 2.16002, ...</td>\n",
       "      <td>4</td>\n",
       "      <td>0</td>\n",
       "      <td>[0.16268, 0.41235, 0.66202, 0.91168, 1.16135, ...</td>\n",
       "      <td>120.051</td>\n",
       "      <td>4</td>\n",
       "    </tr>\n",
       "    <tr>\n",
       "      <th>1</th>\n",
       "      <td>SOAAEHR12A6D4FB060</td>\n",
       "      <td>957</td>\n",
       "      <td>554</td>\n",
       "      <td>TRAYPFH128E07937C3</td>\n",
       "      <td>0.806359</td>\n",
       "      <td>0.545789</td>\n",
       "      <td>AR5N8VN1187FB37A4E</td>\n",
       "      <td>47.60356</td>\n",
       "      <td>Seattle</td>\n",
       "      <td>-122.32944</td>\n",
       "      <td>...</td>\n",
       "      <td>0.654068</td>\n",
       "      <td>1991</td>\n",
       "      <td>Slaves &amp; Bulldozers</td>\n",
       "      <td>[0.85125, 2.69826, 4.53846, 6.3912, 8.26852, 1...</td>\n",
       "      <td>[0.38873, 0.85125, 1.31301, 1.77477, 2.23729, ...</td>\n",
       "      <td>0</td>\n",
       "      <td>1</td>\n",
       "      <td>[0.15689, 0.38873, 0.62056, 0.85125, 1.08156, ...</td>\n",
       "      <td>131.272</td>\n",
       "      <td>4</td>\n",
       "    </tr>\n",
       "    <tr>\n",
       "      <th>2</th>\n",
       "      <td>SOAAFUV12AB018831D</td>\n",
       "      <td>10</td>\n",
       "      <td>6</td>\n",
       "      <td>TRAMPCN12903CC4E5B</td>\n",
       "      <td>0.623502</td>\n",
       "      <td>0.422380</td>\n",
       "      <td>AR5ZGC11187FB417A3</td>\n",
       "      <td>37.27188</td>\n",
       "      <td>California</td>\n",
       "      <td>-119.27023</td>\n",
       "      <td>...</td>\n",
       "      <td>NaN</td>\n",
       "      <td>0</td>\n",
       "      <td>Where Do The Children Play? (LP Version)</td>\n",
       "      <td>[0.72088, 2.49211, 4.094, 5.69368, 7.30208, 8....</td>\n",
       "      <td>[0.24835, 0.72088, 1.19209, 1.66199, 2.08938, ...</td>\n",
       "      <td>2</td>\n",
       "      <td>1</td>\n",
       "      <td>[0.24835, 0.48462, 0.72088, 0.95715, 1.19209, ...</td>\n",
       "      <td>149.169</td>\n",
       "      <td>4</td>\n",
       "    </tr>\n",
       "    <tr>\n",
       "      <th>3</th>\n",
       "      <td>SOAANKE12A8C13CF5C</td>\n",
       "      <td>5</td>\n",
       "      <td>4</td>\n",
       "      <td>TRBDLDS128F429C171</td>\n",
       "      <td>0.705492</td>\n",
       "      <td>0.393457</td>\n",
       "      <td>ARB0WNP1187B9AC4AB</td>\n",
       "      <td>NaN</td>\n",
       "      <td></td>\n",
       "      <td>NaN</td>\n",
       "      <td>...</td>\n",
       "      <td>0.430161</td>\n",
       "      <td>2005</td>\n",
       "      <td>Sam und Bo_ N.E.O.</td>\n",
       "      <td>[2.30803, 4.88286, 7.51189, 10.14411, 12.77098...</td>\n",
       "      <td>[0.20947, 0.73418, 1.25885, 1.78395, 2.30803, ...</td>\n",
       "      <td>11</td>\n",
       "      <td>0</td>\n",
       "      <td>[0.03457, 0.20947, 0.38437, 0.55928, 0.73418, ...</td>\n",
       "      <td>114.072</td>\n",
       "      <td>5</td>\n",
       "    </tr>\n",
       "    <tr>\n",
       "      <th>4</th>\n",
       "      <td>SOAASSD12AB0181AA6</td>\n",
       "      <td>188</td>\n",
       "      <td>56</td>\n",
       "      <td>TRAQHPK128F92E339B</td>\n",
       "      <td>0.437635</td>\n",
       "      <td>0.361340</td>\n",
       "      <td>ARKXLIJ1187B9A4C54</td>\n",
       "      <td>NaN</td>\n",
       "      <td></td>\n",
       "      <td>NaN</td>\n",
       "      <td>...</td>\n",
       "      <td>NaN</td>\n",
       "      <td>0</td>\n",
       "      <td>Song From Moulin Rouge</td>\n",
       "      <td>[0.5022, 2.49447, 4.50944, 6.31851, 7.82062, 9...</td>\n",
       "      <td>[0.5022, 1.16575, 1.82606, 2.49447, 3.16288, 3...</td>\n",
       "      <td>7</td>\n",
       "      <td>1</td>\n",
       "      <td>[0.17124, 0.5022, 0.83803, 1.16575, 1.49834, 1...</td>\n",
       "      <td>91.765</td>\n",
       "      <td>3</td>\n",
       "    </tr>\n",
       "  </tbody>\n",
       "</table>\n",
       "<p>5 rows × 23 columns</p>\n",
       "</div>"
      ],
      "text/plain": [
       "            song_id_x  play_count_sum  user_id_count            track_id  \\\n",
       "0  SOAAAQN12AB01856D3             217            102  TRATLOJ128F9308ABB   \n",
       "1  SOAAEHR12A6D4FB060             957            554  TRAYPFH128E07937C3   \n",
       "2  SOAAFUV12AB018831D              10              6  TRAMPCN12903CC4E5B   \n",
       "3  SOAANKE12A8C13CF5C               5              4  TRBDLDS128F429C171   \n",
       "4  SOAASSD12AB0181AA6             188             56  TRAQHPK128F92E339B   \n",
       "\n",
       "   artist_familiarty  artist_hotness           artist_id  artist_latitude  \\\n",
       "0           0.556751        0.361588  ARAMIDF1187FB3D8D4              NaN   \n",
       "1           0.806359        0.545789  AR5N8VN1187FB37A4E         47.60356   \n",
       "2           0.623502        0.422380  AR5ZGC11187FB417A3         37.27188   \n",
       "3           0.705492        0.393457  ARB0WNP1187B9AC4AB              NaN   \n",
       "4           0.437635        0.361340  ARKXLIJ1187B9A4C54              NaN   \n",
       "\n",
       "  artist_location  artist_longitude          ...          song_hotness  \\\n",
       "0                               NaN          ...              0.427447   \n",
       "1         Seattle        -122.32944          ...              0.654068   \n",
       "2      California        -119.27023          ...                   NaN   \n",
       "3                               NaN          ...              0.430161   \n",
       "4                               NaN          ...                   NaN   \n",
       "\n",
       "  song_release_years                               song_titles  \\\n",
       "0                  0                      Campeones De La Vida   \n",
       "1               1991                       Slaves & Bulldozers   \n",
       "2                  0  Where Do The Children Play? (LP Version)   \n",
       "3               2005                        Sam und Bo_ N.E.O.   \n",
       "4                  0                    Song From Moulin Rouge   \n",
       "\n",
       "                                           song_bars  \\\n",
       "0  [1.16135, 3.15336, 5.06933, 7.05593, 9.04751, ...   \n",
       "1  [0.85125, 2.69826, 4.53846, 6.3912, 8.26852, 1...   \n",
       "2  [0.72088, 2.49211, 4.094, 5.69368, 7.30208, 8....   \n",
       "3  [2.30803, 4.88286, 7.51189, 10.14411, 12.77098...   \n",
       "4  [0.5022, 2.49447, 4.50944, 6.31851, 7.82062, 9...   \n",
       "\n",
       "                                          song_beats song_keys song_modes  \\\n",
       "0  [0.16268, 0.66202, 1.16135, 1.66068, 2.16002, ...         4          0   \n",
       "1  [0.38873, 0.85125, 1.31301, 1.77477, 2.23729, ...         0          1   \n",
       "2  [0.24835, 0.72088, 1.19209, 1.66199, 2.08938, ...         2          1   \n",
       "3  [0.20947, 0.73418, 1.25885, 1.78395, 2.30803, ...        11          0   \n",
       "4  [0.5022, 1.16575, 1.82606, 2.49447, 3.16288, 3...         7          1   \n",
       "\n",
       "                                          song_tatum  song_tempo  \\\n",
       "0  [0.16268, 0.41235, 0.66202, 0.91168, 1.16135, ...     120.051   \n",
       "1  [0.15689, 0.38873, 0.62056, 0.85125, 1.08156, ...     131.272   \n",
       "2  [0.24835, 0.48462, 0.72088, 0.95715, 1.19209, ...     149.169   \n",
       "3  [0.03457, 0.20947, 0.38437, 0.55928, 0.73418, ...     114.072   \n",
       "4  [0.17124, 0.5022, 0.83803, 1.16575, 1.49834, 1...      91.765   \n",
       "\n",
       "   song_time_signatures  \n",
       "0                     4  \n",
       "1                     4  \n",
       "2                     4  \n",
       "3                     5  \n",
       "4                     3  \n",
       "\n",
       "[5 rows x 23 columns]"
      ]
     },
     "execution_count": 74,
     "metadata": {},
     "output_type": "execute_result"
    }
   ],
   "source": [
    "data2.head()"
   ]
  },
  {
   "cell_type": "markdown",
   "metadata": {},
   "source": [
    "## user interaction with genre"
   ]
  },
  {
   "cell_type": "code",
   "execution_count": 75,
   "metadata": {
    "collapsed": true
   },
   "outputs": [],
   "source": [
    "behavior_w_genre=behavior_w_track.merge(genres,on='track_id')"
   ]
  },
  {
   "cell_type": "code",
   "execution_count": 76,
   "metadata": {
    "collapsed": false
   },
   "outputs": [
    {
     "data": {
      "text/plain": [
       "193840"
      ]
     },
     "execution_count": 76,
     "metadata": {},
     "output_type": "execute_result"
    }
   ],
   "source": [
    "len(behavior_w_genre)"
   ]
  },
  {
   "cell_type": "code",
   "execution_count": 77,
   "metadata": {
    "collapsed": false
   },
   "outputs": [
    {
     "data": {
      "text/html": [
       "<div>\n",
       "<table border=\"1\" class=\"dataframe\">\n",
       "  <thead>\n",
       "    <tr style=\"text-align: right;\">\n",
       "      <th></th>\n",
       "      <th>song_id</th>\n",
       "      <th>play_count_sum</th>\n",
       "      <th>user_id_count</th>\n",
       "      <th>track_id</th>\n",
       "      <th>genre_id</th>\n",
       "    </tr>\n",
       "  </thead>\n",
       "  <tbody>\n",
       "    <tr>\n",
       "      <th>0</th>\n",
       "      <td>SOAAADD12AB018A9DD</td>\n",
       "      <td>24</td>\n",
       "      <td>14</td>\n",
       "      <td>TRNCENP12903C9EF3A</td>\n",
       "      <td>Avant_Garde</td>\n",
       "    </tr>\n",
       "    <tr>\n",
       "      <th>1</th>\n",
       "      <td>SOAAADZ12A8C1334FB</td>\n",
       "      <td>12</td>\n",
       "      <td>8</td>\n",
       "      <td>TRMDNZY128F425A532</td>\n",
       "      <td>Jazz</td>\n",
       "    </tr>\n",
       "    <tr>\n",
       "      <th>2</th>\n",
       "      <td>SOAAAGP12A6D4F7D1C</td>\n",
       "      <td>8</td>\n",
       "      <td>4</td>\n",
       "      <td>TRDWEPA128F145FE05</td>\n",
       "      <td>Pop_Rock</td>\n",
       "    </tr>\n",
       "    <tr>\n",
       "      <th>3</th>\n",
       "      <td>SOAAAKE12A8C1397E9</td>\n",
       "      <td>1</td>\n",
       "      <td>1</td>\n",
       "      <td>TRZJXIZ128F42942DE</td>\n",
       "      <td>Country</td>\n",
       "    </tr>\n",
       "    <tr>\n",
       "      <th>4</th>\n",
       "      <td>SOAAAMT12AB018C9C4</td>\n",
       "      <td>114</td>\n",
       "      <td>58</td>\n",
       "      <td>TRYIOYF12903CD4E73</td>\n",
       "      <td>Pop_Rock</td>\n",
       "    </tr>\n",
       "  </tbody>\n",
       "</table>\n",
       "</div>"
      ],
      "text/plain": [
       "              song_id  play_count_sum  user_id_count            track_id  \\\n",
       "0  SOAAADD12AB018A9DD              24             14  TRNCENP12903C9EF3A   \n",
       "1  SOAAADZ12A8C1334FB              12              8  TRMDNZY128F425A532   \n",
       "2  SOAAAGP12A6D4F7D1C               8              4  TRDWEPA128F145FE05   \n",
       "3  SOAAAKE12A8C1397E9               1              1  TRZJXIZ128F42942DE   \n",
       "4  SOAAAMT12AB018C9C4             114             58  TRYIOYF12903CD4E73   \n",
       "\n",
       "      genre_id  \n",
       "0  Avant_Garde  \n",
       "1         Jazz  \n",
       "2     Pop_Rock  \n",
       "3      Country  \n",
       "4     Pop_Rock  "
      ]
     },
     "execution_count": 77,
     "metadata": {},
     "output_type": "execute_result"
    }
   ],
   "source": [
    "behavior_w_genre.head()"
   ]
  },
  {
   "cell_type": "code",
   "execution_count": 78,
   "metadata": {
    "collapsed": true
   },
   "outputs": [],
   "source": [
    "behavior_w_genre.to_csv('behavior_w_genre.csv',sep=',')"
   ]
  },
  {
   "cell_type": "markdown",
   "metadata": {},
   "source": [
    "## User interaction with genre and song metadata"
   ]
  },
  {
   "cell_type": "code",
   "execution_count": 79,
   "metadata": {
    "collapsed": true
   },
   "outputs": [],
   "source": [
    "ultimate_mini_data = behavior_w_genre.merge(data, on ='track_id')"
   ]
  },
  {
   "cell_type": "code",
   "execution_count": 80,
   "metadata": {
    "collapsed": false
   },
   "outputs": [
    {
     "data": {
      "text/plain": [
       "1760"
      ]
     },
     "execution_count": 80,
     "metadata": {},
     "output_type": "execute_result"
    }
   ],
   "source": [
    "len(ultimate_mini_data)"
   ]
  },
  {
   "cell_type": "code",
   "execution_count": 81,
   "metadata": {
    "collapsed": false
   },
   "outputs": [
    {
     "data": {
      "text/html": [
       "<div>\n",
       "<table border=\"1\" class=\"dataframe\">\n",
       "  <thead>\n",
       "    <tr style=\"text-align: right;\">\n",
       "      <th></th>\n",
       "      <th>song_id_x</th>\n",
       "      <th>play_count_sum</th>\n",
       "      <th>user_id_count</th>\n",
       "      <th>track_id</th>\n",
       "      <th>genre_id</th>\n",
       "      <th>artist_familiarty</th>\n",
       "      <th>artist_hotness</th>\n",
       "      <th>artist_id</th>\n",
       "      <th>artist_latitude</th>\n",
       "      <th>artist_location</th>\n",
       "      <th>...</th>\n",
       "      <th>song_hotness</th>\n",
       "      <th>song_release_years</th>\n",
       "      <th>song_titles</th>\n",
       "      <th>song_bars</th>\n",
       "      <th>song_beats</th>\n",
       "      <th>song_keys</th>\n",
       "      <th>song_modes</th>\n",
       "      <th>song_tatum</th>\n",
       "      <th>song_tempo</th>\n",
       "      <th>song_time_signatures</th>\n",
       "    </tr>\n",
       "  </thead>\n",
       "  <tbody>\n",
       "    <tr>\n",
       "      <th>0</th>\n",
       "      <td>SOAAEHR12A6D4FB060</td>\n",
       "      <td>957</td>\n",
       "      <td>554</td>\n",
       "      <td>TRAYPFH128E07937C3</td>\n",
       "      <td>Pop_Rock</td>\n",
       "      <td>0.806359</td>\n",
       "      <td>0.545789</td>\n",
       "      <td>AR5N8VN1187FB37A4E</td>\n",
       "      <td>47.60356</td>\n",
       "      <td>Seattle</td>\n",
       "      <td>...</td>\n",
       "      <td>0.654068</td>\n",
       "      <td>1991</td>\n",
       "      <td>Slaves &amp; Bulldozers</td>\n",
       "      <td>[0.85125, 2.69826, 4.53846, 6.3912, 8.26852, 1...</td>\n",
       "      <td>[0.38873, 0.85125, 1.31301, 1.77477, 2.23729, ...</td>\n",
       "      <td>0</td>\n",
       "      <td>1</td>\n",
       "      <td>[0.15689, 0.38873, 0.62056, 0.85125, 1.08156, ...</td>\n",
       "      <td>131.272</td>\n",
       "      <td>4</td>\n",
       "    </tr>\n",
       "    <tr>\n",
       "      <th>1</th>\n",
       "      <td>SOAAFUV12AB018831D</td>\n",
       "      <td>10</td>\n",
       "      <td>6</td>\n",
       "      <td>TRAMPCN12903CC4E5B</td>\n",
       "      <td>Reggae</td>\n",
       "      <td>0.623502</td>\n",
       "      <td>0.422380</td>\n",
       "      <td>AR5ZGC11187FB417A3</td>\n",
       "      <td>37.27188</td>\n",
       "      <td>California</td>\n",
       "      <td>...</td>\n",
       "      <td>NaN</td>\n",
       "      <td>0</td>\n",
       "      <td>Where Do The Children Play? (LP Version)</td>\n",
       "      <td>[0.72088, 2.49211, 4.094, 5.69368, 7.30208, 8....</td>\n",
       "      <td>[0.24835, 0.72088, 1.19209, 1.66199, 2.08938, ...</td>\n",
       "      <td>2</td>\n",
       "      <td>1</td>\n",
       "      <td>[0.24835, 0.48462, 0.72088, 0.95715, 1.19209, ...</td>\n",
       "      <td>149.169</td>\n",
       "      <td>4</td>\n",
       "    </tr>\n",
       "    <tr>\n",
       "      <th>2</th>\n",
       "      <td>SOABLAF12AB018E1D9</td>\n",
       "      <td>1980</td>\n",
       "      <td>748</td>\n",
       "      <td>TRABUMO12903CBE25F</td>\n",
       "      <td>Pop_Rock</td>\n",
       "      <td>0.796337</td>\n",
       "      <td>0.582922</td>\n",
       "      <td>ARSW5F51187FB4CFC9</td>\n",
       "      <td>NaN</td>\n",
       "      <td>Seattle, WA</td>\n",
       "      <td>...</td>\n",
       "      <td>0.824433</td>\n",
       "      <td>2009</td>\n",
       "      <td>Lesson Learned</td>\n",
       "      <td>[0.92741, 3.15716, 5.38085, 7.60259, 9.82366, ...</td>\n",
       "      <td>[0.3692, 0.92741, 1.48952, 2.04734, 2.60365, 3...</td>\n",
       "      <td>10</td>\n",
       "      <td>0</td>\n",
       "      <td>[0.0894, 0.3692, 0.649, 0.92741, 1.20707, 1.48...</td>\n",
       "      <td>107.845</td>\n",
       "      <td>4</td>\n",
       "    </tr>\n",
       "    <tr>\n",
       "      <th>3</th>\n",
       "      <td>SOABVPU12AB018AA22</td>\n",
       "      <td>1</td>\n",
       "      <td>1</td>\n",
       "      <td>TRAYPXP12903CD8D45</td>\n",
       "      <td>Reggae</td>\n",
       "      <td>0.583443</td>\n",
       "      <td>0.385788</td>\n",
       "      <td>ARZZRK91187B9A5CA5</td>\n",
       "      <td>18.01571</td>\n",
       "      <td>Kingston, Jamaica</td>\n",
       "      <td>...</td>\n",
       "      <td>0.299877</td>\n",
       "      <td>2009</td>\n",
       "      <td>Conquer Me</td>\n",
       "      <td>[1.08342, 2.62899, 4.18827, 5.75054, 7.32173, ...</td>\n",
       "      <td>[0.28773, 0.69392, 1.08342, 1.46969, 1.85114, ...</td>\n",
       "      <td>8</td>\n",
       "      <td>1</td>\n",
       "      <td>[0.08562, 0.28773, 0.49082, 0.69392, 0.898, 1....</td>\n",
       "      <td>151.498</td>\n",
       "      <td>4</td>\n",
       "    </tr>\n",
       "    <tr>\n",
       "      <th>4</th>\n",
       "      <td>SOACEDS12A6701EAAA</td>\n",
       "      <td>230</td>\n",
       "      <td>80</td>\n",
       "      <td>TRASNOT128E0791785</td>\n",
       "      <td>Pop_Rock</td>\n",
       "      <td>0.712745</td>\n",
       "      <td>0.470700</td>\n",
       "      <td>ARP96FM1187B9AEA77</td>\n",
       "      <td>44.97903</td>\n",
       "      <td>Minneapolis, MN</td>\n",
       "      <td>...</td>\n",
       "      <td>0.612055</td>\n",
       "      <td>1998</td>\n",
       "      <td>Gone To The Movies</td>\n",
       "      <td>[0.67473, 3.1441, 5.58583, 8.0254, 10.47344, 1...</td>\n",
       "      <td>[0.67473, 1.29676, 1.91538, 2.53247, 3.1441, 3...</td>\n",
       "      <td>0</td>\n",
       "      <td>1</td>\n",
       "      <td>[0.36436, 0.67473, 0.98823, 1.29676, 1.6053, 1...</td>\n",
       "      <td>97.995</td>\n",
       "      <td>4</td>\n",
       "    </tr>\n",
       "  </tbody>\n",
       "</table>\n",
       "<p>5 rows × 24 columns</p>\n",
       "</div>"
      ],
      "text/plain": [
       "            song_id_x  play_count_sum  user_id_count            track_id  \\\n",
       "0  SOAAEHR12A6D4FB060             957            554  TRAYPFH128E07937C3   \n",
       "1  SOAAFUV12AB018831D              10              6  TRAMPCN12903CC4E5B   \n",
       "2  SOABLAF12AB018E1D9            1980            748  TRABUMO12903CBE25F   \n",
       "3  SOABVPU12AB018AA22               1              1  TRAYPXP12903CD8D45   \n",
       "4  SOACEDS12A6701EAAA             230             80  TRASNOT128E0791785   \n",
       "\n",
       "   genre_id  artist_familiarty  artist_hotness           artist_id  \\\n",
       "0  Pop_Rock           0.806359        0.545789  AR5N8VN1187FB37A4E   \n",
       "1    Reggae           0.623502        0.422380  AR5ZGC11187FB417A3   \n",
       "2  Pop_Rock           0.796337        0.582922  ARSW5F51187FB4CFC9   \n",
       "3    Reggae           0.583443        0.385788  ARZZRK91187B9A5CA5   \n",
       "4  Pop_Rock           0.712745        0.470700  ARP96FM1187B9AEA77   \n",
       "\n",
       "   artist_latitude    artist_location          ...           song_hotness  \\\n",
       "0         47.60356            Seattle          ...               0.654068   \n",
       "1         37.27188         California          ...                    NaN   \n",
       "2              NaN        Seattle, WA          ...               0.824433   \n",
       "3         18.01571  Kingston, Jamaica          ...               0.299877   \n",
       "4         44.97903    Minneapolis, MN          ...               0.612055   \n",
       "\n",
       "  song_release_years                               song_titles  \\\n",
       "0               1991                       Slaves & Bulldozers   \n",
       "1                  0  Where Do The Children Play? (LP Version)   \n",
       "2               2009                            Lesson Learned   \n",
       "3               2009                                Conquer Me   \n",
       "4               1998                        Gone To The Movies   \n",
       "\n",
       "                                           song_bars  \\\n",
       "0  [0.85125, 2.69826, 4.53846, 6.3912, 8.26852, 1...   \n",
       "1  [0.72088, 2.49211, 4.094, 5.69368, 7.30208, 8....   \n",
       "2  [0.92741, 3.15716, 5.38085, 7.60259, 9.82366, ...   \n",
       "3  [1.08342, 2.62899, 4.18827, 5.75054, 7.32173, ...   \n",
       "4  [0.67473, 3.1441, 5.58583, 8.0254, 10.47344, 1...   \n",
       "\n",
       "                                          song_beats  song_keys song_modes  \\\n",
       "0  [0.38873, 0.85125, 1.31301, 1.77477, 2.23729, ...          0          1   \n",
       "1  [0.24835, 0.72088, 1.19209, 1.66199, 2.08938, ...          2          1   \n",
       "2  [0.3692, 0.92741, 1.48952, 2.04734, 2.60365, 3...         10          0   \n",
       "3  [0.28773, 0.69392, 1.08342, 1.46969, 1.85114, ...          8          1   \n",
       "4  [0.67473, 1.29676, 1.91538, 2.53247, 3.1441, 3...          0          1   \n",
       "\n",
       "                                          song_tatum song_tempo  \\\n",
       "0  [0.15689, 0.38873, 0.62056, 0.85125, 1.08156, ...    131.272   \n",
       "1  [0.24835, 0.48462, 0.72088, 0.95715, 1.19209, ...    149.169   \n",
       "2  [0.0894, 0.3692, 0.649, 0.92741, 1.20707, 1.48...    107.845   \n",
       "3  [0.08562, 0.28773, 0.49082, 0.69392, 0.898, 1....    151.498   \n",
       "4  [0.36436, 0.67473, 0.98823, 1.29676, 1.6053, 1...     97.995   \n",
       "\n",
       "   song_time_signatures  \n",
       "0                     4  \n",
       "1                     4  \n",
       "2                     4  \n",
       "3                     4  \n",
       "4                     4  \n",
       "\n",
       "[5 rows x 24 columns]"
      ]
     },
     "execution_count": 81,
     "metadata": {},
     "output_type": "execute_result"
    }
   ],
   "source": [
    "ultimate_mini_data.head()"
   ]
  },
  {
   "cell_type": "code",
   "execution_count": 82,
   "metadata": {
    "collapsed": true
   },
   "outputs": [],
   "source": [
    "ultimate_mini_data2 = data2.merge(genres, on ='track_id')"
   ]
  },
  {
   "cell_type": "code",
   "execution_count": 83,
   "metadata": {
    "collapsed": false
   },
   "outputs": [
    {
     "data": {
      "text/plain": [
       "1760"
      ]
     },
     "execution_count": 83,
     "metadata": {},
     "output_type": "execute_result"
    }
   ],
   "source": [
    "len(ultimate_mini_data2)"
   ]
  },
  {
   "cell_type": "code",
   "execution_count": 84,
   "metadata": {
    "collapsed": true
   },
   "outputs": [],
   "source": [
    "ultimate_mini_data.to_csv('ultimate_mini.csv',sep=',')"
   ]
  },
  {
   "cell_type": "markdown",
   "metadata": {},
   "source": [
    "same as before ... with merges this is the biggest subset I can create without AWS"
   ]
  }
 ],
 "metadata": {
  "kernelspec": {
   "display_name": "Python 2",
   "language": "python",
   "name": "python2"
  },
  "language_info": {
   "codemirror_mode": {
    "name": "ipython",
    "version": 2
   },
   "file_extension": ".py",
   "mimetype": "text/x-python",
   "name": "python",
   "nbconvert_exporter": "python",
   "pygments_lexer": "ipython2",
   "version": "2.7.11"
  }
 },
 "nbformat": 4,
 "nbformat_minor": 0
}
